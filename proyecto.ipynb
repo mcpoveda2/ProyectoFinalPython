{
 "cells": [
  {
   "cell_type": "code",
   "execution_count": 1,
   "id": "94525979-f1b4-45d4-9fa4-28caee55415b",
   "metadata": {},
   "outputs": [],
   "source": [
    "import matplotlib.pyplot as plt\n",
    "import seaborn as sns\n",
    "import numpy as np\n",
    "import pandas as pd\n",
    "\n",
    "from sklearn.preprocessing import RobustScaler\n",
    "from sklearn.model_selection import train_test_split\n",
    "from sklearn.tree import DecisionTreeClassifier, plot_tree\n",
    "from sklearn.metrics import accuracy_score\n",
    "from sklearn.linear_model import LogisticRegression\n",
    "from sklearn.metrics import accuracy_score, confusion_matrix, precision_score, recall_score, f1_score, roc_auc_score, roc_curve\n"
   ]
  },
  {
   "cell_type": "code",
   "execution_count": null,
   "id": "20c63792-3e50-47b4-b3cc-ab4091be2acd",
   "metadata": {},
   "outputs": [],
   "source": [
    "data = pd.read_csv(\"G:\\My Drive\\Espol\\Cuarto semestre\\Bootcamp\\modulo05\\churn.csv\""
   ]
  },
  {
   "cell_type": "code",
   "execution_count": null,
   "id": "e21f7185-ab18-47f4-b7dc-c8b880c0d692",
   "metadata": {},
   "outputs": [],
   "source": []
  },
  {
   "cell_type": "code",
   "execution_count": null,
   "id": "2c6559f5-99b4-4eaa-bc71-2ce4547b9944",
   "metadata": {},
   "outputs": [],
   "source": []
  }
 ],
 "metadata": {
  "kernelspec": {
   "display_name": "Python 3 (ipykernel)",
   "language": "python",
   "name": "python3"
  },
  "language_info": {
   "codemirror_mode": {
    "name": "ipython",
    "version": 3
   },
   "file_extension": ".py",
   "mimetype": "text/x-python",
   "name": "python",
   "nbconvert_exporter": "python",
   "pygments_lexer": "ipython3",
   "version": "3.11.7"
  }
 },
 "nbformat": 4,
 "nbformat_minor": 5
}
