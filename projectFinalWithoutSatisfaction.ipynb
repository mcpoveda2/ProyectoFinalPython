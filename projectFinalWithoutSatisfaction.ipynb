{
 "cells": [
  {
   "cell_type": "markdown",
   "id": "9b3c00db",
   "metadata": {},
   "source": [
    "# 1. Import libraries"
   ]
  },
  {
   "cell_type": "code",
   "execution_count": 92,
   "id": "d421e9ec",
   "metadata": {},
   "outputs": [],
   "source": [
    "# data manipulation and plotting tools\n",
    "import matplotlib.pyplot as plt\n",
    "import numpy as np\n",
    "import pandas as pd\n",
    "\n",
    "# data processing\n",
    "from category_encoders.one_hot import OneHotEncoder\n",
    "from category_encoders.ordinal import OrdinalEncoder\n",
    "from category_encoders.target_encoder import TargetEncoder\n",
    "from sklearn.preprocessing import MinMaxScaler, RobustScaler,LabelEncoder\n",
    "\n",
    "# algorithms\n",
    "from sklearn.tree import DecisionTreeClassifier, plot_tree\n",
    "from sklearn.neighbors import KNeighborsClassifier\n",
    "from sklearn.linear_model import LogisticRegression\n",
    "from sklearn.ensemble import RandomForestClassifier\n",
    "from sklearn.metrics import accuracy_score, classification_report, confusion_matrix\n",
    "from sklearn.pipeline import make_pipeline\n",
    "from sklearn.preprocessing import StandardScaler\n",
    "from sklearn.svm import SVC\n",
    "from sklearn import metrics\n",
    "\n",
    "# model selection tools\n",
    "from sklearn.model_selection import train_test_split, GridSearchCV, RandomizedSearchCV\n",
    "\n",
    "# metrics\n",
    "from sklearn.metrics import classification_report, ConfusionMatrixDisplay, confusion_matrix\n",
    "from sklearn.metrics import confusion_matrix, ConfusionMatrixDisplay\n",
    "\n",
    "# explainability\n",
    "import shap\n",
    "\n",
    "#visual\n",
    "import seaborn as sns\n",
    "\n",
    "from scipy.stats import chi2_contingency\n",
    "\n",
    "#MostrarMas\n",
    "pd.set_option('display.max_columns', None)"
   ]
  },
  {
   "cell_type": "markdown",
   "id": "5b651b7c",
   "metadata": {},
   "source": [
    "# 2. Load the dataset"
   ]
  },
  {
   "cell_type": "code",
   "execution_count": 2,
   "id": "3147389c-5ebe-4fbe-85c1-5f42976ef414",
   "metadata": {},
   "outputs": [],
   "source": [
    "data = pd.read_csv('churn.csv')"
   ]
  },
  {
   "cell_type": "code",
   "execution_count": 3,
   "id": "a68fae19-1285-4301-8f9a-133c6e5147ff",
   "metadata": {},
   "outputs": [
    {
     "data": {
      "text/html": [
       "<div>\n",
       "<style scoped>\n",
       "    .dataframe tbody tr th:only-of-type {\n",
       "        vertical-align: middle;\n",
       "    }\n",
       "\n",
       "    .dataframe tbody tr th {\n",
       "        vertical-align: top;\n",
       "    }\n",
       "\n",
       "    .dataframe thead th {\n",
       "        text-align: right;\n",
       "    }\n",
       "</style>\n",
       "<table border=\"1\" class=\"dataframe\">\n",
       "  <thead>\n",
       "    <tr style=\"text-align: right;\">\n",
       "      <th></th>\n",
       "      <th>Customer ID</th>\n",
       "      <th>Gender</th>\n",
       "      <th>Age</th>\n",
       "      <th>Under 30</th>\n",
       "      <th>Senior Citizen</th>\n",
       "      <th>Married</th>\n",
       "      <th>Dependents</th>\n",
       "      <th>Number of Dependents</th>\n",
       "      <th>Country</th>\n",
       "      <th>State</th>\n",
       "      <th>City</th>\n",
       "      <th>Zip Code</th>\n",
       "      <th>Latitude</th>\n",
       "      <th>Longitude</th>\n",
       "      <th>Population</th>\n",
       "      <th>Quarter</th>\n",
       "      <th>Referred a Friend</th>\n",
       "      <th>Number of Referrals</th>\n",
       "      <th>Tenure in Months</th>\n",
       "      <th>Offer</th>\n",
       "      <th>Phone Service</th>\n",
       "      <th>Avg Monthly Long Distance Charges</th>\n",
       "      <th>Multiple Lines</th>\n",
       "      <th>Internet Service</th>\n",
       "      <th>Internet Type</th>\n",
       "      <th>Avg Monthly GB Download</th>\n",
       "      <th>Online Security</th>\n",
       "      <th>Online Backup</th>\n",
       "      <th>Device Protection Plan</th>\n",
       "      <th>Premium Tech Support</th>\n",
       "      <th>Streaming TV</th>\n",
       "      <th>Streaming Movies</th>\n",
       "      <th>Streaming Music</th>\n",
       "      <th>Unlimited Data</th>\n",
       "      <th>Contract</th>\n",
       "      <th>Paperless Billing</th>\n",
       "      <th>Payment Method</th>\n",
       "      <th>Monthly Charge</th>\n",
       "      <th>Total Charges</th>\n",
       "      <th>Total Refunds</th>\n",
       "      <th>Total Extra Data Charges</th>\n",
       "      <th>Total Long Distance Charges</th>\n",
       "      <th>Total Revenue</th>\n",
       "      <th>Satisfaction Score</th>\n",
       "      <th>Customer Status</th>\n",
       "      <th>Churn Label</th>\n",
       "      <th>Churn Score</th>\n",
       "      <th>CLTV</th>\n",
       "      <th>Churn Category</th>\n",
       "      <th>Churn Reason</th>\n",
       "    </tr>\n",
       "  </thead>\n",
       "  <tbody>\n",
       "    <tr>\n",
       "      <th>0</th>\n",
       "      <td>8779-QRDMV</td>\n",
       "      <td>Male</td>\n",
       "      <td>78</td>\n",
       "      <td>No</td>\n",
       "      <td>Yes</td>\n",
       "      <td>No</td>\n",
       "      <td>No</td>\n",
       "      <td>0</td>\n",
       "      <td>United States</td>\n",
       "      <td>California</td>\n",
       "      <td>Los Angeles</td>\n",
       "      <td>90022</td>\n",
       "      <td>34.023810</td>\n",
       "      <td>-118.156582</td>\n",
       "      <td>68701</td>\n",
       "      <td>Q3</td>\n",
       "      <td>No</td>\n",
       "      <td>0</td>\n",
       "      <td>1</td>\n",
       "      <td>None</td>\n",
       "      <td>No</td>\n",
       "      <td>0.00</td>\n",
       "      <td>No</td>\n",
       "      <td>Yes</td>\n",
       "      <td>DSL</td>\n",
       "      <td>8</td>\n",
       "      <td>No</td>\n",
       "      <td>No</td>\n",
       "      <td>Yes</td>\n",
       "      <td>No</td>\n",
       "      <td>No</td>\n",
       "      <td>Yes</td>\n",
       "      <td>No</td>\n",
       "      <td>No</td>\n",
       "      <td>Month-to-Month</td>\n",
       "      <td>Yes</td>\n",
       "      <td>Bank Withdrawal</td>\n",
       "      <td>39.65</td>\n",
       "      <td>39.65</td>\n",
       "      <td>0.00</td>\n",
       "      <td>20</td>\n",
       "      <td>0.00</td>\n",
       "      <td>59.65</td>\n",
       "      <td>3</td>\n",
       "      <td>Churned</td>\n",
       "      <td>Yes</td>\n",
       "      <td>91</td>\n",
       "      <td>5433</td>\n",
       "      <td>Competitor</td>\n",
       "      <td>Competitor offered more data</td>\n",
       "    </tr>\n",
       "    <tr>\n",
       "      <th>1</th>\n",
       "      <td>7495-OOKFY</td>\n",
       "      <td>Female</td>\n",
       "      <td>74</td>\n",
       "      <td>No</td>\n",
       "      <td>Yes</td>\n",
       "      <td>Yes</td>\n",
       "      <td>Yes</td>\n",
       "      <td>1</td>\n",
       "      <td>United States</td>\n",
       "      <td>California</td>\n",
       "      <td>Los Angeles</td>\n",
       "      <td>90063</td>\n",
       "      <td>34.044271</td>\n",
       "      <td>-118.185237</td>\n",
       "      <td>55668</td>\n",
       "      <td>Q3</td>\n",
       "      <td>Yes</td>\n",
       "      <td>1</td>\n",
       "      <td>8</td>\n",
       "      <td>Offer E</td>\n",
       "      <td>Yes</td>\n",
       "      <td>48.85</td>\n",
       "      <td>Yes</td>\n",
       "      <td>Yes</td>\n",
       "      <td>Fiber Optic</td>\n",
       "      <td>17</td>\n",
       "      <td>No</td>\n",
       "      <td>Yes</td>\n",
       "      <td>No</td>\n",
       "      <td>No</td>\n",
       "      <td>No</td>\n",
       "      <td>No</td>\n",
       "      <td>No</td>\n",
       "      <td>Yes</td>\n",
       "      <td>Month-to-Month</td>\n",
       "      <td>Yes</td>\n",
       "      <td>Credit Card</td>\n",
       "      <td>80.65</td>\n",
       "      <td>633.30</td>\n",
       "      <td>0.00</td>\n",
       "      <td>0</td>\n",
       "      <td>390.80</td>\n",
       "      <td>1024.10</td>\n",
       "      <td>3</td>\n",
       "      <td>Churned</td>\n",
       "      <td>Yes</td>\n",
       "      <td>69</td>\n",
       "      <td>5302</td>\n",
       "      <td>Competitor</td>\n",
       "      <td>Competitor made better offer</td>\n",
       "    </tr>\n",
       "    <tr>\n",
       "      <th>2</th>\n",
       "      <td>1658-BYGOY</td>\n",
       "      <td>Male</td>\n",
       "      <td>71</td>\n",
       "      <td>No</td>\n",
       "      <td>Yes</td>\n",
       "      <td>No</td>\n",
       "      <td>Yes</td>\n",
       "      <td>3</td>\n",
       "      <td>United States</td>\n",
       "      <td>California</td>\n",
       "      <td>Los Angeles</td>\n",
       "      <td>90065</td>\n",
       "      <td>34.108833</td>\n",
       "      <td>-118.229715</td>\n",
       "      <td>47534</td>\n",
       "      <td>Q3</td>\n",
       "      <td>No</td>\n",
       "      <td>0</td>\n",
       "      <td>18</td>\n",
       "      <td>Offer D</td>\n",
       "      <td>Yes</td>\n",
       "      <td>11.33</td>\n",
       "      <td>Yes</td>\n",
       "      <td>Yes</td>\n",
       "      <td>Fiber Optic</td>\n",
       "      <td>52</td>\n",
       "      <td>No</td>\n",
       "      <td>No</td>\n",
       "      <td>No</td>\n",
       "      <td>No</td>\n",
       "      <td>Yes</td>\n",
       "      <td>Yes</td>\n",
       "      <td>Yes</td>\n",
       "      <td>Yes</td>\n",
       "      <td>Month-to-Month</td>\n",
       "      <td>Yes</td>\n",
       "      <td>Bank Withdrawal</td>\n",
       "      <td>95.45</td>\n",
       "      <td>1752.55</td>\n",
       "      <td>45.61</td>\n",
       "      <td>0</td>\n",
       "      <td>203.94</td>\n",
       "      <td>1910.88</td>\n",
       "      <td>2</td>\n",
       "      <td>Churned</td>\n",
       "      <td>Yes</td>\n",
       "      <td>81</td>\n",
       "      <td>3179</td>\n",
       "      <td>Competitor</td>\n",
       "      <td>Competitor made better offer</td>\n",
       "    </tr>\n",
       "    <tr>\n",
       "      <th>3</th>\n",
       "      <td>4598-XLKNJ</td>\n",
       "      <td>Female</td>\n",
       "      <td>78</td>\n",
       "      <td>No</td>\n",
       "      <td>Yes</td>\n",
       "      <td>Yes</td>\n",
       "      <td>Yes</td>\n",
       "      <td>1</td>\n",
       "      <td>United States</td>\n",
       "      <td>California</td>\n",
       "      <td>Inglewood</td>\n",
       "      <td>90303</td>\n",
       "      <td>33.936291</td>\n",
       "      <td>-118.332639</td>\n",
       "      <td>27778</td>\n",
       "      <td>Q3</td>\n",
       "      <td>Yes</td>\n",
       "      <td>1</td>\n",
       "      <td>25</td>\n",
       "      <td>Offer C</td>\n",
       "      <td>Yes</td>\n",
       "      <td>19.76</td>\n",
       "      <td>No</td>\n",
       "      <td>Yes</td>\n",
       "      <td>Fiber Optic</td>\n",
       "      <td>12</td>\n",
       "      <td>No</td>\n",
       "      <td>Yes</td>\n",
       "      <td>Yes</td>\n",
       "      <td>No</td>\n",
       "      <td>Yes</td>\n",
       "      <td>Yes</td>\n",
       "      <td>No</td>\n",
       "      <td>Yes</td>\n",
       "      <td>Month-to-Month</td>\n",
       "      <td>Yes</td>\n",
       "      <td>Bank Withdrawal</td>\n",
       "      <td>98.50</td>\n",
       "      <td>2514.50</td>\n",
       "      <td>13.43</td>\n",
       "      <td>0</td>\n",
       "      <td>494.00</td>\n",
       "      <td>2995.07</td>\n",
       "      <td>2</td>\n",
       "      <td>Churned</td>\n",
       "      <td>Yes</td>\n",
       "      <td>88</td>\n",
       "      <td>5337</td>\n",
       "      <td>Dissatisfaction</td>\n",
       "      <td>Limited range of services</td>\n",
       "    </tr>\n",
       "    <tr>\n",
       "      <th>4</th>\n",
       "      <td>4846-WHAFZ</td>\n",
       "      <td>Female</td>\n",
       "      <td>80</td>\n",
       "      <td>No</td>\n",
       "      <td>Yes</td>\n",
       "      <td>Yes</td>\n",
       "      <td>Yes</td>\n",
       "      <td>1</td>\n",
       "      <td>United States</td>\n",
       "      <td>California</td>\n",
       "      <td>Whittier</td>\n",
       "      <td>90602</td>\n",
       "      <td>33.972119</td>\n",
       "      <td>-118.020188</td>\n",
       "      <td>26265</td>\n",
       "      <td>Q3</td>\n",
       "      <td>Yes</td>\n",
       "      <td>1</td>\n",
       "      <td>37</td>\n",
       "      <td>Offer C</td>\n",
       "      <td>Yes</td>\n",
       "      <td>6.33</td>\n",
       "      <td>Yes</td>\n",
       "      <td>Yes</td>\n",
       "      <td>Fiber Optic</td>\n",
       "      <td>14</td>\n",
       "      <td>No</td>\n",
       "      <td>No</td>\n",
       "      <td>No</td>\n",
       "      <td>No</td>\n",
       "      <td>No</td>\n",
       "      <td>No</td>\n",
       "      <td>No</td>\n",
       "      <td>Yes</td>\n",
       "      <td>Month-to-Month</td>\n",
       "      <td>Yes</td>\n",
       "      <td>Bank Withdrawal</td>\n",
       "      <td>76.50</td>\n",
       "      <td>2868.15</td>\n",
       "      <td>0.00</td>\n",
       "      <td>0</td>\n",
       "      <td>234.21</td>\n",
       "      <td>3102.36</td>\n",
       "      <td>2</td>\n",
       "      <td>Churned</td>\n",
       "      <td>Yes</td>\n",
       "      <td>67</td>\n",
       "      <td>2793</td>\n",
       "      <td>Price</td>\n",
       "      <td>Extra data charges</td>\n",
       "    </tr>\n",
       "  </tbody>\n",
       "</table>\n",
       "</div>"
      ],
      "text/plain": [
       "  Customer ID  Gender  Age Under 30 Senior Citizen Married Dependents  \\\n",
       "0  8779-QRDMV    Male   78       No            Yes      No         No   \n",
       "1  7495-OOKFY  Female   74       No            Yes     Yes        Yes   \n",
       "2  1658-BYGOY    Male   71       No            Yes      No        Yes   \n",
       "3  4598-XLKNJ  Female   78       No            Yes     Yes        Yes   \n",
       "4  4846-WHAFZ  Female   80       No            Yes     Yes        Yes   \n",
       "\n",
       "   Number of Dependents        Country       State         City  Zip Code  \\\n",
       "0                     0  United States  California  Los Angeles     90022   \n",
       "1                     1  United States  California  Los Angeles     90063   \n",
       "2                     3  United States  California  Los Angeles     90065   \n",
       "3                     1  United States  California    Inglewood     90303   \n",
       "4                     1  United States  California     Whittier     90602   \n",
       "\n",
       "    Latitude   Longitude  Population Quarter Referred a Friend  \\\n",
       "0  34.023810 -118.156582       68701      Q3                No   \n",
       "1  34.044271 -118.185237       55668      Q3               Yes   \n",
       "2  34.108833 -118.229715       47534      Q3                No   \n",
       "3  33.936291 -118.332639       27778      Q3               Yes   \n",
       "4  33.972119 -118.020188       26265      Q3               Yes   \n",
       "\n",
       "   Number of Referrals  Tenure in Months    Offer Phone Service  \\\n",
       "0                    0                 1     None            No   \n",
       "1                    1                 8  Offer E           Yes   \n",
       "2                    0                18  Offer D           Yes   \n",
       "3                    1                25  Offer C           Yes   \n",
       "4                    1                37  Offer C           Yes   \n",
       "\n",
       "   Avg Monthly Long Distance Charges Multiple Lines Internet Service  \\\n",
       "0                               0.00             No              Yes   \n",
       "1                              48.85            Yes              Yes   \n",
       "2                              11.33            Yes              Yes   \n",
       "3                              19.76             No              Yes   \n",
       "4                               6.33            Yes              Yes   \n",
       "\n",
       "  Internet Type  Avg Monthly GB Download Online Security Online Backup  \\\n",
       "0           DSL                        8              No            No   \n",
       "1   Fiber Optic                       17              No           Yes   \n",
       "2   Fiber Optic                       52              No            No   \n",
       "3   Fiber Optic                       12              No           Yes   \n",
       "4   Fiber Optic                       14              No            No   \n",
       "\n",
       "  Device Protection Plan Premium Tech Support Streaming TV Streaming Movies  \\\n",
       "0                    Yes                   No           No              Yes   \n",
       "1                     No                   No           No               No   \n",
       "2                     No                   No          Yes              Yes   \n",
       "3                    Yes                   No          Yes              Yes   \n",
       "4                     No                   No           No               No   \n",
       "\n",
       "  Streaming Music Unlimited Data        Contract Paperless Billing  \\\n",
       "0              No             No  Month-to-Month               Yes   \n",
       "1              No            Yes  Month-to-Month               Yes   \n",
       "2             Yes            Yes  Month-to-Month               Yes   \n",
       "3              No            Yes  Month-to-Month               Yes   \n",
       "4              No            Yes  Month-to-Month               Yes   \n",
       "\n",
       "    Payment Method  Monthly Charge  Total Charges  Total Refunds  \\\n",
       "0  Bank Withdrawal           39.65          39.65           0.00   \n",
       "1      Credit Card           80.65         633.30           0.00   \n",
       "2  Bank Withdrawal           95.45        1752.55          45.61   \n",
       "3  Bank Withdrawal           98.50        2514.50          13.43   \n",
       "4  Bank Withdrawal           76.50        2868.15           0.00   \n",
       "\n",
       "   Total Extra Data Charges  Total Long Distance Charges  Total Revenue  \\\n",
       "0                        20                         0.00          59.65   \n",
       "1                         0                       390.80        1024.10   \n",
       "2                         0                       203.94        1910.88   \n",
       "3                         0                       494.00        2995.07   \n",
       "4                         0                       234.21        3102.36   \n",
       "\n",
       "   Satisfaction Score Customer Status Churn Label  Churn Score  CLTV  \\\n",
       "0                   3         Churned         Yes           91  5433   \n",
       "1                   3         Churned         Yes           69  5302   \n",
       "2                   2         Churned         Yes           81  3179   \n",
       "3                   2         Churned         Yes           88  5337   \n",
       "4                   2         Churned         Yes           67  2793   \n",
       "\n",
       "    Churn Category                  Churn Reason  \n",
       "0       Competitor  Competitor offered more data  \n",
       "1       Competitor  Competitor made better offer  \n",
       "2       Competitor  Competitor made better offer  \n",
       "3  Dissatisfaction     Limited range of services  \n",
       "4            Price            Extra data charges  "
      ]
     },
     "execution_count": 3,
     "metadata": {},
     "output_type": "execute_result"
    }
   ],
   "source": [
    "data.head()\n"
   ]
  },
  {
   "cell_type": "code",
   "execution_count": 4,
   "id": "5786331a-5d32-4545-99d1-6203e0a17e86",
   "metadata": {},
   "outputs": [
    {
     "name": "stdout",
     "output_type": "stream",
     "text": [
      "<class 'pandas.core.frame.DataFrame'>\n",
      "RangeIndex: 7043 entries, 0 to 7042\n",
      "Data columns (total 50 columns):\n",
      " #   Column                             Non-Null Count  Dtype  \n",
      "---  ------                             --------------  -----  \n",
      " 0   Customer ID                        7043 non-null   object \n",
      " 1   Gender                             7043 non-null   object \n",
      " 2   Age                                7043 non-null   int64  \n",
      " 3   Under 30                           7043 non-null   object \n",
      " 4   Senior Citizen                     7043 non-null   object \n",
      " 5   Married                            7043 non-null   object \n",
      " 6   Dependents                         7043 non-null   object \n",
      " 7   Number of Dependents               7043 non-null   int64  \n",
      " 8   Country                            7043 non-null   object \n",
      " 9   State                              7043 non-null   object \n",
      " 10  City                               7043 non-null   object \n",
      " 11  Zip Code                           7043 non-null   int64  \n",
      " 12  Latitude                           7043 non-null   float64\n",
      " 13  Longitude                          7043 non-null   float64\n",
      " 14  Population                         7043 non-null   int64  \n",
      " 15  Quarter                            7043 non-null   object \n",
      " 16  Referred a Friend                  7043 non-null   object \n",
      " 17  Number of Referrals                7043 non-null   int64  \n",
      " 18  Tenure in Months                   7043 non-null   int64  \n",
      " 19  Offer                              7043 non-null   object \n",
      " 20  Phone Service                      7043 non-null   object \n",
      " 21  Avg Monthly Long Distance Charges  7043 non-null   float64\n",
      " 22  Multiple Lines                     7043 non-null   object \n",
      " 23  Internet Service                   7043 non-null   object \n",
      " 24  Internet Type                      7043 non-null   object \n",
      " 25  Avg Monthly GB Download            7043 non-null   int64  \n",
      " 26  Online Security                    7043 non-null   object \n",
      " 27  Online Backup                      7043 non-null   object \n",
      " 28  Device Protection Plan             7043 non-null   object \n",
      " 29  Premium Tech Support               7043 non-null   object \n",
      " 30  Streaming TV                       7043 non-null   object \n",
      " 31  Streaming Movies                   7043 non-null   object \n",
      " 32  Streaming Music                    7043 non-null   object \n",
      " 33  Unlimited Data                     7043 non-null   object \n",
      " 34  Contract                           7043 non-null   object \n",
      " 35  Paperless Billing                  7043 non-null   object \n",
      " 36  Payment Method                     7043 non-null   object \n",
      " 37  Monthly Charge                     7043 non-null   float64\n",
      " 38  Total Charges                      7043 non-null   float64\n",
      " 39  Total Refunds                      7043 non-null   float64\n",
      " 40  Total Extra Data Charges           7043 non-null   int64  \n",
      " 41  Total Long Distance Charges        7043 non-null   float64\n",
      " 42  Total Revenue                      7043 non-null   float64\n",
      " 43  Satisfaction Score                 7043 non-null   int64  \n",
      " 44  Customer Status                    7043 non-null   object \n",
      " 45  Churn Label                        7043 non-null   object \n",
      " 46  Churn Score                        7043 non-null   int64  \n",
      " 47  CLTV                               7043 non-null   int64  \n",
      " 48  Churn Category                     1869 non-null   object \n",
      " 49  Churn Reason                       1869 non-null   object \n",
      "dtypes: float64(8), int64(11), object(31)\n",
      "memory usage: 2.7+ MB\n"
     ]
    }
   ],
   "source": [
    "data.info()"
   ]
  },
  {
   "cell_type": "markdown",
   "id": "94162f42",
   "metadata": {},
   "source": [
    "# 3. Data Splitting"
   ]
  },
  {
   "cell_type": "code",
   "execution_count": 5,
   "id": "d4393443",
   "metadata": {},
   "outputs": [],
   "source": [
    "#X_trainin, X_test, y_train, y_test = train_test_split(X, y, test_size=0.2, random_state=42)"
   ]
  },
  {
   "cell_type": "markdown",
   "id": "9184a719",
   "metadata": {},
   "source": [
    "# 4. Exploratory Data Analysis"
   ]
  },
  {
   "cell_type": "code",
   "execution_count": 6,
   "id": "8cb1c9ea-8988-4673-9604-4cb7cf5e5532",
   "metadata": {},
   "outputs": [
    {
     "name": "stdout",
     "output_type": "stream",
     "text": [
      "<class 'pandas.core.frame.DataFrame'>\n",
      "RangeIndex: 7043 entries, 0 to 7042\n",
      "Data columns (total 50 columns):\n",
      " #   Column                             Non-Null Count  Dtype  \n",
      "---  ------                             --------------  -----  \n",
      " 0   Customer ID                        7043 non-null   object \n",
      " 1   Gender                             7043 non-null   object \n",
      " 2   Age                                7043 non-null   int64  \n",
      " 3   Under 30                           7043 non-null   object \n",
      " 4   Senior Citizen                     7043 non-null   object \n",
      " 5   Married                            7043 non-null   object \n",
      " 6   Dependents                         7043 non-null   object \n",
      " 7   Number of Dependents               7043 non-null   int64  \n",
      " 8   Country                            7043 non-null   object \n",
      " 9   State                              7043 non-null   object \n",
      " 10  City                               7043 non-null   object \n",
      " 11  Zip Code                           7043 non-null   int64  \n",
      " 12  Latitude                           7043 non-null   float64\n",
      " 13  Longitude                          7043 non-null   float64\n",
      " 14  Population                         7043 non-null   int64  \n",
      " 15  Quarter                            7043 non-null   object \n",
      " 16  Referred a Friend                  7043 non-null   object \n",
      " 17  Number of Referrals                7043 non-null   int64  \n",
      " 18  Tenure in Months                   7043 non-null   int64  \n",
      " 19  Offer                              7043 non-null   object \n",
      " 20  Phone Service                      7043 non-null   object \n",
      " 21  Avg Monthly Long Distance Charges  7043 non-null   float64\n",
      " 22  Multiple Lines                     7043 non-null   object \n",
      " 23  Internet Service                   7043 non-null   object \n",
      " 24  Internet Type                      7043 non-null   object \n",
      " 25  Avg Monthly GB Download            7043 non-null   int64  \n",
      " 26  Online Security                    7043 non-null   object \n",
      " 27  Online Backup                      7043 non-null   object \n",
      " 28  Device Protection Plan             7043 non-null   object \n",
      " 29  Premium Tech Support               7043 non-null   object \n",
      " 30  Streaming TV                       7043 non-null   object \n",
      " 31  Streaming Movies                   7043 non-null   object \n",
      " 32  Streaming Music                    7043 non-null   object \n",
      " 33  Unlimited Data                     7043 non-null   object \n",
      " 34  Contract                           7043 non-null   object \n",
      " 35  Paperless Billing                  7043 non-null   object \n",
      " 36  Payment Method                     7043 non-null   object \n",
      " 37  Monthly Charge                     7043 non-null   float64\n",
      " 38  Total Charges                      7043 non-null   float64\n",
      " 39  Total Refunds                      7043 non-null   float64\n",
      " 40  Total Extra Data Charges           7043 non-null   int64  \n",
      " 41  Total Long Distance Charges        7043 non-null   float64\n",
      " 42  Total Revenue                      7043 non-null   float64\n",
      " 43  Satisfaction Score                 7043 non-null   int64  \n",
      " 44  Customer Status                    7043 non-null   object \n",
      " 45  Churn Label                        7043 non-null   object \n",
      " 46  Churn Score                        7043 non-null   int64  \n",
      " 47  CLTV                               7043 non-null   int64  \n",
      " 48  Churn Category                     1869 non-null   object \n",
      " 49  Churn Reason                       1869 non-null   object \n",
      "dtypes: float64(8), int64(11), object(31)\n",
      "memory usage: 2.7+ MB\n"
     ]
    }
   ],
   "source": [
    "# Your code here. Exploratory data analysis can be done before splitting, but do not transform the dataset before splitting.\n",
    "data.info() #No valores nulos \n"
   ]
  },
  {
   "cell_type": "code",
   "execution_count": 7,
   "id": "0fdf26b2-c42e-4e39-bfef-97a6fee31442",
   "metadata": {},
   "outputs": [
    {
     "name": "stdout",
     "output_type": "stream",
     "text": [
      "Porcentaje de valores faltantes en la columna 'Offer': 0.00%\n"
     ]
    }
   ],
   "source": [
    "missing_percentage_Offer = (data['Offer'].isnull().sum() / len(data)) * 100\n",
    "print(f\"Porcentaje de valores faltantes en la columna 'Offer': {missing_percentage_Offer:.2f}%\")"
   ]
  },
  {
   "cell_type": "code",
   "execution_count": 8,
   "id": "8f2a6c4f-d8ff-4b34-80da-9520916b9930",
   "metadata": {},
   "outputs": [
    {
     "name": "stdout",
     "output_type": "stream",
     "text": [
      "Porcentaje de valores faltantes en la columna 'Internet Type': 0.00%\n"
     ]
    }
   ],
   "source": [
    "missing_percentage_Internet_Type = (data['Internet Type'].isnull().sum() / len(data)) * 100\n",
    "print(f\"Porcentaje de valores faltantes en la columna 'Internet Type': {missing_percentage_Internet_Type:.2f}%\")"
   ]
  },
  {
   "cell_type": "code",
   "execution_count": 9,
   "id": "f0abd519-4d49-4d54-9c0c-6eaf4740f524",
   "metadata": {},
   "outputs": [],
   "source": [
    "#Estructura de los datos y resumen:  El dataset original tiene 50 columnas,\n",
    "#con variables de datos demográficos, geográficas, con información sobre los servicios,\n",
    "#datos financieros, y satisfacción y comportamiento del cliente.\n",
    "#Análisis de datos faltantes: Las siguientes columnas tienen valores faltantes:  Offer (55,05%)  e Internet Type (21,67%) \n",
    "#Esta información está relacionada con los clientes que se han dado de baja, y se van a ir evaluando a medida que \n",
    "#se realice el estudio del dataset"
   ]
  },
  {
   "cell_type": "markdown",
   "id": "d9a41642-a097-4d87-9e1f-8b0cee46b8c9",
   "metadata": {},
   "source": [
    "#### Estudio edades"
   ]
  },
  {
   "cell_type": "code",
   "execution_count": 10,
   "id": "e6fc4413-7bc7-42df-8f7a-5c32e42de996",
   "metadata": {},
   "outputs": [
    {
     "name": "stdout",
     "output_type": "stream",
     "text": [
      "La media de la edad es: 46.50972596904728\n"
     ]
    }
   ],
   "source": [
    "mean_age = data['Age'].mean()\n",
    "print(f\"La media de la edad es: {mean_age}\")"
   ]
  },
  {
   "cell_type": "code",
   "execution_count": 11,
   "id": "2491f775-6a53-441d-93a3-91c3cd01b1a1",
   "metadata": {},
   "outputs": [
    {
     "data": {
      "image/png": "[encoded data removed]",
      "text/plain": [
       "<Figure size 1000x600 with 1 Axes>"
      ]
     },
     "metadata": {},
     "output_type": "display_data"
    }
   ],
   "source": [
    "plt.figure(figsize=(10, 6))\n",
    "sns.histplot(data['Age'], bins=20, kde=True, color='skyblue')\n",
    "plt.title('Distribución de la Edad de los Clientes')\n",
    "plt.xlabel('Edad')\n",
    "plt.ylabel('Frecuencia')\n",
    "plt.show()"
   ]
  },
  {
   "cell_type": "code",
   "execution_count": 12,
   "id": "cd7357c1-ca46-491b-a139-76b42b002329",
   "metadata": {},
   "outputs": [
    {
     "name": "stdout",
     "output_type": "stream",
     "text": [
      "La media de la edad es: 46.50972596904728\n"
     ]
    }
   ],
   "source": [
    "mean_age = data['Age'].mean()\n",
    "print(f\"La media de la edad es: {mean_age}\")"
   ]
  },
  {
   "cell_type": "code",
   "execution_count": 13,
   "id": "b6465877-d0e4-4d03-a722-3af6bd362e22",
   "metadata": {},
   "outputs": [],
   "source": [
    "#Los rangos de edad están desde los 19 a 80 años, siendo la media alrededor de los 46.50 años"
   ]
  },
  {
   "cell_type": "code",
   "execution_count": 14,
   "id": "6fdef23e-cc7a-4551-bffc-75986e99016f",
   "metadata": {},
   "outputs": [
    {
     "data": {
      "image/png": "[encoded data removed]",
      "text/plain": [
       "<Figure size 640x480 with 1 Axes>"
      ]
     },
     "metadata": {},
     "output_type": "display_data"
    }
   ],
   "source": [
    "sns.histplot(data['Tenure in Months'])\n",
    "plt.show()"
   ]
  },
  {
   "cell_type": "code",
   "execution_count": 15,
   "id": "ff36f8a2-c6e9-4e4d-b82e-ed61a1826af3",
   "metadata": {},
   "outputs": [
    {
     "data": {
      "text/plain": [
       "count    7043.000000\n",
       "mean       32.386767\n",
       "std        24.542061\n",
       "min         1.000000\n",
       "25%         9.000000\n",
       "50%        29.000000\n",
       "75%        55.000000\n",
       "max        72.000000\n",
       "Name: Tenure in Months, dtype: float64"
      ]
     },
     "execution_count": 15,
     "metadata": {},
     "output_type": "execute_result"
    }
   ],
   "source": [
    "data['Tenure in Months'].describe()"
   ]
  },
  {
   "cell_type": "code",
   "execution_count": 16,
   "id": "258b5f52-cb47-4e6e-878b-52956c00b833",
   "metadata": {},
   "outputs": [
    {
     "data": {
      "image/png": "[encoded data removed]",
      "text/plain": [
       "<Figure size 640x480 with 1 Axes>"
      ]
     },
     "metadata": {},
     "output_type": "display_data"
    }
   ],
   "source": [
    "sns.histplot(data[\"Number of Dependents\"])\n",
    "plt.show()\n"
   ]
  },
  {
   "cell_type": "code",
   "execution_count": 19,
   "id": "3b282705",
   "metadata": {},
   "outputs": [
    {
     "data": {
      "text/plain": [
       "No     0.578163\n",
       "Yes    0.421837\n",
       "Name: Multiple Lines, dtype: float64"
      ]
     },
     "execution_count": 19,
     "metadata": {},
     "output_type": "execute_result"
    }
   ],
   "source": [
    "data[\"Multiple Lines\"].value_counts(normalize=True)"
   ]
  },
  {
   "cell_type": "code",
   "execution_count": 20,
   "id": "552ba4c6-0fea-4fb3-badf-b562ff435c40",
   "metadata": {},
   "outputs": [
    {
     "name": "stdout",
     "output_type": "stream",
     "text": [
      "Chi-cuadrado: 11.143251001456251\n",
      "Valor p: 0.0008433795342472428\n",
      "Índice de Cramér: 0.03977655002347514\n"
     ]
    }
   ],
   "source": [
    "# Crear tabla de contingencia\n",
    "tabla_contingencia_multiple_lines = pd.crosstab(data['Multiple Lines'], data['Churn Label'])\n",
    "\n",
    "# Aplicar la prueba Chi-cuadrado\n",
    "chi2_multiple_lines, p_multiple_lines, dof_multiple_lines, expected_multiple_lines = chi2_contingency(tabla_contingencia_multiple_lines)\n",
    "\n",
    "# Calcular el índice de Cramér\n",
    "n_multiple_lines = data.shape[0]  # número de observaciones\n",
    "cramer_v_multiple_lines = np.sqrt(chi2_multiple_lines / (n_multiple_lines * (min(tabla_contingencia_multiple_lines.shape) - 1)))\n",
    "\n",
    "# Mostrar resultados\n",
    "print(f\"Chi-cuadrado: {chi2_multiple_lines}\")\n",
    "print(f\"Valor p: {p_multiple_lines}\")\n",
    "print(f\"Índice de Cramér: {cramer_v_multiple_lines}\")\n"
   ]
  },
  {
   "cell_type": "code",
   "execution_count": 21,
   "id": "2d2f40d3",
   "metadata": {},
   "outputs": [
    {
     "data": {
      "text/plain": [
       "3    2665\n",
       "4    1789\n",
       "5    1149\n",
       "1     922\n",
       "2     518\n",
       "Name: Satisfaction Score, dtype: int64"
      ]
     },
     "execution_count": 21,
     "metadata": {},
     "output_type": "execute_result"
    }
   ],
   "source": [
    "data[\"Satisfaction Score\"].value_counts()"
   ]
  },
  {
   "cell_type": "code",
   "execution_count": 22,
   "id": "9330bf22-bae5-4a5c-9285-8518c54fbf5b",
   "metadata": {},
   "outputs": [
    {
     "data": {
      "text/plain": [
       "Satisfaction Score  Churn Label\n",
       "1                   Yes            1.000000\n",
       "2                   Yes            1.000000\n",
       "3                   No             0.839024\n",
       "                    Yes            0.160976\n",
       "4                   No             1.000000\n",
       "5                   No             1.000000\n",
       "Name: Churn Label, dtype: float64"
      ]
     },
     "execution_count": 22,
     "metadata": {},
     "output_type": "execute_result"
    }
   ],
   "source": [
    "data.groupby(\"Satisfaction Score\")[\"Churn Label\"].value_counts(normalize=True)\n",
    "\n",
    "##Relevante, vale la pena hacer feature Engineering"
   ]
  },
  {
   "cell_type": "code",
   "execution_count": 23,
   "id": "1eeea49f",
   "metadata": {},
   "outputs": [
    {
     "data": {
      "text/plain": [
       "<bound method IndexOpsMixin.value_counts of 0       Churned\n",
       "1       Churned\n",
       "2       Churned\n",
       "3       Churned\n",
       "4       Churned\n",
       "         ...   \n",
       "7038     Stayed\n",
       "7039     Stayed\n",
       "7040     Stayed\n",
       "7041     Stayed\n",
       "7042     Stayed\n",
       "Name: Customer Status, Length: 7043, dtype: object>"
      ]
     },
     "execution_count": 23,
     "metadata": {},
     "output_type": "execute_result"
    }
   ],
   "source": [
    "data[\"Customer Status\"].value_counts"
   ]
  },
  {
   "cell_type": "code",
   "execution_count": 24,
   "id": "3ec8ab44",
   "metadata": {},
   "outputs": [
    {
     "data": {
      "text/plain": [
       "Stayed     0.670169\n",
       "Churned    0.265370\n",
       "Joined     0.064461\n",
       "Name: Customer Status, dtype: float64"
      ]
     },
     "execution_count": 24,
     "metadata": {},
     "output_type": "execute_result"
    }
   ],
   "source": [
    "data[\"Customer Status\"].value_counts(normalize=\"True\")"
   ]
  },
  {
   "cell_type": "code",
   "execution_count": 25,
   "id": "4d4fdd72",
   "metadata": {},
   "outputs": [
    {
     "data": {
      "text/plain": [
       "No     0.73463\n",
       "Yes    0.26537\n",
       "Name: Churn Label, dtype: float64"
      ]
     },
     "execution_count": 25,
     "metadata": {},
     "output_type": "execute_result"
    }
   ],
   "source": [
    "data[\"Churn Label\"].value_counts(normalize=\"True\")"
   ]
  },
  {
   "cell_type": "code",
   "execution_count": 26,
   "id": "c95fed18",
   "metadata": {},
   "outputs": [
    {
     "data": {
      "text/plain": [
       "Bank Withdrawal    0.555019\n",
       "Credit Card        0.390317\n",
       "Mailed Check       0.054664\n",
       "Name: Payment Method, dtype: float64"
      ]
     },
     "execution_count": 26,
     "metadata": {},
     "output_type": "execute_result"
    }
   ],
   "source": [
    "data[\"Payment Method\"].value_counts(normalize=True) ##Mas de la mitad son por Bank"
   ]
  },
  {
   "cell_type": "code",
   "execution_count": 27,
   "id": "d823a9d4-dfbd-4b10-b9b3-50b9c54a6316",
   "metadata": {},
   "outputs": [
    {
     "data": {
      "image/png": "[encoded data removed]",
      "text/plain": [
       "<Figure size 640x480 with 1 Axes>"
      ]
     },
     "metadata": {},
     "output_type": "display_data"
    }
   ],
   "source": [
    "# Crear el DataFrame a partir de tus datos\n",
    "data_frame = {'Payment Method': ['Bank Withdrawal', 'Bank Withdrawal', 'Credit Card', 'Credit Card', 'Mailed Check', 'Mailed Check'],\n",
    "        'Churn Label': ['No', 'Yes', 'No', 'Yes', 'No', 'Yes'],\n",
    "        'Proportion': [0.660015, 0.339985, 0.855220, 0.144780, 0.631169, 0.368831]}\n",
    "\n",
    "df = pd.DataFrame(data_frame)\n",
    "\n",
    "# Pivotar la tabla para que Churn Label sea la columna\n",
    "pivot_df = df.pivot(index='Payment Method', columns='Churn Label', values='Proportion')\n",
    "\n",
    "# Graficar barras apiladas\n",
    "pivot_df.plot(kind='bar', stacked=True)\n",
    "\n",
    "plt.title('Proporción de Churn por Método de Pago')\n",
    "plt.ylabel('Proporción')\n",
    "plt.xticks(rotation=45)\n",
    "plt.show()"
   ]
  },
  {
   "cell_type": "code",
   "execution_count": 28,
   "id": "96c35d25",
   "metadata": {},
   "outputs": [
    {
     "data": {
      "text/html": [
       "<div>\n",
       "<style scoped>\n",
       "    .dataframe tbody tr th:only-of-type {\n",
       "        vertical-align: middle;\n",
       "    }\n",
       "\n",
       "    .dataframe tbody tr th {\n",
       "        vertical-align: top;\n",
       "    }\n",
       "\n",
       "    .dataframe thead th {\n",
       "        text-align: right;\n",
       "    }\n",
       "</style>\n",
       "<table border=\"1\" class=\"dataframe\">\n",
       "  <thead>\n",
       "    <tr style=\"text-align: right;\">\n",
       "      <th></th>\n",
       "      <th>Customer ID</th>\n",
       "      <th>Gender</th>\n",
       "      <th>Age</th>\n",
       "      <th>Under 30</th>\n",
       "      <th>Senior Citizen</th>\n",
       "      <th>Married</th>\n",
       "      <th>Dependents</th>\n",
       "      <th>Number of Dependents</th>\n",
       "      <th>Country</th>\n",
       "      <th>State</th>\n",
       "      <th>City</th>\n",
       "      <th>Zip Code</th>\n",
       "      <th>Latitude</th>\n",
       "      <th>Longitude</th>\n",
       "      <th>Population</th>\n",
       "      <th>Quarter</th>\n",
       "      <th>Referred a Friend</th>\n",
       "      <th>Number of Referrals</th>\n",
       "      <th>Tenure in Months</th>\n",
       "      <th>Offer</th>\n",
       "      <th>Phone Service</th>\n",
       "      <th>Avg Monthly Long Distance Charges</th>\n",
       "      <th>Multiple Lines</th>\n",
       "      <th>Internet Service</th>\n",
       "      <th>Internet Type</th>\n",
       "      <th>Avg Monthly GB Download</th>\n",
       "      <th>Online Security</th>\n",
       "      <th>Online Backup</th>\n",
       "      <th>Device Protection Plan</th>\n",
       "      <th>Premium Tech Support</th>\n",
       "      <th>Streaming TV</th>\n",
       "      <th>Streaming Movies</th>\n",
       "      <th>Streaming Music</th>\n",
       "      <th>Unlimited Data</th>\n",
       "      <th>Contract</th>\n",
       "      <th>Paperless Billing</th>\n",
       "      <th>Payment Method</th>\n",
       "      <th>Monthly Charge</th>\n",
       "      <th>Total Charges</th>\n",
       "      <th>Total Refunds</th>\n",
       "      <th>Total Extra Data Charges</th>\n",
       "      <th>Total Long Distance Charges</th>\n",
       "      <th>Total Revenue</th>\n",
       "      <th>Satisfaction Score</th>\n",
       "      <th>Customer Status</th>\n",
       "      <th>Churn Label</th>\n",
       "      <th>Churn Score</th>\n",
       "      <th>CLTV</th>\n",
       "      <th>Churn Category</th>\n",
       "      <th>Churn Reason</th>\n",
       "    </tr>\n",
       "  </thead>\n",
       "  <tbody>\n",
       "    <tr>\n",
       "      <th>2</th>\n",
       "      <td>1658-BYGOY</td>\n",
       "      <td>Male</td>\n",
       "      <td>71</td>\n",
       "      <td>No</td>\n",
       "      <td>Yes</td>\n",
       "      <td>No</td>\n",
       "      <td>Yes</td>\n",
       "      <td>3</td>\n",
       "      <td>United States</td>\n",
       "      <td>California</td>\n",
       "      <td>Los Angeles</td>\n",
       "      <td>90065</td>\n",
       "      <td>34.108833</td>\n",
       "      <td>-118.229715</td>\n",
       "      <td>47534</td>\n",
       "      <td>Q3</td>\n",
       "      <td>No</td>\n",
       "      <td>0</td>\n",
       "      <td>18</td>\n",
       "      <td>Offer D</td>\n",
       "      <td>Yes</td>\n",
       "      <td>11.33</td>\n",
       "      <td>Yes</td>\n",
       "      <td>Yes</td>\n",
       "      <td>Fiber Optic</td>\n",
       "      <td>52</td>\n",
       "      <td>No</td>\n",
       "      <td>No</td>\n",
       "      <td>No</td>\n",
       "      <td>No</td>\n",
       "      <td>Yes</td>\n",
       "      <td>Yes</td>\n",
       "      <td>Yes</td>\n",
       "      <td>Yes</td>\n",
       "      <td>Month-to-Month</td>\n",
       "      <td>Yes</td>\n",
       "      <td>Bank Withdrawal</td>\n",
       "      <td>95.45</td>\n",
       "      <td>1752.55</td>\n",
       "      <td>45.61</td>\n",
       "      <td>0</td>\n",
       "      <td>203.94</td>\n",
       "      <td>1910.88</td>\n",
       "      <td>2</td>\n",
       "      <td>Churned</td>\n",
       "      <td>Yes</td>\n",
       "      <td>81</td>\n",
       "      <td>3179</td>\n",
       "      <td>Competitor</td>\n",
       "      <td>Competitor made better offer</td>\n",
       "    </tr>\n",
       "    <tr>\n",
       "      <th>3</th>\n",
       "      <td>4598-XLKNJ</td>\n",
       "      <td>Female</td>\n",
       "      <td>78</td>\n",
       "      <td>No</td>\n",
       "      <td>Yes</td>\n",
       "      <td>Yes</td>\n",
       "      <td>Yes</td>\n",
       "      <td>1</td>\n",
       "      <td>United States</td>\n",
       "      <td>California</td>\n",
       "      <td>Inglewood</td>\n",
       "      <td>90303</td>\n",
       "      <td>33.936291</td>\n",
       "      <td>-118.332639</td>\n",
       "      <td>27778</td>\n",
       "      <td>Q3</td>\n",
       "      <td>Yes</td>\n",
       "      <td>1</td>\n",
       "      <td>25</td>\n",
       "      <td>Offer C</td>\n",
       "      <td>Yes</td>\n",
       "      <td>19.76</td>\n",
       "      <td>No</td>\n",
       "      <td>Yes</td>\n",
       "      <td>Fiber Optic</td>\n",
       "      <td>12</td>\n",
       "      <td>No</td>\n",
       "      <td>Yes</td>\n",
       "      <td>Yes</td>\n",
       "      <td>No</td>\n",
       "      <td>Yes</td>\n",
       "      <td>Yes</td>\n",
       "      <td>No</td>\n",
       "      <td>Yes</td>\n",
       "      <td>Month-to-Month</td>\n",
       "      <td>Yes</td>\n",
       "      <td>Bank Withdrawal</td>\n",
       "      <td>98.50</td>\n",
       "      <td>2514.50</td>\n",
       "      <td>13.43</td>\n",
       "      <td>0</td>\n",
       "      <td>494.00</td>\n",
       "      <td>2995.07</td>\n",
       "      <td>2</td>\n",
       "      <td>Churned</td>\n",
       "      <td>Yes</td>\n",
       "      <td>88</td>\n",
       "      <td>5337</td>\n",
       "      <td>Dissatisfaction</td>\n",
       "      <td>Limited range of services</td>\n",
       "    </tr>\n",
       "    <tr>\n",
       "      <th>7</th>\n",
       "      <td>3445-HXXGF</td>\n",
       "      <td>Male</td>\n",
       "      <td>66</td>\n",
       "      <td>No</td>\n",
       "      <td>Yes</td>\n",
       "      <td>Yes</td>\n",
       "      <td>No</td>\n",
       "      <td>0</td>\n",
       "      <td>United States</td>\n",
       "      <td>California</td>\n",
       "      <td>Sierra Madre</td>\n",
       "      <td>91024</td>\n",
       "      <td>34.168686</td>\n",
       "      <td>-118.057505</td>\n",
       "      <td>10558</td>\n",
       "      <td>Q3</td>\n",
       "      <td>Yes</td>\n",
       "      <td>6</td>\n",
       "      <td>58</td>\n",
       "      <td>Offer B</td>\n",
       "      <td>No</td>\n",
       "      <td>0.00</td>\n",
       "      <td>No</td>\n",
       "      <td>Yes</td>\n",
       "      <td>DSL</td>\n",
       "      <td>24</td>\n",
       "      <td>No</td>\n",
       "      <td>Yes</td>\n",
       "      <td>Yes</td>\n",
       "      <td>No</td>\n",
       "      <td>No</td>\n",
       "      <td>Yes</td>\n",
       "      <td>No</td>\n",
       "      <td>Yes</td>\n",
       "      <td>Month-to-Month</td>\n",
       "      <td>Yes</td>\n",
       "      <td>Bank Withdrawal</td>\n",
       "      <td>45.30</td>\n",
       "      <td>2651.20</td>\n",
       "      <td>40.95</td>\n",
       "      <td>0</td>\n",
       "      <td>0.00</td>\n",
       "      <td>2610.25</td>\n",
       "      <td>1</td>\n",
       "      <td>Churned</td>\n",
       "      <td>Yes</td>\n",
       "      <td>91</td>\n",
       "      <td>5444</td>\n",
       "      <td>Dissatisfaction</td>\n",
       "      <td>Service dissatisfaction</td>\n",
       "    </tr>\n",
       "    <tr>\n",
       "      <th>9</th>\n",
       "      <td>2070-FNEXE</td>\n",
       "      <td>Female</td>\n",
       "      <td>77</td>\n",
       "      <td>No</td>\n",
       "      <td>Yes</td>\n",
       "      <td>No</td>\n",
       "      <td>Yes</td>\n",
       "      <td>2</td>\n",
       "      <td>United States</td>\n",
       "      <td>California</td>\n",
       "      <td>Pasadena</td>\n",
       "      <td>91107</td>\n",
       "      <td>34.159007</td>\n",
       "      <td>-118.087353</td>\n",
       "      <td>32369</td>\n",
       "      <td>Q3</td>\n",
       "      <td>No</td>\n",
       "      <td>0</td>\n",
       "      <td>7</td>\n",
       "      <td>Offer E</td>\n",
       "      <td>Yes</td>\n",
       "      <td>26.95</td>\n",
       "      <td>No</td>\n",
       "      <td>Yes</td>\n",
       "      <td>Fiber Optic</td>\n",
       "      <td>18</td>\n",
       "      <td>Yes</td>\n",
       "      <td>No</td>\n",
       "      <td>No</td>\n",
       "      <td>No</td>\n",
       "      <td>No</td>\n",
       "      <td>No</td>\n",
       "      <td>No</td>\n",
       "      <td>No</td>\n",
       "      <td>Month-to-Month</td>\n",
       "      <td>No</td>\n",
       "      <td>Bank Withdrawal</td>\n",
       "      <td>76.45</td>\n",
       "      <td>503.60</td>\n",
       "      <td>11.05</td>\n",
       "      <td>0</td>\n",
       "      <td>188.65</td>\n",
       "      <td>681.20</td>\n",
       "      <td>2</td>\n",
       "      <td>Churned</td>\n",
       "      <td>Yes</td>\n",
       "      <td>81</td>\n",
       "      <td>4419</td>\n",
       "      <td>Price</td>\n",
       "      <td>Lack of affordable download/upload speed</td>\n",
       "    </tr>\n",
       "    <tr>\n",
       "      <th>111</th>\n",
       "      <td>7156-MHUGY</td>\n",
       "      <td>Male</td>\n",
       "      <td>68</td>\n",
       "      <td>No</td>\n",
       "      <td>Yes</td>\n",
       "      <td>No</td>\n",
       "      <td>No</td>\n",
       "      <td>0</td>\n",
       "      <td>United States</td>\n",
       "      <td>California</td>\n",
       "      <td>Buena Park</td>\n",
       "      <td>90621</td>\n",
       "      <td>33.874224</td>\n",
       "      <td>-117.993368</td>\n",
       "      <td>33528</td>\n",
       "      <td>Q3</td>\n",
       "      <td>No</td>\n",
       "      <td>0</td>\n",
       "      <td>13</td>\n",
       "      <td>None</td>\n",
       "      <td>Yes</td>\n",
       "      <td>26.11</td>\n",
       "      <td>No</td>\n",
       "      <td>Yes</td>\n",
       "      <td>Fiber Optic</td>\n",
       "      <td>4</td>\n",
       "      <td>No</td>\n",
       "      <td>No</td>\n",
       "      <td>No</td>\n",
       "      <td>No</td>\n",
       "      <td>Yes</td>\n",
       "      <td>Yes</td>\n",
       "      <td>Yes</td>\n",
       "      <td>No</td>\n",
       "      <td>Month-to-Month</td>\n",
       "      <td>Yes</td>\n",
       "      <td>Bank Withdrawal</td>\n",
       "      <td>90.50</td>\n",
       "      <td>1201.15</td>\n",
       "      <td>29.84</td>\n",
       "      <td>140</td>\n",
       "      <td>339.43</td>\n",
       "      <td>1650.74</td>\n",
       "      <td>1</td>\n",
       "      <td>Churned</td>\n",
       "      <td>Yes</td>\n",
       "      <td>76</td>\n",
       "      <td>5394</td>\n",
       "      <td>Competitor</td>\n",
       "      <td>Competitor had better devices</td>\n",
       "    </tr>\n",
       "    <tr>\n",
       "      <th>...</th>\n",
       "      <td>...</td>\n",
       "      <td>...</td>\n",
       "      <td>...</td>\n",
       "      <td>...</td>\n",
       "      <td>...</td>\n",
       "      <td>...</td>\n",
       "      <td>...</td>\n",
       "      <td>...</td>\n",
       "      <td>...</td>\n",
       "      <td>...</td>\n",
       "      <td>...</td>\n",
       "      <td>...</td>\n",
       "      <td>...</td>\n",
       "      <td>...</td>\n",
       "      <td>...</td>\n",
       "      <td>...</td>\n",
       "      <td>...</td>\n",
       "      <td>...</td>\n",
       "      <td>...</td>\n",
       "      <td>...</td>\n",
       "      <td>...</td>\n",
       "      <td>...</td>\n",
       "      <td>...</td>\n",
       "      <td>...</td>\n",
       "      <td>...</td>\n",
       "      <td>...</td>\n",
       "      <td>...</td>\n",
       "      <td>...</td>\n",
       "      <td>...</td>\n",
       "      <td>...</td>\n",
       "      <td>...</td>\n",
       "      <td>...</td>\n",
       "      <td>...</td>\n",
       "      <td>...</td>\n",
       "      <td>...</td>\n",
       "      <td>...</td>\n",
       "      <td>...</td>\n",
       "      <td>...</td>\n",
       "      <td>...</td>\n",
       "      <td>...</td>\n",
       "      <td>...</td>\n",
       "      <td>...</td>\n",
       "      <td>...</td>\n",
       "      <td>...</td>\n",
       "      <td>...</td>\n",
       "      <td>...</td>\n",
       "      <td>...</td>\n",
       "      <td>...</td>\n",
       "      <td>...</td>\n",
       "      <td>...</td>\n",
       "    </tr>\n",
       "    <tr>\n",
       "      <th>2394</th>\n",
       "      <td>2869-ADAWR</td>\n",
       "      <td>Female</td>\n",
       "      <td>41</td>\n",
       "      <td>No</td>\n",
       "      <td>No</td>\n",
       "      <td>No</td>\n",
       "      <td>No</td>\n",
       "      <td>0</td>\n",
       "      <td>United States</td>\n",
       "      <td>California</td>\n",
       "      <td>Sutter Creek</td>\n",
       "      <td>95685</td>\n",
       "      <td>38.432145</td>\n",
       "      <td>-120.770690</td>\n",
       "      <td>4610</td>\n",
       "      <td>Q3</td>\n",
       "      <td>No</td>\n",
       "      <td>0</td>\n",
       "      <td>45</td>\n",
       "      <td>Offer B</td>\n",
       "      <td>Yes</td>\n",
       "      <td>14.12</td>\n",
       "      <td>Yes</td>\n",
       "      <td>Yes</td>\n",
       "      <td>Fiber Optic</td>\n",
       "      <td>24</td>\n",
       "      <td>No</td>\n",
       "      <td>Yes</td>\n",
       "      <td>No</td>\n",
       "      <td>No</td>\n",
       "      <td>Yes</td>\n",
       "      <td>No</td>\n",
       "      <td>No</td>\n",
       "      <td>Yes</td>\n",
       "      <td>Month-to-Month</td>\n",
       "      <td>Yes</td>\n",
       "      <td>Credit Card</td>\n",
       "      <td>89.30</td>\n",
       "      <td>4016.85</td>\n",
       "      <td>44.63</td>\n",
       "      <td>0</td>\n",
       "      <td>635.40</td>\n",
       "      <td>4607.62</td>\n",
       "      <td>2</td>\n",
       "      <td>Churned</td>\n",
       "      <td>Yes</td>\n",
       "      <td>90</td>\n",
       "      <td>4880</td>\n",
       "      <td>Dissatisfaction</td>\n",
       "      <td>Poor expertise of online support</td>\n",
       "    </tr>\n",
       "    <tr>\n",
       "      <th>2397</th>\n",
       "      <td>0637-UBJRP</td>\n",
       "      <td>Male</td>\n",
       "      <td>40</td>\n",
       "      <td>No</td>\n",
       "      <td>No</td>\n",
       "      <td>Yes</td>\n",
       "      <td>No</td>\n",
       "      <td>0</td>\n",
       "      <td>United States</td>\n",
       "      <td>California</td>\n",
       "      <td>Wilton</td>\n",
       "      <td>95693</td>\n",
       "      <td>38.392559</td>\n",
       "      <td>-121.225093</td>\n",
       "      <td>5889</td>\n",
       "      <td>Q3</td>\n",
       "      <td>Yes</td>\n",
       "      <td>5</td>\n",
       "      <td>13</td>\n",
       "      <td>Offer D</td>\n",
       "      <td>Yes</td>\n",
       "      <td>29.92</td>\n",
       "      <td>No</td>\n",
       "      <td>Yes</td>\n",
       "      <td>Fiber Optic</td>\n",
       "      <td>21</td>\n",
       "      <td>Yes</td>\n",
       "      <td>No</td>\n",
       "      <td>No</td>\n",
       "      <td>No</td>\n",
       "      <td>No</td>\n",
       "      <td>Yes</td>\n",
       "      <td>Yes</td>\n",
       "      <td>Yes</td>\n",
       "      <td>Month-to-Month</td>\n",
       "      <td>No</td>\n",
       "      <td>Bank Withdrawal</td>\n",
       "      <td>84.05</td>\n",
       "      <td>1095.30</td>\n",
       "      <td>23.97</td>\n",
       "      <td>0</td>\n",
       "      <td>388.96</td>\n",
       "      <td>1460.29</td>\n",
       "      <td>1</td>\n",
       "      <td>Churned</td>\n",
       "      <td>Yes</td>\n",
       "      <td>77</td>\n",
       "      <td>4745</td>\n",
       "      <td>Competitor</td>\n",
       "      <td>Competitor offered higher download speeds</td>\n",
       "    </tr>\n",
       "    <tr>\n",
       "      <th>2398</th>\n",
       "      <td>0940-OUQEC</td>\n",
       "      <td>Male</td>\n",
       "      <td>54</td>\n",
       "      <td>No</td>\n",
       "      <td>No</td>\n",
       "      <td>No</td>\n",
       "      <td>No</td>\n",
       "      <td>0</td>\n",
       "      <td>United States</td>\n",
       "      <td>California</td>\n",
       "      <td>Winters</td>\n",
       "      <td>95694</td>\n",
       "      <td>38.578604</td>\n",
       "      <td>-122.024579</td>\n",
       "      <td>8406</td>\n",
       "      <td>Q3</td>\n",
       "      <td>No</td>\n",
       "      <td>0</td>\n",
       "      <td>10</td>\n",
       "      <td>Offer D</td>\n",
       "      <td>Yes</td>\n",
       "      <td>17.07</td>\n",
       "      <td>Yes</td>\n",
       "      <td>Yes</td>\n",
       "      <td>Fiber Optic</td>\n",
       "      <td>3</td>\n",
       "      <td>No</td>\n",
       "      <td>Yes</td>\n",
       "      <td>No</td>\n",
       "      <td>No</td>\n",
       "      <td>No</td>\n",
       "      <td>No</td>\n",
       "      <td>No</td>\n",
       "      <td>No</td>\n",
       "      <td>Month-to-Month</td>\n",
       "      <td>Yes</td>\n",
       "      <td>Bank Withdrawal</td>\n",
       "      <td>80.70</td>\n",
       "      <td>788.80</td>\n",
       "      <td>38.42</td>\n",
       "      <td>50</td>\n",
       "      <td>170.70</td>\n",
       "      <td>971.08</td>\n",
       "      <td>1</td>\n",
       "      <td>Churned</td>\n",
       "      <td>Yes</td>\n",
       "      <td>77</td>\n",
       "      <td>3492</td>\n",
       "      <td>Competitor</td>\n",
       "      <td>Competitor offered more data</td>\n",
       "    </tr>\n",
       "    <tr>\n",
       "      <th>2399</th>\n",
       "      <td>0702-PGIBZ</td>\n",
       "      <td>Male</td>\n",
       "      <td>28</td>\n",
       "      <td>Yes</td>\n",
       "      <td>No</td>\n",
       "      <td>No</td>\n",
       "      <td>No</td>\n",
       "      <td>0</td>\n",
       "      <td>United States</td>\n",
       "      <td>California</td>\n",
       "      <td>Dutch Flat</td>\n",
       "      <td>95714</td>\n",
       "      <td>39.197215</td>\n",
       "      <td>-120.836790</td>\n",
       "      <td>350</td>\n",
       "      <td>Q3</td>\n",
       "      <td>No</td>\n",
       "      <td>0</td>\n",
       "      <td>4</td>\n",
       "      <td>Offer E</td>\n",
       "      <td>Yes</td>\n",
       "      <td>26.16</td>\n",
       "      <td>Yes</td>\n",
       "      <td>Yes</td>\n",
       "      <td>Fiber Optic</td>\n",
       "      <td>85</td>\n",
       "      <td>No</td>\n",
       "      <td>Yes</td>\n",
       "      <td>No</td>\n",
       "      <td>No</td>\n",
       "      <td>Yes</td>\n",
       "      <td>Yes</td>\n",
       "      <td>Yes</td>\n",
       "      <td>Yes</td>\n",
       "      <td>Month-to-Month</td>\n",
       "      <td>Yes</td>\n",
       "      <td>Bank Withdrawal</td>\n",
       "      <td>101.70</td>\n",
       "      <td>364.55</td>\n",
       "      <td>1.48</td>\n",
       "      <td>0</td>\n",
       "      <td>104.64</td>\n",
       "      <td>467.71</td>\n",
       "      <td>2</td>\n",
       "      <td>Churned</td>\n",
       "      <td>Yes</td>\n",
       "      <td>91</td>\n",
       "      <td>2777</td>\n",
       "      <td>Competitor</td>\n",
       "      <td>Competitor made better offer</td>\n",
       "    </tr>\n",
       "    <tr>\n",
       "      <th>2401</th>\n",
       "      <td>3058-HJCUY</td>\n",
       "      <td>Male</td>\n",
       "      <td>36</td>\n",
       "      <td>No</td>\n",
       "      <td>No</td>\n",
       "      <td>Yes</td>\n",
       "      <td>No</td>\n",
       "      <td>0</td>\n",
       "      <td>United States</td>\n",
       "      <td>California</td>\n",
       "      <td>Rancho Cordova</td>\n",
       "      <td>95742</td>\n",
       "      <td>38.591134</td>\n",
       "      <td>-121.161585</td>\n",
       "      <td>299</td>\n",
       "      <td>Q3</td>\n",
       "      <td>Yes</td>\n",
       "      <td>1</td>\n",
       "      <td>41</td>\n",
       "      <td>Offer B</td>\n",
       "      <td>Yes</td>\n",
       "      <td>45.03</td>\n",
       "      <td>Yes</td>\n",
       "      <td>Yes</td>\n",
       "      <td>Fiber Optic</td>\n",
       "      <td>10</td>\n",
       "      <td>No</td>\n",
       "      <td>No</td>\n",
       "      <td>Yes</td>\n",
       "      <td>Yes</td>\n",
       "      <td>Yes</td>\n",
       "      <td>Yes</td>\n",
       "      <td>Yes</td>\n",
       "      <td>Yes</td>\n",
       "      <td>One Year</td>\n",
       "      <td>Yes</td>\n",
       "      <td>Bank Withdrawal</td>\n",
       "      <td>102.60</td>\n",
       "      <td>4213.35</td>\n",
       "      <td>2.93</td>\n",
       "      <td>0</td>\n",
       "      <td>1846.23</td>\n",
       "      <td>6056.65</td>\n",
       "      <td>1</td>\n",
       "      <td>Churned</td>\n",
       "      <td>Yes</td>\n",
       "      <td>84</td>\n",
       "      <td>2098</td>\n",
       "      <td>Competitor</td>\n",
       "      <td>Competitor had better devices</td>\n",
       "    </tr>\n",
       "  </tbody>\n",
       "</table>\n",
       "<p>107 rows × 50 columns</p>\n",
       "</div>"
      ],
      "text/plain": [
       "     Customer ID  Gender  Age Under 30 Senior Citizen Married Dependents  \\\n",
       "2     1658-BYGOY    Male   71       No            Yes      No        Yes   \n",
       "3     4598-XLKNJ  Female   78       No            Yes     Yes        Yes   \n",
       "7     3445-HXXGF    Male   66       No            Yes     Yes         No   \n",
       "9     2070-FNEXE  Female   77       No            Yes      No        Yes   \n",
       "111   7156-MHUGY    Male   68       No            Yes      No         No   \n",
       "...          ...     ...  ...      ...            ...     ...        ...   \n",
       "2394  2869-ADAWR  Female   41       No             No      No         No   \n",
       "2397  0637-UBJRP    Male   40       No             No     Yes         No   \n",
       "2398  0940-OUQEC    Male   54       No             No      No         No   \n",
       "2399  0702-PGIBZ    Male   28      Yes             No      No         No   \n",
       "2401  3058-HJCUY    Male   36       No             No     Yes         No   \n",
       "\n",
       "      Number of Dependents        Country       State            City  \\\n",
       "2                        3  United States  California     Los Angeles   \n",
       "3                        1  United States  California       Inglewood   \n",
       "7                        0  United States  California    Sierra Madre   \n",
       "9                        2  United States  California        Pasadena   \n",
       "111                      0  United States  California      Buena Park   \n",
       "...                    ...            ...         ...             ...   \n",
       "2394                     0  United States  California    Sutter Creek   \n",
       "2397                     0  United States  California          Wilton   \n",
       "2398                     0  United States  California         Winters   \n",
       "2399                     0  United States  California      Dutch Flat   \n",
       "2401                     0  United States  California  Rancho Cordova   \n",
       "\n",
       "      Zip Code   Latitude   Longitude  Population Quarter Referred a Friend  \\\n",
       "2        90065  34.108833 -118.229715       47534      Q3                No   \n",
       "3        90303  33.936291 -118.332639       27778      Q3               Yes   \n",
       "7        91024  34.168686 -118.057505       10558      Q3               Yes   \n",
       "9        91107  34.159007 -118.087353       32369      Q3                No   \n",
       "111      90621  33.874224 -117.993368       33528      Q3                No   \n",
       "...        ...        ...         ...         ...     ...               ...   \n",
       "2394     95685  38.432145 -120.770690        4610      Q3                No   \n",
       "2397     95693  38.392559 -121.225093        5889      Q3               Yes   \n",
       "2398     95694  38.578604 -122.024579        8406      Q3                No   \n",
       "2399     95714  39.197215 -120.836790         350      Q3                No   \n",
       "2401     95742  38.591134 -121.161585         299      Q3               Yes   \n",
       "\n",
       "      Number of Referrals  Tenure in Months    Offer Phone Service  \\\n",
       "2                       0                18  Offer D           Yes   \n",
       "3                       1                25  Offer C           Yes   \n",
       "7                       6                58  Offer B            No   \n",
       "9                       0                 7  Offer E           Yes   \n",
       "111                     0                13     None           Yes   \n",
       "...                   ...               ...      ...           ...   \n",
       "2394                    0                45  Offer B           Yes   \n",
       "2397                    5                13  Offer D           Yes   \n",
       "2398                    0                10  Offer D           Yes   \n",
       "2399                    0                 4  Offer E           Yes   \n",
       "2401                    1                41  Offer B           Yes   \n",
       "\n",
       "      Avg Monthly Long Distance Charges Multiple Lines Internet Service  \\\n",
       "2                                 11.33            Yes              Yes   \n",
       "3                                 19.76             No              Yes   \n",
       "7                                  0.00             No              Yes   \n",
       "9                                 26.95             No              Yes   \n",
       "111                               26.11             No              Yes   \n",
       "...                                 ...            ...              ...   \n",
       "2394                              14.12            Yes              Yes   \n",
       "2397                              29.92             No              Yes   \n",
       "2398                              17.07            Yes              Yes   \n",
       "2399                              26.16            Yes              Yes   \n",
       "2401                              45.03            Yes              Yes   \n",
       "\n",
       "     Internet Type  Avg Monthly GB Download Online Security Online Backup  \\\n",
       "2      Fiber Optic                       52              No            No   \n",
       "3      Fiber Optic                       12              No           Yes   \n",
       "7              DSL                       24              No           Yes   \n",
       "9      Fiber Optic                       18             Yes            No   \n",
       "111    Fiber Optic                        4              No            No   \n",
       "...            ...                      ...             ...           ...   \n",
       "2394   Fiber Optic                       24              No           Yes   \n",
       "2397   Fiber Optic                       21             Yes            No   \n",
       "2398   Fiber Optic                        3              No           Yes   \n",
       "2399   Fiber Optic                       85              No           Yes   \n",
       "2401   Fiber Optic                       10              No            No   \n",
       "\n",
       "     Device Protection Plan Premium Tech Support Streaming TV  \\\n",
       "2                        No                   No          Yes   \n",
       "3                       Yes                   No          Yes   \n",
       "7                       Yes                   No           No   \n",
       "9                        No                   No           No   \n",
       "111                      No                   No          Yes   \n",
       "...                     ...                  ...          ...   \n",
       "2394                     No                   No          Yes   \n",
       "2397                     No                   No           No   \n",
       "2398                     No                   No           No   \n",
       "2399                     No                   No          Yes   \n",
       "2401                    Yes                  Yes          Yes   \n",
       "\n",
       "     Streaming Movies Streaming Music Unlimited Data        Contract  \\\n",
       "2                 Yes             Yes            Yes  Month-to-Month   \n",
       "3                 Yes              No            Yes  Month-to-Month   \n",
       "7                 Yes              No            Yes  Month-to-Month   \n",
       "9                  No              No             No  Month-to-Month   \n",
       "111               Yes             Yes             No  Month-to-Month   \n",
       "...               ...             ...            ...             ...   \n",
       "2394               No              No            Yes  Month-to-Month   \n",
       "2397              Yes             Yes            Yes  Month-to-Month   \n",
       "2398               No              No             No  Month-to-Month   \n",
       "2399              Yes             Yes            Yes  Month-to-Month   \n",
       "2401              Yes             Yes            Yes        One Year   \n",
       "\n",
       "     Paperless Billing   Payment Method  Monthly Charge  Total Charges  \\\n",
       "2                  Yes  Bank Withdrawal           95.45        1752.55   \n",
       "3                  Yes  Bank Withdrawal           98.50        2514.50   \n",
       "7                  Yes  Bank Withdrawal           45.30        2651.20   \n",
       "9                   No  Bank Withdrawal           76.45         503.60   \n",
       "111                Yes  Bank Withdrawal           90.50        1201.15   \n",
       "...                ...              ...             ...            ...   \n",
       "2394               Yes      Credit Card           89.30        4016.85   \n",
       "2397                No  Bank Withdrawal           84.05        1095.30   \n",
       "2398               Yes  Bank Withdrawal           80.70         788.80   \n",
       "2399               Yes  Bank Withdrawal          101.70         364.55   \n",
       "2401               Yes  Bank Withdrawal          102.60        4213.35   \n",
       "\n",
       "      Total Refunds  Total Extra Data Charges  Total Long Distance Charges  \\\n",
       "2             45.61                         0                       203.94   \n",
       "3             13.43                         0                       494.00   \n",
       "7             40.95                         0                         0.00   \n",
       "9             11.05                         0                       188.65   \n",
       "111           29.84                       140                       339.43   \n",
       "...             ...                       ...                          ...   \n",
       "2394          44.63                         0                       635.40   \n",
       "2397          23.97                         0                       388.96   \n",
       "2398          38.42                        50                       170.70   \n",
       "2399           1.48                         0                       104.64   \n",
       "2401           2.93                         0                      1846.23   \n",
       "\n",
       "      Total Revenue  Satisfaction Score Customer Status Churn Label  \\\n",
       "2           1910.88                   2         Churned         Yes   \n",
       "3           2995.07                   2         Churned         Yes   \n",
       "7           2610.25                   1         Churned         Yes   \n",
       "9            681.20                   2         Churned         Yes   \n",
       "111         1650.74                   1         Churned         Yes   \n",
       "...             ...                 ...             ...         ...   \n",
       "2394        4607.62                   2         Churned         Yes   \n",
       "2397        1460.29                   1         Churned         Yes   \n",
       "2398         971.08                   1         Churned         Yes   \n",
       "2399         467.71                   2         Churned         Yes   \n",
       "2401        6056.65                   1         Churned         Yes   \n",
       "\n",
       "      Churn Score  CLTV   Churn Category  \\\n",
       "2              81  3179       Competitor   \n",
       "3              88  5337  Dissatisfaction   \n",
       "7              91  5444  Dissatisfaction   \n",
       "9              81  4419            Price   \n",
       "111            76  5394       Competitor   \n",
       "...           ...   ...              ...   \n",
       "2394           90  4880  Dissatisfaction   \n",
       "2397           77  4745       Competitor   \n",
       "2398           77  3492       Competitor   \n",
       "2399           91  2777       Competitor   \n",
       "2401           84  2098       Competitor   \n",
       "\n",
       "                                   Churn Reason  \n",
       "2                  Competitor made better offer  \n",
       "3                     Limited range of services  \n",
       "7                       Service dissatisfaction  \n",
       "9      Lack of affordable download/upload speed  \n",
       "111               Competitor had better devices  \n",
       "...                                         ...  \n",
       "2394           Poor expertise of online support  \n",
       "2397  Competitor offered higher download speeds  \n",
       "2398               Competitor offered more data  \n",
       "2399               Competitor made better offer  \n",
       "2401              Competitor had better devices  \n",
       "\n",
       "[107 rows x 50 columns]"
      ]
     },
     "execution_count": 28,
     "metadata": {},
     "output_type": "execute_result"
    }
   ],
   "source": [
    "data[(data[\"Total Refunds\"]!=0) & (data[\"Churn Label\"]==\"Yes\")] ## Ver cuan relacionado esta que haya reembolsos con el churn"
   ]
  },
  {
   "cell_type": "code",
   "execution_count": 29,
   "id": "eb30d303",
   "metadata": {},
   "outputs": [
    {
     "data": {
      "text/html": [
       "<div>\n",
       "<style scoped>\n",
       "    .dataframe tbody tr th:only-of-type {\n",
       "        vertical-align: middle;\n",
       "    }\n",
       "\n",
       "    .dataframe tbody tr th {\n",
       "        vertical-align: top;\n",
       "    }\n",
       "\n",
       "    .dataframe thead th {\n",
       "        text-align: right;\n",
       "    }\n",
       "</style>\n",
       "<table border=\"1\" class=\"dataframe\">\n",
       "  <thead>\n",
       "    <tr style=\"text-align: right;\">\n",
       "      <th></th>\n",
       "      <th>Total Extra Data Charges</th>\n",
       "      <th>Count</th>\n",
       "    </tr>\n",
       "  </thead>\n",
       "  <tbody>\n",
       "    <tr>\n",
       "      <th>0</th>\n",
       "      <td>0</td>\n",
       "      <td>6315</td>\n",
       "    </tr>\n",
       "    <tr>\n",
       "      <th>1</th>\n",
       "      <td>10</td>\n",
       "      <td>138</td>\n",
       "    </tr>\n",
       "    <tr>\n",
       "      <th>2</th>\n",
       "      <td>40</td>\n",
       "      <td>62</td>\n",
       "    </tr>\n",
       "    <tr>\n",
       "      <th>3</th>\n",
       "      <td>30</td>\n",
       "      <td>58</td>\n",
       "    </tr>\n",
       "    <tr>\n",
       "      <th>4</th>\n",
       "      <td>20</td>\n",
       "      <td>51</td>\n",
       "    </tr>\n",
       "    <tr>\n",
       "      <th>5</th>\n",
       "      <td>80</td>\n",
       "      <td>47</td>\n",
       "    </tr>\n",
       "    <tr>\n",
       "      <th>6</th>\n",
       "      <td>100</td>\n",
       "      <td>44</td>\n",
       "    </tr>\n",
       "    <tr>\n",
       "      <th>7</th>\n",
       "      <td>50</td>\n",
       "      <td>43</td>\n",
       "    </tr>\n",
       "    <tr>\n",
       "      <th>8</th>\n",
       "      <td>150</td>\n",
       "      <td>42</td>\n",
       "    </tr>\n",
       "    <tr>\n",
       "      <th>9</th>\n",
       "      <td>130</td>\n",
       "      <td>40</td>\n",
       "    </tr>\n",
       "    <tr>\n",
       "      <th>10</th>\n",
       "      <td>140</td>\n",
       "      <td>38</td>\n",
       "    </tr>\n",
       "    <tr>\n",
       "      <th>11</th>\n",
       "      <td>60</td>\n",
       "      <td>36</td>\n",
       "    </tr>\n",
       "    <tr>\n",
       "      <th>12</th>\n",
       "      <td>90</td>\n",
       "      <td>35</td>\n",
       "    </tr>\n",
       "    <tr>\n",
       "      <th>13</th>\n",
       "      <td>70</td>\n",
       "      <td>34</td>\n",
       "    </tr>\n",
       "    <tr>\n",
       "      <th>14</th>\n",
       "      <td>110</td>\n",
       "      <td>32</td>\n",
       "    </tr>\n",
       "    <tr>\n",
       "      <th>15</th>\n",
       "      <td>120</td>\n",
       "      <td>28</td>\n",
       "    </tr>\n",
       "  </tbody>\n",
       "</table>\n",
       "</div>"
      ],
      "text/plain": [
       "    Total Extra Data Charges  Count\n",
       "0                          0   6315\n",
       "1                         10    138\n",
       "2                         40     62\n",
       "3                         30     58\n",
       "4                         20     51\n",
       "5                         80     47\n",
       "6                        100     44\n",
       "7                         50     43\n",
       "8                        150     42\n",
       "9                        130     40\n",
       "10                       140     38\n",
       "11                        60     36\n",
       "12                        90     35\n",
       "13                        70     34\n",
       "14                       110     32\n",
       "15                       120     28"
      ]
     },
     "execution_count": 29,
     "metadata": {},
     "output_type": "execute_result"
    }
   ],
   "source": [
    "value_counts = data[\"Total Extra Data Charges\"].value_counts()\n",
    "\n",
    "# Convierte el resultado de value_counts a un DataFrame para facilitar la visualización\n",
    "df = value_counts.reset_index()\n",
    "df.columns = ['Total Extra Data Charges', 'Count']\n",
    "df"
   ]
  },
  {
   "cell_type": "markdown",
   "id": "bcd79cb8-0e60-497a-aa69-8dae12e5f553",
   "metadata": {},
   "source": [
    "#### Estudio breve "
   ]
  },
  {
   "cell_type": "code",
   "execution_count": 30,
   "id": "8467d4e4",
   "metadata": {},
   "outputs": [
    {
     "data": {
      "image/png": "[encoded data removed]",
      "text/plain": [
       "<Figure size 1500x600 with 1 Axes>"
      ]
     },
     "metadata": {},
     "output_type": "display_data"
    }
   ],
   "source": [
    "plt.figure(figsize=(15, 6))  # Ajusta el valor 15 para hacerla aún más ancha si lo necesitas\n",
    "plt.bar(df['Total Extra Data Charges'], df['Count'], color='skyblue')\n",
    "plt.xlabel('Total Extra Data Charges')\n",
    "plt.ylabel('Count')\n",
    "plt.title('Distribution of Total Extra Data Charges')\n",
    "plt.xticks(rotation=45)\n",
    "plt.grid(axis='y', linestyle='--', alpha=0.7)\n",
    "plt.show()\n"
   ]
  },
  {
   "cell_type": "code",
   "execution_count": 31,
   "id": "ea5c697f-2fa8-4be6-9bc6-0c4813f03f8d",
   "metadata": {},
   "outputs": [
    {
     "data": {
      "image/png": "[encoded data removed]",
      "text/plain": [
       "<Figure size 640x480 with 1 Axes>"
      ]
     },
     "metadata": {},
     "output_type": "display_data"
    }
   ],
   "source": [
    "sns.histplot(data[\"Total Extra Data Charges\"], bins=140)\n",
    "plt.show()"
   ]
  },
  {
   "cell_type": "code",
   "execution_count": 32,
   "id": "fe01c459-9cb6-42a0-a79a-8303180a97d0",
   "metadata": {},
   "outputs": [
    {
     "data": {
      "image/png": "[encoded data removed]",
      "text/plain": [
       "<Figure size 640x480 with 1 Axes>"
      ]
     },
     "metadata": {},
     "output_type": "display_data"
    }
   ],
   "source": [
    "sns.histplot(data['Total Charges'])\n",
    "plt.show()"
   ]
  },
  {
   "cell_type": "code",
   "execution_count": 33,
   "id": "df06ab30-a8ed-426a-b899-1ab84068a8aa",
   "metadata": {},
   "outputs": [
    {
     "data": {
      "image/png": "[encoded data removed]",
      "text/plain": [
       "<Figure size 640x480 with 1 Axes>"
      ]
     },
     "metadata": {},
     "output_type": "display_data"
    }
   ],
   "source": [
    "sns.histplot(data['Total Revenue'])\n",
    "plt.show()"
   ]
  },
  {
   "cell_type": "code",
   "execution_count": 34,
   "id": "7f8d50cb",
   "metadata": {},
   "outputs": [
    {
     "data": {
      "text/plain": [
       "No     3821\n",
       "Yes    3222\n",
       "Name: Referred a Friend, dtype: int64"
      ]
     },
     "execution_count": 34,
     "metadata": {},
     "output_type": "execute_result"
    }
   ],
   "source": [
    "data[\"Referred a Friend\"].value_counts()"
   ]
  },
  {
   "cell_type": "code",
   "execution_count": 35,
   "id": "6a1dd86a-7435-4e6a-9c77-cfcb3f6bd03e",
   "metadata": {},
   "outputs": [
    {
     "data": {
      "image/png": "[encoded data removed]",
      "text/plain": [
       "<Figure size 640x480 with 1 Axes>"
      ]
     },
     "metadata": {},
     "output_type": "display_data"
    }
   ],
   "source": [
    "sns.histplot(data['Satisfaction Score'],bins = 5) ## por lo general es una satisfaccion alta\n",
    "plt.show()"
   ]
  },
  {
   "cell_type": "code",
   "execution_count": 36,
   "id": "549d5efd",
   "metadata": {},
   "outputs": [
    {
     "data": {
      "text/plain": [
       "No     4999\n",
       "Yes    2044\n",
       "Name: Premium Tech Support, dtype: int64"
      ]
     },
     "execution_count": 36,
     "metadata": {},
     "output_type": "execute_result"
    }
   ],
   "source": [
    "data[\"Premium Tech Support\"].value_counts()"
   ]
  },
  {
   "cell_type": "code",
   "execution_count": 37,
   "id": "b4d6d1b2",
   "metadata": {},
   "outputs": [
    {
     "name": "stdout",
     "output_type": "stream",
     "text": [
      "Churn Label             No   Yes\n",
      "Premium Tech Support            \n",
      "No                    3440  1559\n",
      "Yes                   1734   310\n"
     ]
    }
   ],
   "source": [
    "contingency_table = pd.crosstab(data['Premium Tech Support'], data['Churn Label'])\n",
    "print(contingency_table)"
   ]
  },
  {
   "cell_type": "code",
   "execution_count": 38,
   "id": "3ce2ab2b",
   "metadata": {},
   "outputs": [
    {
     "data": {
      "text/plain": [
       "United States    7043\n",
       "Name: Country, dtype: int64"
      ]
     },
     "execution_count": 38,
     "metadata": {},
     "output_type": "execute_result"
    }
   ],
   "source": [
    "data['Country'].value_counts()"
   ]
  },
  {
   "cell_type": "code",
   "execution_count": 39,
   "id": "82fa6156",
   "metadata": {},
   "outputs": [],
   "source": [
    "columns_to_analyze = [\n",
    "    'Offer', \n",
    "    'Phone Service', \n",
    "    'Avg Monthly Long Distance Charges', \n",
    "    'Multiple Lines', \n",
    "    'Internet Service', \n",
    "    'Avg Monthly GB Download', \n",
    "    'Online Security'\n",
    "]"
   ]
  },
  {
   "cell_type": "code",
   "execution_count": 40,
   "id": "0fc345f4",
   "metadata": {},
   "outputs": [],
   "source": [
    "filtered_data = data[columns_to_analyze]"
   ]
  },
  {
   "cell_type": "code",
   "execution_count": 41,
   "id": "dbf4b0f3",
   "metadata": {},
   "outputs": [
    {
     "data": {
      "text/html": [
       "<div>\n",
       "<style scoped>\n",
       "    .dataframe tbody tr th:only-of-type {\n",
       "        vertical-align: middle;\n",
       "    }\n",
       "\n",
       "    .dataframe tbody tr th {\n",
       "        vertical-align: top;\n",
       "    }\n",
       "\n",
       "    .dataframe thead th {\n",
       "        text-align: right;\n",
       "    }\n",
       "</style>\n",
       "<table border=\"1\" class=\"dataframe\">\n",
       "  <thead>\n",
       "    <tr style=\"text-align: right;\">\n",
       "      <th></th>\n",
       "      <th>Offer</th>\n",
       "      <th>Phone Service</th>\n",
       "      <th>Avg Monthly Long Distance Charges</th>\n",
       "      <th>Multiple Lines</th>\n",
       "      <th>Internet Service</th>\n",
       "      <th>Avg Monthly GB Download</th>\n",
       "      <th>Online Security</th>\n",
       "    </tr>\n",
       "  </thead>\n",
       "  <tbody>\n",
       "    <tr>\n",
       "      <th>count</th>\n",
       "      <td>7043</td>\n",
       "      <td>7043</td>\n",
       "      <td>7043.000000</td>\n",
       "      <td>7043</td>\n",
       "      <td>7043</td>\n",
       "      <td>7043.000000</td>\n",
       "      <td>7043</td>\n",
       "    </tr>\n",
       "    <tr>\n",
       "      <th>unique</th>\n",
       "      <td>6</td>\n",
       "      <td>2</td>\n",
       "      <td>NaN</td>\n",
       "      <td>2</td>\n",
       "      <td>2</td>\n",
       "      <td>NaN</td>\n",
       "      <td>2</td>\n",
       "    </tr>\n",
       "    <tr>\n",
       "      <th>top</th>\n",
       "      <td>None</td>\n",
       "      <td>Yes</td>\n",
       "      <td>NaN</td>\n",
       "      <td>No</td>\n",
       "      <td>Yes</td>\n",
       "      <td>NaN</td>\n",
       "      <td>No</td>\n",
       "    </tr>\n",
       "    <tr>\n",
       "      <th>freq</th>\n",
       "      <td>3877</td>\n",
       "      <td>6361</td>\n",
       "      <td>NaN</td>\n",
       "      <td>4072</td>\n",
       "      <td>5517</td>\n",
       "      <td>NaN</td>\n",
       "      <td>5024</td>\n",
       "    </tr>\n",
       "    <tr>\n",
       "      <th>mean</th>\n",
       "      <td>NaN</td>\n",
       "      <td>NaN</td>\n",
       "      <td>22.958954</td>\n",
       "      <td>NaN</td>\n",
       "      <td>NaN</td>\n",
       "      <td>20.515405</td>\n",
       "      <td>NaN</td>\n",
       "    </tr>\n",
       "    <tr>\n",
       "      <th>std</th>\n",
       "      <td>NaN</td>\n",
       "      <td>NaN</td>\n",
       "      <td>15.448113</td>\n",
       "      <td>NaN</td>\n",
       "      <td>NaN</td>\n",
       "      <td>20.418940</td>\n",
       "      <td>NaN</td>\n",
       "    </tr>\n",
       "    <tr>\n",
       "      <th>min</th>\n",
       "      <td>NaN</td>\n",
       "      <td>NaN</td>\n",
       "      <td>0.000000</td>\n",
       "      <td>NaN</td>\n",
       "      <td>NaN</td>\n",
       "      <td>0.000000</td>\n",
       "      <td>NaN</td>\n",
       "    </tr>\n",
       "    <tr>\n",
       "      <th>25%</th>\n",
       "      <td>NaN</td>\n",
       "      <td>NaN</td>\n",
       "      <td>9.210000</td>\n",
       "      <td>NaN</td>\n",
       "      <td>NaN</td>\n",
       "      <td>3.000000</td>\n",
       "      <td>NaN</td>\n",
       "    </tr>\n",
       "    <tr>\n",
       "      <th>50%</th>\n",
       "      <td>NaN</td>\n",
       "      <td>NaN</td>\n",
       "      <td>22.890000</td>\n",
       "      <td>NaN</td>\n",
       "      <td>NaN</td>\n",
       "      <td>17.000000</td>\n",
       "      <td>NaN</td>\n",
       "    </tr>\n",
       "    <tr>\n",
       "      <th>75%</th>\n",
       "      <td>NaN</td>\n",
       "      <td>NaN</td>\n",
       "      <td>36.395000</td>\n",
       "      <td>NaN</td>\n",
       "      <td>NaN</td>\n",
       "      <td>27.000000</td>\n",
       "      <td>NaN</td>\n",
       "    </tr>\n",
       "    <tr>\n",
       "      <th>max</th>\n",
       "      <td>NaN</td>\n",
       "      <td>NaN</td>\n",
       "      <td>49.990000</td>\n",
       "      <td>NaN</td>\n",
       "      <td>NaN</td>\n",
       "      <td>85.000000</td>\n",
       "      <td>NaN</td>\n",
       "    </tr>\n",
       "  </tbody>\n",
       "</table>\n",
       "</div>"
      ],
      "text/plain": [
       "       Offer Phone Service  Avg Monthly Long Distance Charges Multiple Lines  \\\n",
       "count   7043          7043                        7043.000000           7043   \n",
       "unique     6             2                                NaN              2   \n",
       "top     None           Yes                                NaN             No   \n",
       "freq    3877          6361                                NaN           4072   \n",
       "mean     NaN           NaN                          22.958954            NaN   \n",
       "std      NaN           NaN                          15.448113            NaN   \n",
       "min      NaN           NaN                           0.000000            NaN   \n",
       "25%      NaN           NaN                           9.210000            NaN   \n",
       "50%      NaN           NaN                          22.890000            NaN   \n",
       "75%      NaN           NaN                          36.395000            NaN   \n",
       "max      NaN           NaN                          49.990000            NaN   \n",
       "\n",
       "       Internet Service  Avg Monthly GB Download Online Security  \n",
       "count              7043              7043.000000            7043  \n",
       "unique                2                      NaN               2  \n",
       "top                 Yes                      NaN              No  \n",
       "freq               5517                      NaN            5024  \n",
       "mean                NaN                20.515405             NaN  \n",
       "std                 NaN                20.418940             NaN  \n",
       "min                 NaN                 0.000000             NaN  \n",
       "25%                 NaN                 3.000000             NaN  \n",
       "50%                 NaN                17.000000             NaN  \n",
       "75%                 NaN                27.000000             NaN  \n",
       "max                 NaN                85.000000             NaN  "
      ]
     },
     "execution_count": 41,
     "metadata": {},
     "output_type": "execute_result"
    }
   ],
   "source": [
    "filtered_data_summary = filtered_data.describe(include='all')\n",
    "\n",
    "filtered_data_summary"
   ]
  },
  {
   "cell_type": "code",
   "execution_count": 42,
   "id": "928ee918",
   "metadata": {},
   "outputs": [
    {
     "data": {
      "image/png": "[encoded data removed]",
      "text/plain": [
       "<Figure size 1400x1200 with 4 Axes>"
      ]
     },
     "metadata": {},
     "output_type": "display_data"
    }
   ],
   "source": [
    "sns.set(style=\"whitegrid\")\n",
    "fig, axes = plt.subplots(2, 2, figsize=(14, 12))\n",
    "# 1. Gráfico de barras para Offer y Phone Service\n",
    "sns.countplot(ax=axes[0, 0], data=filtered_data, x='Offer', hue='Phone Service')\n",
    "axes[0, 0].set_title('Distribución de Ofertas según el Servicio de Teléfono')\n",
    "axes[0, 0].set_ylabel('Cantidad de clientes')\n",
    "axes[0, 0].set_xlabel('Oferta')\n",
    "\n",
    "# 2. Gráfico de violín para Internet Service y Avg Monthly GB Download\n",
    "sns.violinplot(ax=axes[0, 1], data=filtered_data, x='Internet Service', y='Avg Monthly GB Download')\n",
    "axes[0, 1].set_title('Relación entre Servicio de Internet y GB Descargados')\n",
    "axes[0, 1].set_ylabel('Promedio de GB descargados mensualmente')\n",
    "axes[0, 1].set_xlabel('Servicio de internet')\n",
    "\n",
    "# 3. Gráfico de dispersión para Avg Monthly Long Distance Charges y Multiple Lines\n",
    "sns.boxplot(ax=axes[1, 0], data=filtered_data, x='Multiple Lines', y='Avg Monthly Long Distance Charges')\n",
    "axes[1, 0].set_title('Distribución de cargos larga distancia por múltiples líneas')\n",
    "axes[1, 0].set_ylabel('Cargos mensuales por larga distancia')\n",
    "axes[1, 0].set_xlabel('Múltiples líneas')\n",
    "\n",
    "# 4. Gráfico de caja para Online Security y Avg Monthly GB Download\n",
    "sns.boxplot(ax=axes[1, 1], data=filtered_data, x='Online Security', y='Avg Monthly GB Download')\n",
    "axes[1, 1].set_title('Relación entre Seguridad en Línea y GB Descargados')\n",
    "axes[1, 1].set_ylabel('Promedio de GB descargados mensualmente')\n",
    "axes[1, 1].set_xlabel('Seguridad en línea')\n",
    "\n",
    "plt.tight_layout()\n",
    "plt.show()"
   ]
  },
  {
   "cell_type": "code",
   "execution_count": 43,
   "id": "9b3d8725",
   "metadata": {},
   "outputs": [],
   "source": [
    "# 1\n",
    "# Distribución de Ofertas según el Servicio de Teléfono: \n",
    "# La mayoría de los clientes no tienen ninguna oferta activa (\"None\")\n",
    "# para quienes tienen servicio de teléfono como para los que no lo tienen\n",
    "# los clientes con servicio de teléfono son más en todas las categorías de oferta\n",
    "# 2\n",
    "# Relación entre el Servicio de Internet y los GB Descargados: \n",
    "# Los clientes con servicio de internet muestran una amplia distribución en la cantidad de GB descargados por mes\n",
    "# la mediana está en 17 GB\n",
    "# los que no tienen servicio de internet muestran valores cercanos a 0 GB\n",
    "# 3\n",
    "# Distribución de Cargos de Larga Distancia por Múltiples Líneas: \n",
    "# Los clientes con múltiples líneas suelen tener cargos de larga distancia un poco más altos \n",
    "# comparando con los que no tienen múltiples líneas\n",
    "# los cargos están bien distribuidos en las categorías\n",
    "# 4\n",
    "# Relación entre Seguridad en Línea y GB Descargados: \n",
    "# Los clientes que no tienen seguridad en línea tienden a descargar más GB mensualmente en comparación con los que sí \n",
    "# los clientes que buscan mayor seguridad en línea no utilizan tanto la capacidad de internet"
   ]
  },
  {
   "cell_type": "markdown",
   "id": "bb01e7cc-d307-40a5-8b8d-1b45ff82b50f",
   "metadata": {},
   "source": [
    "#### Estudio de correlacion"
   ]
  },
  {
   "cell_type": "code",
   "execution_count": 44,
   "id": "50965aec-f091-477b-81f4-1b48cd2c4517",
   "metadata": {},
   "outputs": [],
   "source": [
    "numerical_columns = ['Age', 'Number of Dependents',\n",
    "       'Population', 'Number of Referrals', 'Tenure in Months',\n",
    "       'Avg Monthly Long Distance Charges', 'Avg Monthly GB Download',\n",
    "       'Monthly Charge', 'Total Charges', 'Total Refunds',\n",
    "       'Total Extra Data Charges', 'Total Long Distance Charges',\n",
    "       'Total Revenue', 'Satisfaction Score',\n",
    "       ]"
   ]
  },
  {
   "cell_type": "code",
   "execution_count": 45,
   "id": "b035ceb3-382d-4828-a5d1-84d02bdbbc03",
   "metadata": {
    "scrolled": true
   },
   "outputs": [
    {
     "data": {
      "text/plain": [
       "<AxesSubplot:>"
      ]
     },
     "execution_count": 45,
     "metadata": {},
     "output_type": "execute_result"
    },
    {
     "data": {
      "image/png": "[encoded data removed]",
      "text/plain": [
       "<Figure size 640x480 with 2 Axes>"
      ]
     },
     "metadata": {},
     "output_type": "display_data"
    }
   ],
   "source": [
    "#corr calcula coeficiente de correlacion de pearson, y solo toma las numericas\n",
    "sns.heatmap(data[numerical_columns].corr(), annot=True, fmt=\".2f\")"
   ]
  },
  {
   "cell_type": "markdown",
   "id": "772ee59c",
   "metadata": {},
   "source": [
    "# 5. Data Processing"
   ]
  },
  {
   "cell_type": "markdown",
   "id": "afbb6053-b9cc-4d26-b9b5-63890979c145",
   "metadata": {},
   "source": [
    "## Data Cleaning"
   ]
  },
  {
   "cell_type": "code",
   "execution_count": 46,
   "id": "0e74ff5d-7d62-4c2a-ab8c-70eaa58b435a",
   "metadata": {},
   "outputs": [
    {
     "name": "stdout",
     "output_type": "stream",
     "text": [
      "<class 'pandas.core.frame.DataFrame'>\n",
      "RangeIndex: 7043 entries, 0 to 7042\n",
      "Data columns (total 50 columns):\n",
      " #   Column                             Non-Null Count  Dtype  \n",
      "---  ------                             --------------  -----  \n",
      " 0   Customer ID                        7043 non-null   object \n",
      " 1   Gender                             7043 non-null   object \n",
      " 2   Age                                7043 non-null   int64  \n",
      " 3   Under 30                           7043 non-null   object \n",
      " 4   Senior Citizen                     7043 non-null   object \n",
      " 5   Married                            7043 non-null   object \n",
      " 6   Dependents                         7043 non-null   object \n",
      " 7   Number of Dependents               7043 non-null   int64  \n",
      " 8   Country                            7043 non-null   object \n",
      " 9   State                              7043 non-null   object \n",
      " 10  City                               7043 non-null   object \n",
      " 11  Zip Code                           7043 non-null   int64  \n",
      " 12  Latitude                           7043 non-null   float64\n",
      " 13  Longitude                          7043 non-null   float64\n",
      " 14  Population                         7043 non-null   int64  \n",
      " 15  Quarter                            7043 non-null   object \n",
      " 16  Referred a Friend                  7043 non-null   object \n",
      " 17  Number of Referrals                7043 non-null   int64  \n",
      " 18  Tenure in Months                   7043 non-null   int64  \n",
      " 19  Offer                              7043 non-null   object \n",
      " 20  Phone Service                      7043 non-null   object \n",
      " 21  Avg Monthly Long Distance Charges  7043 non-null   float64\n",
      " 22  Multiple Lines                     7043 non-null   object \n",
      " 23  Internet Service                   7043 non-null   object \n",
      " 24  Internet Type                      7043 non-null   object \n",
      " 25  Avg Monthly GB Download            7043 non-null   int64  \n",
      " 26  Online Security                    7043 non-null   object \n",
      " 27  Online Backup                      7043 non-null   object \n",
      " 28  Device Protection Plan             7043 non-null   object \n",
      " 29  Premium Tech Support               7043 non-null   object \n",
      " 30  Streaming TV                       7043 non-null   object \n",
      " 31  Streaming Movies                   7043 non-null   object \n",
      " 32  Streaming Music                    7043 non-null   object \n",
      " 33  Unlimited Data                     7043 non-null   object \n",
      " 34  Contract                           7043 non-null   object \n",
      " 35  Paperless Billing                  7043 non-null   object \n",
      " 36  Payment Method                     7043 non-null   object \n",
      " 37  Monthly Charge                     7043 non-null   float64\n",
      " 38  Total Charges                      7043 non-null   float64\n",
      " 39  Total Refunds                      7043 non-null   float64\n",
      " 40  Total Extra Data Charges           7043 non-null   int64  \n",
      " 41  Total Long Distance Charges        7043 non-null   float64\n",
      " 42  Total Revenue                      7043 non-null   float64\n",
      " 43  Satisfaction Score                 7043 non-null   int64  \n",
      " 44  Customer Status                    7043 non-null   object \n",
      " 45  Churn Label                        7043 non-null   object \n",
      " 46  Churn Score                        7043 non-null   int64  \n",
      " 47  CLTV                               7043 non-null   int64  \n",
      " 48  Churn Category                     1869 non-null   object \n",
      " 49  Churn Reason                       1869 non-null   object \n",
      "dtypes: float64(8), int64(11), object(31)\n",
      "memory usage: 2.7+ MB\n"
     ]
    }
   ],
   "source": [
    "# Your code here\n",
    "data.info()\n",
    "ColumnsDrop=[\"Customer ID\",\"Under 30\",\"Senior Citizen\",\"Country\",\"State\",\"City\",\"Latitude\",\"Longitude\",\"Quarter\",\"Churn Category\",\"Churn Score\",\"CLTV\",\"Churn Reason\",\"Customer Status\"]"
   ]
  },
  {
   "cell_type": "code",
   "execution_count": 47,
   "id": "b1aa8b1a",
   "metadata": {},
   "outputs": [],
   "source": [
    "data = data.drop(ColumnsDrop,axis=1)"
   ]
  },
  {
   "cell_type": "code",
   "execution_count": 48,
   "id": "7c61babb-db9b-4115-bc6a-ff6f690c10ac",
   "metadata": {},
   "outputs": [
    {
     "name": "stdout",
     "output_type": "stream",
     "text": [
      "<class 'pandas.core.frame.DataFrame'>\n",
      "RangeIndex: 7043 entries, 0 to 7042\n",
      "Data columns (total 36 columns):\n",
      " #   Column                             Non-Null Count  Dtype  \n",
      "---  ------                             --------------  -----  \n",
      " 0   Gender                             7043 non-null   object \n",
      " 1   Age                                7043 non-null   int64  \n",
      " 2   Married                            7043 non-null   object \n",
      " 3   Dependents                         7043 non-null   object \n",
      " 4   Number of Dependents               7043 non-null   int64  \n",
      " 5   Zip Code                           7043 non-null   int64  \n",
      " 6   Population                         7043 non-null   int64  \n",
      " 7   Referred a Friend                  7043 non-null   object \n",
      " 8   Number of Referrals                7043 non-null   int64  \n",
      " 9   Tenure in Months                   7043 non-null   int64  \n",
      " 10  Offer                              7043 non-null   object \n",
      " 11  Phone Service                      7043 non-null   object \n",
      " 12  Avg Monthly Long Distance Charges  7043 non-null   float64\n",
      " 13  Multiple Lines                     7043 non-null   object \n",
      " 14  Internet Service                   7043 non-null   object \n",
      " 15  Internet Type                      7043 non-null   object \n",
      " 16  Avg Monthly GB Download            7043 non-null   int64  \n",
      " 17  Online Security                    7043 non-null   object \n",
      " 18  Online Backup                      7043 non-null   object \n",
      " 19  Device Protection Plan             7043 non-null   object \n",
      " 20  Premium Tech Support               7043 non-null   object \n",
      " 21  Streaming TV                       7043 non-null   object \n",
      " 22  Streaming Movies                   7043 non-null   object \n",
      " 23  Streaming Music                    7043 non-null   object \n",
      " 24  Unlimited Data                     7043 non-null   object \n",
      " 25  Contract                           7043 non-null   object \n",
      " 26  Paperless Billing                  7043 non-null   object \n",
      " 27  Payment Method                     7043 non-null   object \n",
      " 28  Monthly Charge                     7043 non-null   float64\n",
      " 29  Total Charges                      7043 non-null   float64\n",
      " 30  Total Refunds                      7043 non-null   float64\n",
      " 31  Total Extra Data Charges           7043 non-null   int64  \n",
      " 32  Total Long Distance Charges        7043 non-null   float64\n",
      " 33  Total Revenue                      7043 non-null   float64\n",
      " 34  Satisfaction Score                 7043 non-null   int64  \n",
      " 35  Churn Label                        7043 non-null   object \n",
      "dtypes: float64(6), int64(9), object(21)\n",
      "memory usage: 1.9+ MB\n"
     ]
    }
   ],
   "source": [
    "data.info()"
   ]
  },
  {
   "cell_type": "code",
   "execution_count": 49,
   "id": "0c444413-fce5-40d8-924f-4c2dcdd1acba",
   "metadata": {},
   "outputs": [
    {
     "data": {
      "text/plain": [
       "Month-to-Month    3610\n",
       "Two Year          1883\n",
       "One Year          1550\n",
       "Name: Contract, dtype: int64"
      ]
     },
     "execution_count": 49,
     "metadata": {},
     "output_type": "execute_result"
    }
   ],
   "source": [
    "data[\"Contract\"].value_counts()"
   ]
  },
  {
   "cell_type": "code",
   "execution_count": 50,
   "id": "2dbb7995-8222-43bc-ba20-8f79090205a8",
   "metadata": {},
   "outputs": [
    {
     "data": {
      "text/plain": [
       "Fiber Optic    3035\n",
       "DSL            1652\n",
       "None           1526\n",
       "Cable           830\n",
       "Name: Internet Type, dtype: int64"
      ]
     },
     "execution_count": 50,
     "metadata": {},
     "output_type": "execute_result"
    }
   ],
   "source": [
    " ## Limpiar los datos Internet Type, offer\n",
    "data[\"Internet Type\"].value_counts()"
   ]
  },
  {
   "cell_type": "code",
   "execution_count": 51,
   "id": "6f45469b-330f-4955-a371-a809c1a40403",
   "metadata": {},
   "outputs": [
    {
     "data": {
      "text/plain": [
       "0"
      ]
     },
     "execution_count": 51,
     "metadata": {},
     "output_type": "execute_result"
    }
   ],
   "source": [
    "data[\"Internet Type\"].isnull().sum()"
   ]
  },
  {
   "cell_type": "code",
   "execution_count": 52,
   "id": "482292c6-d4e8-4ae8-adb9-eef722ff959a",
   "metadata": {},
   "outputs": [
    {
     "data": {
      "text/html": [
       "<div>\n",
       "<style scoped>\n",
       "    .dataframe tbody tr th:only-of-type {\n",
       "        vertical-align: middle;\n",
       "    }\n",
       "\n",
       "    .dataframe tbody tr th {\n",
       "        vertical-align: top;\n",
       "    }\n",
       "\n",
       "    .dataframe thead th {\n",
       "        text-align: right;\n",
       "    }\n",
       "</style>\n",
       "<table border=\"1\" class=\"dataframe\">\n",
       "  <thead>\n",
       "    <tr style=\"text-align: right;\">\n",
       "      <th></th>\n",
       "      <th>Gender</th>\n",
       "      <th>Age</th>\n",
       "      <th>Married</th>\n",
       "      <th>Dependents</th>\n",
       "      <th>Number of Dependents</th>\n",
       "      <th>Zip Code</th>\n",
       "      <th>Population</th>\n",
       "      <th>Referred a Friend</th>\n",
       "      <th>Number of Referrals</th>\n",
       "      <th>Tenure in Months</th>\n",
       "      <th>Offer</th>\n",
       "      <th>Phone Service</th>\n",
       "      <th>Avg Monthly Long Distance Charges</th>\n",
       "      <th>Multiple Lines</th>\n",
       "      <th>Internet Service</th>\n",
       "      <th>Internet Type</th>\n",
       "      <th>Avg Monthly GB Download</th>\n",
       "      <th>Online Security</th>\n",
       "      <th>Online Backup</th>\n",
       "      <th>Device Protection Plan</th>\n",
       "      <th>Premium Tech Support</th>\n",
       "      <th>Streaming TV</th>\n",
       "      <th>Streaming Movies</th>\n",
       "      <th>Streaming Music</th>\n",
       "      <th>Unlimited Data</th>\n",
       "      <th>Contract</th>\n",
       "      <th>Paperless Billing</th>\n",
       "      <th>Payment Method</th>\n",
       "      <th>Monthly Charge</th>\n",
       "      <th>Total Charges</th>\n",
       "      <th>Total Refunds</th>\n",
       "      <th>Total Extra Data Charges</th>\n",
       "      <th>Total Long Distance Charges</th>\n",
       "      <th>Total Revenue</th>\n",
       "      <th>Satisfaction Score</th>\n",
       "      <th>Churn Label</th>\n",
       "    </tr>\n",
       "  </thead>\n",
       "  <tbody>\n",
       "  </tbody>\n",
       "</table>\n",
       "</div>"
      ],
      "text/plain": [
       "Empty DataFrame\n",
       "Columns: [Gender, Age, Married, Dependents, Number of Dependents, Zip Code, Population, Referred a Friend, Number of Referrals, Tenure in Months, Offer, Phone Service, Avg Monthly Long Distance Charges, Multiple Lines, Internet Service, Internet Type, Avg Monthly GB Download, Online Security, Online Backup, Device Protection Plan, Premium Tech Support, Streaming TV, Streaming Movies, Streaming Music, Unlimited Data, Contract, Paperless Billing, Payment Method, Monthly Charge, Total Charges, Total Refunds, Total Extra Data Charges, Total Long Distance Charges, Total Revenue, Satisfaction Score, Churn Label]\n",
       "Index: []"
      ]
     },
     "execution_count": 52,
     "metadata": {},
     "output_type": "execute_result"
    }
   ],
   "source": [
    "data[(data[\"Internet Type\"].isnull())&((data[\"Internet Service\"]==0))]"
   ]
  },
  {
   "cell_type": "code",
   "execution_count": 53,
   "id": "f352a6d6-13d7-4a38-b82c-661bea5b74a2",
   "metadata": {},
   "outputs": [
    {
     "data": {
      "text/plain": [
       "0"
      ]
     },
     "execution_count": 53,
     "metadata": {},
     "output_type": "execute_result"
    }
   ],
   "source": [
    "data['Internet Type'] = data['Internet Type'].fillna(\"No Internet\")\n",
    "data[\"Internet Type\"].isnull().sum()"
   ]
  },
  {
   "cell_type": "code",
   "execution_count": 54,
   "id": "8038a0e1",
   "metadata": {},
   "outputs": [
    {
     "data": {
      "text/plain": [
       "None       3877\n",
       "Offer B     824\n",
       "Offer E     805\n",
       "Offer D     602\n",
       "Offer A     520\n",
       "Offer C     415\n",
       "Name: Offer, dtype: int64"
      ]
     },
     "execution_count": 54,
     "metadata": {},
     "output_type": "execute_result"
    }
   ],
   "source": [
    "data[\"Offer\"].value_counts()"
   ]
  },
  {
   "cell_type": "code",
   "execution_count": 55,
   "id": "19ea6a97-a48d-4831-908c-ca16ba20b8b4",
   "metadata": {},
   "outputs": [
    {
     "data": {
      "text/plain": [
       "0"
      ]
     },
     "execution_count": 55,
     "metadata": {},
     "output_type": "execute_result"
    }
   ],
   "source": [
    "data[\"Offer\"].isnull().sum()"
   ]
  },
  {
   "cell_type": "code",
   "execution_count": 56,
   "id": "466f13d6",
   "metadata": {},
   "outputs": [],
   "source": [
    "data['Offer'] = data['Offer'].fillna(\"No Offer\")"
   ]
  },
  {
   "cell_type": "code",
   "execution_count": 57,
   "id": "4740ac2f-c922-4c2d-a7f6-1f134aba2a91",
   "metadata": {},
   "outputs": [
    {
     "data": {
      "text/plain": [
       "0"
      ]
     },
     "execution_count": 57,
     "metadata": {},
     "output_type": "execute_result"
    }
   ],
   "source": [
    "data[\"Offer\"].isnull().sum()"
   ]
  },
  {
   "cell_type": "code",
   "execution_count": 58,
   "id": "fd703a27-6365-47d7-9efd-29d4abd8c755",
   "metadata": {},
   "outputs": [
    {
     "name": "stdout",
     "output_type": "stream",
     "text": [
      "<class 'pandas.core.frame.DataFrame'>\n",
      "RangeIndex: 7043 entries, 0 to 7042\n",
      "Data columns (total 36 columns):\n",
      " #   Column                             Non-Null Count  Dtype  \n",
      "---  ------                             --------------  -----  \n",
      " 0   Gender                             7043 non-null   object \n",
      " 1   Age                                7043 non-null   int64  \n",
      " 2   Married                            7043 non-null   object \n",
      " 3   Dependents                         7043 non-null   object \n",
      " 4   Number of Dependents               7043 non-null   int64  \n",
      " 5   Zip Code                           7043 non-null   int64  \n",
      " 6   Population                         7043 non-null   int64  \n",
      " 7   Referred a Friend                  7043 non-null   object \n",
      " 8   Number of Referrals                7043 non-null   int64  \n",
      " 9   Tenure in Months                   7043 non-null   int64  \n",
      " 10  Offer                              7043 non-null   object \n",
      " 11  Phone Service                      7043 non-null   object \n",
      " 12  Avg Monthly Long Distance Charges  7043 non-null   float64\n",
      " 13  Multiple Lines                     7043 non-null   object \n",
      " 14  Internet Service                   7043 non-null   object \n",
      " 15  Internet Type                      7043 non-null   object \n",
      " 16  Avg Monthly GB Download            7043 non-null   int64  \n",
      " 17  Online Security                    7043 non-null   object \n",
      " 18  Online Backup                      7043 non-null   object \n",
      " 19  Device Protection Plan             7043 non-null   object \n",
      " 20  Premium Tech Support               7043 non-null   object \n",
      " 21  Streaming TV                       7043 non-null   object \n",
      " 22  Streaming Movies                   7043 non-null   object \n",
      " 23  Streaming Music                    7043 non-null   object \n",
      " 24  Unlimited Data                     7043 non-null   object \n",
      " 25  Contract                           7043 non-null   object \n",
      " 26  Paperless Billing                  7043 non-null   object \n",
      " 27  Payment Method                     7043 non-null   object \n",
      " 28  Monthly Charge                     7043 non-null   float64\n",
      " 29  Total Charges                      7043 non-null   float64\n",
      " 30  Total Refunds                      7043 non-null   float64\n",
      " 31  Total Extra Data Charges           7043 non-null   int64  \n",
      " 32  Total Long Distance Charges        7043 non-null   float64\n",
      " 33  Total Revenue                      7043 non-null   float64\n",
      " 34  Satisfaction Score                 7043 non-null   int64  \n",
      " 35  Churn Label                        7043 non-null   object \n",
      "dtypes: float64(6), int64(9), object(21)\n",
      "memory usage: 1.9+ MB\n"
     ]
    }
   ],
   "source": [
    "data.info()## No nulos"
   ]
  },
  {
   "cell_type": "markdown",
   "id": "f1e2f2df-30e8-484a-aac9-0c757fefae85",
   "metadata": {},
   "source": [
    "## Re-sampling (if needed)"
   ]
  },
  {
   "cell_type": "code",
   "execution_count": 59,
   "id": "b51b578f-d2fd-4bdc-a519-974ef0695b11",
   "metadata": {},
   "outputs": [
    {
     "data": {
      "text/plain": [
       "No     0.73463\n",
       "Yes    0.26537\n",
       "Name: Churn Label, dtype: float64"
      ]
     },
     "execution_count": 59,
     "metadata": {},
     "output_type": "execute_result"
    }
   ],
   "source": [
    "\n",
    "data[\"Churn Label\"].value_counts(normalize=True)\n",
    "##No necesario el re-sampling\n",
    "## Hay suficientos datos para que el programa aprenda\n"
   ]
  },
  {
   "cell_type": "markdown",
   "id": "c81ccf11-b51b-4f6e-8080-d56caa674840",
   "metadata": {},
   "source": [
    "## Feature Engineering"
   ]
  },
  {
   "cell_type": "code",
   "execution_count": 60,
   "id": "1bfc1c00-b497-4bbe-b63d-d32db25552be",
   "metadata": {},
   "outputs": [
    {
     "data": {
      "text/plain": [
       "(32.0, 46.0]      1821\n",
       "(46.0, 60.0]      1790\n",
       "(18.999, 32.0]    1770\n",
       "(60.0, 80.0]      1662\n",
       "Name: Age_cuartiles, dtype: int64"
      ]
     },
     "execution_count": 60,
     "metadata": {},
     "output_type": "execute_result"
    }
   ],
   "source": [
    "# Your code here\n",
    "data[\"Age_cuartiles\"] = pd.qcut(data['Age'], q=4)\n",
    "data[\"Age_cuartiles\"].value_counts()"
   ]
  },
  {
   "cell_type": "code",
   "execution_count": 61,
   "id": "3935f25a-eed4-4bc8-814a-20be0ec8f357",
   "metadata": {},
   "outputs": [
    {
     "name": "stdout",
     "output_type": "stream",
     "text": [
      "Age_cuartiles   Churn Label\n",
      "(18.999, 32.0]  No             0.775141\n",
      "                Yes            0.224859\n",
      "(32.0, 46.0]    No             0.763317\n",
      "                Yes            0.236683\n",
      "(46.0, 60.0]    No             0.757542\n",
      "                Yes            0.242458\n",
      "(60.0, 80.0]    No             0.635379\n",
      "                Yes            0.364621\n",
      "Name: Churn Label, dtype: float64\n"
     ]
    }
   ],
   "source": [
    "# Agrupar por los cuartiles de edad y contar los valores normalizados (proporciones) de \"Churn Label\"\n",
    "proporciones = data.groupby(\"Age_cuartiles\")[\"Churn Label\"].value_counts(normalize=True)\n",
    "\n",
    "# Mostrar el resultado\n",
    "print(proporciones)\n",
    "\n",
    "## Los grupos mayores son mas propensos a caer en churn"
   ]
  },
  {
   "cell_type": "code",
   "execution_count": 62,
   "id": "af41fe99-17bd-4636-b5e4-f48b0c34570b",
   "metadata": {},
   "outputs": [
    {
     "name": "stdout",
     "output_type": "stream",
     "text": [
      "Satisfaction_Level  Churn Label\n",
      "Baja                Yes            1.000000\n",
      "Media               No             0.839024\n",
      "                    Yes            0.160976\n",
      "Alta                No             1.000000\n",
      "Name: Churn Label, dtype: float64\n"
     ]
    }
   ],
   "source": [
    "# Crear una nueva columna categórica para los niveles de satisfacción\n",
    "data['Satisfaction_Level'] = pd.cut(data['Satisfaction Score'], \n",
    "                                    bins=[0, 2, 3, 5],  # Límites de los grupos\n",
    "                                    labels=['Baja', 'Media', 'Alta'])  # Nombres de los grupos\n",
    "\n",
    "# Ver el resultado agrupado\n",
    "print(data.groupby('Satisfaction_Level')[\"Churn Label\"].value_counts(normalize=True))"
   ]
  },
  {
   "cell_type": "code",
   "execution_count": 63,
   "id": "8e39b0fb-4e4f-4104-b5b0-a27130308003",
   "metadata": {},
   "outputs": [
    {
     "name": "stdout",
     "output_type": "stream",
     "text": [
      "Chi-cuadrado: 5196.660635558484\n",
      "Valor p: 0.0\n",
      "Índice de Cramér: 0.8589805576402029\n"
     ]
    }
   ],
   "source": [
    "# Crear una tabla de contingencia entre los niveles de satisfacción y el churn\n",
    "tabla_contingencia_satisfaction = pd.crosstab(data['Satisfaction_Level'], data['Churn Label'])\n",
    "\n",
    "# Aplicar la prueba Chi-cuadrado\n",
    "chi2_satisfaction, p_satisfaction, dof_satisfaction, expected_satisfaction = chi2_contingency(tabla_contingencia_satisfaction)\n",
    "\n",
    "# Calcular el índice de Cramér\n",
    "n_satisfaction = data.shape[0]  # número de observaciones\n",
    "cramer_v_satisfaction = np.sqrt(chi2_satisfaction / (n_satisfaction * (min(tabla_contingencia_satisfaction.shape) - 1)))\n",
    "\n",
    "# Mostrar resultados\n",
    "print(f\"Chi-cuadrado: {chi2_satisfaction}\")\n",
    "print(f\"Valor p: {p_satisfaction}\")\n",
    "print(f\"Índice de Cramér: {cramer_v_satisfaction}\")\n"
   ]
  },
  {
   "cell_type": "code",
   "execution_count": 64,
   "id": "486c9d96-0d23-41cc-b74c-2faec4107cb1",
   "metadata": {},
   "outputs": [],
   "source": [
    "##ANALISIS DE CORRELACION ENTRE SATISFACTION LEVEL Y CHURN LABEL"
   ]
  },
  {
   "cell_type": "markdown",
   "id": "e840096d-4a2a-4545-bf4c-5a744316a3ee",
   "metadata": {},
   "source": [
    "## Encoding"
   ]
  },
  {
   "cell_type": "code",
   "execution_count": 65,
   "id": "628aa2ce-89e7-4587-bc29-9aee07931da7",
   "metadata": {},
   "outputs": [],
   "source": [
    "labelEncoderColumns = [\"Paperless Billing\",\"Churn Label\",\"Gender\",\"Married\",\"Dependents\",\"Referred a Friend\",\"Phone Service\",\"Multiple Lines\",\"Internet Service\",\"Online Security\",\"Online Backup\",\"Device Protection Plan\",\"Premium Tech Support\",\"Streaming TV\",\"Streaming Movies\",\"Streaming Music\",\"Unlimited Data\"]\n",
    "OneHotEncoderColumns = [\"Offer\",\"Internet Type\",\"Contract\",\"Payment Method\"]\n",
    "OrdinalEncoderColumns = [\"Age_cuartiles\",\"Satisfaction_Level\"]\n",
    "#Offer,Internet Type,Contract,Payment Method\n"
   ]
  },
  {
   "cell_type": "code",
   "execution_count": 66,
   "id": "68613e91-dfd7-4750-a6eb-e9a59013d8ee",
   "metadata": {},
   "outputs": [],
   "source": [
    "label_encoder = LabelEncoder()"
   ]
  },
  {
   "cell_type": "code",
   "execution_count": 67,
   "id": "09392870-9362-4ac5-b5dd-4aff7ad74ee7",
   "metadata": {},
   "outputs": [],
   "source": [
    "for col in labelEncoderColumns:\n",
    "    data[col] = label_encoder.fit_transform(data[col])\n"
   ]
  },
  {
   "cell_type": "code",
   "execution_count": 68,
   "id": "d48f0c6d-b2ea-4399-956c-62d4d308b0f6",
   "metadata": {},
   "outputs": [
    {
     "name": "stdout",
     "output_type": "stream",
     "text": [
      "['No' 'Yes']\n"
     ]
    }
   ],
   "source": [
    "print(label_encoder.classes_)"
   ]
  },
  {
   "cell_type": "code",
   "execution_count": 69,
   "id": "34fb5bb3-b99e-4202-8df5-85170b69515f",
   "metadata": {},
   "outputs": [
    {
     "name": "stdout",
     "output_type": "stream",
     "text": [
      "<class 'pandas.core.frame.DataFrame'>\n",
      "RangeIndex: 7043 entries, 0 to 7042\n",
      "Data columns (total 38 columns):\n",
      " #   Column                             Non-Null Count  Dtype   \n",
      "---  ------                             --------------  -----   \n",
      " 0   Gender                             7043 non-null   int32   \n",
      " 1   Age                                7043 non-null   int64   \n",
      " 2   Married                            7043 non-null   int32   \n",
      " 3   Dependents                         7043 non-null   int32   \n",
      " 4   Number of Dependents               7043 non-null   int64   \n",
      " 5   Zip Code                           7043 non-null   int64   \n",
      " 6   Population                         7043 non-null   int64   \n",
      " 7   Referred a Friend                  7043 non-null   int32   \n",
      " 8   Number of Referrals                7043 non-null   int64   \n",
      " 9   Tenure in Months                   7043 non-null   int64   \n",
      " 10  Offer                              7043 non-null   object  \n",
      " 11  Phone Service                      7043 non-null   int32   \n",
      " 12  Avg Monthly Long Distance Charges  7043 non-null   float64 \n",
      " 13  Multiple Lines                     7043 non-null   int32   \n",
      " 14  Internet Service                   7043 non-null   int32   \n",
      " 15  Internet Type                      7043 non-null   object  \n",
      " 16  Avg Monthly GB Download            7043 non-null   int64   \n",
      " 17  Online Security                    7043 non-null   int32   \n",
      " 18  Online Backup                      7043 non-null   int32   \n",
      " 19  Device Protection Plan             7043 non-null   int32   \n",
      " 20  Premium Tech Support               7043 non-null   int32   \n",
      " 21  Streaming TV                       7043 non-null   int32   \n",
      " 22  Streaming Movies                   7043 non-null   int32   \n",
      " 23  Streaming Music                    7043 non-null   int32   \n",
      " 24  Unlimited Data                     7043 non-null   int32   \n",
      " 25  Contract                           7043 non-null   object  \n",
      " 26  Paperless Billing                  7043 non-null   int32   \n",
      " 27  Payment Method                     7043 non-null   object  \n",
      " 28  Monthly Charge                     7043 non-null   float64 \n",
      " 29  Total Charges                      7043 non-null   float64 \n",
      " 30  Total Refunds                      7043 non-null   float64 \n",
      " 31  Total Extra Data Charges           7043 non-null   int64   \n",
      " 32  Total Long Distance Charges        7043 non-null   float64 \n",
      " 33  Total Revenue                      7043 non-null   float64 \n",
      " 34  Satisfaction Score                 7043 non-null   int64   \n",
      " 35  Churn Label                        7043 non-null   int32   \n",
      " 36  Age_cuartiles                      7043 non-null   category\n",
      " 37  Satisfaction_Level                 7043 non-null   category\n",
      "dtypes: category(2), float64(6), int32(17), int64(9), object(4)\n",
      "memory usage: 1.5+ MB\n"
     ]
    }
   ],
   "source": [
    "data.info()"
   ]
  },
  {
   "cell_type": "code",
   "execution_count": 70,
   "id": "f297b681-1ebd-4fa3-bbfc-73a1413bb6bf",
   "metadata": {},
   "outputs": [],
   "source": [
    "oh_encoder = OneHotEncoder(cols = OneHotEncoderColumns, use_cat_names=True)"
   ]
  },
  {
   "cell_type": "code",
   "execution_count": 71,
   "id": "3ae53d51-5b82-4ea1-b7ec-012b5d11211e",
   "metadata": {},
   "outputs": [
    {
     "data": {
      "text/plain": [
       "OneHotEncoder(cols=['Offer', 'Internet Type', 'Contract', 'Payment Method'],\n",
       "              use_cat_names=True)"
      ]
     },
     "execution_count": 71,
     "metadata": {},
     "output_type": "execute_result"
    }
   ],
   "source": [
    "oh_encoder.fit(data)"
   ]
  },
  {
   "cell_type": "code",
   "execution_count": 72,
   "id": "51ff243f",
   "metadata": {},
   "outputs": [],
   "source": [
    "data = oh_encoder.transform(data)"
   ]
  },
  {
   "cell_type": "code",
   "execution_count": 73,
   "id": "90f1aeb4-aa95-4817-8535-aa52ef9427a8",
   "metadata": {},
   "outputs": [
    {
     "data": {
      "text/plain": [
       "Index(['Gender', 'Age', 'Married', 'Dependents', 'Number of Dependents',\n",
       "       'Zip Code', 'Population', 'Referred a Friend', 'Number of Referrals',\n",
       "       'Tenure in Months', 'Offer_None', 'Offer_Offer E', 'Offer_Offer D',\n",
       "       'Offer_Offer C', 'Offer_Offer B', 'Offer_Offer A', 'Phone Service',\n",
       "       'Avg Monthly Long Distance Charges', 'Multiple Lines',\n",
       "       'Internet Service', 'Internet Type_DSL', 'Internet Type_Fiber Optic',\n",
       "       'Internet Type_Cable', 'Internet Type_None', 'Avg Monthly GB Download',\n",
       "       'Online Security', 'Online Backup', 'Device Protection Plan',\n",
       "       'Premium Tech Support', 'Streaming TV', 'Streaming Movies',\n",
       "       'Streaming Music', 'Unlimited Data', 'Contract_Month-to-Month',\n",
       "       'Contract_One Year', 'Contract_Two Year', 'Paperless Billing',\n",
       "       'Payment Method_Bank Withdrawal', 'Payment Method_Credit Card',\n",
       "       'Payment Method_Mailed Check', 'Monthly Charge', 'Total Charges',\n",
       "       'Total Refunds', 'Total Extra Data Charges',\n",
       "       'Total Long Distance Charges', 'Total Revenue', 'Satisfaction Score',\n",
       "       'Churn Label', 'Age_cuartiles', 'Satisfaction_Level'],\n",
       "      dtype='object')"
      ]
     },
     "execution_count": 73,
     "metadata": {},
     "output_type": "execute_result"
    }
   ],
   "source": [
    "data.columns"
   ]
  },
  {
   "cell_type": "code",
   "execution_count": 74,
   "id": "58158ba5-8821-44da-a5f0-f8b4bcaa6c03",
   "metadata": {},
   "outputs": [
    {
     "name": "stdout",
     "output_type": "stream",
     "text": [
      "<class 'pandas.core.frame.DataFrame'>\n",
      "RangeIndex: 7043 entries, 0 to 7042\n",
      "Data columns (total 50 columns):\n",
      " #   Column                             Non-Null Count  Dtype   \n",
      "---  ------                             --------------  -----   \n",
      " 0   Gender                             7043 non-null   int32   \n",
      " 1   Age                                7043 non-null   int64   \n",
      " 2   Married                            7043 non-null   int32   \n",
      " 3   Dependents                         7043 non-null   int32   \n",
      " 4   Number of Dependents               7043 non-null   int64   \n",
      " 5   Zip Code                           7043 non-null   int64   \n",
      " 6   Population                         7043 non-null   int64   \n",
      " 7   Referred a Friend                  7043 non-null   int32   \n",
      " 8   Number of Referrals                7043 non-null   int64   \n",
      " 9   Tenure in Months                   7043 non-null   int64   \n",
      " 10  Offer_None                         7043 non-null   int64   \n",
      " 11  Offer_Offer E                      7043 non-null   int64   \n",
      " 12  Offer_Offer D                      7043 non-null   int64   \n",
      " 13  Offer_Offer C                      7043 non-null   int64   \n",
      " 14  Offer_Offer B                      7043 non-null   int64   \n",
      " 15  Offer_Offer A                      7043 non-null   int64   \n",
      " 16  Phone Service                      7043 non-null   int32   \n",
      " 17  Avg Monthly Long Distance Charges  7043 non-null   float64 \n",
      " 18  Multiple Lines                     7043 non-null   int32   \n",
      " 19  Internet Service                   7043 non-null   int32   \n",
      " 20  Internet Type_DSL                  7043 non-null   int64   \n",
      " 21  Internet Type_Fiber Optic          7043 non-null   int64   \n",
      " 22  Internet Type_Cable                7043 non-null   int64   \n",
      " 23  Internet Type_None                 7043 non-null   int64   \n",
      " 24  Avg Monthly GB Download            7043 non-null   int64   \n",
      " 25  Online Security                    7043 non-null   int32   \n",
      " 26  Online Backup                      7043 non-null   int32   \n",
      " 27  Device Protection Plan             7043 non-null   int32   \n",
      " 28  Premium Tech Support               7043 non-null   int32   \n",
      " 29  Streaming TV                       7043 non-null   int32   \n",
      " 30  Streaming Movies                   7043 non-null   int32   \n",
      " 31  Streaming Music                    7043 non-null   int32   \n",
      " 32  Unlimited Data                     7043 non-null   int32   \n",
      " 33  Contract_Month-to-Month            7043 non-null   int64   \n",
      " 34  Contract_One Year                  7043 non-null   int64   \n",
      " 35  Contract_Two Year                  7043 non-null   int64   \n",
      " 36  Paperless Billing                  7043 non-null   int32   \n",
      " 37  Payment Method_Bank Withdrawal     7043 non-null   int64   \n",
      " 38  Payment Method_Credit Card         7043 non-null   int64   \n",
      " 39  Payment Method_Mailed Check        7043 non-null   int64   \n",
      " 40  Monthly Charge                     7043 non-null   float64 \n",
      " 41  Total Charges                      7043 non-null   float64 \n",
      " 42  Total Refunds                      7043 non-null   float64 \n",
      " 43  Total Extra Data Charges           7043 non-null   int64   \n",
      " 44  Total Long Distance Charges        7043 non-null   float64 \n",
      " 45  Total Revenue                      7043 non-null   float64 \n",
      " 46  Satisfaction Score                 7043 non-null   int64   \n",
      " 47  Churn Label                        7043 non-null   int32   \n",
      " 48  Age_cuartiles                      7043 non-null   category\n",
      " 49  Satisfaction_Level                 7043 non-null   category\n",
      "dtypes: category(2), float64(6), int32(17), int64(25)\n",
      "memory usage: 2.1 MB\n"
     ]
    }
   ],
   "source": [
    "data.info()\n",
    "\n",
    "columnas = [\"Gender\",\"Age\",\"Married\",\"Number of Dependents\",\"Referred a Friend\",\"Tenure in Months\"]\n"
   ]
  },
  {
   "cell_type": "code",
   "execution_count": 75,
   "id": "64f9ca8d-aca8-4330-b77a-c2404b40e699",
   "metadata": {},
   "outputs": [
    {
     "data": {
      "text/plain": [
       "Alta     2938\n",
       "Media    2665\n",
       "Baja     1440\n",
       "Name: Satisfaction_Level, dtype: int64"
      ]
     },
     "execution_count": 75,
     "metadata": {},
     "output_type": "execute_result"
    }
   ],
   "source": [
    "data[\"Satisfaction_Level\"].value_counts()"
   ]
  },
  {
   "cell_type": "code",
   "execution_count": 76,
   "id": "5420c508-db78-467f-b30c-1428dc56dd86",
   "metadata": {},
   "outputs": [],
   "source": [
    "ordinal_encoder = OrdinalEncoder(\n",
    "    cols=OrdinalEncoderColumns,\n",
    "    mapping=[\n",
    "        {\n",
    "            \"col\": \"Age_cuartiles\",\n",
    "            \"mapping\": {\"(18.999, 32.0]\": 0, \"(32.0, 46.0]\": 1, \"(46.0, 60.0]\": 2, \"(60.0, 80.0]\": 3}\n",
    "        },\n",
    "        {\n",
    "            \"col\": \"Satisfaction_Level\",\n",
    "            \"mapping\": {\"Baja\": 0, \"Media\": 1, \"Alta\": 2}\n",
    "        }\n",
    "    ]\n",
    ")"
   ]
  },
  {
   "cell_type": "code",
   "execution_count": 77,
   "id": "5999da30-74d4-4f47-9413-2c64ed8f6f84",
   "metadata": {},
   "outputs": [],
   "source": [
    "ordinal_encoder = ordinal_encoder.fit(X=data)\n",
    "data= ordinal_encoder.transform(X=data)"
   ]
  },
  {
   "cell_type": "code",
   "execution_count": 78,
   "id": "5de4953c-91d6-43c4-80f7-0d0b879531ba",
   "metadata": {},
   "outputs": [
    {
     "name": "stdout",
     "output_type": "stream",
     "text": [
      "<class 'pandas.core.frame.DataFrame'>\n",
      "RangeIndex: 7043 entries, 0 to 7042\n",
      "Data columns (total 50 columns):\n",
      " #   Column                             Non-Null Count  Dtype  \n",
      "---  ------                             --------------  -----  \n",
      " 0   Gender                             7043 non-null   int32  \n",
      " 1   Age                                7043 non-null   int64  \n",
      " 2   Married                            7043 non-null   int32  \n",
      " 3   Dependents                         7043 non-null   int32  \n",
      " 4   Number of Dependents               7043 non-null   int64  \n",
      " 5   Zip Code                           7043 non-null   int64  \n",
      " 6   Population                         7043 non-null   int64  \n",
      " 7   Referred a Friend                  7043 non-null   int32  \n",
      " 8   Number of Referrals                7043 non-null   int64  \n",
      " 9   Tenure in Months                   7043 non-null   int64  \n",
      " 10  Offer_None                         7043 non-null   int64  \n",
      " 11  Offer_Offer E                      7043 non-null   int64  \n",
      " 12  Offer_Offer D                      7043 non-null   int64  \n",
      " 13  Offer_Offer C                      7043 non-null   int64  \n",
      " 14  Offer_Offer B                      7043 non-null   int64  \n",
      " 15  Offer_Offer A                      7043 non-null   int64  \n",
      " 16  Phone Service                      7043 non-null   int32  \n",
      " 17  Avg Monthly Long Distance Charges  7043 non-null   float64\n",
      " 18  Multiple Lines                     7043 non-null   int32  \n",
      " 19  Internet Service                   7043 non-null   int32  \n",
      " 20  Internet Type_DSL                  7043 non-null   int64  \n",
      " 21  Internet Type_Fiber Optic          7043 non-null   int64  \n",
      " 22  Internet Type_Cable                7043 non-null   int64  \n",
      " 23  Internet Type_None                 7043 non-null   int64  \n",
      " 24  Avg Monthly GB Download            7043 non-null   int64  \n",
      " 25  Online Security                    7043 non-null   int32  \n",
      " 26  Online Backup                      7043 non-null   int32  \n",
      " 27  Device Protection Plan             7043 non-null   int32  \n",
      " 28  Premium Tech Support               7043 non-null   int32  \n",
      " 29  Streaming TV                       7043 non-null   int32  \n",
      " 30  Streaming Movies                   7043 non-null   int32  \n",
      " 31  Streaming Music                    7043 non-null   int32  \n",
      " 32  Unlimited Data                     7043 non-null   int32  \n",
      " 33  Contract_Month-to-Month            7043 non-null   int64  \n",
      " 34  Contract_One Year                  7043 non-null   int64  \n",
      " 35  Contract_Two Year                  7043 non-null   int64  \n",
      " 36  Paperless Billing                  7043 non-null   int32  \n",
      " 37  Payment Method_Bank Withdrawal     7043 non-null   int64  \n",
      " 38  Payment Method_Credit Card         7043 non-null   int64  \n",
      " 39  Payment Method_Mailed Check        7043 non-null   int64  \n",
      " 40  Monthly Charge                     7043 non-null   float64\n",
      " 41  Total Charges                      7043 non-null   float64\n",
      " 42  Total Refunds                      7043 non-null   float64\n",
      " 43  Total Extra Data Charges           7043 non-null   int64  \n",
      " 44  Total Long Distance Charges        7043 non-null   float64\n",
      " 45  Total Revenue                      7043 non-null   float64\n",
      " 46  Satisfaction Score                 7043 non-null   int64  \n",
      " 47  Churn Label                        7043 non-null   int32  \n",
      " 48  Age_cuartiles                      7043 non-null   float64\n",
      " 49  Satisfaction_Level                 7043 non-null   int32  \n",
      "dtypes: float64(7), int32(18), int64(25)\n",
      "memory usage: 2.2 MB\n"
     ]
    }
   ],
   "source": [
    "data.info()"
   ]
  },
  {
   "cell_type": "code",
   "execution_count": null,
   "id": "fbd22bfa-c5b8-4994-8256-222ecbc563e2",
   "metadata": {},
   "outputs": [],
   "source": []
  },
  {
   "cell_type": "markdown",
   "id": "3c70b83b-a594-4ed9-a1be-c17ef8deb532",
   "metadata": {},
   "source": [
    "### DATA SPLITING\n"
   ]
  },
  {
   "cell_type": "code",
   "execution_count": null,
   "id": "4944462e-32b0-46f6-9f99-8e7315cc2de0",
   "metadata": {},
   "outputs": [],
   "source": [
    "columnasModelo = ['Gender', 'Age_cuartiles', 'Married', 'Number of Dependents',\n",
    "        'Referred a Friend', 'Tenure in Months', 'Offer_No Offer', 'Offer_Offer E', 'Offer_Offer D',\n",
    "       'Offer_Offer C', 'Offer_Offer B', 'Offer_Offer A', 'Phone Service',\n",
    "       'Avg Monthly Long Distance Charges', 'Multiple Lines',\n",
    "       'Internet Service', 'Internet Type_DSL', 'Internet Type_Fiber Optic',\n",
    "       'Internet Type_Cable', 'Internet Type_No Internet',\n",
    "       'Avg Monthly GB Download', 'Online Security', 'Online Backup',\n",
    "       'Device Protection Plan', 'Premium Tech Support', 'Streaming TV',\n",
    "       'Streaming Movies', 'Streaming Music', 'Unlimited Data',\n",
    "       'Contract_Month-to-Month', 'Contract_One Year', 'Contract_Two Year',\n",
    "       'Paperless Billing', 'Payment Method_Bank Withdrawal',\n",
    "       'Payment Method_Credit Card', 'Payment Method_Mailed Check',\n",
    "       'Monthly Charge', 'Total Charges', 'Total Refunds',\n",
    "       'Total Extra Data Charges', 'Total Long Distance Charges']"
   ]
  },
  {
   "cell_type": "code",
   "execution_count": 79,
   "id": "f120f989",
   "metadata": {},
   "outputs": [],
   "source": [
    "columnasModelo = ['Gender', 'Age_cuartiles', 'Married', 'Number of Dependents',\n",
    "        'Referred a Friend', 'Tenure in Months', 'Offer_None', 'Offer_Offer E', 'Offer_Offer D',\n",
    "       'Offer_Offer C', 'Offer_Offer B', 'Offer_Offer A', 'Phone Service',\n",
    "       'Avg Monthly Long Distance Charges', 'Multiple Lines',\n",
    "       'Internet Service', 'Internet Type_DSL', 'Internet Type_Fiber Optic',\n",
    "       'Internet Type_Cable', 'Internet Type_None',\n",
    "       'Avg Monthly GB Download', 'Online Security', 'Online Backup',\n",
    "       'Device Protection Plan', 'Premium Tech Support', 'Streaming TV',\n",
    "       'Streaming Movies', 'Streaming Music', 'Unlimited Data',\n",
    "       'Contract_Month-to-Month', 'Contract_One Year', 'Contract_Two Year',\n",
    "       'Paperless Billing', 'Payment Method_Bank Withdrawal',\n",
    "       'Payment Method_Credit Card', 'Payment Method_Mailed Check',\n",
    "       'Monthly Charge', 'Total Charges', 'Total Refunds',\n",
    "       'Total Extra Data Charges', 'Total Long Distance Charges']"
   ]
  },
  {
   "cell_type": "code",
   "execution_count": 80,
   "id": "59543b10",
   "metadata": {},
   "outputs": [
    {
     "data": {
      "text/plain": [
       "['Gender',\n",
       " 'Age_cuartiles',\n",
       " 'Married',\n",
       " 'Number of Dependents',\n",
       " 'Referred a Friend',\n",
       " 'Tenure in Months',\n",
       " 'Offer_None',\n",
       " 'Offer_Offer E',\n",
       " 'Offer_Offer D',\n",
       " 'Offer_Offer C',\n",
       " 'Offer_Offer B',\n",
       " 'Offer_Offer A',\n",
       " 'Phone Service',\n",
       " 'Avg Monthly Long Distance Charges',\n",
       " 'Multiple Lines',\n",
       " 'Internet Service',\n",
       " 'Internet Type_DSL',\n",
       " 'Internet Type_Fiber Optic',\n",
       " 'Internet Type_Cable',\n",
       " 'Internet Type_None',\n",
       " 'Avg Monthly GB Download',\n",
       " 'Online Security',\n",
       " 'Online Backup',\n",
       " 'Device Protection Plan',\n",
       " 'Premium Tech Support',\n",
       " 'Streaming TV',\n",
       " 'Streaming Movies',\n",
       " 'Streaming Music',\n",
       " 'Unlimited Data',\n",
       " 'Contract_Month-to-Month',\n",
       " 'Contract_One Year',\n",
       " 'Contract_Two Year',\n",
       " 'Paperless Billing',\n",
       " 'Payment Method_Bank Withdrawal',\n",
       " 'Payment Method_Credit Card',\n",
       " 'Payment Method_Mailed Check',\n",
       " 'Monthly Charge',\n",
       " 'Total Charges',\n",
       " 'Total Refunds',\n",
       " 'Total Extra Data Charges',\n",
       " 'Total Long Distance Charges']"
      ]
     },
     "execution_count": 80,
     "metadata": {},
     "output_type": "execute_result"
    }
   ],
   "source": [
    "columnasModelo"
   ]
  },
  {
   "cell_type": "code",
   "execution_count": 81,
   "id": "eaef1a25-259d-44ad-a2b4-86cdafe0c816",
   "metadata": {},
   "outputs": [],
   "source": [
    "train_data, tmp_data = train_test_split(data, test_size = 0.30,stratify = data[\"Churn Label\"],random_state = 1)\n",
    "val_data, test_data = train_test_split(tmp_data, test_size = 0.50,stratify = tmp_data[\"Churn Label\"],random_state = 1)\n"
   ]
  },
  {
   "cell_type": "markdown",
   "id": "464ee04a-69b5-4bec-a1ef-25323c7e99c1",
   "metadata": {},
   "source": [
    "### Data Scaling"
   ]
  },
  {
   "cell_type": "code",
   "execution_count": 82,
   "id": "b1203c57-165e-4f99-a084-9b9e7dfca51b",
   "metadata": {},
   "outputs": [],
   "source": [
    "scaler = MinMaxScaler()"
   ]
  },
  {
   "cell_type": "code",
   "execution_count": 83,
   "id": "1dcd044b-de2e-479c-9fc8-f861482ccf3d",
   "metadata": {},
   "outputs": [],
   "source": [
    "train_data = scaler.fit_transform(train_data)"
   ]
  },
  {
   "cell_type": "code",
   "execution_count": 84,
   "id": "e950da49-ba2c-4055-817d-c1db0f0b0e62",
   "metadata": {},
   "outputs": [],
   "source": [
    "val_data = scaler.transform(val_data)"
   ]
  },
  {
   "cell_type": "code",
   "execution_count": 85,
   "id": "1f0030ad-c75f-478c-91dc-9cf8a35a42c6",
   "metadata": {},
   "outputs": [],
   "source": [
    "test_data = scaler.transform(test_data)\n"
   ]
  },
  {
   "cell_type": "code",
   "execution_count": 86,
   "id": "8e74dfdb-f37c-45ac-b3a5-3e092d3af407",
   "metadata": {},
   "outputs": [],
   "source": [
    "train_data = pd.DataFrame(train_data, columns=data.columns)"
   ]
  },
  {
   "cell_type": "code",
   "execution_count": 87,
   "id": "523a52b1-195c-47bf-a309-851bd6d30c65",
   "metadata": {},
   "outputs": [],
   "source": [
    "val_data = pd.DataFrame(val_data, columns=data.columns)"
   ]
  },
  {
   "cell_type": "code",
   "execution_count": 88,
   "id": "3e06e96b-c195-41f3-ab30-bfbc4ddc5733",
   "metadata": {},
   "outputs": [],
   "source": [
    "test_data = pd.DataFrame(test_data, columns=data.columns)"
   ]
  },
  {
   "cell_type": "code",
   "execution_count": null,
   "id": "91a44154-93a0-4206-8743-63efd4219bf2",
   "metadata": {},
   "outputs": [],
   "source": []
  },
  {
   "cell_type": "code",
   "execution_count": 89,
   "id": "567943dc-99a0-483a-a084-2a7fdd3735c5",
   "metadata": {},
   "outputs": [
    {
     "data": {
      "text/plain": [
       "(7043, 4930, 1056, 1057)"
      ]
     },
     "execution_count": 89,
     "metadata": {},
     "output_type": "execute_result"
    }
   ],
   "source": [
    "len(data),len(train_data),len(val_data),len(test_data)"
   ]
  },
  {
   "cell_type": "code",
   "execution_count": 90,
   "id": "87854f02-6380-45a7-9050-60b866b52735",
   "metadata": {},
   "outputs": [
    {
     "name": "stdout",
     "output_type": "stream",
     "text": [
      "Index(['Gender', 'Age', 'Married', 'Dependents', 'Number of Dependents',\n",
      "       'Zip Code', 'Population', 'Referred a Friend', 'Number of Referrals',\n",
      "       'Tenure in Months', 'Offer_None', 'Offer_Offer E', 'Offer_Offer D',\n",
      "       'Offer_Offer C', 'Offer_Offer B', 'Offer_Offer A', 'Phone Service',\n",
      "       'Avg Monthly Long Distance Charges', 'Multiple Lines',\n",
      "       'Internet Service', 'Internet Type_DSL', 'Internet Type_Fiber Optic',\n",
      "       'Internet Type_Cable', 'Internet Type_None', 'Avg Monthly GB Download',\n",
      "       'Online Security', 'Online Backup', 'Device Protection Plan',\n",
      "       'Premium Tech Support', 'Streaming TV', 'Streaming Movies',\n",
      "       'Streaming Music', 'Unlimited Data', 'Contract_Month-to-Month',\n",
      "       'Contract_One Year', 'Contract_Two Year', 'Paperless Billing',\n",
      "       'Payment Method_Bank Withdrawal', 'Payment Method_Credit Card',\n",
      "       'Payment Method_Mailed Check', 'Monthly Charge', 'Total Charges',\n",
      "       'Total Refunds', 'Total Extra Data Charges',\n",
      "       'Total Long Distance Charges', 'Total Revenue', 'Satisfaction Score',\n",
      "       'Churn Label', 'Age_cuartiles', 'Satisfaction_Level'],\n",
      "      dtype='object')\n"
     ]
    }
   ],
   "source": [
    "print(train_data.columns)"
   ]
  },
  {
   "cell_type": "code",
   "execution_count": null,
   "id": "72eb709b-f2f3-4d15-b847-1b1a03a88660",
   "metadata": {},
   "outputs": [],
   "source": [
    "#columnasModelo = [col for col in columnasModelo if col in train_data.columns]\n"
   ]
  },
  {
   "cell_type": "markdown",
   "id": "023c098a",
   "metadata": {},
   "source": [
    "## Decision Tree Classifier"
   ]
  },
  {
   "cell_type": "markdown",
   "id": "8e403f6b-a6f9-45a4-9fa2-204a4127f9d7",
   "metadata": {},
   "source": [
    "#### Caso Base"
   ]
  },
  {
   "cell_type": "code",
   "execution_count": null,
   "id": "d36eb395",
   "metadata": {},
   "outputs": [],
   "source": [
    "modelTree1 = DecisionTreeClassifier()"
   ]
  },
  {
   "cell_type": "code",
   "execution_count": null,
   "id": "05540ded",
   "metadata": {},
   "outputs": [],
   "source": [
    "modelTree1.fit(X = train_data[columnasModelo], y = train_data[\"Churn Label\"])"
   ]
  },
  {
   "cell_type": "code",
   "execution_count": null,
   "id": "37d36562",
   "metadata": {},
   "outputs": [],
   "source": [
    "plt.figure(figsize=(7, 7))\n",
    "plot_tree(modelTree1, feature_names= train_data[columnasModelo].columns, class_names=[\"no churn\", \"churn\"])"
   ]
  },
  {
   "cell_type": "code",
   "execution_count": null,
   "id": "4c6fe797-9658-4f4b-be62-972a76ea99cb",
   "metadata": {},
   "outputs": [],
   "source": [
    "#alta pureza en nuestro arbol de decision. Cada hoja alcanza a tener cero."
   ]
  },
  {
   "cell_type": "code",
   "execution_count": null,
   "id": "6fc98bcd-ef54-46de-9929-d5935b1462a5",
   "metadata": {},
   "outputs": [],
   "source": [
    "train_metrics_kn = train_data.copy()\n",
    "train_metrics_kn[\"Preciction_tree1\"] = modelTree1.predict(train_data[columnasModelo]) \n",
    "\n",
    "val_metrics_kn = val_data.copy()\n",
    "val_metrics_kn[\"Preciction_tree1\"] = modelTree1.predict(val_data[columnasModelo])\n",
    "\n"
   ]
  },
  {
   "cell_type": "code",
   "execution_count": null,
   "id": "8d67ff4e-6ef2-4b36-aa1c-7a5392f6fb99",
   "metadata": {},
   "outputs": [],
   "source": [
    "print(\"Training Metrics:\")\n",
    "print(classification_report(y_true=train_metrics_kn[\"Churn Label\"], y_pred=train_metrics_kn[\"Preciction_tree1\"]))"
   ]
  },
  {
   "cell_type": "code",
   "execution_count": null,
   "id": "18a6bcd9-d247-4819-b7ca-82568c7e5541",
   "metadata": {},
   "outputs": [],
   "source": [
    "print(\"Training Metrics:\")\n",
    "print(classification_report(y_true=val_metrics_kn[\"Churn Label\"], y_pred=val_metrics_kn[\"Preciction_tree1\"]))"
   ]
  },
  {
   "cell_type": "code",
   "execution_count": null,
   "id": "627b5119",
   "metadata": {},
   "outputs": [],
   "source": [
    "\n",
    "cm = confusion_matrix(val_metrics_kn[\"Churn Label\"], val_metrics_kn[\"Preciction_tree1\"])\n",
    "print(cm)\n",
    "\n",
    "disp = ConfusionMatrixDisplay(confusion_matrix=cm)\n",
    "disp.plot(cmap='Blues')  # Puedes cambiar la paleta de colores si prefieres\n",
    "plt.show()"
   ]
  },
  {
   "cell_type": "markdown",
   "id": "03e9238d-cdf9-46cd-81f4-fa2f08744a82",
   "metadata": {},
   "source": [
    "#### max_depth 5, class_weight balanced,min_samples_split=4, min_samples_leaf=2,"
   ]
  },
  {
   "cell_type": "code",
   "execution_count": null,
   "id": "219b6933-0640-46e8-9fac-0eb5150ce658",
   "metadata": {},
   "outputs": [],
   "source": [
    "modelTree2 = DecisionTreeClassifier(\n",
    "    max_depth=5,\n",
    "    min_samples_split=4,\n",
    "    min_samples_leaf=2,\n",
    "    class_weight='balanced',\n",
    "    random_state=42\n",
    ")"
   ]
  },
  {
   "cell_type": "code",
   "execution_count": null,
   "id": "ec112090-4e09-4f4f-bb31-39fe45280bb5",
   "metadata": {},
   "outputs": [],
   "source": [
    "modelTree2.fit(X = train_data[columnasModelo], y = train_data[\"Churn Label\"])"
   ]
  },
  {
   "cell_type": "code",
   "execution_count": null,
   "id": "751cea15-acea-4160-87d9-15ffea0d3db3",
   "metadata": {},
   "outputs": [],
   "source": [
    "train_metrics_kn[\"Preciction_tree2\"] = modelTree2.predict(train_data[columnasModelo]) \n",
    "val_metrics_kn[\"Preciction_tree2\"] = modelTree2.predict(val_data[columnasModelo])\n",
    "\n"
   ]
  },
  {
   "cell_type": "code",
   "execution_count": null,
   "id": "7062af90-2c8a-4425-b2ec-5b6ce21df86c",
   "metadata": {},
   "outputs": [],
   "source": [
    "print(\"Training Metrics:\")\n",
    "print(classification_report(y_true=train_metrics_kn[\"Churn Label\"], y_pred=train_metrics_kn[\"Preciction_tree2\"]))"
   ]
  },
  {
   "cell_type": "code",
   "execution_count": null,
   "id": "3ef7c5f5-35a6-41cf-befa-644731a61110",
   "metadata": {},
   "outputs": [],
   "source": [
    "print(\"Training Metrics:\")\n",
    "print(classification_report(y_true=val_metrics_kn[\"Churn Label\"], y_pred=val_metrics_kn[\"Preciction_tree2\"]))##Mejor modelo"
   ]
  },
  {
   "cell_type": "code",
   "execution_count": null,
   "id": "0e82e6fb-8b55-4d8d-ac9c-10bb91a2af88",
   "metadata": {},
   "outputs": [],
   "source": [
    "cm = confusion_matrix(val_metrics_kn[\"Churn Label\"], val_metrics_kn[\"Preciction_tree2\"])\n",
    "print(cm)\n",
    "disp = ConfusionMatrixDisplay(confusion_matrix=cm)\n",
    "disp.plot(cmap='Blues')  # Puedes cambiar la paleta de colores si prefieres\n",
    "plt.show()"
   ]
  },
  {
   "cell_type": "markdown",
   "id": "01f34b8c-6960-4aa9-a4b3-7f95bd9dbdfe",
   "metadata": {},
   "source": [
    "#### Con grid Search"
   ]
  },
  {
   "cell_type": "code",
   "execution_count": null,
   "id": "3cb5492c-c37d-42bc-b4cc-a2f3f4b03c9c",
   "metadata": {},
   "outputs": [],
   "source": [
    "param_grid = {\n",
    "    'criterion': ['gini', 'entropy'],\n",
    "    'max_depth': [3, 5, 10],\n",
    "    'min_samples_split': [2, 5, 10],\n",
    "    'min_samples_leaf': [1, 2, 5],\n",
    "}"
   ]
  },
  {
   "cell_type": "code",
   "execution_count": null,
   "id": "81e635d7-b1ba-4820-8b80-fbe81ea390a3",
   "metadata": {},
   "outputs": [],
   "source": [
    "grid_search_tree = GridSearchCV(DecisionTreeClassifier(random_state=42), param_grid, cv=5)"
   ]
  },
  {
   "cell_type": "code",
   "execution_count": null,
   "id": "c439f7a6-2605-4399-abd0-283bbca46f62",
   "metadata": {},
   "outputs": [],
   "source": [
    "grid_search_tree.fit(train_data[columnasModelo],train_data[\"Churn Label\"])"
   ]
  },
  {
   "cell_type": "code",
   "execution_count": null,
   "id": "bfb5cf37-1b9e-4414-949e-33b4fff42f91",
   "metadata": {},
   "outputs": [],
   "source": [
    "bestTreeGrid = grid_search_tree.best_estimator_"
   ]
  },
  {
   "cell_type": "code",
   "execution_count": null,
   "id": "0052d9ac-a6be-44a5-b47e-a36b959c40d4",
   "metadata": {},
   "outputs": [],
   "source": [
    "print(\"Mejores parámetros encontrados:\", bestTreeGrid)"
   ]
  },
  {
   "cell_type": "code",
   "execution_count": null,
   "id": "4c55e48d-b1d9-4fb7-b891-ccc58e062535",
   "metadata": {},
   "outputs": [],
   "source": [
    "train_metrics_kn[\"Preciction_tree3\"] = bestTreeGrid.predict(train_data[columnasModelo]) \n",
    "\n",
    "val_metrics_kn[\"Preciction_tree3\"] = bestTreeGrid.predict(val_data[columnasModelo])"
   ]
  },
  {
   "cell_type": "code",
   "execution_count": null,
   "id": "06932542-7307-4649-b342-f275e9b69c70",
   "metadata": {},
   "outputs": [],
   "source": [
    "print(\"Training Metrics:\")\n",
    "print(classification_report(y_true=train_metrics_kn[\"Churn Label\"], y_pred=train_metrics_kn[\"Preciction_tree3\"]))"
   ]
  },
  {
   "cell_type": "code",
   "execution_count": null,
   "id": "330b4284-a866-4364-9ea2-b46051e1c4c0",
   "metadata": {},
   "outputs": [],
   "source": [
    "print(\"Training Metrics:\")\n",
    "print(classification_report(y_true=val_metrics_kn[\"Churn Label\"], y_pred=val_metrics_kn[\"Preciction_tree3\"]))"
   ]
  },
  {
   "cell_type": "code",
   "execution_count": null,
   "id": "bbdc9855-3709-4445-a8ce-2e52a22255cf",
   "metadata": {},
   "outputs": [],
   "source": [
    "cm = confusion_matrix(val_metrics_kn[\"Churn Label\"], val_metrics_kn[\"Preciction_tree3\"])\n",
    "print(cm)\n",
    "# Graficar la matriz de confusión usando seaborn\n",
    "disp = ConfusionMatrixDisplay(confusion_matrix=cm)\n",
    "disp.plot(cmap='Blues')  # Puedes cambiar la paleta de colores si prefieres\n",
    "plt.show()"
   ]
  },
  {
   "cell_type": "markdown",
   "id": "9ddc5197-0d12-4cc2-a1dd-ece1e1d14cac",
   "metadata": {},
   "source": [
    "## KNN "
   ]
  },
  {
   "cell_type": "markdown",
   "id": "b94942e2-20ec-4a7e-b1d7-467d6fa9c427",
   "metadata": {},
   "source": [
    "#### SIN GRID Y COLUMNAS FILTRADAS\n"
   ]
  },
  {
   "cell_type": "code",
   "execution_count": null,
   "id": "bdb89d9b",
   "metadata": {},
   "outputs": [],
   "source": [
    "KNclassifier1 = KNeighborsClassifier(n_neighbors=20)"
   ]
  },
  {
   "cell_type": "code",
   "execution_count": null,
   "id": "76d58b2c",
   "metadata": {},
   "outputs": [],
   "source": [
    "KNclassifier1.fit(train_data[columnasModelo], train_data[\"Churn Label\"])"
   ]
  },
  {
   "cell_type": "code",
   "execution_count": null,
   "id": "4d8d4660-005e-4398-8c6a-aa5e5da13c79",
   "metadata": {},
   "outputs": [],
   "source": [
    "train_metrics_kn[\"Preciction_knn1\"] = KNclassifier1.predict(train_data[columnasModelo]) \n",
    "val_metrics_kn[\"Preciction_knn1\"] = KNclassifier1.predict(val_data[columnasModelo])\n",
    "\n"
   ]
  },
  {
   "cell_type": "code",
   "execution_count": null,
   "id": "602f61f6-d8aa-48f9-9592-dc36c95b785e",
   "metadata": {},
   "outputs": [],
   "source": [
    "print(\"Training Metrics:\")\n",
    "print(classification_report(y_true=train_metrics_kn[\"Churn Label\"], y_pred=train_metrics_kn[\"Preciction_knn1\"]))"
   ]
  },
  {
   "cell_type": "code",
   "execution_count": null,
   "id": "d8366483-f458-43c3-9b53-aa5e05da1adc",
   "metadata": {},
   "outputs": [],
   "source": [
    "print(\"Training Metrics:\")\n",
    "print(classification_report(y_true=val_metrics_kn[\"Churn Label\"], y_pred=val_metrics_kn[\"Preciction_knn1\"]))"
   ]
  },
  {
   "cell_type": "code",
   "execution_count": null,
   "id": "6ff20bfc-120b-4cbc-8615-c9ae1e70a46c",
   "metadata": {},
   "outputs": [],
   "source": [
    "cm = confusion_matrix(val_metrics_kn[\"Churn Label\"], val_metrics_kn[\"Preciction_knn1\"])\n",
    "print(cm)\n",
    "# Graficar la matriz de confusión usando seaborn\n",
    "disp = ConfusionMatrixDisplay(confusion_matrix=cm)\n",
    "disp.plot(cmap='Blues')  # Puedes cambiar la paleta de colores si prefieres\n",
    "plt.show()"
   ]
  },
  {
   "cell_type": "markdown",
   "id": "c194bafe-bba0-4913-a8a8-55ddc409c1be",
   "metadata": {},
   "source": [
    "#### SIN GRID Y TODAS COLUMNAS"
   ]
  },
  {
   "cell_type": "code",
   "execution_count": null,
   "id": "9102b949-7266-4e61-b4eb-b80902eaff8c",
   "metadata": {},
   "outputs": [],
   "source": [
    "KNclassifier2 = KNeighborsClassifier(n_neighbors=20)"
   ]
  },
  {
   "cell_type": "code",
   "execution_count": null,
   "id": "4a0b5170-68e5-41e3-8aec-0601aa05eeca",
   "metadata": {},
   "outputs": [],
   "source": [
    "columnasSinChurn = ['Gender', 'Age', 'Married', 'Dependents', 'Number of Dependents',\n",
    "       'Zip Code', 'Population', 'Referred a Friend', 'Number of Referrals',\n",
    "       'Tenure in Months', 'Offer_No Offer', 'Offer_Offer E', 'Offer_Offer D',\n",
    "       'Offer_Offer C', 'Offer_Offer B', 'Offer_Offer A', 'Phone Service',\n",
    "       'Avg Monthly Long Distance Charges', 'Multiple Lines',\n",
    "       'Internet Service', 'Internet Type_DSL', 'Internet Type_Fiber Optic',\n",
    "       'Internet Type_Cable', 'Internet Type_No Internet',\n",
    "       'Avg Monthly GB Download', 'Online Security', 'Online Backup',\n",
    "       'Device Protection Plan', 'Premium Tech Support', 'Streaming TV',\n",
    "       'Streaming Movies', 'Streaming Music', 'Unlimited Data',\n",
    "       'Contract_Month-to-Month', 'Contract_One Year', 'Contract_Two Year',\n",
    "       'Paperless Billing', 'Payment Method_Bank Withdrawal',\n",
    "       'Payment Method_Credit Card', 'Payment Method_Mailed Check',\n",
    "       'Monthly Charge', 'Total Charges', 'Total Refunds',\n",
    "       'Total Extra Data Charges', 'Total Long Distance Charges',\n",
    "       'Total Revenue', 'Age_cuartiles',\n",
    "       ]"
   ]
  },
  {
   "cell_type": "code",
   "execution_count": null,
   "id": "33f4b2db-1e47-41c8-b37f-e212dbee55bb",
   "metadata": {},
   "outputs": [],
   "source": [
    "KNclassifier2.fit(X = train_data[columnasSinChurn], y = train_data[\"Churn Label\"])"
   ]
  },
  {
   "cell_type": "code",
   "execution_count": null,
   "id": "06bf1189-a88a-427d-a19b-fd67b335ec0c",
   "metadata": {},
   "outputs": [],
   "source": [
    "train_metrics_kn[\"Preciction_knn2\"] = KNclassifier2.predict(train_data[columnasSinChurn]) \n",
    "\n",
    "val_metrics_kn[\"Preciction_knn2\"] = KNclassifier2.predict(val_data[columnasSinChurn])\n",
    "\n"
   ]
  },
  {
   "cell_type": "code",
   "execution_count": null,
   "id": "7b7c11ac-20fa-43e7-b529-42eb71c4ec0b",
   "metadata": {},
   "outputs": [],
   "source": [
    "print(\"Training Metrics:\")\n",
    "print(classification_report(y_true=train_metrics_kn[\"Churn Label\"], y_pred=train_metrics_kn[\"Preciction_knn2\"]))"
   ]
  },
  {
   "cell_type": "code",
   "execution_count": null,
   "id": "dd58f97f-0625-4ae5-9531-f1efae390818",
   "metadata": {},
   "outputs": [],
   "source": [
    "print(\"Training Metrics:\")\n",
    "print(classification_report(y_true=val_metrics_kn[\"Churn Label\"], y_pred=val_metrics_kn[\"Preciction_knn2\"]))"
   ]
  },
  {
   "cell_type": "code",
   "execution_count": null,
   "id": "b63bf72b-c18f-40b3-a02c-b2e0f13d93a4",
   "metadata": {},
   "outputs": [],
   "source": [
    "cm = confusion_matrix(val_metrics_kn[\"Churn Label\"], val_metrics_kn[\"Preciction_knn2\"])\n",
    "print(cm)\n",
    "# Graficar la matriz de confusión usando seaborn\n",
    "disp = ConfusionMatrixDisplay(confusion_matrix=cm)\n",
    "disp.plot(cmap='Blues')  # Puedes cambiar la paleta de colores si prefieres\n",
    "plt.show()"
   ]
  },
  {
   "cell_type": "markdown",
   "id": "7f3d79cb-8e9e-4702-83f1-150f3bdea998",
   "metadata": {},
   "source": [
    "#### CON GRID Y COLUMNAS FILTRADAS\n"
   ]
  },
  {
   "cell_type": "code",
   "execution_count": null,
   "id": "445d4bc6-8bd0-4c38-aad3-25166d946f19",
   "metadata": {},
   "outputs": [],
   "source": [
    "KNclassifierGrid = KNeighborsClassifier()"
   ]
  },
  {
   "cell_type": "code",
   "execution_count": null,
   "id": "10491126-ee43-4068-a188-b58818d16658",
   "metadata": {},
   "outputs": [],
   "source": [
    "param_grid = {\n",
    "    'n_neighbors': [5, 10, 15, 20],  # Puedes ajustar este rango según sea necesario\n",
    "    'weights': ['uniform', 'distance'],  # Probar pesos uniformes y basados en la distancia\n",
    "    'metric': ['euclidean', 'manhattan']  # Probar diferentes métricas de distancia\n",
    "}"
   ]
  },
  {
   "cell_type": "code",
   "execution_count": null,
   "id": "f0f1b1ae-4b90-4d80-b909-790ee1a1f644",
   "metadata": {},
   "outputs": [],
   "source": [
    "grid_search = GridSearchCV(\n",
    "    estimator=KNclassifierGrid,\n",
    "    param_grid=param_grid,\n",
    "    cv=5, \n",
    "    scoring='accuracy')\n"
   ]
  },
  {
   "cell_type": "code",
   "execution_count": null,
   "id": "e592b682-fe5b-4865-b7ba-6f98fad27cb9",
   "metadata": {},
   "outputs": [],
   "source": [
    "grid_search.fit(X = train_data[columnasModelo], y = train_data[\"Churn Label\"])"
   ]
  },
  {
   "cell_type": "code",
   "execution_count": null,
   "id": "d5219cc7-fa1e-46cd-8cc1-0cd4a848ef8a",
   "metadata": {},
   "outputs": [],
   "source": [
    "bestKnnGrid = grid_search.best_estimator_"
   ]
  },
  {
   "cell_type": "code",
   "execution_count": null,
   "id": "267d8711-6bc9-41c4-b9bc-8ee28a45909b",
   "metadata": {},
   "outputs": [],
   "source": [
    "print(\"Mejores parámetros encontrados:\", grid_search.best_params_)"
   ]
  },
  {
   "cell_type": "code",
   "execution_count": null,
   "id": "494ca79c-bac0-4000-abc9-c10e2082072f",
   "metadata": {},
   "outputs": [],
   "source": [
    "train_metrics_kn[\"Preciction_knn3\"] = bestKnnGrid.predict(train_data[columnasModelo]) \n",
    "\n",
    "val_metrics_kn[\"Preciction_knn3\"] = bestKnnGrid.predict(val_data[columnasModelo])"
   ]
  },
  {
   "cell_type": "code",
   "execution_count": null,
   "id": "1b32f874-03a6-4d53-bd74-2753237a830e",
   "metadata": {},
   "outputs": [],
   "source": [
    "print(\"Training Metrics:\")\n",
    "print(classification_report(y_true=train_metrics_kn[\"Churn Label\"], y_pred=train_metrics_kn[\"Preciction_knn3\"]))"
   ]
  },
  {
   "cell_type": "code",
   "execution_count": null,
   "id": "1a380a28-9dc9-47af-9882-31363192c570",
   "metadata": {},
   "outputs": [],
   "source": [
    "print(\"Training Metrics:\")\n",
    "print(classification_report(y_true=val_metrics_kn[\"Churn Label\"], y_pred=val_metrics_kn[\"Preciction_knn3\"]))"
   ]
  },
  {
   "cell_type": "code",
   "execution_count": null,
   "id": "24fa5c47-83fe-40a8-bc03-77232be95a33",
   "metadata": {},
   "outputs": [],
   "source": [
    "cm = confusion_matrix(val_metrics_kn[\"Churn Label\"], val_metrics_kn[\"Preciction_knn3\"])\n",
    "print(cm)\n",
    "# Graficar la matriz de confusión usando seaborn\n",
    "disp = ConfusionMatrixDisplay(confusion_matrix=cm)\n",
    "disp.plot(cmap='Blues')  # Puedes cambiar la paleta de colores si prefieres\n",
    "plt.show()"
   ]
  },
  {
   "cell_type": "code",
   "execution_count": null,
   "id": "af7173f4-e65e-483f-be78-76592d802e76",
   "metadata": {},
   "outputs": [],
   "source": []
  },
  {
   "cell_type": "markdown",
   "id": "9e8fcdac-e683-4ff5-bf8c-8ef81d5a94e9",
   "metadata": {},
   "source": [
    "#### CON GRID Y COLUMNAS MÁS RELEVANTES"
   ]
  },
  {
   "cell_type": "code",
   "execution_count": null,
   "id": "6f556c7d-bc6f-457a-bbb3-dc4392f90d12",
   "metadata": {},
   "outputs": [],
   "source": [
    "columnasRelevantes = [\n",
    "    'Gender',  # El género podría estar relacionado con patrones de comportamiento de uso.\n",
    "    'Age',  # La edad puede influir en el tipo de servicios contratados y la retención.\n",
    "    'Married',  # Estado civil, tal vez relacionado con la estabilidad del cliente.\n",
    "    'Tenure in Months',  # Antigüedad con la empresa, un factor clave para el churn.\n",
    "    'Phone Service',  # Tener o no servicio telefónico puede ser un indicador de compromiso.\n",
    "    'Avg Monthly Long Distance Charges',  # Cargos mensuales de larga distancia, podrían mostrar la dependencia del servicio.\n",
    "    'Multiple Lines',  # Líneas múltiples pueden indicar mayor compromiso con los servicios.\n",
    "    'Internet Service',  # Servicio de Internet como factor principal de retención.\n",
    "    'Avg Monthly GB Download',  # Uso de datos, relacionado con la intensidad del uso de los servicios.\n",
    "    'Online Security',  # Servicios adicionales que pueden influir en la lealtad del cliente.\n",
    "    'Streaming TV',  # Servicios de entretenimiento también pueden afectar la retención.\n",
    "    'Unlimited Data',  # Servicios de datos ilimitados pueden ser una ventaja competitiva.\n",
    "    'Contract_Month-to-Month',  # Clientes con contratos mensuales suelen tener mayor probabilidad de irse.\n",
    "    'Paperless Billing',  # Preferencia por facturación sin papel puede indicar un cliente más comprometido digitalmente.\n",
    "    'Payment Method_Bank Withdrawal',  # Método de pago, algunos métodos pueden asociarse a mayor estabilidad.\n",
    "    'Monthly Charge'  # El monto mensual podría ser un indicador de carga financiera.  # La satisfacción es un predictor directo de churn.\n",
    "\n",
    "]"
   ]
  },
  {
   "cell_type": "code",
   "execution_count": null,
   "id": "a445cb08-e86d-4299-b21e-a1731584e262",
   "metadata": {},
   "outputs": [],
   "source": [
    "KNclassifierGrid2 = KNeighborsClassifier()"
   ]
  },
  {
   "cell_type": "code",
   "execution_count": null,
   "id": "20623eaa-7c41-4525-98c2-c2e1bd8f5d99",
   "metadata": {},
   "outputs": [],
   "source": [
    "grid_search = GridSearchCV(estimator=KNclassifierGrid2, param_grid=param_grid, cv=5, scoring='accuracy')\n"
   ]
  },
  {
   "cell_type": "code",
   "execution_count": null,
   "id": "c60e8ee4-4153-49d6-b88a-5b4682ed4ff5",
   "metadata": {},
   "outputs": [],
   "source": [
    "grid_search.fit(X = train_data[columnasRelevantes], y = train_data[\"Churn Label\"])"
   ]
  },
  {
   "cell_type": "code",
   "execution_count": null,
   "id": "16986a32-73af-4363-9ddf-221ebb43f05e",
   "metadata": {},
   "outputs": [],
   "source": [
    "bestKnnGrid = grid_search.best_estimator_"
   ]
  },
  {
   "cell_type": "code",
   "execution_count": null,
   "id": "0461e396-8fc5-4b45-91c5-c4823ede63c6",
   "metadata": {},
   "outputs": [],
   "source": [
    "print(\"Mejores parámetros encontrados:\", grid_search.best_params_)"
   ]
  },
  {
   "cell_type": "code",
   "execution_count": null,
   "id": "b6fa5d43-e40b-478e-855f-6f24a648c5ce",
   "metadata": {},
   "outputs": [],
   "source": [
    "train_metrics_kn[\"Preciction_knn4\"] = bestKnnGrid.predict(train_data[columnasRelevantes]) \n",
    "\n",
    "val_metrics_kn[\"Preciction_knn4\"] = bestKnnGrid.predict(val_data[columnasRelevantes])"
   ]
  },
  {
   "cell_type": "code",
   "execution_count": null,
   "id": "781a2d0d-af79-4fc1-923b-10d0f41b75d5",
   "metadata": {},
   "outputs": [],
   "source": [
    "print(\"Training Metrics:\")\n",
    "print(classification_report(y_true=train_metrics_kn[\"Churn Label\"], y_pred=train_metrics_kn[\"Preciction_knn4\"]))"
   ]
  },
  {
   "cell_type": "code",
   "execution_count": null,
   "id": "347318a1-b864-4fb0-89b7-3135bfd8250d",
   "metadata": {},
   "outputs": [],
   "source": [
    "print(\"Training Metrics:\")\n",
    "print(classification_report(y_true=val_metrics_kn[\"Churn Label\"], y_pred=val_metrics_kn[\"Preciction_knn4\"]))"
   ]
  },
  {
   "cell_type": "code",
   "execution_count": null,
   "id": "8d81d3ac-9dad-4d4f-9e7b-5cd7225324af",
   "metadata": {},
   "outputs": [],
   "source": [
    "cm = confusion_matrix(val_metrics_kn[\"Churn Label\"], val_metrics_kn[\"Preciction_knn4\"])\n",
    "print(cm)\n",
    "# Graficar la matriz de confusión usando seaborn\n",
    "disp = ConfusionMatrixDisplay(confusion_matrix=cm)\n",
    "disp.plot(cmap='Blues')  # Puedes cambiar la paleta de colores si prefieres\n",
    "plt.show()"
   ]
  },
  {
   "cell_type": "markdown",
   "id": "79b8fb40-27b6-4703-b4a7-489bb2b21a5d",
   "metadata": {},
   "source": [
    "#### Verificar con el test"
   ]
  },
  {
   "cell_type": "code",
   "execution_count": null,
   "id": "b3472f94-b6c2-49d2-8729-6f4e8d802276",
   "metadata": {},
   "outputs": [],
   "source": [
    "y_pred_test = bestKnnGrid.predict(test_data[columnasRelevantes])"
   ]
  },
  {
   "cell_type": "code",
   "execution_count": null,
   "id": "bceafab8-a0b2-4b40-9328-055ce3e646c5",
   "metadata": {},
   "outputs": [],
   "source": [
    "print(\"Test Metrics:\")\n",
    "print(classification_report(test_data[\"Churn Label\"], y_pred_test))\n",
    "\n",
    "# Imprimir la matriz de confusión para el conjunto de test\n",
    "print(\"Confusion Matrix - Test:\")\n",
    "print(confusion_matrix(test_data[\"Churn Label\"], y_pred_test))"
   ]
  },
  {
   "cell_type": "code",
   "execution_count": null,
   "id": "139fffbf-24e5-4529-bf51-15c48de3eb1a",
   "metadata": {},
   "outputs": [],
   "source": [
    "### En todas las precision es muy alta"
   ]
  },
  {
   "cell_type": "markdown",
   "id": "2710d793-de17-4abf-9fe6-e1ac7d38d7fd",
   "metadata": {},
   "source": [
    "## Regresion Logistica"
   ]
  },
  {
   "cell_type": "code",
   "execution_count": 93,
   "id": "9720e74e-149f-4cbd-bff7-3655ceb73b3d",
   "metadata": {},
   "outputs": [
    {
     "name": "stderr",
     "output_type": "stream",
     "text": [
      "C:\\ProgramData\\Anaconda3\\lib\\site-packages\\sklearn\\linear_model\\_logistic.py:814: ConvergenceWarning: lbfgs failed to converge (status=1):\n",
      "STOP: TOTAL NO. of ITERATIONS REACHED LIMIT.\n",
      "\n",
      "Increase the number of iterations (max_iter) or scale the data as shown in:\n",
      "    https://scikit-learn.org/stable/modules/preprocessing.html\n",
      "Please also refer to the documentation for alternative solver options:\n",
      "    https://scikit-learn.org/stable/modules/linear_model.html#logistic-regression\n",
      "  n_iter_i = _check_optimize_result(\n"
     ]
    },
    {
     "data": {
      "text/plain": [
       "LogisticRegression(C=50, class_weight='balanced', multi_class='ovr')"
      ]
     },
     "execution_count": 93,
     "metadata": {},
     "output_type": "execute_result"
    }
   ],
   "source": [
    "# Crear y entrenar el modelo\n",
    "regresion_logistica = LogisticRegression(penalty='l2', C=50, solver='lbfgs', max_iter=100, class_weight='balanced', multi_class='ovr')\n",
    "regresion_logistica.fit(train_data[columnasModelo], train_data[\"Churn Label\"])\n"
   ]
  },
  {
   "cell_type": "code",
   "execution_count": 94,
   "id": "03355951-1ba1-4f95-9cff-a8ef4382fc44",
   "metadata": {},
   "outputs": [
    {
     "name": "stdout",
     "output_type": "stream",
     "text": [
      "Accuracy en el conjunto de entrenamiento: 0.7782961460446247\n",
      "Classification Report:\n",
      "               precision    recall  f1-score   support\n",
      "\n",
      "         0.0       0.93      0.75      0.83      3622\n",
      "         1.0       0.55      0.85      0.67      1308\n",
      "\n",
      "    accuracy                           0.78      4930\n",
      "   macro avg       0.74      0.80      0.75      4930\n",
      "weighted avg       0.83      0.78      0.79      4930\n",
      "\n"
     ]
    }
   ],
   "source": [
    "# Realizar predicciones en el conjunto de entrenamiento\n",
    "y_train_pred = regresion_logistica.predict(train_data[columnasModelo])\n",
    "\n",
    "# Evaluar el modelo en el conjunto de entrenamiento\n",
    "print(\"Accuracy en el conjunto de entrenamiento:\", accuracy_score(train_data[\"Churn Label\"], y_train_pred))\n",
    "print(\"Classification Report:\\n\", classification_report(train_data[\"Churn Label\"], y_train_pred))"
   ]
  },
  {
   "cell_type": "code",
   "execution_count": 95,
   "id": "25fb43d3-e603-4ad3-9c5f-a514f738b5ca",
   "metadata": {},
   "outputs": [
    {
     "name": "stdout",
     "output_type": "stream",
     "text": [
      "Matriz de confusión en el conjunto de entrenamiento:\n",
      " [[2730  892]\n",
      " [ 201 1107]]\n"
     ]
    }
   ],
   "source": [
    "# Matriz de confusión\n",
    "cm_train_log = confusion_matrix(train_data[\"Churn Label\"], y_train_pred)\n",
    "print(\"Matriz de confusión en el conjunto de entrenamiento:\\n\", cm_train_log)"
   ]
  },
  {
   "cell_type": "code",
   "execution_count": 96,
   "id": "dc26b95f-a2a0-43a6-a247-1c5f7cc64716",
   "metadata": {},
   "outputs": [],
   "source": [
    "# Realizar predicciones en el conjunto de validación\n",
    "y_val_pred = regresion_logistica.predict(val_data[columnasModelo])\n"
   ]
  },
  {
   "cell_type": "code",
   "execution_count": 97,
   "id": "7f7b8a11-f483-4d4a-a941-643220450e8f",
   "metadata": {},
   "outputs": [
    {
     "ename": "NameError",
     "evalue": "name 'train_metrics_kn' is not defined",
     "output_type": "error",
     "traceback": [
      "\u001b[1;31m---------------------------------------------------------------------------\u001b[0m",
      "\u001b[1;31mNameError\u001b[0m                                 Traceback (most recent call last)",
      "\u001b[1;32m~\\AppData\\Local\\Temp\\ipykernel_4032\\889087079.py\u001b[0m in \u001b[0;36m<module>\u001b[1;34m\u001b[0m\n\u001b[1;32m----> 1\u001b[1;33m \u001b[0mtrain_metrics_kn\u001b[0m\u001b[1;33m[\u001b[0m\u001b[1;34m\"Preciction_rl\"\u001b[0m\u001b[1;33m]\u001b[0m \u001b[1;33m=\u001b[0m \u001b[0mregresion_logistica\u001b[0m\u001b[1;33m.\u001b[0m\u001b[0mpredict\u001b[0m\u001b[1;33m(\u001b[0m\u001b[0mtrain_data\u001b[0m\u001b[1;33m[\u001b[0m\u001b[0mcolumnasModelo\u001b[0m\u001b[1;33m]\u001b[0m\u001b[1;33m)\u001b[0m\u001b[1;33m\u001b[0m\u001b[1;33m\u001b[0m\u001b[0m\n\u001b[0m\u001b[0;32m      2\u001b[0m \u001b[1;33m\u001b[0m\u001b[0m\n\u001b[0;32m      3\u001b[0m \u001b[0mval_metrics_kn\u001b[0m\u001b[1;33m[\u001b[0m\u001b[1;34m\"Preciction_rl\"\u001b[0m\u001b[1;33m]\u001b[0m \u001b[1;33m=\u001b[0m \u001b[0mregresion_logistica\u001b[0m\u001b[1;33m.\u001b[0m\u001b[0mpredict\u001b[0m\u001b[1;33m(\u001b[0m\u001b[0mval_data\u001b[0m\u001b[1;33m[\u001b[0m\u001b[0mcolumnasModelo\u001b[0m\u001b[1;33m]\u001b[0m\u001b[1;33m)\u001b[0m\u001b[1;33m\u001b[0m\u001b[1;33m\u001b[0m\u001b[0m\n",
      "\u001b[1;31mNameError\u001b[0m: name 'train_metrics_kn' is not defined"
     ]
    }
   ],
   "source": [
    "train_metrics_kn[\"Preciction_rl\"] = regresion_logistica.predict(train_data[columnasModelo]) \n",
    "\n",
    "val_metrics_kn[\"Preciction_rl\"] = regresion_logistica.predict(val_data[columnasModelo])"
   ]
  },
  {
   "cell_type": "code",
   "execution_count": 98,
   "id": "cf08d62a-9d3f-432c-94ab-ee632e04f07f",
   "metadata": {},
   "outputs": [
    {
     "name": "stdout",
     "output_type": "stream",
     "text": [
      "Accuracy en el conjunto de validación: 0.7831439393939394\n",
      "Classification Report:\n",
      "               precision    recall  f1-score   support\n",
      "\n",
      "         0.0       0.93      0.77      0.84       776\n",
      "         1.0       0.56      0.83      0.67       280\n",
      "\n",
      "    accuracy                           0.78      1056\n",
      "   macro avg       0.74      0.80      0.75      1056\n",
      "weighted avg       0.83      0.78      0.79      1056\n",
      "\n"
     ]
    }
   ],
   "source": [
    "\n",
    "# Evaluar el modelo\n",
    "print(\"Accuracy en el conjunto de validación:\", accuracy_score(val_data[\"Churn Label\"], y_val_pred))\n",
    "print(\"Classification Report:\\n\", classification_report(val_data[\"Churn Label\"], y_val_pred))"
   ]
  },
  {
   "cell_type": "code",
   "execution_count": 99,
   "id": "98c41283-2423-4906-820b-115291e174f6",
   "metadata": {},
   "outputs": [
    {
     "name": "stdout",
     "output_type": "stream",
     "text": [
      "Matriz de confusión validación:\n",
      " [[595 181]\n",
      " [ 48 232]]\n"
     ]
    }
   ],
   "source": [
    "# Matriz de confusión\n",
    "cm_log = confusion_matrix(val_data[\"Churn Label\"], y_val_pred)\n",
    "print(\"Matriz de confusión validación:\\n\", cm_log)"
   ]
  },
  {
   "cell_type": "code",
   "execution_count": 100,
   "id": "031b3c3b-727f-4451-ae86-db2c9bb3248c",
   "metadata": {},
   "outputs": [
    {
     "ename": "NameError",
     "evalue": "name 'cm' is not defined",
     "output_type": "error",
     "traceback": [
      "\u001b[1;31m---------------------------------------------------------------------------\u001b[0m",
      "\u001b[1;31mNameError\u001b[0m                                 Traceback (most recent call last)",
      "\u001b[1;32m~\\AppData\\Local\\Temp\\ipykernel_4032\\939746158.py\u001b[0m in \u001b[0;36m<module>\u001b[1;34m\u001b[0m\n\u001b[0;32m      1\u001b[0m \u001b[1;31m# Graficar la matriz de confusión\u001b[0m\u001b[1;33m\u001b[0m\u001b[1;33m\u001b[0m\u001b[0m\n\u001b[1;32m----> 2\u001b[1;33m \u001b[0mdisp\u001b[0m \u001b[1;33m=\u001b[0m \u001b[0mConfusionMatrixDisplay\u001b[0m\u001b[1;33m(\u001b[0m\u001b[0mconfusion_matrix\u001b[0m\u001b[1;33m=\u001b[0m\u001b[0mcm\u001b[0m\u001b[1;33m)\u001b[0m\u001b[1;33m\u001b[0m\u001b[1;33m\u001b[0m\u001b[0m\n\u001b[0m\u001b[0;32m      3\u001b[0m \u001b[0mdisp\u001b[0m\u001b[1;33m.\u001b[0m\u001b[0mplot\u001b[0m\u001b[1;33m(\u001b[0m\u001b[0mcmap\u001b[0m\u001b[1;33m=\u001b[0m\u001b[1;34m'Blues'\u001b[0m\u001b[1;33m)\u001b[0m  \u001b[1;31m# Puedes cambiar la paleta de colores si prefieres\u001b[0m\u001b[1;33m\u001b[0m\u001b[1;33m\u001b[0m\u001b[0m\n\u001b[0;32m      4\u001b[0m \u001b[0mplt\u001b[0m\u001b[1;33m.\u001b[0m\u001b[0mshow\u001b[0m\u001b[1;33m(\u001b[0m\u001b[1;33m)\u001b[0m\u001b[1;33m\u001b[0m\u001b[1;33m\u001b[0m\u001b[0m\n",
      "\u001b[1;31mNameError\u001b[0m: name 'cm' is not defined"
     ]
    }
   ],
   "source": [
    "# Graficar la matriz de confusión\n",
    "disp = ConfusionMatrixDisplay(confusion_matrix=cm)\n",
    "disp.plot(cmap='Blues')  # Puedes cambiar la paleta de colores si prefieres\n",
    "plt.show()"
   ]
  },
  {
   "cell_type": "code",
   "execution_count": 101,
   "id": "d1920e4f",
   "metadata": {},
   "outputs": [
    {
     "data": {
      "text/plain": [
       "<sklearn.metrics._plot.confusion_matrix.ConfusionMatrixDisplay at 0x2a06eb97580>"
      ]
     },
     "execution_count": 101,
     "metadata": {},
     "output_type": "execute_result"
    },
    {
     "data": {
      "image/png": "[encoded data removed]",
      "text/plain": [
       "<Figure size 640x480 with 2 Axes>"
      ]
     },
     "metadata": {},
     "output_type": "display_data"
    }
   ],
   "source": [
    "ConfusionMatrixDisplay.from_predictions(y_true=val_data[\"Churn Label\"], y_pred = y_val_pred)"
   ]
  },
  {
   "cell_type": "code",
   "execution_count": 102,
   "id": "494f39a1",
   "metadata": {},
   "outputs": [],
   "source": [
    "val_data_ = val_data"
   ]
  },
  {
   "cell_type": "code",
   "execution_count": 103,
   "id": "df3f1f3f",
   "metadata": {},
   "outputs": [],
   "source": [
    "val_data_[\"prediction\"] = y_val_pred"
   ]
  },
  {
   "cell_type": "code",
   "execution_count": 104,
   "id": "d45a51a4",
   "metadata": {},
   "outputs": [
    {
     "data": {
      "text/html": [
       "<div>\n",
       "<style scoped>\n",
       "    .dataframe tbody tr th:only-of-type {\n",
       "        vertical-align: middle;\n",
       "    }\n",
       "\n",
       "    .dataframe tbody tr th {\n",
       "        vertical-align: top;\n",
       "    }\n",
       "\n",
       "    .dataframe thead th {\n",
       "        text-align: right;\n",
       "    }\n",
       "</style>\n",
       "<table border=\"1\" class=\"dataframe\">\n",
       "  <thead>\n",
       "    <tr style=\"text-align: right;\">\n",
       "      <th></th>\n",
       "      <th>Gender</th>\n",
       "      <th>Age</th>\n",
       "      <th>Married</th>\n",
       "      <th>Dependents</th>\n",
       "      <th>Number of Dependents</th>\n",
       "      <th>Zip Code</th>\n",
       "      <th>Population</th>\n",
       "      <th>Referred a Friend</th>\n",
       "      <th>Number of Referrals</th>\n",
       "      <th>Tenure in Months</th>\n",
       "      <th>Offer_None</th>\n",
       "      <th>Offer_Offer E</th>\n",
       "      <th>Offer_Offer D</th>\n",
       "      <th>Offer_Offer C</th>\n",
       "      <th>Offer_Offer B</th>\n",
       "      <th>Offer_Offer A</th>\n",
       "      <th>Phone Service</th>\n",
       "      <th>Avg Monthly Long Distance Charges</th>\n",
       "      <th>Multiple Lines</th>\n",
       "      <th>Internet Service</th>\n",
       "      <th>Internet Type_DSL</th>\n",
       "      <th>Internet Type_Fiber Optic</th>\n",
       "      <th>Internet Type_Cable</th>\n",
       "      <th>Internet Type_None</th>\n",
       "      <th>Avg Monthly GB Download</th>\n",
       "      <th>Online Security</th>\n",
       "      <th>Online Backup</th>\n",
       "      <th>Device Protection Plan</th>\n",
       "      <th>Premium Tech Support</th>\n",
       "      <th>Streaming TV</th>\n",
       "      <th>Streaming Movies</th>\n",
       "      <th>Streaming Music</th>\n",
       "      <th>Unlimited Data</th>\n",
       "      <th>Contract_Month-to-Month</th>\n",
       "      <th>Contract_One Year</th>\n",
       "      <th>Contract_Two Year</th>\n",
       "      <th>Paperless Billing</th>\n",
       "      <th>Payment Method_Bank Withdrawal</th>\n",
       "      <th>Payment Method_Credit Card</th>\n",
       "      <th>Payment Method_Mailed Check</th>\n",
       "      <th>Monthly Charge</th>\n",
       "      <th>Total Charges</th>\n",
       "      <th>Total Refunds</th>\n",
       "      <th>Total Extra Data Charges</th>\n",
       "      <th>Total Long Distance Charges</th>\n",
       "      <th>Total Revenue</th>\n",
       "      <th>Satisfaction Score</th>\n",
       "      <th>Churn Label</th>\n",
       "      <th>Age_cuartiles</th>\n",
       "      <th>Satisfaction_Level</th>\n",
       "      <th>prediction</th>\n",
       "    </tr>\n",
       "  </thead>\n",
       "  <tbody>\n",
       "    <tr>\n",
       "      <th>0</th>\n",
       "      <td>0.0</td>\n",
       "      <td>0.278689</td>\n",
       "      <td>0.0</td>\n",
       "      <td>0.0</td>\n",
       "      <td>0.000</td>\n",
       "      <td>0.344284</td>\n",
       "      <td>0.228755</td>\n",
       "      <td>0.0</td>\n",
       "      <td>0.000000</td>\n",
       "      <td>0.000000</td>\n",
       "      <td>1.0</td>\n",
       "      <td>0.0</td>\n",
       "      <td>0.0</td>\n",
       "      <td>0.0</td>\n",
       "      <td>0.0</td>\n",
       "      <td>0.0</td>\n",
       "      <td>1.0</td>\n",
       "      <td>0.118824</td>\n",
       "      <td>1.0</td>\n",
       "      <td>1.0</td>\n",
       "      <td>0.0</td>\n",
       "      <td>1.0</td>\n",
       "      <td>0.0</td>\n",
       "      <td>0.0</td>\n",
       "      <td>0.094118</td>\n",
       "      <td>0.0</td>\n",
       "      <td>0.0</td>\n",
       "      <td>0.0</td>\n",
       "      <td>0.0</td>\n",
       "      <td>0.0</td>\n",
       "      <td>0.0</td>\n",
       "      <td>0.0</td>\n",
       "      <td>1.0</td>\n",
       "      <td>1.0</td>\n",
       "      <td>0.0</td>\n",
       "      <td>0.0</td>\n",
       "      <td>1.0</td>\n",
       "      <td>1.0</td>\n",
       "      <td>0.0</td>\n",
       "      <td>0.0</td>\n",
       "      <td>0.565672</td>\n",
       "      <td>0.006497</td>\n",
       "      <td>0.000000</td>\n",
       "      <td>0.0</td>\n",
       "      <td>0.001666</td>\n",
       "      <td>0.004987</td>\n",
       "      <td>0.25</td>\n",
       "      <td>1.0</td>\n",
       "      <td>0.0</td>\n",
       "      <td>0.0</td>\n",
       "      <td>1.0</td>\n",
       "    </tr>\n",
       "    <tr>\n",
       "      <th>1</th>\n",
       "      <td>0.0</td>\n",
       "      <td>0.704918</td>\n",
       "      <td>0.0</td>\n",
       "      <td>0.0</td>\n",
       "      <td>0.000</td>\n",
       "      <td>0.916734</td>\n",
       "      <td>0.016471</td>\n",
       "      <td>0.0</td>\n",
       "      <td>0.000000</td>\n",
       "      <td>0.971831</td>\n",
       "      <td>0.0</td>\n",
       "      <td>0.0</td>\n",
       "      <td>0.0</td>\n",
       "      <td>0.0</td>\n",
       "      <td>0.0</td>\n",
       "      <td>1.0</td>\n",
       "      <td>0.0</td>\n",
       "      <td>0.000000</td>\n",
       "      <td>0.0</td>\n",
       "      <td>1.0</td>\n",
       "      <td>1.0</td>\n",
       "      <td>0.0</td>\n",
       "      <td>0.0</td>\n",
       "      <td>0.0</td>\n",
       "      <td>0.129412</td>\n",
       "      <td>1.0</td>\n",
       "      <td>1.0</td>\n",
       "      <td>1.0</td>\n",
       "      <td>1.0</td>\n",
       "      <td>0.0</td>\n",
       "      <td>0.0</td>\n",
       "      <td>0.0</td>\n",
       "      <td>1.0</td>\n",
       "      <td>0.0</td>\n",
       "      <td>0.0</td>\n",
       "      <td>1.0</td>\n",
       "      <td>1.0</td>\n",
       "      <td>1.0</td>\n",
       "      <td>0.0</td>\n",
       "      <td>0.0</td>\n",
       "      <td>0.262189</td>\n",
       "      <td>0.350721</td>\n",
       "      <td>0.000000</td>\n",
       "      <td>0.0</td>\n",
       "      <td>0.000000</td>\n",
       "      <td>0.253953</td>\n",
       "      <td>0.50</td>\n",
       "      <td>0.0</td>\n",
       "      <td>0.0</td>\n",
       "      <td>0.5</td>\n",
       "      <td>0.0</td>\n",
       "    </tr>\n",
       "    <tr>\n",
       "      <th>2</th>\n",
       "      <td>0.0</td>\n",
       "      <td>0.065574</td>\n",
       "      <td>0.0</td>\n",
       "      <td>0.0</td>\n",
       "      <td>0.000</td>\n",
       "      <td>0.345747</td>\n",
       "      <td>0.190313</td>\n",
       "      <td>0.0</td>\n",
       "      <td>0.000000</td>\n",
       "      <td>0.309859</td>\n",
       "      <td>1.0</td>\n",
       "      <td>0.0</td>\n",
       "      <td>0.0</td>\n",
       "      <td>0.0</td>\n",
       "      <td>0.0</td>\n",
       "      <td>0.0</td>\n",
       "      <td>1.0</td>\n",
       "      <td>0.399280</td>\n",
       "      <td>0.0</td>\n",
       "      <td>1.0</td>\n",
       "      <td>0.0</td>\n",
       "      <td>1.0</td>\n",
       "      <td>0.0</td>\n",
       "      <td>0.0</td>\n",
       "      <td>0.894118</td>\n",
       "      <td>0.0</td>\n",
       "      <td>1.0</td>\n",
       "      <td>1.0</td>\n",
       "      <td>1.0</td>\n",
       "      <td>0.0</td>\n",
       "      <td>0.0</td>\n",
       "      <td>0.0</td>\n",
       "      <td>1.0</td>\n",
       "      <td>1.0</td>\n",
       "      <td>0.0</td>\n",
       "      <td>0.0</td>\n",
       "      <td>0.0</td>\n",
       "      <td>1.0</td>\n",
       "      <td>0.0</td>\n",
       "      <td>0.0</td>\n",
       "      <td>0.646269</td>\n",
       "      <td>0.232345</td>\n",
       "      <td>0.477807</td>\n",
       "      <td>0.0</td>\n",
       "      <td>0.128784</td>\n",
       "      <td>0.204566</td>\n",
       "      <td>0.50</td>\n",
       "      <td>0.0</td>\n",
       "      <td>0.0</td>\n",
       "      <td>0.5</td>\n",
       "      <td>0.0</td>\n",
       "    </tr>\n",
       "    <tr>\n",
       "      <th>3</th>\n",
       "      <td>1.0</td>\n",
       "      <td>0.918033</td>\n",
       "      <td>1.0</td>\n",
       "      <td>0.0</td>\n",
       "      <td>0.000</td>\n",
       "      <td>0.557977</td>\n",
       "      <td>0.011323</td>\n",
       "      <td>1.0</td>\n",
       "      <td>0.636364</td>\n",
       "      <td>0.943662</td>\n",
       "      <td>0.0</td>\n",
       "      <td>0.0</td>\n",
       "      <td>0.0</td>\n",
       "      <td>0.0</td>\n",
       "      <td>0.0</td>\n",
       "      <td>1.0</td>\n",
       "      <td>1.0</td>\n",
       "      <td>0.686337</td>\n",
       "      <td>1.0</td>\n",
       "      <td>1.0</td>\n",
       "      <td>0.0</td>\n",
       "      <td>1.0</td>\n",
       "      <td>0.0</td>\n",
       "      <td>0.0</td>\n",
       "      <td>0.176471</td>\n",
       "      <td>0.0</td>\n",
       "      <td>0.0</td>\n",
       "      <td>1.0</td>\n",
       "      <td>0.0</td>\n",
       "      <td>0.0</td>\n",
       "      <td>0.0</td>\n",
       "      <td>0.0</td>\n",
       "      <td>1.0</td>\n",
       "      <td>0.0</td>\n",
       "      <td>1.0</td>\n",
       "      <td>0.0</td>\n",
       "      <td>1.0</td>\n",
       "      <td>0.0</td>\n",
       "      <td>1.0</td>\n",
       "      <td>0.0</td>\n",
       "      <td>0.617910</td>\n",
       "      <td>0.642799</td>\n",
       "      <td>0.000000</td>\n",
       "      <td>0.0</td>\n",
       "      <td>0.654492</td>\n",
       "      <td>0.660731</td>\n",
       "      <td>0.75</td>\n",
       "      <td>0.0</td>\n",
       "      <td>0.0</td>\n",
       "      <td>1.0</td>\n",
       "      <td>0.0</td>\n",
       "    </tr>\n",
       "    <tr>\n",
       "      <th>4</th>\n",
       "      <td>1.0</td>\n",
       "      <td>0.655738</td>\n",
       "      <td>0.0</td>\n",
       "      <td>0.0</td>\n",
       "      <td>0.000</td>\n",
       "      <td>0.980159</td>\n",
       "      <td>0.017963</td>\n",
       "      <td>0.0</td>\n",
       "      <td>0.000000</td>\n",
       "      <td>0.000000</td>\n",
       "      <td>0.0</td>\n",
       "      <td>1.0</td>\n",
       "      <td>0.0</td>\n",
       "      <td>0.0</td>\n",
       "      <td>0.0</td>\n",
       "      <td>0.0</td>\n",
       "      <td>1.0</td>\n",
       "      <td>0.601520</td>\n",
       "      <td>1.0</td>\n",
       "      <td>1.0</td>\n",
       "      <td>0.0</td>\n",
       "      <td>1.0</td>\n",
       "      <td>0.0</td>\n",
       "      <td>0.0</td>\n",
       "      <td>0.305882</td>\n",
       "      <td>0.0</td>\n",
       "      <td>0.0</td>\n",
       "      <td>0.0</td>\n",
       "      <td>0.0</td>\n",
       "      <td>0.0</td>\n",
       "      <td>0.0</td>\n",
       "      <td>0.0</td>\n",
       "      <td>1.0</td>\n",
       "      <td>1.0</td>\n",
       "      <td>0.0</td>\n",
       "      <td>0.0</td>\n",
       "      <td>1.0</td>\n",
       "      <td>1.0</td>\n",
       "      <td>0.0</td>\n",
       "      <td>0.0</td>\n",
       "      <td>0.564179</td>\n",
       "      <td>0.006479</td>\n",
       "      <td>0.000000</td>\n",
       "      <td>0.0</td>\n",
       "      <td>0.008435</td>\n",
       "      <td>0.006993</td>\n",
       "      <td>0.00</td>\n",
       "      <td>1.0</td>\n",
       "      <td>0.0</td>\n",
       "      <td>0.0</td>\n",
       "      <td>1.0</td>\n",
       "    </tr>\n",
       "    <tr>\n",
       "      <th>...</th>\n",
       "      <td>...</td>\n",
       "      <td>...</td>\n",
       "      <td>...</td>\n",
       "      <td>...</td>\n",
       "      <td>...</td>\n",
       "      <td>...</td>\n",
       "      <td>...</td>\n",
       "      <td>...</td>\n",
       "      <td>...</td>\n",
       "      <td>...</td>\n",
       "      <td>...</td>\n",
       "      <td>...</td>\n",
       "      <td>...</td>\n",
       "      <td>...</td>\n",
       "      <td>...</td>\n",
       "      <td>...</td>\n",
       "      <td>...</td>\n",
       "      <td>...</td>\n",
       "      <td>...</td>\n",
       "      <td>...</td>\n",
       "      <td>...</td>\n",
       "      <td>...</td>\n",
       "      <td>...</td>\n",
       "      <td>...</td>\n",
       "      <td>...</td>\n",
       "      <td>...</td>\n",
       "      <td>...</td>\n",
       "      <td>...</td>\n",
       "      <td>...</td>\n",
       "      <td>...</td>\n",
       "      <td>...</td>\n",
       "      <td>...</td>\n",
       "      <td>...</td>\n",
       "      <td>...</td>\n",
       "      <td>...</td>\n",
       "      <td>...</td>\n",
       "      <td>...</td>\n",
       "      <td>...</td>\n",
       "      <td>...</td>\n",
       "      <td>...</td>\n",
       "      <td>...</td>\n",
       "      <td>...</td>\n",
       "      <td>...</td>\n",
       "      <td>...</td>\n",
       "      <td>...</td>\n",
       "      <td>...</td>\n",
       "      <td>...</td>\n",
       "      <td>...</td>\n",
       "      <td>...</td>\n",
       "      <td>...</td>\n",
       "      <td>...</td>\n",
       "    </tr>\n",
       "    <tr>\n",
       "      <th>1051</th>\n",
       "      <td>1.0</td>\n",
       "      <td>0.245902</td>\n",
       "      <td>1.0</td>\n",
       "      <td>1.0</td>\n",
       "      <td>0.125</td>\n",
       "      <td>0.439584</td>\n",
       "      <td>0.866092</td>\n",
       "      <td>1.0</td>\n",
       "      <td>0.818182</td>\n",
       "      <td>0.521127</td>\n",
       "      <td>1.0</td>\n",
       "      <td>0.0</td>\n",
       "      <td>0.0</td>\n",
       "      <td>0.0</td>\n",
       "      <td>0.0</td>\n",
       "      <td>0.0</td>\n",
       "      <td>1.0</td>\n",
       "      <td>0.484497</td>\n",
       "      <td>1.0</td>\n",
       "      <td>1.0</td>\n",
       "      <td>0.0</td>\n",
       "      <td>1.0</td>\n",
       "      <td>0.0</td>\n",
       "      <td>0.0</td>\n",
       "      <td>0.164706</td>\n",
       "      <td>0.0</td>\n",
       "      <td>0.0</td>\n",
       "      <td>1.0</td>\n",
       "      <td>0.0</td>\n",
       "      <td>1.0</td>\n",
       "      <td>1.0</td>\n",
       "      <td>1.0</td>\n",
       "      <td>1.0</td>\n",
       "      <td>1.0</td>\n",
       "      <td>0.0</td>\n",
       "      <td>0.0</td>\n",
       "      <td>1.0</td>\n",
       "      <td>0.0</td>\n",
       "      <td>1.0</td>\n",
       "      <td>0.0</td>\n",
       "      <td>0.824876</td>\n",
       "      <td>0.454408</td>\n",
       "      <td>0.000000</td>\n",
       "      <td>0.0</td>\n",
       "      <td>0.258186</td>\n",
       "      <td>0.406062</td>\n",
       "      <td>0.50</td>\n",
       "      <td>0.0</td>\n",
       "      <td>0.0</td>\n",
       "      <td>0.5</td>\n",
       "      <td>1.0</td>\n",
       "    </tr>\n",
       "    <tr>\n",
       "      <th>1052</th>\n",
       "      <td>1.0</td>\n",
       "      <td>0.147541</td>\n",
       "      <td>0.0</td>\n",
       "      <td>0.0</td>\n",
       "      <td>0.000</td>\n",
       "      <td>0.527078</td>\n",
       "      <td>0.027443</td>\n",
       "      <td>0.0</td>\n",
       "      <td>0.000000</td>\n",
       "      <td>0.042254</td>\n",
       "      <td>1.0</td>\n",
       "      <td>0.0</td>\n",
       "      <td>0.0</td>\n",
       "      <td>0.0</td>\n",
       "      <td>0.0</td>\n",
       "      <td>0.0</td>\n",
       "      <td>1.0</td>\n",
       "      <td>0.907582</td>\n",
       "      <td>0.0</td>\n",
       "      <td>0.0</td>\n",
       "      <td>0.0</td>\n",
       "      <td>0.0</td>\n",
       "      <td>0.0</td>\n",
       "      <td>1.0</td>\n",
       "      <td>0.000000</td>\n",
       "      <td>0.0</td>\n",
       "      <td>0.0</td>\n",
       "      <td>0.0</td>\n",
       "      <td>0.0</td>\n",
       "      <td>0.0</td>\n",
       "      <td>0.0</td>\n",
       "      <td>0.0</td>\n",
       "      <td>0.0</td>\n",
       "      <td>1.0</td>\n",
       "      <td>0.0</td>\n",
       "      <td>0.0</td>\n",
       "      <td>0.0</td>\n",
       "      <td>0.0</td>\n",
       "      <td>1.0</td>\n",
       "      <td>0.0</td>\n",
       "      <td>0.024378</td>\n",
       "      <td>0.006260</td>\n",
       "      <td>0.000000</td>\n",
       "      <td>0.0</td>\n",
       "      <td>0.050910</td>\n",
       "      <td>0.019496</td>\n",
       "      <td>1.00</td>\n",
       "      <td>0.0</td>\n",
       "      <td>0.0</td>\n",
       "      <td>1.0</td>\n",
       "      <td>0.0</td>\n",
       "    </tr>\n",
       "    <tr>\n",
       "      <th>1053</th>\n",
       "      <td>0.0</td>\n",
       "      <td>0.606557</td>\n",
       "      <td>1.0</td>\n",
       "      <td>0.0</td>\n",
       "      <td>0.000</td>\n",
       "      <td>0.992682</td>\n",
       "      <td>0.006070</td>\n",
       "      <td>1.0</td>\n",
       "      <td>0.272727</td>\n",
       "      <td>0.676056</td>\n",
       "      <td>1.0</td>\n",
       "      <td>0.0</td>\n",
       "      <td>0.0</td>\n",
       "      <td>0.0</td>\n",
       "      <td>0.0</td>\n",
       "      <td>0.0</td>\n",
       "      <td>1.0</td>\n",
       "      <td>0.442088</td>\n",
       "      <td>0.0</td>\n",
       "      <td>0.0</td>\n",
       "      <td>0.0</td>\n",
       "      <td>0.0</td>\n",
       "      <td>0.0</td>\n",
       "      <td>1.0</td>\n",
       "      <td>0.000000</td>\n",
       "      <td>0.0</td>\n",
       "      <td>0.0</td>\n",
       "      <td>0.0</td>\n",
       "      <td>0.0</td>\n",
       "      <td>0.0</td>\n",
       "      <td>0.0</td>\n",
       "      <td>0.0</td>\n",
       "      <td>0.0</td>\n",
       "      <td>0.0</td>\n",
       "      <td>1.0</td>\n",
       "      <td>0.0</td>\n",
       "      <td>1.0</td>\n",
       "      <td>1.0</td>\n",
       "      <td>0.0</td>\n",
       "      <td>0.0</td>\n",
       "      <td>0.017910</td>\n",
       "      <td>0.104350</td>\n",
       "      <td>0.000000</td>\n",
       "      <td>0.0</td>\n",
       "      <td>0.303783</td>\n",
       "      <td>0.165965</td>\n",
       "      <td>1.00</td>\n",
       "      <td>0.0</td>\n",
       "      <td>0.0</td>\n",
       "      <td>1.0</td>\n",
       "      <td>0.0</td>\n",
       "    </tr>\n",
       "    <tr>\n",
       "      <th>1054</th>\n",
       "      <td>1.0</td>\n",
       "      <td>0.131148</td>\n",
       "      <td>1.0</td>\n",
       "      <td>1.0</td>\n",
       "      <td>0.375</td>\n",
       "      <td>0.883884</td>\n",
       "      <td>0.058941</td>\n",
       "      <td>1.0</td>\n",
       "      <td>0.090909</td>\n",
       "      <td>0.859155</td>\n",
       "      <td>1.0</td>\n",
       "      <td>0.0</td>\n",
       "      <td>0.0</td>\n",
       "      <td>0.0</td>\n",
       "      <td>0.0</td>\n",
       "      <td>0.0</td>\n",
       "      <td>1.0</td>\n",
       "      <td>0.793559</td>\n",
       "      <td>0.0</td>\n",
       "      <td>1.0</td>\n",
       "      <td>0.0</td>\n",
       "      <td>1.0</td>\n",
       "      <td>0.0</td>\n",
       "      <td>0.0</td>\n",
       "      <td>0.482353</td>\n",
       "      <td>1.0</td>\n",
       "      <td>1.0</td>\n",
       "      <td>0.0</td>\n",
       "      <td>0.0</td>\n",
       "      <td>0.0</td>\n",
       "      <td>0.0</td>\n",
       "      <td>0.0</td>\n",
       "      <td>1.0</td>\n",
       "      <td>0.0</td>\n",
       "      <td>1.0</td>\n",
       "      <td>0.0</td>\n",
       "      <td>1.0</td>\n",
       "      <td>0.0</td>\n",
       "      <td>1.0</td>\n",
       "      <td>0.0</td>\n",
       "      <td>0.628856</td>\n",
       "      <td>0.572842</td>\n",
       "      <td>0.284194</td>\n",
       "      <td>0.0</td>\n",
       "      <td>0.689967</td>\n",
       "      <td>0.619424</td>\n",
       "      <td>0.50</td>\n",
       "      <td>0.0</td>\n",
       "      <td>0.0</td>\n",
       "      <td>0.5</td>\n",
       "      <td>0.0</td>\n",
       "    </tr>\n",
       "    <tr>\n",
       "      <th>1055</th>\n",
       "      <td>1.0</td>\n",
       "      <td>0.163934</td>\n",
       "      <td>0.0</td>\n",
       "      <td>1.0</td>\n",
       "      <td>0.375</td>\n",
       "      <td>0.937388</td>\n",
       "      <td>0.147073</td>\n",
       "      <td>0.0</td>\n",
       "      <td>0.000000</td>\n",
       "      <td>0.563380</td>\n",
       "      <td>1.0</td>\n",
       "      <td>0.0</td>\n",
       "      <td>0.0</td>\n",
       "      <td>0.0</td>\n",
       "      <td>0.0</td>\n",
       "      <td>0.0</td>\n",
       "      <td>1.0</td>\n",
       "      <td>0.611722</td>\n",
       "      <td>0.0</td>\n",
       "      <td>1.0</td>\n",
       "      <td>0.0</td>\n",
       "      <td>1.0</td>\n",
       "      <td>0.0</td>\n",
       "      <td>0.0</td>\n",
       "      <td>0.694118</td>\n",
       "      <td>1.0</td>\n",
       "      <td>1.0</td>\n",
       "      <td>1.0</td>\n",
       "      <td>1.0</td>\n",
       "      <td>1.0</td>\n",
       "      <td>1.0</td>\n",
       "      <td>1.0</td>\n",
       "      <td>1.0</td>\n",
       "      <td>0.0</td>\n",
       "      <td>0.0</td>\n",
       "      <td>1.0</td>\n",
       "      <td>1.0</td>\n",
       "      <td>1.0</td>\n",
       "      <td>0.0</td>\n",
       "      <td>0.0</td>\n",
       "      <td>0.924378</td>\n",
       "      <td>0.517926</td>\n",
       "      <td>0.000000</td>\n",
       "      <td>0.0</td>\n",
       "      <td>0.351719</td>\n",
       "      <td>0.479976</td>\n",
       "      <td>1.00</td>\n",
       "      <td>0.0</td>\n",
       "      <td>0.0</td>\n",
       "      <td>1.0</td>\n",
       "      <td>0.0</td>\n",
       "    </tr>\n",
       "  </tbody>\n",
       "</table>\n",
       "<p>1056 rows × 51 columns</p>\n",
       "</div>"
      ],
      "text/plain": [
       "      Gender       Age  Married  Dependents  Number of Dependents  Zip Code  \\\n",
       "0        0.0  0.278689      0.0         0.0                 0.000  0.344284   \n",
       "1        0.0  0.704918      0.0         0.0                 0.000  0.916734   \n",
       "2        0.0  0.065574      0.0         0.0                 0.000  0.345747   \n",
       "3        1.0  0.918033      1.0         0.0                 0.000  0.557977   \n",
       "4        1.0  0.655738      0.0         0.0                 0.000  0.980159   \n",
       "...      ...       ...      ...         ...                   ...       ...   \n",
       "1051     1.0  0.245902      1.0         1.0                 0.125  0.439584   \n",
       "1052     1.0  0.147541      0.0         0.0                 0.000  0.527078   \n",
       "1053     0.0  0.606557      1.0         0.0                 0.000  0.992682   \n",
       "1054     1.0  0.131148      1.0         1.0                 0.375  0.883884   \n",
       "1055     1.0  0.163934      0.0         1.0                 0.375  0.937388   \n",
       "\n",
       "      Population  Referred a Friend  Number of Referrals  Tenure in Months  \\\n",
       "0       0.228755                0.0             0.000000          0.000000   \n",
       "1       0.016471                0.0             0.000000          0.971831   \n",
       "2       0.190313                0.0             0.000000          0.309859   \n",
       "3       0.011323                1.0             0.636364          0.943662   \n",
       "4       0.017963                0.0             0.000000          0.000000   \n",
       "...          ...                ...                  ...               ...   \n",
       "1051    0.866092                1.0             0.818182          0.521127   \n",
       "1052    0.027443                0.0             0.000000          0.042254   \n",
       "1053    0.006070                1.0             0.272727          0.676056   \n",
       "1054    0.058941                1.0             0.090909          0.859155   \n",
       "1055    0.147073                0.0             0.000000          0.563380   \n",
       "\n",
       "      Offer_None  Offer_Offer E  Offer_Offer D  Offer_Offer C  Offer_Offer B  \\\n",
       "0            1.0            0.0            0.0            0.0            0.0   \n",
       "1            0.0            0.0            0.0            0.0            0.0   \n",
       "2            1.0            0.0            0.0            0.0            0.0   \n",
       "3            0.0            0.0            0.0            0.0            0.0   \n",
       "4            0.0            1.0            0.0            0.0            0.0   \n",
       "...          ...            ...            ...            ...            ...   \n",
       "1051         1.0            0.0            0.0            0.0            0.0   \n",
       "1052         1.0            0.0            0.0            0.0            0.0   \n",
       "1053         1.0            0.0            0.0            0.0            0.0   \n",
       "1054         1.0            0.0            0.0            0.0            0.0   \n",
       "1055         1.0            0.0            0.0            0.0            0.0   \n",
       "\n",
       "      Offer_Offer A  Phone Service  Avg Monthly Long Distance Charges  \\\n",
       "0               0.0            1.0                           0.118824   \n",
       "1               1.0            0.0                           0.000000   \n",
       "2               0.0            1.0                           0.399280   \n",
       "3               1.0            1.0                           0.686337   \n",
       "4               0.0            1.0                           0.601520   \n",
       "...             ...            ...                                ...   \n",
       "1051            0.0            1.0                           0.484497   \n",
       "1052            0.0            1.0                           0.907582   \n",
       "1053            0.0            1.0                           0.442088   \n",
       "1054            0.0            1.0                           0.793559   \n",
       "1055            0.0            1.0                           0.611722   \n",
       "\n",
       "      Multiple Lines  Internet Service  Internet Type_DSL  \\\n",
       "0                1.0               1.0                0.0   \n",
       "1                0.0               1.0                1.0   \n",
       "2                0.0               1.0                0.0   \n",
       "3                1.0               1.0                0.0   \n",
       "4                1.0               1.0                0.0   \n",
       "...              ...               ...                ...   \n",
       "1051             1.0               1.0                0.0   \n",
       "1052             0.0               0.0                0.0   \n",
       "1053             0.0               0.0                0.0   \n",
       "1054             0.0               1.0                0.0   \n",
       "1055             0.0               1.0                0.0   \n",
       "\n",
       "      Internet Type_Fiber Optic  Internet Type_Cable  Internet Type_None  \\\n",
       "0                           1.0                  0.0                 0.0   \n",
       "1                           0.0                  0.0                 0.0   \n",
       "2                           1.0                  0.0                 0.0   \n",
       "3                           1.0                  0.0                 0.0   \n",
       "4                           1.0                  0.0                 0.0   \n",
       "...                         ...                  ...                 ...   \n",
       "1051                        1.0                  0.0                 0.0   \n",
       "1052                        0.0                  0.0                 1.0   \n",
       "1053                        0.0                  0.0                 1.0   \n",
       "1054                        1.0                  0.0                 0.0   \n",
       "1055                        1.0                  0.0                 0.0   \n",
       "\n",
       "      Avg Monthly GB Download  Online Security  Online Backup  \\\n",
       "0                    0.094118              0.0            0.0   \n",
       "1                    0.129412              1.0            1.0   \n",
       "2                    0.894118              0.0            1.0   \n",
       "3                    0.176471              0.0            0.0   \n",
       "4                    0.305882              0.0            0.0   \n",
       "...                       ...              ...            ...   \n",
       "1051                 0.164706              0.0            0.0   \n",
       "1052                 0.000000              0.0            0.0   \n",
       "1053                 0.000000              0.0            0.0   \n",
       "1054                 0.482353              1.0            1.0   \n",
       "1055                 0.694118              1.0            1.0   \n",
       "\n",
       "      Device Protection Plan  Premium Tech Support  Streaming TV  \\\n",
       "0                        0.0                   0.0           0.0   \n",
       "1                        1.0                   1.0           0.0   \n",
       "2                        1.0                   1.0           0.0   \n",
       "3                        1.0                   0.0           0.0   \n",
       "4                        0.0                   0.0           0.0   \n",
       "...                      ...                   ...           ...   \n",
       "1051                     1.0                   0.0           1.0   \n",
       "1052                     0.0                   0.0           0.0   \n",
       "1053                     0.0                   0.0           0.0   \n",
       "1054                     0.0                   0.0           0.0   \n",
       "1055                     1.0                   1.0           1.0   \n",
       "\n",
       "      Streaming Movies  Streaming Music  Unlimited Data  \\\n",
       "0                  0.0              0.0             1.0   \n",
       "1                  0.0              0.0             1.0   \n",
       "2                  0.0              0.0             1.0   \n",
       "3                  0.0              0.0             1.0   \n",
       "4                  0.0              0.0             1.0   \n",
       "...                ...              ...             ...   \n",
       "1051               1.0              1.0             1.0   \n",
       "1052               0.0              0.0             0.0   \n",
       "1053               0.0              0.0             0.0   \n",
       "1054               0.0              0.0             1.0   \n",
       "1055               1.0              1.0             1.0   \n",
       "\n",
       "      Contract_Month-to-Month  Contract_One Year  Contract_Two Year  \\\n",
       "0                         1.0                0.0                0.0   \n",
       "1                         0.0                0.0                1.0   \n",
       "2                         1.0                0.0                0.0   \n",
       "3                         0.0                1.0                0.0   \n",
       "4                         1.0                0.0                0.0   \n",
       "...                       ...                ...                ...   \n",
       "1051                      1.0                0.0                0.0   \n",
       "1052                      1.0                0.0                0.0   \n",
       "1053                      0.0                1.0                0.0   \n",
       "1054                      0.0                1.0                0.0   \n",
       "1055                      0.0                0.0                1.0   \n",
       "\n",
       "      Paperless Billing  Payment Method_Bank Withdrawal  \\\n",
       "0                   1.0                             1.0   \n",
       "1                   1.0                             1.0   \n",
       "2                   0.0                             1.0   \n",
       "3                   1.0                             0.0   \n",
       "4                   1.0                             1.0   \n",
       "...                 ...                             ...   \n",
       "1051                1.0                             0.0   \n",
       "1052                0.0                             0.0   \n",
       "1053                1.0                             1.0   \n",
       "1054                1.0                             0.0   \n",
       "1055                1.0                             1.0   \n",
       "\n",
       "      Payment Method_Credit Card  Payment Method_Mailed Check  Monthly Charge  \\\n",
       "0                            0.0                          0.0        0.565672   \n",
       "1                            0.0                          0.0        0.262189   \n",
       "2                            0.0                          0.0        0.646269   \n",
       "3                            1.0                          0.0        0.617910   \n",
       "4                            0.0                          0.0        0.564179   \n",
       "...                          ...                          ...             ...   \n",
       "1051                         1.0                          0.0        0.824876   \n",
       "1052                         1.0                          0.0        0.024378   \n",
       "1053                         0.0                          0.0        0.017910   \n",
       "1054                         1.0                          0.0        0.628856   \n",
       "1055                         0.0                          0.0        0.924378   \n",
       "\n",
       "      Total Charges  Total Refunds  Total Extra Data Charges  \\\n",
       "0          0.006497       0.000000                       0.0   \n",
       "1          0.350721       0.000000                       0.0   \n",
       "2          0.232345       0.477807                       0.0   \n",
       "3          0.642799       0.000000                       0.0   \n",
       "4          0.006479       0.000000                       0.0   \n",
       "...             ...            ...                       ...   \n",
       "1051       0.454408       0.000000                       0.0   \n",
       "1052       0.006260       0.000000                       0.0   \n",
       "1053       0.104350       0.000000                       0.0   \n",
       "1054       0.572842       0.284194                       0.0   \n",
       "1055       0.517926       0.000000                       0.0   \n",
       "\n",
       "      Total Long Distance Charges  Total Revenue  Satisfaction Score  \\\n",
       "0                        0.001666       0.004987                0.25   \n",
       "1                        0.000000       0.253953                0.50   \n",
       "2                        0.128784       0.204566                0.50   \n",
       "3                        0.654492       0.660731                0.75   \n",
       "4                        0.008435       0.006993                0.00   \n",
       "...                           ...            ...                 ...   \n",
       "1051                     0.258186       0.406062                0.50   \n",
       "1052                     0.050910       0.019496                1.00   \n",
       "1053                     0.303783       0.165965                1.00   \n",
       "1054                     0.689967       0.619424                0.50   \n",
       "1055                     0.351719       0.479976                1.00   \n",
       "\n",
       "      Churn Label  Age_cuartiles  Satisfaction_Level  prediction  \n",
       "0             1.0            0.0                 0.0         1.0  \n",
       "1             0.0            0.0                 0.5         0.0  \n",
       "2             0.0            0.0                 0.5         0.0  \n",
       "3             0.0            0.0                 1.0         0.0  \n",
       "4             1.0            0.0                 0.0         1.0  \n",
       "...           ...            ...                 ...         ...  \n",
       "1051          0.0            0.0                 0.5         1.0  \n",
       "1052          0.0            0.0                 1.0         0.0  \n",
       "1053          0.0            0.0                 1.0         0.0  \n",
       "1054          0.0            0.0                 0.5         0.0  \n",
       "1055          0.0            0.0                 1.0         0.0  \n",
       "\n",
       "[1056 rows x 51 columns]"
      ]
     },
     "execution_count": 104,
     "metadata": {},
     "output_type": "execute_result"
    }
   ],
   "source": [
    "val_data_"
   ]
  },
  {
   "cell_type": "code",
   "execution_count": 106,
   "id": "4836c0cd",
   "metadata": {},
   "outputs": [],
   "source": [
    "# Calcular ingresos en riesgo\n",
    "monthly_revenue_churn = val_data_[val_data_['Churn Label'] == 1]['Monthly Charge'].sum()\n",
    "total_revenue_churn = val_data_[val_data_['Churn Label'] == 1]['Total Charges'].sum()"
   ]
  },
  {
   "cell_type": "code",
   "execution_count": 107,
   "id": "4e830980",
   "metadata": {},
   "outputs": [],
   "source": [
    "# Calcular reembolsos realizados debido al churn\n",
    "refunds_churn = val_data_[val_data_['Churn Label'] == 1]['Total Refunds'].sum()"
   ]
  },
  {
   "cell_type": "code",
   "execution_count": 108,
   "id": "1ae53f95",
   "metadata": {},
   "outputs": [],
   "source": [
    "# Calcular pérdidas en cargos adicionales por datos\n",
    "extra_data_loss = val_data_[val_data_['Churn Label'] == 1]['Total Extra Data Charges'].sum()"
   ]
  },
  {
   "cell_type": "code",
   "execution_count": 109,
   "id": "02d5d86a",
   "metadata": {},
   "outputs": [],
   "source": [
    "# Calcular pérdidas en cargos por llamadas de larga distancia\n",
    "long_distance_loss = val_data_[val_data_['Churn Label'] == 1]['Total Long Distance Charges'].sum()\n"
   ]
  },
  {
   "cell_type": "code",
   "execution_count": 112,
   "id": "27fc53d8",
   "metadata": {},
   "outputs": [
    {
     "name": "stdout",
     "output_type": "stream",
     "text": [
      "1. Riesgo mensual debido al churn: $157.38\n",
      "2. Pérdida de gastos acumulados: $47.32\n",
      "3. Monto total de reembolso: $10.87\n",
      "4. Pérdida de ingresos adicionales: $12.00\n",
      "5. Pérdida de los servicios de larga distancia: $31.65\n"
     ]
    }
   ],
   "source": [
    "# KPIs en dólares\n",
    "print(f\"1. Riesgo mensual debido al churn: ${monthly_revenue_churn:,.2f}\")\n",
    "print(f\"2. Pérdida de gastos acumulados: ${total_revenue_churn:,.2f}\")\n",
    "print(f\"3. Monto total de reembolso: ${refunds_churn:,.2f}\")\n",
    "print(f\"4. Pérdida de ingresos adicionales: ${extra_data_loss:,.2f}\")\n",
    "print(f\"5. Pérdida de los servicios de larga distancia: ${long_distance_loss:,.2f}\")"
   ]
  },
  {
   "cell_type": "code",
   "execution_count": null,
   "id": "bbe62330",
   "metadata": {},
   "outputs": [],
   "source": [
    "#Falso negativo\n",
    "val_data_[(val_data_[\"prediction\"] == 0) & (val_data_[\"Churn Label\"] == 1)]"
   ]
  },
  {
   "cell_type": "code",
   "execution_count": null,
   "id": "0862607e",
   "metadata": {},
   "outputs": [],
   "source": [
    "val_data_[(val_data_[\"prediction\"] == 0) & (val_data_[\"Churn Label\"] == 1)][\"Total Revenue\"].sum()"
   ]
  },
  {
   "cell_type": "code",
   "execution_count": null,
   "id": "be57d99e",
   "metadata": {},
   "outputs": [],
   "source": [
    "15.331550417546836 * val_data_[\"Tenure in Months\"].sum()"
   ]
  },
  {
   "cell_type": "code",
   "execution_count": null,
   "id": "3871229a",
   "metadata": {},
   "outputs": [],
   "source": [
    "#Verdadero positivo\n",
    "val_data_[(val_data_[\"prediction\"] == 1) & (val_data_[\"Churn Label\"] == 1)][\"Total Revenue\"].sum()"
   ]
  },
  {
   "cell_type": "code",
   "execution_count": null,
   "id": "c0c46d5d",
   "metadata": {},
   "outputs": [],
   "source": [
    "28.439971265953837 * val_data_[\"Tenure in Months\"].sum()"
   ]
  },
  {
   "cell_type": "markdown",
   "id": "57e4ef77-4c16-4e1c-9b75-16f82880e24f",
   "metadata": {},
   "source": [
    "## SVC"
   ]
  },
  {
   "cell_type": "code",
   "execution_count": null,
   "id": "f68c6145",
   "metadata": {},
   "outputs": [],
   "source": [
    "# Verificar características en X_train\n",
    "print(f\"Número de características en x_train: {train_data[columnasModelo].shape[1]}\")"
   ]
  },
  {
   "cell_type": "markdown",
   "id": "265f70e2",
   "metadata": {},
   "source": [
    "##### AJUSTES SENCILLOS"
   ]
  },
  {
   "cell_type": "code",
   "execution_count": null,
   "id": "7f00e0d7",
   "metadata": {},
   "outputs": [],
   "source": [
    "Modelo3SVC = SVC()"
   ]
  },
  {
   "cell_type": "code",
   "execution_count": null,
   "id": "a427980e",
   "metadata": {},
   "outputs": [],
   "source": [
    "#Entrenando\n",
    "Modelo3SVC.fit(train_data[columnasModelo], train_data[\"Churn Label\"])"
   ]
  },
  {
   "cell_type": "code",
   "execution_count": null,
   "id": "6b38805a",
   "metadata": {},
   "outputs": [],
   "source": [
    "y_pred_no_balance_train = Modelo3SVC.predict(train_data[columnasModelo])"
   ]
  },
  {
   "cell_type": "code",
   "execution_count": null,
   "id": "a3bbf253",
   "metadata": {},
   "outputs": [],
   "source": [
    "print(classification_report(train_data[\"Churn Label\"], y_pred_no_balance_train))"
   ]
  },
  {
   "cell_type": "code",
   "execution_count": null,
   "id": "7b6bc389",
   "metadata": {},
   "outputs": [],
   "source": [
    "#Predicción\n",
    "y_pred_no_balance = Modelo3SVC.predict(val_data[columnasModelo])"
   ]
  },
  {
   "cell_type": "code",
   "execution_count": null,
   "id": "afa3f8b5",
   "metadata": {},
   "outputs": [],
   "source": [
    "print(classification_report(val_data[\"Churn Label\"], y_pred_no_balance))"
   ]
  },
  {
   "cell_type": "code",
   "execution_count": null,
   "id": "2c69a0a8",
   "metadata": {},
   "outputs": [],
   "source": [
    "# Al tener un accuracy alto veamos si está prediciendo sobre la clase mayoritaria\n",
    "class_data = train_data['Churn Label'].value_counts()\n",
    "class_majority = class_data.idxmax()\n",
    "print(f'La clase mayoritaria es: {class_majority}')"
   ]
  },
  {
   "cell_type": "code",
   "execution_count": null,
   "id": "5def604b",
   "metadata": {},
   "outputs": [],
   "source": [
    "# Calcular el porcentaje de clase\n",
    "class_percentage = train_data['Churn Label'].value_counts(normalize=True) * 100\n",
    "print(class_percentage)"
   ]
  },
  {
   "cell_type": "code",
   "execution_count": null,
   "id": "2e20847b",
   "metadata": {},
   "outputs": [],
   "source": [
    "#Está prediciendo sobre la clase 0 que es que el cliente no abandona el servicio con un 73.46 %, mientras que la clase \n",
    "#minoritaria es 26.53%\n",
    "# Con 100% de predicción, se muestra como un modelo perfecto; que no hay falsos positivos. Pero tiende a la confusión si \n",
    "# las predicciones positivas son bajas.\n",
    "# Con un 24.91% el modelo no dectecto los falsos negativos porque tien un recall de 75% aprox."
   ]
  },
  {
   "cell_type": "markdown",
   "id": "500d7127",
   "metadata": {},
   "source": [
    "##### RESCALAR LAS CLASES"
   ]
  },
  {
   "cell_type": "code",
   "execution_count": null,
   "id": "0e8724c0-930e-48aa-a40f-0770c5343ab4",
   "metadata": {},
   "outputs": [],
   "source": [
    "#Creando pipeline\n",
    "Modelo3SVC_ = make_pipeline(StandardScaler(), SVC(class_weight=\"balanced\", gamma='auto'))"
   ]
  },
  {
   "cell_type": "code",
   "execution_count": null,
   "id": "eeef2e76",
   "metadata": {},
   "outputs": [],
   "source": [
    "#Para el problema de desequilibrio se está usando \"balanced\" que calcula los pesos inversamente proporcionales a la frecuencia\n",
    "#de la clase, de está forma no cambiamos el conjunto de datos lo que ajusta el balance de errores\n",
    "#a diferencia del submuestreo\n",
    "#de está forma debería mejorar su recall"
   ]
  },
  {
   "cell_type": "code",
   "execution_count": null,
   "id": "5ad3930a-8a79-42b3-ad50-0717907088d5",
   "metadata": {},
   "outputs": [],
   "source": [
    "#Ajustar el modelo al entrenamiento\n",
    "Modelo3SVC_.fit(train_data[columnasModelo], train_data[\"Churn Label\"])"
   ]
  },
  {
   "cell_type": "code",
   "execution_count": null,
   "id": "bd1c5bcc",
   "metadata": {},
   "outputs": [],
   "source": [
    "y_pred = Modelo3SVC_.predict(train_data[columnasModelo])"
   ]
  },
  {
   "cell_type": "code",
   "execution_count": null,
   "id": "30df1ef7-0e0b-4158-a9c7-c2ce50aaae71",
   "metadata": {},
   "outputs": [],
   "source": [
    "train_metrics_kn[\"Preciction_svc\"] = Modelo3SVC_.predict(train_data[columnasModelo]) \n",
    "\n",
    "val_metrics_kn[\"Preciction_svc\"] = Modelo3SVC_.predict(val_data[columnasModelo])"
   ]
  },
  {
   "cell_type": "code",
   "execution_count": null,
   "id": "e1fcc64d",
   "metadata": {},
   "outputs": [],
   "source": [
    "print(classification_report(train_data[\"Churn Label\"], y_pred))"
   ]
  },
  {
   "cell_type": "code",
   "execution_count": null,
   "id": "eafa54c0",
   "metadata": {},
   "outputs": [],
   "source": [
    "#Predicción\n",
    "y_pred_balance = Modelo3SVC_.predict(val_data[columnasModelo])"
   ]
  },
  {
   "cell_type": "code",
   "execution_count": null,
   "id": "83633173",
   "metadata": {},
   "outputs": [],
   "source": [
    "print(classification_report(val_data[\"Churn Label\"], y_pred_balance))"
   ]
  },
  {
   "cell_type": "code",
   "execution_count": null,
   "id": "873a8bf0",
   "metadata": {},
   "outputs": [],
   "source": [
    "# 95.13% son las veces que el modelo indicará que el cliente abandonará el servicio, para los falsos positivos\n",
    "# el modelo comete pocos errores\n",
    "\n",
    "# 90.39% es capaz de identificar la mayoría de los clientes que abandonará el servicio.\n",
    "\n",
    "# Lo que indica que no hay muchos errores en la clasificación, al tener una alta precisión se puede ofrecer a los clientes\n",
    "# algún beneficio para que no abandonen\n",
    "# Y un buen recall se tendrán resultados significativos que que clientes están en riesgo de abandonar el servicio lo que si\n",
    "# me permite focalizar los esfuerzos que se tienen que hacer en la retención."
   ]
  },
  {
   "cell_type": "markdown",
   "id": "2e2ed028-9ed9-4dd1-ad66-53890626af78",
   "metadata": {},
   "source": [
    "## Random Forest"
   ]
  },
  {
   "cell_type": "code",
   "execution_count": null,
   "id": "d4ab43ca-fad4-4e62-bd9e-6deabf36ef02",
   "metadata": {},
   "outputs": [],
   "source": [
    "## Michael Poveda"
   ]
  },
  {
   "cell_type": "markdown",
   "id": "3aa8fa28-3b0e-4d3b-8c89-979ea6c84aad",
   "metadata": {},
   "source": [
    "#### Without grid and all columns"
   ]
  },
  {
   "cell_type": "code",
   "execution_count": null,
   "id": "dfdd14bf-28f0-4fef-9ab3-03cf560002ad",
   "metadata": {},
   "outputs": [],
   "source": []
  },
  {
   "cell_type": "code",
   "execution_count": null,
   "id": "5bf07e87-5888-4bee-a575-2e0757c5a8fe",
   "metadata": {},
   "outputs": [],
   "source": []
  },
  {
   "cell_type": "code",
   "execution_count": null,
   "id": "770d43dd-e972-4247-92d6-88bc70f90719",
   "metadata": {},
   "outputs": [],
   "source": [
    "RandomForestModel1 = RandomForestClassifier()"
   ]
  },
  {
   "cell_type": "code",
   "execution_count": null,
   "id": "b0b80889-68e7-46d8-9d4d-48a057f34183",
   "metadata": {},
   "outputs": [],
   "source": [
    "RandomForestModel1.fit(train_data[columnasModelo], train_data[\"Churn Label\"])"
   ]
  },
  {
   "cell_type": "code",
   "execution_count": null,
   "id": "23705a1e-47e5-4f10-81ca-63dfe86d74cf",
   "metadata": {},
   "outputs": [],
   "source": [
    "train_metrics_kn[\"Preciction_rf1\"] = RandomForestModel1.predict(train_data[columnasModelo]) \n",
    "\n",
    "val_metrics_kn[\"Preciction_rf1\"] = RandomForestModel1.predict(val_data[columnasModelo])\n",
    "\n"
   ]
  },
  {
   "cell_type": "code",
   "execution_count": null,
   "id": "68a0125a-7f6e-4546-81d6-54ca6eedc2be",
   "metadata": {},
   "outputs": [],
   "source": [
    "print(\"Training Metrics:\")\n",
    "print(classification_report(y_true=train_metrics_kn[\"Churn Label\"], y_pred=train_metrics_kn[\"Preciction_rf1\"]))"
   ]
  },
  {
   "cell_type": "code",
   "execution_count": null,
   "id": "10432cc4-63a4-4d23-bc64-ef406fe707fd",
   "metadata": {},
   "outputs": [],
   "source": [
    "print(\"Training Metrics:\")\n",
    "print(classification_report(y_true=val_metrics_kn[\"Churn Label\"], y_pred=val_metrics_kn[\"Preciction_rf1\"]))"
   ]
  },
  {
   "cell_type": "code",
   "execution_count": null,
   "id": "b3cd06fb-3b02-4062-8777-db213eb4cea3",
   "metadata": {},
   "outputs": [],
   "source": [
    "cm = confusion_matrix(val_metrics_kn[\"Churn Label\"], val_metrics_kn[\"Preciction_rf1\"])\n",
    "print(cm)\n",
    "# Graficar la matriz de confusión usando seaborn\n",
    "disp = ConfusionMatrixDisplay(confusion_matrix=cm)\n",
    "disp.plot(cmap='Blues')  # Puedes cambiar la paleta de colores si prefieres\n",
    "plt.show()"
   ]
  },
  {
   "cell_type": "markdown",
   "id": "6e98f2cb-f803-4f7c-b2d6-e7ef1238bfbd",
   "metadata": {},
   "source": [
    "#### Random Forest Con grid"
   ]
  },
  {
   "cell_type": "code",
   "execution_count": null,
   "id": "f2ad4959-0c9a-4c59-9b35-a36550fcd18e",
   "metadata": {},
   "outputs": [],
   "source": [
    "# Definir los parámetros para el GridSearch\n",
    "param_grids = {\n",
    "    'n_estimators': [100, 200, 300],  # Número de árboles en el bosque\n",
    "    'max_depth': [10, 20, None],      # Profundidad máxima de los árboles\n",
    "    'min_samples_split': [10, 30, 50, 100],  # Número mínimo de muestras para dividir un nodo\n",
    "    'min_samples_leaf': [10, 30, 100]    # Número mínimo de muestras por nodo hoja\n",
    "}\n"
   ]
  },
  {
   "cell_type": "code",
   "execution_count": null,
   "id": "54a0531e-2649-49d1-a36b-3ea7c01f8b48",
   "metadata": {},
   "outputs": [],
   "source": [
    "RandomForestModel1 = RandomForestClassifier(random_state = 42)"
   ]
  },
  {
   "cell_type": "code",
   "execution_count": null,
   "id": "4444aa53-001c-444a-b472-ac342537d606",
   "metadata": {},
   "outputs": [],
   "source": [
    "grid_search_rf = GridSearchCV(\n",
    "    estimator = RandomForestModel1,\n",
    "    param_grid = param_grids,\n",
    "    cv=5,\n",
    "    verbose=2, \n",
    "    n_jobs=-1)"
   ]
  },
  {
   "cell_type": "code",
   "execution_count": null,
   "id": "27ba3e8a-e525-42df-ae7c-82bff9906e5b",
   "metadata": {},
   "outputs": [],
   "source": [
    "grid_search_rf.fit(train_data[columnasModelo],train_data[\"Churn Label\"])"
   ]
  },
  {
   "cell_type": "code",
   "execution_count": null,
   "id": "4d70d13d-28ca-49dc-8614-d77715fb53b3",
   "metadata": {},
   "outputs": [],
   "source": [
    "print(\"Mejores hiperparámetros encontrados:\", grid_search_rf.best_params_)"
   ]
  },
  {
   "cell_type": "code",
   "execution_count": null,
   "id": "5b799d50-9a79-4ac4-9250-25dc6e2405f0",
   "metadata": {},
   "outputs": [],
   "source": [
    "RandomForestModelGrid = grid_search_rf.best_estimator_"
   ]
  },
  {
   "cell_type": "code",
   "execution_count": null,
   "id": "604efcd4-271e-4e33-9949-8a1be5b77062",
   "metadata": {},
   "outputs": [],
   "source": [
    "train_metrics_kn[\"Preciction_rf2\"] = RandomForestModelGrid.predict(train_data[columnasModelo]) \n",
    "\n",
    "val_metrics_kn[\"Preciction_rf2\"] = RandomForestModelGrid.predict(val_data[columnasModelo])\n",
    "\n"
   ]
  },
  {
   "cell_type": "code",
   "execution_count": null,
   "id": "958336d8-fb1b-43ef-8b09-0062ef16b684",
   "metadata": {},
   "outputs": [],
   "source": [
    "print(\"Training Metrics:\")\n",
    "print(classification_report(y_true=train_metrics_kn[\"Churn Label\"], y_pred=train_metrics_kn[\"Preciction_rf2\"]))"
   ]
  },
  {
   "cell_type": "code",
   "execution_count": null,
   "id": "6956ea4d-f4e3-4ff6-8673-e8b098b72c81",
   "metadata": {},
   "outputs": [],
   "source": [
    "print(\"Training Metrics:\")\n",
    "print(classification_report(y_true=val_metrics_kn[\"Churn Label\"], y_pred=val_metrics_kn[\"Preciction_rf2\"]))"
   ]
  },
  {
   "cell_type": "code",
   "execution_count": null,
   "id": "19696539-4d01-4c96-8b7a-31802a3f14c4",
   "metadata": {},
   "outputs": [],
   "source": [
    "cm = confusion_matrix(val_metrics_kn[\"Churn Label\"], val_metrics_kn[\"Preciction_rf2\"])\n",
    "print(cm)\n",
    "# Graficar la matriz de confusión usando seaborn\n",
    "disp = ConfusionMatrixDisplay(confusion_matrix=cm)\n",
    "disp.plot(cmap='Blues')  # Puedes cambiar la paleta de colores si prefieres\n",
    "plt.show()"
   ]
  },
  {
   "cell_type": "code",
   "execution_count": null,
   "id": "37affd8e-9178-4929-83ed-6324798b4889",
   "metadata": {},
   "outputs": [],
   "source": [
    "search_results = pd.DataFrame(grid_search_rf.cv_results_)"
   ]
  },
  {
   "cell_type": "code",
   "execution_count": null,
   "id": "25645b14-0d61-4d2a-ab23-0e4c5ef05ed1",
   "metadata": {},
   "outputs": [],
   "source": [
    "search_results.head()"
   ]
  },
  {
   "cell_type": "markdown",
   "id": "467186dd-caa3-4c67-b5b3-26c162b1bc19",
   "metadata": {},
   "source": [
    "# Val resume best Models"
   ]
  },
  {
   "cell_type": "code",
   "execution_count": null,
   "id": "42408403-e2e0-48da-995e-ee226d3fdba3",
   "metadata": {},
   "outputs": [],
   "source": [
    "#test_metrics_kn = test_data.copy()\n",
    "#test_metrics_kn[\"PrecictionBestModel_Tree\"] = grid_search_tree.predict(test_data[columnasModelo]) "
   ]
  },
  {
   "cell_type": "code",
   "execution_count": null,
   "id": "db057da8-54cd-4a4f-aa84-a2178b52955a",
   "metadata": {},
   "outputs": [],
   "source": [
    "#test_metrics_kn[\"PrecictionBestModel_Knn\"] = bestKnnGrid.predict(test_data[columnasRelevantes])"
   ]
  },
  {
   "cell_type": "code",
   "execution_count": null,
   "id": "7926051b-991f-4955-bb14-b294276a5edb",
   "metadata": {},
   "outputs": [],
   "source": [
    "#test_metrics_kn[\"PrecictionBestModel_Regresion\"] = regresion_logistica.predict(X_test)"
   ]
  },
  {
   "cell_type": "code",
   "execution_count": null,
   "id": "137abc74-6e7c-43ac-8542-eb7f7992ebaa",
   "metadata": {},
   "outputs": [],
   "source": [
    "#test_metrics_kn[\"PrecictionBestModel_SVC\"] = Modelo3SVC_.predict(X_test)"
   ]
  },
  {
   "cell_type": "code",
   "execution_count": null,
   "id": "90bd7823-cb21-4606-99ea-072cbdb38687",
   "metadata": {},
   "outputs": [],
   "source": [
    "#test_metrics_kn[\"PrecictionBestModel_RandomForest\"] = RandomForestModelGrid.predict(test_data[columnasModelo])"
   ]
  },
  {
   "cell_type": "code",
   "execution_count": null,
   "id": "ed066fc9-266e-430e-a7cb-a9c3e1041b7b",
   "metadata": {},
   "outputs": [],
   "source": [
    "print(\"Validation Metrics Decision Tree:\")\n",
    "print(classification_report(y_true=val_metrics_kn[\"Churn Label\"], y_pred=val_metrics_kn[\"Preciction_tree3\"]))\n",
    "\n",
    "print(\"Validation Metrics Knn:\")\n",
    "print(classification_report(y_true=val_metrics_kn[\"Churn Label\"], y_pred=val_metrics_kn[\"Preciction_knn3\"]))\n",
    "\n",
    "print(\"Validation Metrics Logistic Regresion:\")\n",
    "print(classification_report(y_true=val_metrics_kn[\"Churn Label\"], y_pred=val_metrics_kn[\"Preciction_rl\"]))\n",
    "\n",
    "print(\"Validation Metrics SVC:\")\n",
    "print(classification_report(y_true=val_metrics_kn[\"Churn Label\"], y_pred=val_metrics_kn[\"Preciction_svc\"]))\n",
    "\n",
    "print(\"Validation Metrics RandomForest:\")\n",
    "print(classification_report(y_true=val_metrics_kn[\"Churn Label\"], y_pred=val_metrics_kn[\"Preciction_rf2\"]))"
   ]
  },
  {
   "cell_type": "code",
   "execution_count": null,
   "id": "310cec3b-94ea-490c-8cf2-b2a075640526",
   "metadata": {},
   "outputs": [],
   "source": [
    "\n",
    "test_metrics_kn = test_data.copy()\n",
    "test_metrics_kn[\"PrecictionBestModel_Knn\"] = bestKnnGrid.predict(test_data[columnasRelevantes])"
   ]
  },
  {
   "cell_type": "code",
   "execution_count": null,
   "id": "4b8d91eb-d220-46e7-ba57-252dc35476f7",
   "metadata": {},
   "outputs": [],
   "source": [
    "print(\"Validation Metrics Knn:\")\n",
    "print(classification_report(y_true=test_metrics_kn[\"Churn Label\"], y_pred=test_metrics_kn[\"PrecictionBestModel_Knn\"]))"
   ]
  },
  {
   "cell_type": "code",
   "execution_count": null,
   "id": "75dc96e9-9cb1-4d72-a9ce-b10ab983ba9f",
   "metadata": {},
   "outputs": [],
   "source": []
  },
  {
   "cell_type": "code",
   "execution_count": null,
   "id": "2fa33112-94e0-44a5-b57e-664100ae44c3",
   "metadata": {},
   "outputs": [],
   "source": []
  },
  {
   "cell_type": "markdown",
   "id": "ee3ed252-a196-4f49-9caf-554efb0eb1d5",
   "metadata": {},
   "source": [
    "# 7. Explainability"
   ]
  },
  {
   "cell_type": "markdown",
   "id": "12c71c0d-4b6e-4ebf-adbd-d149733ae79e",
   "metadata": {},
   "source": [
    "#### DecisionTree"
   ]
  },
  {
   "cell_type": "code",
   "execution_count": null,
   "id": "d3dacde4-0784-4bd3-8201-1fef98651048",
   "metadata": {},
   "outputs": [],
   "source": [
    "explainer = shap.TreeExplainer(bestTreeGrid)"
   ]
  },
  {
   "cell_type": "code",
   "execution_count": null,
   "id": "59cca123-354a-4f7b-9c47-32419534c0a6",
   "metadata": {},
   "outputs": [],
   "source": [
    "# Generar las explicaciones (SHAP values)\n",
    "explanation = explainer(train_data[columnasModelo])#### SI se demora pueso usar el validacion\n"
   ]
  },
  {
   "cell_type": "code",
   "execution_count": null,
   "id": "6fd38334-fffc-449c-9a1f-c3eceab670ff",
   "metadata": {},
   "outputs": [],
   "source": []
  },
  {
   "cell_type": "code",
   "execution_count": null,
   "id": "41c539a9-45de-4269-a6b0-256a8d460bc5",
   "metadata": {
    "scrolled": true
   },
   "outputs": [],
   "source": [
    "plt.figure(figsize=(20,8))\n",
    "shap.summary_plot(explanation.values[:,:,1], features=train_data[columnasModelo], plot_type=\"bar\")"
   ]
  },
  {
   "cell_type": "code",
   "execution_count": null,
   "id": "50f3b0f4-4556-4119-ae9d-2a72007c48e9",
   "metadata": {},
   "outputs": [],
   "source": [
    "plt.figure(figsize=(20,8))\n",
    "shap.summary_plot(explanation.values[:,:,1], features=train_data[columnasModelo])"
   ]
  },
  {
   "cell_type": "code",
   "execution_count": null,
   "id": "5488dc04-21ea-4b10-8068-09dff9f2abb0",
   "metadata": {},
   "outputs": [],
   "source": [
    "shap.plots.waterfall(explanation[6,:,1], max_display=20)"
   ]
  },
  {
   "cell_type": "markdown",
   "id": "e43bff4f-e7f6-4c3f-91cd-ba97ac27a341",
   "metadata": {},
   "source": [
    "### RandomForestModelGrid"
   ]
  },
  {
   "cell_type": "code",
   "execution_count": null,
   "id": "5b9395bc-b4cd-473e-9ae4-cc0d580b1131",
   "metadata": {},
   "outputs": [],
   "source": [
    "explainerRF = shap.TreeExplainer(RandomForestModelGrid)"
   ]
  },
  {
   "cell_type": "code",
   "execution_count": null,
   "id": "2de941f0-d55c-4815-a829-344b157397cb",
   "metadata": {},
   "outputs": [],
   "source": [
    "# Generar las explicaciones (SHAP values)\n",
    "explanationRF = explainerRF(train_data[columnasModelo])#### SI se demora pueso usar el validacion\n"
   ]
  },
  {
   "cell_type": "code",
   "execution_count": null,
   "id": "61d11eb7-31c4-435e-a7cb-38369e108da3",
   "metadata": {
    "scrolled": true
   },
   "outputs": [],
   "source": [
    "plt.figure(figsize=(20,8))\n",
    "shap.summary_plot(explanationRF.values[:,:,1], features=train_data[columnasModelo], plot_type=\"bar\")"
   ]
  },
  {
   "cell_type": "code",
   "execution_count": null,
   "id": "8fb47f3c-cc75-43e9-8122-aa1f49f7adba",
   "metadata": {},
   "outputs": [],
   "source": [
    "plt.figure(figsize=(20,8))\n",
    "shap.summary_plot(explanationRF.values[:,:,1], features=train_data[columnasModelo])"
   ]
  },
  {
   "cell_type": "code",
   "execution_count": null,
   "id": "a5ab4790-9634-4855-a842-84f4b023cb75",
   "metadata": {},
   "outputs": [],
   "source": [
    "shap.plots.waterfall(explanationRF[6,:,1], max_display=20)"
   ]
  },
  {
   "cell_type": "code",
   "execution_count": null,
   "id": "022a0e57-ef75-4594-901a-13635e8daefd",
   "metadata": {},
   "outputs": [],
   "source": []
  },
  {
   "cell_type": "code",
   "execution_count": null,
   "id": "63fa7586-8c40-420b-bcf8-da4773038750",
   "metadata": {},
   "outputs": [],
   "source": []
  },
  {
   "cell_type": "code",
   "execution_count": null,
   "id": "bc8f5c8d-f642-41e9-a27a-99285460ac5b",
   "metadata": {},
   "outputs": [],
   "source": []
  },
  {
   "cell_type": "code",
   "execution_count": null,
   "id": "cf585f4b-5f81-4cf1-aaf0-4faaadbd48c4",
   "metadata": {},
   "outputs": [],
   "source": []
  },
  {
   "cell_type": "code",
   "execution_count": null,
   "id": "13a79935-69bf-42f0-9c6e-a7a02efbaee1",
   "metadata": {},
   "outputs": [],
   "source": []
  },
  {
   "cell_type": "code",
   "execution_count": null,
   "id": "9f8290ba-64bc-4175-bc1d-f489f5674c27",
   "metadata": {},
   "outputs": [],
   "source": []
  },
  {
   "cell_type": "code",
   "execution_count": null,
   "id": "d56811b4-8ae7-4926-8297-4dee01b99638",
   "metadata": {},
   "outputs": [],
   "source": []
  },
  {
   "cell_type": "code",
   "execution_count": null,
   "id": "bd598c32-ebfb-474c-aaf2-208a5e362c96",
   "metadata": {},
   "outputs": [],
   "source": []
  },
  {
   "cell_type": "code",
   "execution_count": null,
   "id": "7666ae33-c641-4a85-bec9-10f133eb5319",
   "metadata": {},
   "outputs": [],
   "source": []
  },
  {
   "cell_type": "code",
   "execution_count": null,
   "id": "3d619233-079b-49fe-8efc-250795f28328",
   "metadata": {},
   "outputs": [],
   "source": []
  }
 ],
 "metadata": {
  "kernelspec": {
   "display_name": "Python 3 (ipykernel)",
   "language": "python",
   "name": "python3"
  },
  "language_info": {
   "codemirror_mode": {
    "name": "ipython",
    "version": 3
   },
   "file_extension": ".py",
   "mimetype": "text/x-python",
   "name": "python",
   "nbconvert_exporter": "python",
   "pygments_lexer": "ipython3",
   "version": "3.9.13"
  }
 },
 "nbformat": 4,
 "nbformat_minor": 5
}
