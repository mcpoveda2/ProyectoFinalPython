{
 "cells": [
  {
   "cell_type": "markdown",
   "id": "9b3c00db",
   "metadata": {},
   "source": [
    "# 1. import libraries"
   ]
  },
  {
   "cell_type": "code",
   "execution_count": 1,
   "id": "d421e9ec",
   "metadata": {},
   "outputs": [],
   "source": [
    "# data manipulation and plotting tools\n",
    "import matplotlib.pyplot as plt\n",
    "import numpy as np\n",
    "import pandas as pd\n",
    "\n",
    "# data processing\n",
    "from category_encoders.one_hot import OneHotEncoder\n",
    "from category_encoders.ordinal import OrdinalEncoder\n",
    "from category_encoders.target_encoder import TargetEncoder\n",
    "from sklearn.preprocessing import MinMaxScaler, RobustScaler,LabelEncoder\n",
    "\n",
    "# algorithms\n",
    "from sklearn.tree import DecisionTreeClassifier, plot_tree\n",
    "from sklearn.neighbors import KNeighborsClassifier\n",
    "from sklearn.linear_model import LogisticRegression\n",
    "\n",
    "# model selection tools\n",
    "from sklearn.model_selection import train_test_split, GridSearchCV, RandomizedSearchCV\n",
    "\n",
    "# metrics\n",
    "from sklearn.metrics import classification_report, ConfusionMatrixDisplay, confusion_matrix\n",
    "\n",
    "# explainability\n",
    "import shap\n",
    "\n",
    "#visual\n",
    "import seaborn as sns\n",
    "\n",
    "#MostrarMas\n",
    "pd.set_option('display.max_columns', None)"
   ]
  },
  {
   "cell_type": "code",
   "execution_count": 2,
   "id": "c1030593",
   "metadata": {},
   "outputs": [],
   "source": [
    "#pip install --upgrade category_encoders"
   ]
  },
  {
   "cell_type": "code",
   "execution_count": 3,
   "id": "ffd4d16e-232f-4c71-aee3-0ab415bc066e",
   "metadata": {},
   "outputs": [
    {
     "name": "stdout",
     "output_type": "stream",
     "text": [
      "Defaulting to user installation because normal site-packages is not writeable\n",
      "Requirement already satisfied: category_encoders in c:\\users\\amjal\\appdata\\roaming\\python\\python39\\site-packages (2.6.3)\n",
      "Requirement already satisfied: scipy>=1.0.0 in c:\\programdata\\anaconda3\\lib\\site-packages (from category_encoders) (1.9.1)\n",
      "Requirement already satisfied: statsmodels>=0.9.0 in c:\\programdata\\anaconda3\\lib\\site-packages (from category_encoders) (0.13.2)\n",
      "Requirement already satisfied: patsy>=0.5.1 in c:\\programdata\\anaconda3\\lib\\site-packages (from category_encoders) (0.5.2)\n",
      "Requirement already satisfied: scikit-learn>=0.20.0 in c:\\programdata\\anaconda3\\lib\\site-packages (from category_encoders) (1.0.2)\n",
      "Requirement already satisfied: pandas>=1.0.5 in c:\\programdata\\anaconda3\\lib\\site-packages (from category_encoders) (1.4.4)\n",
      "Requirement already satisfied: numpy>=1.14.0 in c:\\programdata\\anaconda3\\lib\\site-packages (from category_encoders) (1.21.5)\n",
      "Requirement already satisfied: python-dateutil>=2.8.1 in c:\\programdata\\anaconda3\\lib\\site-packages (from pandas>=1.0.5->category_encoders) (2.8.2)\n",
      "Requirement already satisfied: pytz>=2020.1 in c:\\programdata\\anaconda3\\lib\\site-packages (from pandas>=1.0.5->category_encoders) (2022.1)\n",
      "Requirement already satisfied: six in c:\\programdata\\anaconda3\\lib\\site-packages (from patsy>=0.5.1->category_encoders) (1.16.0)\n",
      "Requirement already satisfied: joblib>=0.11 in c:\\programdata\\anaconda3\\lib\\site-packages (from scikit-learn>=0.20.0->category_encoders) (1.1.0)\n",
      "Requirement already satisfied: threadpoolctl>=2.0.0 in c:\\programdata\\anaconda3\\lib\\site-packages (from scikit-learn>=0.20.0->category_encoders) (2.2.0)\n",
      "Requirement already satisfied: packaging>=21.3 in c:\\programdata\\anaconda3\\lib\\site-packages (from statsmodels>=0.9.0->category_encoders) (21.3)\n",
      "Requirement already satisfied: pyparsing!=3.0.5,>=2.0.2 in c:\\programdata\\anaconda3\\lib\\site-packages (from packaging>=21.3->statsmodels>=0.9.0->category_encoders) (3.0.9)\n",
      "Note: you may need to restart the kernel to use updated packages.\n"
     ]
    }
   ],
   "source": [
    "pip install --upgrade category_encoders"
   ]
  },
  {
   "cell_type": "markdown",
   "id": "5b651b7c",
   "metadata": {},
   "source": [
    "# 2. Load the dataset"
   ]
  },
  {
   "cell_type": "code",
   "execution_count": 4,
   "id": "3147389c-5ebe-4fbe-85c1-5f42976ef414",
   "metadata": {},
   "outputs": [],
   "source": [
    "data = pd.read_csv('churn.csv')"
   ]
  },
  {
   "cell_type": "code",
   "execution_count": 5,
   "id": "a68fae19-1285-4301-8f9a-133c6e5147ff",
   "metadata": {},
   "outputs": [
    {
     "data": {
      "text/html": [
       "<div>\n",
       "<style scoped>\n",
       "    .dataframe tbody tr th:only-of-type {\n",
       "        vertical-align: middle;\n",
       "    }\n",
       "\n",
       "    .dataframe tbody tr th {\n",
       "        vertical-align: top;\n",
       "    }\n",
       "\n",
       "    .dataframe thead th {\n",
       "        text-align: right;\n",
       "    }\n",
       "</style>\n",
       "<table border=\"1\" class=\"dataframe\">\n",
       "  <thead>\n",
       "    <tr style=\"text-align: right;\">\n",
       "      <th></th>\n",
       "      <th>Customer ID</th>\n",
       "      <th>Gender</th>\n",
       "      <th>Age</th>\n",
       "      <th>Under 30</th>\n",
       "      <th>Senior Citizen</th>\n",
       "      <th>Married</th>\n",
       "      <th>Dependents</th>\n",
       "      <th>Number of Dependents</th>\n",
       "      <th>Country</th>\n",
       "      <th>State</th>\n",
       "      <th>City</th>\n",
       "      <th>Zip Code</th>\n",
       "      <th>Latitude</th>\n",
       "      <th>Longitude</th>\n",
       "      <th>Population</th>\n",
       "      <th>Quarter</th>\n",
       "      <th>Referred a Friend</th>\n",
       "      <th>Number of Referrals</th>\n",
       "      <th>Tenure in Months</th>\n",
       "      <th>Offer</th>\n",
       "      <th>Phone Service</th>\n",
       "      <th>Avg Monthly Long Distance Charges</th>\n",
       "      <th>Multiple Lines</th>\n",
       "      <th>Internet Service</th>\n",
       "      <th>Internet Type</th>\n",
       "      <th>Avg Monthly GB Download</th>\n",
       "      <th>Online Security</th>\n",
       "      <th>Online Backup</th>\n",
       "      <th>Device Protection Plan</th>\n",
       "      <th>Premium Tech Support</th>\n",
       "      <th>Streaming TV</th>\n",
       "      <th>Streaming Movies</th>\n",
       "      <th>Streaming Music</th>\n",
       "      <th>Unlimited Data</th>\n",
       "      <th>Contract</th>\n",
       "      <th>Paperless Billing</th>\n",
       "      <th>Payment Method</th>\n",
       "      <th>Monthly Charge</th>\n",
       "      <th>Total Charges</th>\n",
       "      <th>Total Refunds</th>\n",
       "      <th>Total Extra Data Charges</th>\n",
       "      <th>Total Long Distance Charges</th>\n",
       "      <th>Total Revenue</th>\n",
       "      <th>Satisfaction Score</th>\n",
       "      <th>Customer Status</th>\n",
       "      <th>Churn Label</th>\n",
       "      <th>Churn Score</th>\n",
       "      <th>CLTV</th>\n",
       "      <th>Churn Category</th>\n",
       "      <th>Churn Reason</th>\n",
       "    </tr>\n",
       "  </thead>\n",
       "  <tbody>\n",
       "    <tr>\n",
       "      <th>0</th>\n",
       "      <td>8779-QRDMV</td>\n",
       "      <td>Male</td>\n",
       "      <td>78</td>\n",
       "      <td>No</td>\n",
       "      <td>Yes</td>\n",
       "      <td>No</td>\n",
       "      <td>No</td>\n",
       "      <td>0</td>\n",
       "      <td>United States</td>\n",
       "      <td>California</td>\n",
       "      <td>Los Angeles</td>\n",
       "      <td>90022</td>\n",
       "      <td>34.023810</td>\n",
       "      <td>-118.156582</td>\n",
       "      <td>68701</td>\n",
       "      <td>Q3</td>\n",
       "      <td>No</td>\n",
       "      <td>0</td>\n",
       "      <td>1</td>\n",
       "      <td>None</td>\n",
       "      <td>No</td>\n",
       "      <td>0.00</td>\n",
       "      <td>No</td>\n",
       "      <td>Yes</td>\n",
       "      <td>DSL</td>\n",
       "      <td>8</td>\n",
       "      <td>No</td>\n",
       "      <td>No</td>\n",
       "      <td>Yes</td>\n",
       "      <td>No</td>\n",
       "      <td>No</td>\n",
       "      <td>Yes</td>\n",
       "      <td>No</td>\n",
       "      <td>No</td>\n",
       "      <td>Month-to-Month</td>\n",
       "      <td>Yes</td>\n",
       "      <td>Bank Withdrawal</td>\n",
       "      <td>39.65</td>\n",
       "      <td>39.65</td>\n",
       "      <td>0.00</td>\n",
       "      <td>20</td>\n",
       "      <td>0.00</td>\n",
       "      <td>59.65</td>\n",
       "      <td>3</td>\n",
       "      <td>Churned</td>\n",
       "      <td>Yes</td>\n",
       "      <td>91</td>\n",
       "      <td>5433</td>\n",
       "      <td>Competitor</td>\n",
       "      <td>Competitor offered more data</td>\n",
       "    </tr>\n",
       "    <tr>\n",
       "      <th>1</th>\n",
       "      <td>7495-OOKFY</td>\n",
       "      <td>Female</td>\n",
       "      <td>74</td>\n",
       "      <td>No</td>\n",
       "      <td>Yes</td>\n",
       "      <td>Yes</td>\n",
       "      <td>Yes</td>\n",
       "      <td>1</td>\n",
       "      <td>United States</td>\n",
       "      <td>California</td>\n",
       "      <td>Los Angeles</td>\n",
       "      <td>90063</td>\n",
       "      <td>34.044271</td>\n",
       "      <td>-118.185237</td>\n",
       "      <td>55668</td>\n",
       "      <td>Q3</td>\n",
       "      <td>Yes</td>\n",
       "      <td>1</td>\n",
       "      <td>8</td>\n",
       "      <td>Offer E</td>\n",
       "      <td>Yes</td>\n",
       "      <td>48.85</td>\n",
       "      <td>Yes</td>\n",
       "      <td>Yes</td>\n",
       "      <td>Fiber Optic</td>\n",
       "      <td>17</td>\n",
       "      <td>No</td>\n",
       "      <td>Yes</td>\n",
       "      <td>No</td>\n",
       "      <td>No</td>\n",
       "      <td>No</td>\n",
       "      <td>No</td>\n",
       "      <td>No</td>\n",
       "      <td>Yes</td>\n",
       "      <td>Month-to-Month</td>\n",
       "      <td>Yes</td>\n",
       "      <td>Credit Card</td>\n",
       "      <td>80.65</td>\n",
       "      <td>633.30</td>\n",
       "      <td>0.00</td>\n",
       "      <td>0</td>\n",
       "      <td>390.80</td>\n",
       "      <td>1024.10</td>\n",
       "      <td>3</td>\n",
       "      <td>Churned</td>\n",
       "      <td>Yes</td>\n",
       "      <td>69</td>\n",
       "      <td>5302</td>\n",
       "      <td>Competitor</td>\n",
       "      <td>Competitor made better offer</td>\n",
       "    </tr>\n",
       "    <tr>\n",
       "      <th>2</th>\n",
       "      <td>1658-BYGOY</td>\n",
       "      <td>Male</td>\n",
       "      <td>71</td>\n",
       "      <td>No</td>\n",
       "      <td>Yes</td>\n",
       "      <td>No</td>\n",
       "      <td>Yes</td>\n",
       "      <td>3</td>\n",
       "      <td>United States</td>\n",
       "      <td>California</td>\n",
       "      <td>Los Angeles</td>\n",
       "      <td>90065</td>\n",
       "      <td>34.108833</td>\n",
       "      <td>-118.229715</td>\n",
       "      <td>47534</td>\n",
       "      <td>Q3</td>\n",
       "      <td>No</td>\n",
       "      <td>0</td>\n",
       "      <td>18</td>\n",
       "      <td>Offer D</td>\n",
       "      <td>Yes</td>\n",
       "      <td>11.33</td>\n",
       "      <td>Yes</td>\n",
       "      <td>Yes</td>\n",
       "      <td>Fiber Optic</td>\n",
       "      <td>52</td>\n",
       "      <td>No</td>\n",
       "      <td>No</td>\n",
       "      <td>No</td>\n",
       "      <td>No</td>\n",
       "      <td>Yes</td>\n",
       "      <td>Yes</td>\n",
       "      <td>Yes</td>\n",
       "      <td>Yes</td>\n",
       "      <td>Month-to-Month</td>\n",
       "      <td>Yes</td>\n",
       "      <td>Bank Withdrawal</td>\n",
       "      <td>95.45</td>\n",
       "      <td>1752.55</td>\n",
       "      <td>45.61</td>\n",
       "      <td>0</td>\n",
       "      <td>203.94</td>\n",
       "      <td>1910.88</td>\n",
       "      <td>2</td>\n",
       "      <td>Churned</td>\n",
       "      <td>Yes</td>\n",
       "      <td>81</td>\n",
       "      <td>3179</td>\n",
       "      <td>Competitor</td>\n",
       "      <td>Competitor made better offer</td>\n",
       "    </tr>\n",
       "    <tr>\n",
       "      <th>3</th>\n",
       "      <td>4598-XLKNJ</td>\n",
       "      <td>Female</td>\n",
       "      <td>78</td>\n",
       "      <td>No</td>\n",
       "      <td>Yes</td>\n",
       "      <td>Yes</td>\n",
       "      <td>Yes</td>\n",
       "      <td>1</td>\n",
       "      <td>United States</td>\n",
       "      <td>California</td>\n",
       "      <td>Inglewood</td>\n",
       "      <td>90303</td>\n",
       "      <td>33.936291</td>\n",
       "      <td>-118.332639</td>\n",
       "      <td>27778</td>\n",
       "      <td>Q3</td>\n",
       "      <td>Yes</td>\n",
       "      <td>1</td>\n",
       "      <td>25</td>\n",
       "      <td>Offer C</td>\n",
       "      <td>Yes</td>\n",
       "      <td>19.76</td>\n",
       "      <td>No</td>\n",
       "      <td>Yes</td>\n",
       "      <td>Fiber Optic</td>\n",
       "      <td>12</td>\n",
       "      <td>No</td>\n",
       "      <td>Yes</td>\n",
       "      <td>Yes</td>\n",
       "      <td>No</td>\n",
       "      <td>Yes</td>\n",
       "      <td>Yes</td>\n",
       "      <td>No</td>\n",
       "      <td>Yes</td>\n",
       "      <td>Month-to-Month</td>\n",
       "      <td>Yes</td>\n",
       "      <td>Bank Withdrawal</td>\n",
       "      <td>98.50</td>\n",
       "      <td>2514.50</td>\n",
       "      <td>13.43</td>\n",
       "      <td>0</td>\n",
       "      <td>494.00</td>\n",
       "      <td>2995.07</td>\n",
       "      <td>2</td>\n",
       "      <td>Churned</td>\n",
       "      <td>Yes</td>\n",
       "      <td>88</td>\n",
       "      <td>5337</td>\n",
       "      <td>Dissatisfaction</td>\n",
       "      <td>Limited range of services</td>\n",
       "    </tr>\n",
       "    <tr>\n",
       "      <th>4</th>\n",
       "      <td>4846-WHAFZ</td>\n",
       "      <td>Female</td>\n",
       "      <td>80</td>\n",
       "      <td>No</td>\n",
       "      <td>Yes</td>\n",
       "      <td>Yes</td>\n",
       "      <td>Yes</td>\n",
       "      <td>1</td>\n",
       "      <td>United States</td>\n",
       "      <td>California</td>\n",
       "      <td>Whittier</td>\n",
       "      <td>90602</td>\n",
       "      <td>33.972119</td>\n",
       "      <td>-118.020188</td>\n",
       "      <td>26265</td>\n",
       "      <td>Q3</td>\n",
       "      <td>Yes</td>\n",
       "      <td>1</td>\n",
       "      <td>37</td>\n",
       "      <td>Offer C</td>\n",
       "      <td>Yes</td>\n",
       "      <td>6.33</td>\n",
       "      <td>Yes</td>\n",
       "      <td>Yes</td>\n",
       "      <td>Fiber Optic</td>\n",
       "      <td>14</td>\n",
       "      <td>No</td>\n",
       "      <td>No</td>\n",
       "      <td>No</td>\n",
       "      <td>No</td>\n",
       "      <td>No</td>\n",
       "      <td>No</td>\n",
       "      <td>No</td>\n",
       "      <td>Yes</td>\n",
       "      <td>Month-to-Month</td>\n",
       "      <td>Yes</td>\n",
       "      <td>Bank Withdrawal</td>\n",
       "      <td>76.50</td>\n",
       "      <td>2868.15</td>\n",
       "      <td>0.00</td>\n",
       "      <td>0</td>\n",
       "      <td>234.21</td>\n",
       "      <td>3102.36</td>\n",
       "      <td>2</td>\n",
       "      <td>Churned</td>\n",
       "      <td>Yes</td>\n",
       "      <td>67</td>\n",
       "      <td>2793</td>\n",
       "      <td>Price</td>\n",
       "      <td>Extra data charges</td>\n",
       "    </tr>\n",
       "  </tbody>\n",
       "</table>\n",
       "</div>"
      ],
      "text/plain": [
       "  Customer ID  Gender  Age Under 30 Senior Citizen Married Dependents  \\\n",
       "0  8779-QRDMV    Male   78       No            Yes      No         No   \n",
       "1  7495-OOKFY  Female   74       No            Yes     Yes        Yes   \n",
       "2  1658-BYGOY    Male   71       No            Yes      No        Yes   \n",
       "3  4598-XLKNJ  Female   78       No            Yes     Yes        Yes   \n",
       "4  4846-WHAFZ  Female   80       No            Yes     Yes        Yes   \n",
       "\n",
       "   Number of Dependents        Country       State         City  Zip Code  \\\n",
       "0                     0  United States  California  Los Angeles     90022   \n",
       "1                     1  United States  California  Los Angeles     90063   \n",
       "2                     3  United States  California  Los Angeles     90065   \n",
       "3                     1  United States  California    Inglewood     90303   \n",
       "4                     1  United States  California     Whittier     90602   \n",
       "\n",
       "    Latitude   Longitude  Population Quarter Referred a Friend  \\\n",
       "0  34.023810 -118.156582       68701      Q3                No   \n",
       "1  34.044271 -118.185237       55668      Q3               Yes   \n",
       "2  34.108833 -118.229715       47534      Q3                No   \n",
       "3  33.936291 -118.332639       27778      Q3               Yes   \n",
       "4  33.972119 -118.020188       26265      Q3               Yes   \n",
       "\n",
       "   Number of Referrals  Tenure in Months    Offer Phone Service  \\\n",
       "0                    0                 1     None            No   \n",
       "1                    1                 8  Offer E           Yes   \n",
       "2                    0                18  Offer D           Yes   \n",
       "3                    1                25  Offer C           Yes   \n",
       "4                    1                37  Offer C           Yes   \n",
       "\n",
       "   Avg Monthly Long Distance Charges Multiple Lines Internet Service  \\\n",
       "0                               0.00             No              Yes   \n",
       "1                              48.85            Yes              Yes   \n",
       "2                              11.33            Yes              Yes   \n",
       "3                              19.76             No              Yes   \n",
       "4                               6.33            Yes              Yes   \n",
       "\n",
       "  Internet Type  Avg Monthly GB Download Online Security Online Backup  \\\n",
       "0           DSL                        8              No            No   \n",
       "1   Fiber Optic                       17              No           Yes   \n",
       "2   Fiber Optic                       52              No            No   \n",
       "3   Fiber Optic                       12              No           Yes   \n",
       "4   Fiber Optic                       14              No            No   \n",
       "\n",
       "  Device Protection Plan Premium Tech Support Streaming TV Streaming Movies  \\\n",
       "0                    Yes                   No           No              Yes   \n",
       "1                     No                   No           No               No   \n",
       "2                     No                   No          Yes              Yes   \n",
       "3                    Yes                   No          Yes              Yes   \n",
       "4                     No                   No           No               No   \n",
       "\n",
       "  Streaming Music Unlimited Data        Contract Paperless Billing  \\\n",
       "0              No             No  Month-to-Month               Yes   \n",
       "1              No            Yes  Month-to-Month               Yes   \n",
       "2             Yes            Yes  Month-to-Month               Yes   \n",
       "3              No            Yes  Month-to-Month               Yes   \n",
       "4              No            Yes  Month-to-Month               Yes   \n",
       "\n",
       "    Payment Method  Monthly Charge  Total Charges  Total Refunds  \\\n",
       "0  Bank Withdrawal           39.65          39.65           0.00   \n",
       "1      Credit Card           80.65         633.30           0.00   \n",
       "2  Bank Withdrawal           95.45        1752.55          45.61   \n",
       "3  Bank Withdrawal           98.50        2514.50          13.43   \n",
       "4  Bank Withdrawal           76.50        2868.15           0.00   \n",
       "\n",
       "   Total Extra Data Charges  Total Long Distance Charges  Total Revenue  \\\n",
       "0                        20                         0.00          59.65   \n",
       "1                         0                       390.80        1024.10   \n",
       "2                         0                       203.94        1910.88   \n",
       "3                         0                       494.00        2995.07   \n",
       "4                         0                       234.21        3102.36   \n",
       "\n",
       "   Satisfaction Score Customer Status Churn Label  Churn Score  CLTV  \\\n",
       "0                   3         Churned         Yes           91  5433   \n",
       "1                   3         Churned         Yes           69  5302   \n",
       "2                   2         Churned         Yes           81  3179   \n",
       "3                   2         Churned         Yes           88  5337   \n",
       "4                   2         Churned         Yes           67  2793   \n",
       "\n",
       "    Churn Category                  Churn Reason  \n",
       "0       Competitor  Competitor offered more data  \n",
       "1       Competitor  Competitor made better offer  \n",
       "2       Competitor  Competitor made better offer  \n",
       "3  Dissatisfaction     Limited range of services  \n",
       "4            Price            Extra data charges  "
      ]
     },
     "execution_count": 5,
     "metadata": {},
     "output_type": "execute_result"
    }
   ],
   "source": [
    "data.head()\n"
   ]
  },
  {
   "cell_type": "code",
   "execution_count": 6,
   "id": "5786331a-5d32-4545-99d1-6203e0a17e86",
   "metadata": {},
   "outputs": [
    {
     "name": "stdout",
     "output_type": "stream",
     "text": [
      "<class 'pandas.core.frame.DataFrame'>\n",
      "RangeIndex: 7043 entries, 0 to 7042\n",
      "Data columns (total 50 columns):\n",
      " #   Column                             Non-Null Count  Dtype  \n",
      "---  ------                             --------------  -----  \n",
      " 0   Customer ID                        7043 non-null   object \n",
      " 1   Gender                             7043 non-null   object \n",
      " 2   Age                                7043 non-null   int64  \n",
      " 3   Under 30                           7043 non-null   object \n",
      " 4   Senior Citizen                     7043 non-null   object \n",
      " 5   Married                            7043 non-null   object \n",
      " 6   Dependents                         7043 non-null   object \n",
      " 7   Number of Dependents               7043 non-null   int64  \n",
      " 8   Country                            7043 non-null   object \n",
      " 9   State                              7043 non-null   object \n",
      " 10  City                               7043 non-null   object \n",
      " 11  Zip Code                           7043 non-null   int64  \n",
      " 12  Latitude                           7043 non-null   float64\n",
      " 13  Longitude                          7043 non-null   float64\n",
      " 14  Population                         7043 non-null   int64  \n",
      " 15  Quarter                            7043 non-null   object \n",
      " 16  Referred a Friend                  7043 non-null   object \n",
      " 17  Number of Referrals                7043 non-null   int64  \n",
      " 18  Tenure in Months                   7043 non-null   int64  \n",
      " 19  Offer                              7043 non-null   object \n",
      " 20  Phone Service                      7043 non-null   object \n",
      " 21  Avg Monthly Long Distance Charges  7043 non-null   float64\n",
      " 22  Multiple Lines                     7043 non-null   object \n",
      " 23  Internet Service                   7043 non-null   object \n",
      " 24  Internet Type                      7043 non-null   object \n",
      " 25  Avg Monthly GB Download            7043 non-null   int64  \n",
      " 26  Online Security                    7043 non-null   object \n",
      " 27  Online Backup                      7043 non-null   object \n",
      " 28  Device Protection Plan             7043 non-null   object \n",
      " 29  Premium Tech Support               7043 non-null   object \n",
      " 30  Streaming TV                       7043 non-null   object \n",
      " 31  Streaming Movies                   7043 non-null   object \n",
      " 32  Streaming Music                    7043 non-null   object \n",
      " 33  Unlimited Data                     7043 non-null   object \n",
      " 34  Contract                           7043 non-null   object \n",
      " 35  Paperless Billing                  7043 non-null   object \n",
      " 36  Payment Method                     7043 non-null   object \n",
      " 37  Monthly Charge                     7043 non-null   float64\n",
      " 38  Total Charges                      7043 non-null   float64\n",
      " 39  Total Refunds                      7043 non-null   float64\n",
      " 40  Total Extra Data Charges           7043 non-null   int64  \n",
      " 41  Total Long Distance Charges        7043 non-null   float64\n",
      " 42  Total Revenue                      7043 non-null   float64\n",
      " 43  Satisfaction Score                 7043 non-null   int64  \n",
      " 44  Customer Status                    7043 non-null   object \n",
      " 45  Churn Label                        7043 non-null   object \n",
      " 46  Churn Score                        7043 non-null   int64  \n",
      " 47  CLTV                               7043 non-null   int64  \n",
      " 48  Churn Category                     1869 non-null   object \n",
      " 49  Churn Reason                       1869 non-null   object \n",
      "dtypes: float64(8), int64(11), object(31)\n",
      "memory usage: 2.7+ MB\n"
     ]
    }
   ],
   "source": [
    "data.info()"
   ]
  },
  {
   "cell_type": "markdown",
   "id": "94162f42",
   "metadata": {},
   "source": [
    "# 3. Data Splitting"
   ]
  },
  {
   "cell_type": "code",
   "execution_count": 7,
   "id": "359f42e1",
   "metadata": {},
   "outputs": [],
   "source": [
    "#X = data.drop(\"Churn Label\", axis=1) \n",
    "#y = data[\"Churn Label\"]\n",
    "\n",
    "##Decidimos que es mejor despues"
   ]
  },
  {
   "cell_type": "code",
   "execution_count": 8,
   "id": "f26358be",
   "metadata": {},
   "outputs": [],
   "source": [
    "estratos = [\"Churn Label\", \"Gender\", \"Offer\", \"Customer Status\"]"
   ]
  },
  {
   "cell_type": "code",
   "execution_count": 14,
   "id": "19491eb5",
   "metadata": {},
   "outputs": [],
   "source": [
    "train_data, temp_data = train_test_split(data, test_size=0.3, stratify=data[estratos], random_state=42)"
   ]
  },
  {
   "cell_type": "code",
   "execution_count": 15,
   "id": "a6d57a0e",
   "metadata": {},
   "outputs": [],
   "source": [
    "val_data, test_data = train_test_split(temp_data, test_size=0.50, stratify=temp_data[estratos], random_state=42)"
   ]
  },
  {
   "cell_type": "code",
   "execution_count": 16,
   "id": "ec65280c",
   "metadata": {},
   "outputs": [],
   "source": [
    "test_data.to_csv(\"test_data.csv\", index=False)"
   ]
  },
  {
   "cell_type": "code",
   "execution_count": 17,
   "id": "8fabd1ec",
   "metadata": {},
   "outputs": [
    {
     "data": {
      "text/html": [
       "<div>\n",
       "<style scoped>\n",
       "    .dataframe tbody tr th:only-of-type {\n",
       "        vertical-align: middle;\n",
       "    }\n",
       "\n",
       "    .dataframe tbody tr th {\n",
       "        vertical-align: top;\n",
       "    }\n",
       "\n",
       "    .dataframe thead th {\n",
       "        text-align: right;\n",
       "    }\n",
       "</style>\n",
       "<table border=\"1\" class=\"dataframe\">\n",
       "  <thead>\n",
       "    <tr style=\"text-align: right;\">\n",
       "      <th></th>\n",
       "      <th>Customer ID</th>\n",
       "      <th>Gender</th>\n",
       "      <th>Age</th>\n",
       "      <th>Under 30</th>\n",
       "      <th>Senior Citizen</th>\n",
       "      <th>Married</th>\n",
       "      <th>Dependents</th>\n",
       "      <th>Number of Dependents</th>\n",
       "      <th>Country</th>\n",
       "      <th>State</th>\n",
       "      <th>City</th>\n",
       "      <th>Zip Code</th>\n",
       "      <th>Latitude</th>\n",
       "      <th>Longitude</th>\n",
       "      <th>Population</th>\n",
       "      <th>Quarter</th>\n",
       "      <th>Referred a Friend</th>\n",
       "      <th>Number of Referrals</th>\n",
       "      <th>Tenure in Months</th>\n",
       "      <th>Offer</th>\n",
       "      <th>Phone Service</th>\n",
       "      <th>Avg Monthly Long Distance Charges</th>\n",
       "      <th>Multiple Lines</th>\n",
       "      <th>Internet Service</th>\n",
       "      <th>Internet Type</th>\n",
       "      <th>Avg Monthly GB Download</th>\n",
       "      <th>Online Security</th>\n",
       "      <th>Online Backup</th>\n",
       "      <th>Device Protection Plan</th>\n",
       "      <th>Premium Tech Support</th>\n",
       "      <th>Streaming TV</th>\n",
       "      <th>Streaming Movies</th>\n",
       "      <th>Streaming Music</th>\n",
       "      <th>Unlimited Data</th>\n",
       "      <th>Contract</th>\n",
       "      <th>Paperless Billing</th>\n",
       "      <th>Payment Method</th>\n",
       "      <th>Monthly Charge</th>\n",
       "      <th>Total Charges</th>\n",
       "      <th>Total Refunds</th>\n",
       "      <th>Total Extra Data Charges</th>\n",
       "      <th>Total Long Distance Charges</th>\n",
       "      <th>Total Revenue</th>\n",
       "      <th>Satisfaction Score</th>\n",
       "      <th>Customer Status</th>\n",
       "      <th>Churn Label</th>\n",
       "      <th>Churn Score</th>\n",
       "      <th>CLTV</th>\n",
       "      <th>Churn Category</th>\n",
       "      <th>Churn Reason</th>\n",
       "    </tr>\n",
       "  </thead>\n",
       "  <tbody>\n",
       "    <tr>\n",
       "      <th>3818</th>\n",
       "      <td>0017-DINOC</td>\n",
       "      <td>Male</td>\n",
       "      <td>47</td>\n",
       "      <td>No</td>\n",
       "      <td>No</td>\n",
       "      <td>No</td>\n",
       "      <td>No</td>\n",
       "      <td>0</td>\n",
       "      <td>United States</td>\n",
       "      <td>California</td>\n",
       "      <td>Rancho Santa Fe</td>\n",
       "      <td>92091</td>\n",
       "      <td>32.993560</td>\n",
       "      <td>-117.207121</td>\n",
       "      <td>1072</td>\n",
       "      <td>Q3</td>\n",
       "      <td>No</td>\n",
       "      <td>0</td>\n",
       "      <td>54</td>\n",
       "      <td>None</td>\n",
       "      <td>No</td>\n",
       "      <td>0.00</td>\n",
       "      <td>No</td>\n",
       "      <td>Yes</td>\n",
       "      <td>Cable</td>\n",
       "      <td>10</td>\n",
       "      <td>Yes</td>\n",
       "      <td>No</td>\n",
       "      <td>No</td>\n",
       "      <td>Yes</td>\n",
       "      <td>Yes</td>\n",
       "      <td>No</td>\n",
       "      <td>No</td>\n",
       "      <td>Yes</td>\n",
       "      <td>Two Year</td>\n",
       "      <td>No</td>\n",
       "      <td>Credit Card</td>\n",
       "      <td>45.20</td>\n",
       "      <td>2460.55</td>\n",
       "      <td>0.0</td>\n",
       "      <td>0</td>\n",
       "      <td>0.00</td>\n",
       "      <td>2460.55</td>\n",
       "      <td>4</td>\n",
       "      <td>Stayed</td>\n",
       "      <td>No</td>\n",
       "      <td>54</td>\n",
       "      <td>5435</td>\n",
       "      <td>NaN</td>\n",
       "      <td>NaN</td>\n",
       "    </tr>\n",
       "    <tr>\n",
       "      <th>356</th>\n",
       "      <td>6005-OBZPH</td>\n",
       "      <td>Female</td>\n",
       "      <td>68</td>\n",
       "      <td>No</td>\n",
       "      <td>Yes</td>\n",
       "      <td>No</td>\n",
       "      <td>No</td>\n",
       "      <td>0</td>\n",
       "      <td>United States</td>\n",
       "      <td>California</td>\n",
       "      <td>San Diego</td>\n",
       "      <td>92126</td>\n",
       "      <td>32.886925</td>\n",
       "      <td>-117.152162</td>\n",
       "      <td>74232</td>\n",
       "      <td>Q3</td>\n",
       "      <td>No</td>\n",
       "      <td>0</td>\n",
       "      <td>26</td>\n",
       "      <td>Offer C</td>\n",
       "      <td>Yes</td>\n",
       "      <td>9.09</td>\n",
       "      <td>Yes</td>\n",
       "      <td>Yes</td>\n",
       "      <td>Fiber Optic</td>\n",
       "      <td>12</td>\n",
       "      <td>No</td>\n",
       "      <td>Yes</td>\n",
       "      <td>No</td>\n",
       "      <td>No</td>\n",
       "      <td>Yes</td>\n",
       "      <td>No</td>\n",
       "      <td>No</td>\n",
       "      <td>Yes</td>\n",
       "      <td>Month-to-Month</td>\n",
       "      <td>Yes</td>\n",
       "      <td>Bank Withdrawal</td>\n",
       "      <td>89.15</td>\n",
       "      <td>2277.65</td>\n",
       "      <td>0.0</td>\n",
       "      <td>0</td>\n",
       "      <td>236.34</td>\n",
       "      <td>2513.99</td>\n",
       "      <td>1</td>\n",
       "      <td>Churned</td>\n",
       "      <td>Yes</td>\n",
       "      <td>89</td>\n",
       "      <td>4074</td>\n",
       "      <td>Other</td>\n",
       "      <td>Don't know</td>\n",
       "    </tr>\n",
       "    <tr>\n",
       "      <th>3879</th>\n",
       "      <td>0842-IWYCP</td>\n",
       "      <td>Female</td>\n",
       "      <td>19</td>\n",
       "      <td>Yes</td>\n",
       "      <td>No</td>\n",
       "      <td>No</td>\n",
       "      <td>No</td>\n",
       "      <td>0</td>\n",
       "      <td>United States</td>\n",
       "      <td>California</td>\n",
       "      <td>Helendale</td>\n",
       "      <td>92342</td>\n",
       "      <td>34.757783</td>\n",
       "      <td>-117.339970</td>\n",
       "      <td>4948</td>\n",
       "      <td>Q3</td>\n",
       "      <td>No</td>\n",
       "      <td>0</td>\n",
       "      <td>46</td>\n",
       "      <td>None</td>\n",
       "      <td>Yes</td>\n",
       "      <td>40.32</td>\n",
       "      <td>No</td>\n",
       "      <td>Yes</td>\n",
       "      <td>Cable</td>\n",
       "      <td>51</td>\n",
       "      <td>No</td>\n",
       "      <td>No</td>\n",
       "      <td>No</td>\n",
       "      <td>No</td>\n",
       "      <td>No</td>\n",
       "      <td>No</td>\n",
       "      <td>No</td>\n",
       "      <td>Yes</td>\n",
       "      <td>Month-to-Month</td>\n",
       "      <td>No</td>\n",
       "      <td>Bank Withdrawal</td>\n",
       "      <td>44.95</td>\n",
       "      <td>2168.90</td>\n",
       "      <td>0.0</td>\n",
       "      <td>0</td>\n",
       "      <td>1854.72</td>\n",
       "      <td>4023.62</td>\n",
       "      <td>5</td>\n",
       "      <td>Stayed</td>\n",
       "      <td>No</td>\n",
       "      <td>44</td>\n",
       "      <td>2626</td>\n",
       "      <td>NaN</td>\n",
       "      <td>NaN</td>\n",
       "    </tr>\n",
       "    <tr>\n",
       "      <th>6414</th>\n",
       "      <td>0356-ERHVT</td>\n",
       "      <td>Male</td>\n",
       "      <td>54</td>\n",
       "      <td>No</td>\n",
       "      <td>No</td>\n",
       "      <td>Yes</td>\n",
       "      <td>No</td>\n",
       "      <td>0</td>\n",
       "      <td>United States</td>\n",
       "      <td>California</td>\n",
       "      <td>Santa Cruz</td>\n",
       "      <td>95062</td>\n",
       "      <td>36.974575</td>\n",
       "      <td>-121.991149</td>\n",
       "      <td>36631</td>\n",
       "      <td>Q3</td>\n",
       "      <td>Yes</td>\n",
       "      <td>1</td>\n",
       "      <td>11</td>\n",
       "      <td>Offer D</td>\n",
       "      <td>Yes</td>\n",
       "      <td>12.95</td>\n",
       "      <td>No</td>\n",
       "      <td>Yes</td>\n",
       "      <td>Cable</td>\n",
       "      <td>6</td>\n",
       "      <td>No</td>\n",
       "      <td>No</td>\n",
       "      <td>No</td>\n",
       "      <td>No</td>\n",
       "      <td>No</td>\n",
       "      <td>No</td>\n",
       "      <td>No</td>\n",
       "      <td>Yes</td>\n",
       "      <td>Month-to-Month</td>\n",
       "      <td>Yes</td>\n",
       "      <td>Bank Withdrawal</td>\n",
       "      <td>45.90</td>\n",
       "      <td>521.90</td>\n",
       "      <td>0.0</td>\n",
       "      <td>0</td>\n",
       "      <td>142.45</td>\n",
       "      <td>664.35</td>\n",
       "      <td>5</td>\n",
       "      <td>Stayed</td>\n",
       "      <td>No</td>\n",
       "      <td>41</td>\n",
       "      <td>3880</td>\n",
       "      <td>NaN</td>\n",
       "      <td>NaN</td>\n",
       "    </tr>\n",
       "    <tr>\n",
       "      <th>3433</th>\n",
       "      <td>2373-NTKOD</td>\n",
       "      <td>Male</td>\n",
       "      <td>40</td>\n",
       "      <td>No</td>\n",
       "      <td>No</td>\n",
       "      <td>No</td>\n",
       "      <td>No</td>\n",
       "      <td>0</td>\n",
       "      <td>United States</td>\n",
       "      <td>California</td>\n",
       "      <td>Rancho Cordova</td>\n",
       "      <td>95670</td>\n",
       "      <td>38.602723</td>\n",
       "      <td>-121.279913</td>\n",
       "      <td>49729</td>\n",
       "      <td>Q3</td>\n",
       "      <td>No</td>\n",
       "      <td>0</td>\n",
       "      <td>8</td>\n",
       "      <td>Offer E</td>\n",
       "      <td>Yes</td>\n",
       "      <td>25.72</td>\n",
       "      <td>No</td>\n",
       "      <td>Yes</td>\n",
       "      <td>Cable</td>\n",
       "      <td>24</td>\n",
       "      <td>No</td>\n",
       "      <td>No</td>\n",
       "      <td>No</td>\n",
       "      <td>No</td>\n",
       "      <td>Yes</td>\n",
       "      <td>Yes</td>\n",
       "      <td>Yes</td>\n",
       "      <td>Yes</td>\n",
       "      <td>Month-to-Month</td>\n",
       "      <td>Yes</td>\n",
       "      <td>Bank Withdrawal</td>\n",
       "      <td>66.25</td>\n",
       "      <td>546.45</td>\n",
       "      <td>0.0</td>\n",
       "      <td>0</td>\n",
       "      <td>205.76</td>\n",
       "      <td>752.21</td>\n",
       "      <td>5</td>\n",
       "      <td>Stayed</td>\n",
       "      <td>No</td>\n",
       "      <td>60</td>\n",
       "      <td>3026</td>\n",
       "      <td>NaN</td>\n",
       "      <td>NaN</td>\n",
       "    </tr>\n",
       "  </tbody>\n",
       "</table>\n",
       "</div>"
      ],
      "text/plain": [
       "     Customer ID  Gender  Age Under 30 Senior Citizen Married Dependents  \\\n",
       "3818  0017-DINOC    Male   47       No             No      No         No   \n",
       "356   6005-OBZPH  Female   68       No            Yes      No         No   \n",
       "3879  0842-IWYCP  Female   19      Yes             No      No         No   \n",
       "6414  0356-ERHVT    Male   54       No             No     Yes         No   \n",
       "3433  2373-NTKOD    Male   40       No             No      No         No   \n",
       "\n",
       "      Number of Dependents        Country       State             City  \\\n",
       "3818                     0  United States  California  Rancho Santa Fe   \n",
       "356                      0  United States  California        San Diego   \n",
       "3879                     0  United States  California        Helendale   \n",
       "6414                     0  United States  California       Santa Cruz   \n",
       "3433                     0  United States  California   Rancho Cordova   \n",
       "\n",
       "      Zip Code   Latitude   Longitude  Population Quarter Referred a Friend  \\\n",
       "3818     92091  32.993560 -117.207121        1072      Q3                No   \n",
       "356      92126  32.886925 -117.152162       74232      Q3                No   \n",
       "3879     92342  34.757783 -117.339970        4948      Q3                No   \n",
       "6414     95062  36.974575 -121.991149       36631      Q3               Yes   \n",
       "3433     95670  38.602723 -121.279913       49729      Q3                No   \n",
       "\n",
       "      Number of Referrals  Tenure in Months    Offer Phone Service  \\\n",
       "3818                    0                54     None            No   \n",
       "356                     0                26  Offer C           Yes   \n",
       "3879                    0                46     None           Yes   \n",
       "6414                    1                11  Offer D           Yes   \n",
       "3433                    0                 8  Offer E           Yes   \n",
       "\n",
       "      Avg Monthly Long Distance Charges Multiple Lines Internet Service  \\\n",
       "3818                               0.00             No              Yes   \n",
       "356                                9.09            Yes              Yes   \n",
       "3879                              40.32             No              Yes   \n",
       "6414                              12.95             No              Yes   \n",
       "3433                              25.72             No              Yes   \n",
       "\n",
       "     Internet Type  Avg Monthly GB Download Online Security Online Backup  \\\n",
       "3818         Cable                       10             Yes            No   \n",
       "356    Fiber Optic                       12              No           Yes   \n",
       "3879         Cable                       51              No            No   \n",
       "6414         Cable                        6              No            No   \n",
       "3433         Cable                       24              No            No   \n",
       "\n",
       "     Device Protection Plan Premium Tech Support Streaming TV  \\\n",
       "3818                     No                  Yes          Yes   \n",
       "356                      No                   No          Yes   \n",
       "3879                     No                   No           No   \n",
       "6414                     No                   No           No   \n",
       "3433                     No                   No          Yes   \n",
       "\n",
       "     Streaming Movies Streaming Music Unlimited Data        Contract  \\\n",
       "3818               No              No            Yes        Two Year   \n",
       "356                No              No            Yes  Month-to-Month   \n",
       "3879               No              No            Yes  Month-to-Month   \n",
       "6414               No              No            Yes  Month-to-Month   \n",
       "3433              Yes             Yes            Yes  Month-to-Month   \n",
       "\n",
       "     Paperless Billing   Payment Method  Monthly Charge  Total Charges  \\\n",
       "3818                No      Credit Card           45.20        2460.55   \n",
       "356                Yes  Bank Withdrawal           89.15        2277.65   \n",
       "3879                No  Bank Withdrawal           44.95        2168.90   \n",
       "6414               Yes  Bank Withdrawal           45.90         521.90   \n",
       "3433               Yes  Bank Withdrawal           66.25         546.45   \n",
       "\n",
       "      Total Refunds  Total Extra Data Charges  Total Long Distance Charges  \\\n",
       "3818            0.0                         0                         0.00   \n",
       "356             0.0                         0                       236.34   \n",
       "3879            0.0                         0                      1854.72   \n",
       "6414            0.0                         0                       142.45   \n",
       "3433            0.0                         0                       205.76   \n",
       "\n",
       "      Total Revenue  Satisfaction Score Customer Status Churn Label  \\\n",
       "3818        2460.55                   4          Stayed          No   \n",
       "356         2513.99                   1         Churned         Yes   \n",
       "3879        4023.62                   5          Stayed          No   \n",
       "6414         664.35                   5          Stayed          No   \n",
       "3433         752.21                   5          Stayed          No   \n",
       "\n",
       "      Churn Score  CLTV Churn Category Churn Reason  \n",
       "3818           54  5435            NaN          NaN  \n",
       "356            89  4074          Other   Don't know  \n",
       "3879           44  2626            NaN          NaN  \n",
       "6414           41  3880            NaN          NaN  \n",
       "3433           60  3026            NaN          NaN  "
      ]
     },
     "execution_count": 17,
     "metadata": {},
     "output_type": "execute_result"
    }
   ],
   "source": [
    "train_data.head()"
   ]
  },
  {
   "cell_type": "markdown",
   "id": "9184a719",
   "metadata": {},
   "source": [
    "# 4. Exploratory Data Analysis"
   ]
  },
  {
   "cell_type": "code",
   "execution_count": 18,
   "id": "7c74c1fe",
   "metadata": {},
   "outputs": [],
   "source": [
    "# Eliminar las columnas que ya no se necesita\n",
    "train_data = train_data.drop(columns=[\"Customer ID\", \"Churn Score\", \"Churn Category\", \"Churn Reason\"])\n",
    "temp_data = temp_data.drop(columns=[\"Customer ID\", \"Churn Score\", \"Churn Category\", \"Churn Reason\"])"
   ]
  },
  {
   "cell_type": "code",
   "execution_count": 19,
   "id": "8cb1c9ea-8988-4673-9604-4cb7cf5e5532",
   "metadata": {},
   "outputs": [
    {
     "name": "stdout",
     "output_type": "stream",
     "text": [
      "<class 'pandas.core.frame.DataFrame'>\n",
      "Int64Index: 4930 entries, 3818 to 798\n",
      "Data columns (total 46 columns):\n",
      " #   Column                             Non-Null Count  Dtype  \n",
      "---  ------                             --------------  -----  \n",
      " 0   Gender                             4930 non-null   object \n",
      " 1   Age                                4930 non-null   int64  \n",
      " 2   Under 30                           4930 non-null   object \n",
      " 3   Senior Citizen                     4930 non-null   object \n",
      " 4   Married                            4930 non-null   object \n",
      " 5   Dependents                         4930 non-null   object \n",
      " 6   Number of Dependents               4930 non-null   int64  \n",
      " 7   Country                            4930 non-null   object \n",
      " 8   State                              4930 non-null   object \n",
      " 9   City                               4930 non-null   object \n",
      " 10  Zip Code                           4930 non-null   int64  \n",
      " 11  Latitude                           4930 non-null   float64\n",
      " 12  Longitude                          4930 non-null   float64\n",
      " 13  Population                         4930 non-null   int64  \n",
      " 14  Quarter                            4930 non-null   object \n",
      " 15  Referred a Friend                  4930 non-null   object \n",
      " 16  Number of Referrals                4930 non-null   int64  \n",
      " 17  Tenure in Months                   4930 non-null   int64  \n",
      " 18  Offer                              4930 non-null   object \n",
      " 19  Phone Service                      4930 non-null   object \n",
      " 20  Avg Monthly Long Distance Charges  4930 non-null   float64\n",
      " 21  Multiple Lines                     4930 non-null   object \n",
      " 22  Internet Service                   4930 non-null   object \n",
      " 23  Internet Type                      4930 non-null   object \n",
      " 24  Avg Monthly GB Download            4930 non-null   int64  \n",
      " 25  Online Security                    4930 non-null   object \n",
      " 26  Online Backup                      4930 non-null   object \n",
      " 27  Device Protection Plan             4930 non-null   object \n",
      " 28  Premium Tech Support               4930 non-null   object \n",
      " 29  Streaming TV                       4930 non-null   object \n",
      " 30  Streaming Movies                   4930 non-null   object \n",
      " 31  Streaming Music                    4930 non-null   object \n",
      " 32  Unlimited Data                     4930 non-null   object \n",
      " 33  Contract                           4930 non-null   object \n",
      " 34  Paperless Billing                  4930 non-null   object \n",
      " 35  Payment Method                     4930 non-null   object \n",
      " 36  Monthly Charge                     4930 non-null   float64\n",
      " 37  Total Charges                      4930 non-null   float64\n",
      " 38  Total Refunds                      4930 non-null   float64\n",
      " 39  Total Extra Data Charges           4930 non-null   int64  \n",
      " 40  Total Long Distance Charges        4930 non-null   float64\n",
      " 41  Total Revenue                      4930 non-null   float64\n",
      " 42  Satisfaction Score                 4930 non-null   int64  \n",
      " 43  Customer Status                    4930 non-null   object \n",
      " 44  Churn Label                        4930 non-null   object \n",
      " 45  CLTV                               4930 non-null   int64  \n",
      "dtypes: float64(8), int64(10), object(28)\n",
      "memory usage: 1.8+ MB\n"
     ]
    }
   ],
   "source": [
    "# Your code here. Exploratory data analysis can be done before splitting, but do not transform the dataset before splitting.\n",
    "train_data.info() #No valores nulos "
   ]
  },
  {
   "cell_type": "code",
   "execution_count": 22,
   "id": "0fdf26b2-c42e-4e39-bfef-97a6fee31442",
   "metadata": {},
   "outputs": [
    {
     "name": "stdout",
     "output_type": "stream",
     "text": [
      "Porcentaje de valores faltantes en la columna 'Offer': 0.00%\n"
     ]
    }
   ],
   "source": [
    "missing_percentage_Offer = (train_data['Offer'].isnull().sum() / len(train_data)) * 100\n",
    "print(f\"Porcentaje de valores faltantes en la columna 'Offer': {missing_percentage_Offer:.2f}%\")"
   ]
  },
  {
   "cell_type": "code",
   "execution_count": 23,
   "id": "8f2a6c4f-d8ff-4b34-80da-9520916b9930",
   "metadata": {},
   "outputs": [
    {
     "name": "stdout",
     "output_type": "stream",
     "text": [
      "Porcentaje de valores faltantes en la columna 'Internet Type': 0.00%\n"
     ]
    }
   ],
   "source": [
    "missing_percentage_Internet_Type = (train_data['Internet Type'].isnull().sum() / len(train_data)) * 100\n",
    "print(f\"Porcentaje de valores faltantes en la columna 'Internet Type': {missing_percentage_Internet_Type:.2f}%\")"
   ]
  },
  {
   "cell_type": "code",
   "execution_count": null,
   "id": "f0abd519-4d49-4d54-9c0c-6eaf4740f524",
   "metadata": {},
   "outputs": [],
   "source": [
    "#Estructura de los datos y resumen:  El dataset original tiene 50 columnas,\n",
    "#con variables de datos demográficos, geográficas, con información sobre los servicios,\n",
    "#datos financieros, y satisfacción y comportamiento del cliente.\n",
    "#Análisis de datos faltantes: Las siguientes columnas tienen valores faltantes:  Offer (55,05%)  e Internet Type (21,67%) \n",
    "#Esta información está relacionada con los clientes que se han dado de baja, y se van a ir evaluando a medida que \n",
    "#se realice el estudio del dataset"
   ]
  },
  {
   "cell_type": "code",
   "execution_count": 24,
   "id": "2491f775-6a53-441d-93a3-91c3cd01b1a1",
   "metadata": {},
   "outputs": [
    {
     "data": {
      "image/png": "[encoded data removed]",
      "text/plain": [
       "<Figure size 1000x600 with 1 Axes>"
      ]
     },
     "metadata": {},
     "output_type": "display_data"
    }
   ],
   "source": [
    "plt.figure(figsize=(10, 6))\n",
    "sns.histplot(train_data['Age'], bins=20, kde=True, color='skyblue')\n",
    "plt.title('Distribución de la Edad de los Clientes')\n",
    "plt.xlabel('Edad')\n",
    "plt.ylabel('Frecuencia')\n",
    "plt.show()"
   ]
  },
  {
   "cell_type": "code",
   "execution_count": 25,
   "id": "cd7357c1-ca46-491b-a139-76b42b002329",
   "metadata": {},
   "outputs": [
    {
     "name": "stdout",
     "output_type": "stream",
     "text": [
      "La media de la edad es: 46.6052738336714\n"
     ]
    }
   ],
   "source": [
    "mean_age = train_data['Age'].mean()\n",
    "print(f\"La media de la edad es: {mean_age}\")"
   ]
  },
  {
   "cell_type": "code",
   "execution_count": null,
   "id": "b6465877-d0e4-4d03-a722-3af6bd362e22",
   "metadata": {},
   "outputs": [],
   "source": [
    "#Los rangos de edad están desde los 19 a 80 años, siendo la media alrededor de los 46.50 años"
   ]
  },
  {
   "cell_type": "code",
   "execution_count": 26,
   "id": "6fdef23e-cc7a-4551-bffc-75986e99016f",
   "metadata": {},
   "outputs": [
    {
     "data": {
      "image/png": "[encoded data removed]",
      "text/plain": [
       "<Figure size 640x480 with 1 Axes>"
      ]
     },
     "metadata": {},
     "output_type": "display_data"
    }
   ],
   "source": [
    "sns.histplot(train_data['Tenure in Months'])\n",
    "plt.show()"
   ]
  },
  {
   "cell_type": "code",
   "execution_count": 27,
   "id": "ff36f8a2-c6e9-4e4d-b82e-ed61a1826af3",
   "metadata": {},
   "outputs": [
    {
     "data": {
      "text/plain": [
       "count    4930.000000\n",
       "mean       32.327383\n",
       "std        24.576410\n",
       "min         1.000000\n",
       "25%         9.000000\n",
       "50%        29.000000\n",
       "75%        55.000000\n",
       "max        72.000000\n",
       "Name: Tenure in Months, dtype: float64"
      ]
     },
     "execution_count": 27,
     "metadata": {},
     "output_type": "execute_result"
    }
   ],
   "source": [
    "train_data['Tenure in Months'].describe()"
   ]
  },
  {
   "cell_type": "code",
   "execution_count": 28,
   "id": "258b5f52-cb47-4e6e-878b-52956c00b833",
   "metadata": {},
   "outputs": [
    {
     "data": {
      "image/png": "[encoded data removed]",
      "text/plain": [
       "<Figure size 640x480 with 1 Axes>"
      ]
     },
     "metadata": {},
     "output_type": "display_data"
    }
   ],
   "source": [
    "sns.histplot(train_data[\"Number of Dependents\"])\n",
    "plt.show()\n"
   ]
  },
  {
   "cell_type": "code",
   "execution_count": 29,
   "id": "3b282705",
   "metadata": {},
   "outputs": [
    {
     "data": {
      "text/plain": [
       "No     0.583367\n",
       "Yes    0.416633\n",
       "Name: Multiple Lines, dtype: float64"
      ]
     },
     "execution_count": 29,
     "metadata": {},
     "output_type": "execute_result"
    }
   ],
   "source": [
    "train_data[\"Multiple Lines\"].value_counts(normalize=True)"
   ]
  },
  {
   "cell_type": "code",
   "execution_count": 30,
   "id": "2d2f40d3",
   "metadata": {},
   "outputs": [
    {
     "data": {
      "text/plain": [
       "3    1831\n",
       "4    1270\n",
       "5     814\n",
       "1     653\n",
       "2     362\n",
       "Name: Satisfaction Score, dtype: int64"
      ]
     },
     "execution_count": 30,
     "metadata": {},
     "output_type": "execute_result"
    }
   ],
   "source": [
    "train_data[\"Satisfaction Score\"].value_counts()"
   ]
  },
  {
   "cell_type": "code",
   "execution_count": 31,
   "id": "1eeea49f",
   "metadata": {},
   "outputs": [
    {
     "data": {
      "text/plain": [
       "<bound method IndexOpsMixin.value_counts of 3818     Stayed\n",
       "356     Churned\n",
       "3879     Stayed\n",
       "6414     Stayed\n",
       "3433     Stayed\n",
       "         ...   \n",
       "1337    Churned\n",
       "5327     Stayed\n",
       "5647     Stayed\n",
       "5782     Stayed\n",
       "798      Stayed\n",
       "Name: Customer Status, Length: 4930, dtype: object>"
      ]
     },
     "execution_count": 31,
     "metadata": {},
     "output_type": "execute_result"
    }
   ],
   "source": [
    "train_data[\"Customer Status\"].value_counts"
   ]
  },
  {
   "cell_type": "code",
   "execution_count": 32,
   "id": "3ec8ab44",
   "metadata": {},
   "outputs": [
    {
     "data": {
      "text/plain": [
       "Stayed     0.669980\n",
       "Churned    0.265517\n",
       "Joined     0.064503\n",
       "Name: Customer Status, dtype: float64"
      ]
     },
     "execution_count": 32,
     "metadata": {},
     "output_type": "execute_result"
    }
   ],
   "source": [
    "train_data[\"Customer Status\"].value_counts(normalize=\"True\")"
   ]
  },
  {
   "cell_type": "code",
   "execution_count": 33,
   "id": "4d4fdd72",
   "metadata": {},
   "outputs": [
    {
     "data": {
      "text/plain": [
       "No     0.734483\n",
       "Yes    0.265517\n",
       "Name: Churn Label, dtype: float64"
      ]
     },
     "execution_count": 33,
     "metadata": {},
     "output_type": "execute_result"
    }
   ],
   "source": [
    "train_data[\"Churn Label\"].value_counts(normalize=\"True\")"
   ]
  },
  {
   "cell_type": "code",
   "execution_count": 34,
   "id": "c95fed18",
   "metadata": {},
   "outputs": [
    {
     "data": {
      "text/plain": [
       "Bank Withdrawal    0.551318\n",
       "Credit Card        0.390264\n",
       "Mailed Check       0.058418\n",
       "Name: Payment Method, dtype: float64"
      ]
     },
     "execution_count": 34,
     "metadata": {},
     "output_type": "execute_result"
    }
   ],
   "source": [
    "train_data[\"Payment Method\"].value_counts(normalize=True) ##Mas de la mitad son por Bank"
   ]
  },
  {
   "cell_type": "code",
   "execution_count": 35,
   "id": "96c35d25",
   "metadata": {},
   "outputs": [
    {
     "data": {
      "text/html": [
       "<div>\n",
       "<style scoped>\n",
       "    .dataframe tbody tr th:only-of-type {\n",
       "        vertical-align: middle;\n",
       "    }\n",
       "\n",
       "    .dataframe tbody tr th {\n",
       "        vertical-align: top;\n",
       "    }\n",
       "\n",
       "    .dataframe thead th {\n",
       "        text-align: right;\n",
       "    }\n",
       "</style>\n",
       "<table border=\"1\" class=\"dataframe\">\n",
       "  <thead>\n",
       "    <tr style=\"text-align: right;\">\n",
       "      <th></th>\n",
       "      <th>Customer ID</th>\n",
       "      <th>Gender</th>\n",
       "      <th>Age</th>\n",
       "      <th>Under 30</th>\n",
       "      <th>Senior Citizen</th>\n",
       "      <th>Married</th>\n",
       "      <th>Dependents</th>\n",
       "      <th>Number of Dependents</th>\n",
       "      <th>Country</th>\n",
       "      <th>State</th>\n",
       "      <th>City</th>\n",
       "      <th>Zip Code</th>\n",
       "      <th>Latitude</th>\n",
       "      <th>Longitude</th>\n",
       "      <th>Population</th>\n",
       "      <th>Quarter</th>\n",
       "      <th>Referred a Friend</th>\n",
       "      <th>Number of Referrals</th>\n",
       "      <th>Tenure in Months</th>\n",
       "      <th>Offer</th>\n",
       "      <th>Phone Service</th>\n",
       "      <th>Avg Monthly Long Distance Charges</th>\n",
       "      <th>Multiple Lines</th>\n",
       "      <th>Internet Service</th>\n",
       "      <th>Internet Type</th>\n",
       "      <th>Avg Monthly GB Download</th>\n",
       "      <th>Online Security</th>\n",
       "      <th>Online Backup</th>\n",
       "      <th>Device Protection Plan</th>\n",
       "      <th>Premium Tech Support</th>\n",
       "      <th>Streaming TV</th>\n",
       "      <th>Streaming Movies</th>\n",
       "      <th>Streaming Music</th>\n",
       "      <th>Unlimited Data</th>\n",
       "      <th>Contract</th>\n",
       "      <th>Paperless Billing</th>\n",
       "      <th>Payment Method</th>\n",
       "      <th>Monthly Charge</th>\n",
       "      <th>Total Charges</th>\n",
       "      <th>Total Refunds</th>\n",
       "      <th>Total Extra Data Charges</th>\n",
       "      <th>Total Long Distance Charges</th>\n",
       "      <th>Total Revenue</th>\n",
       "      <th>Satisfaction Score</th>\n",
       "      <th>Customer Status</th>\n",
       "      <th>Churn Label</th>\n",
       "      <th>Churn Score</th>\n",
       "      <th>CLTV</th>\n",
       "      <th>Churn Category</th>\n",
       "      <th>Churn Reason</th>\n",
       "    </tr>\n",
       "  </thead>\n",
       "  <tbody>\n",
       "    <tr>\n",
       "      <th>2</th>\n",
       "      <td>1658-BYGOY</td>\n",
       "      <td>Male</td>\n",
       "      <td>71</td>\n",
       "      <td>No</td>\n",
       "      <td>Yes</td>\n",
       "      <td>No</td>\n",
       "      <td>Yes</td>\n",
       "      <td>3</td>\n",
       "      <td>United States</td>\n",
       "      <td>California</td>\n",
       "      <td>Los Angeles</td>\n",
       "      <td>90065</td>\n",
       "      <td>34.108833</td>\n",
       "      <td>-118.229715</td>\n",
       "      <td>47534</td>\n",
       "      <td>Q3</td>\n",
       "      <td>No</td>\n",
       "      <td>0</td>\n",
       "      <td>18</td>\n",
       "      <td>Offer D</td>\n",
       "      <td>Yes</td>\n",
       "      <td>11.33</td>\n",
       "      <td>Yes</td>\n",
       "      <td>Yes</td>\n",
       "      <td>Fiber Optic</td>\n",
       "      <td>52</td>\n",
       "      <td>No</td>\n",
       "      <td>No</td>\n",
       "      <td>No</td>\n",
       "      <td>No</td>\n",
       "      <td>Yes</td>\n",
       "      <td>Yes</td>\n",
       "      <td>Yes</td>\n",
       "      <td>Yes</td>\n",
       "      <td>Month-to-Month</td>\n",
       "      <td>Yes</td>\n",
       "      <td>Bank Withdrawal</td>\n",
       "      <td>95.45</td>\n",
       "      <td>1752.55</td>\n",
       "      <td>45.61</td>\n",
       "      <td>0</td>\n",
       "      <td>203.94</td>\n",
       "      <td>1910.88</td>\n",
       "      <td>2</td>\n",
       "      <td>Churned</td>\n",
       "      <td>Yes</td>\n",
       "      <td>81</td>\n",
       "      <td>3179</td>\n",
       "      <td>Competitor</td>\n",
       "      <td>Competitor made better offer</td>\n",
       "    </tr>\n",
       "    <tr>\n",
       "      <th>3</th>\n",
       "      <td>4598-XLKNJ</td>\n",
       "      <td>Female</td>\n",
       "      <td>78</td>\n",
       "      <td>No</td>\n",
       "      <td>Yes</td>\n",
       "      <td>Yes</td>\n",
       "      <td>Yes</td>\n",
       "      <td>1</td>\n",
       "      <td>United States</td>\n",
       "      <td>California</td>\n",
       "      <td>Inglewood</td>\n",
       "      <td>90303</td>\n",
       "      <td>33.936291</td>\n",
       "      <td>-118.332639</td>\n",
       "      <td>27778</td>\n",
       "      <td>Q3</td>\n",
       "      <td>Yes</td>\n",
       "      <td>1</td>\n",
       "      <td>25</td>\n",
       "      <td>Offer C</td>\n",
       "      <td>Yes</td>\n",
       "      <td>19.76</td>\n",
       "      <td>No</td>\n",
       "      <td>Yes</td>\n",
       "      <td>Fiber Optic</td>\n",
       "      <td>12</td>\n",
       "      <td>No</td>\n",
       "      <td>Yes</td>\n",
       "      <td>Yes</td>\n",
       "      <td>No</td>\n",
       "      <td>Yes</td>\n",
       "      <td>Yes</td>\n",
       "      <td>No</td>\n",
       "      <td>Yes</td>\n",
       "      <td>Month-to-Month</td>\n",
       "      <td>Yes</td>\n",
       "      <td>Bank Withdrawal</td>\n",
       "      <td>98.50</td>\n",
       "      <td>2514.50</td>\n",
       "      <td>13.43</td>\n",
       "      <td>0</td>\n",
       "      <td>494.00</td>\n",
       "      <td>2995.07</td>\n",
       "      <td>2</td>\n",
       "      <td>Churned</td>\n",
       "      <td>Yes</td>\n",
       "      <td>88</td>\n",
       "      <td>5337</td>\n",
       "      <td>Dissatisfaction</td>\n",
       "      <td>Limited range of services</td>\n",
       "    </tr>\n",
       "    <tr>\n",
       "      <th>7</th>\n",
       "      <td>3445-HXXGF</td>\n",
       "      <td>Male</td>\n",
       "      <td>66</td>\n",
       "      <td>No</td>\n",
       "      <td>Yes</td>\n",
       "      <td>Yes</td>\n",
       "      <td>No</td>\n",
       "      <td>0</td>\n",
       "      <td>United States</td>\n",
       "      <td>California</td>\n",
       "      <td>Sierra Madre</td>\n",
       "      <td>91024</td>\n",
       "      <td>34.168686</td>\n",
       "      <td>-118.057505</td>\n",
       "      <td>10558</td>\n",
       "      <td>Q3</td>\n",
       "      <td>Yes</td>\n",
       "      <td>6</td>\n",
       "      <td>58</td>\n",
       "      <td>Offer B</td>\n",
       "      <td>No</td>\n",
       "      <td>0.00</td>\n",
       "      <td>No</td>\n",
       "      <td>Yes</td>\n",
       "      <td>DSL</td>\n",
       "      <td>24</td>\n",
       "      <td>No</td>\n",
       "      <td>Yes</td>\n",
       "      <td>Yes</td>\n",
       "      <td>No</td>\n",
       "      <td>No</td>\n",
       "      <td>Yes</td>\n",
       "      <td>No</td>\n",
       "      <td>Yes</td>\n",
       "      <td>Month-to-Month</td>\n",
       "      <td>Yes</td>\n",
       "      <td>Bank Withdrawal</td>\n",
       "      <td>45.30</td>\n",
       "      <td>2651.20</td>\n",
       "      <td>40.95</td>\n",
       "      <td>0</td>\n",
       "      <td>0.00</td>\n",
       "      <td>2610.25</td>\n",
       "      <td>1</td>\n",
       "      <td>Churned</td>\n",
       "      <td>Yes</td>\n",
       "      <td>91</td>\n",
       "      <td>5444</td>\n",
       "      <td>Dissatisfaction</td>\n",
       "      <td>Service dissatisfaction</td>\n",
       "    </tr>\n",
       "    <tr>\n",
       "      <th>9</th>\n",
       "      <td>2070-FNEXE</td>\n",
       "      <td>Female</td>\n",
       "      <td>77</td>\n",
       "      <td>No</td>\n",
       "      <td>Yes</td>\n",
       "      <td>No</td>\n",
       "      <td>Yes</td>\n",
       "      <td>2</td>\n",
       "      <td>United States</td>\n",
       "      <td>California</td>\n",
       "      <td>Pasadena</td>\n",
       "      <td>91107</td>\n",
       "      <td>34.159007</td>\n",
       "      <td>-118.087353</td>\n",
       "      <td>32369</td>\n",
       "      <td>Q3</td>\n",
       "      <td>No</td>\n",
       "      <td>0</td>\n",
       "      <td>7</td>\n",
       "      <td>Offer E</td>\n",
       "      <td>Yes</td>\n",
       "      <td>26.95</td>\n",
       "      <td>No</td>\n",
       "      <td>Yes</td>\n",
       "      <td>Fiber Optic</td>\n",
       "      <td>18</td>\n",
       "      <td>Yes</td>\n",
       "      <td>No</td>\n",
       "      <td>No</td>\n",
       "      <td>No</td>\n",
       "      <td>No</td>\n",
       "      <td>No</td>\n",
       "      <td>No</td>\n",
       "      <td>No</td>\n",
       "      <td>Month-to-Month</td>\n",
       "      <td>No</td>\n",
       "      <td>Bank Withdrawal</td>\n",
       "      <td>76.45</td>\n",
       "      <td>503.60</td>\n",
       "      <td>11.05</td>\n",
       "      <td>0</td>\n",
       "      <td>188.65</td>\n",
       "      <td>681.20</td>\n",
       "      <td>2</td>\n",
       "      <td>Churned</td>\n",
       "      <td>Yes</td>\n",
       "      <td>81</td>\n",
       "      <td>4419</td>\n",
       "      <td>Price</td>\n",
       "      <td>Lack of affordable download/upload speed</td>\n",
       "    </tr>\n",
       "    <tr>\n",
       "      <th>111</th>\n",
       "      <td>7156-MHUGY</td>\n",
       "      <td>Male</td>\n",
       "      <td>68</td>\n",
       "      <td>No</td>\n",
       "      <td>Yes</td>\n",
       "      <td>No</td>\n",
       "      <td>No</td>\n",
       "      <td>0</td>\n",
       "      <td>United States</td>\n",
       "      <td>California</td>\n",
       "      <td>Buena Park</td>\n",
       "      <td>90621</td>\n",
       "      <td>33.874224</td>\n",
       "      <td>-117.993368</td>\n",
       "      <td>33528</td>\n",
       "      <td>Q3</td>\n",
       "      <td>No</td>\n",
       "      <td>0</td>\n",
       "      <td>13</td>\n",
       "      <td>None</td>\n",
       "      <td>Yes</td>\n",
       "      <td>26.11</td>\n",
       "      <td>No</td>\n",
       "      <td>Yes</td>\n",
       "      <td>Fiber Optic</td>\n",
       "      <td>4</td>\n",
       "      <td>No</td>\n",
       "      <td>No</td>\n",
       "      <td>No</td>\n",
       "      <td>No</td>\n",
       "      <td>Yes</td>\n",
       "      <td>Yes</td>\n",
       "      <td>Yes</td>\n",
       "      <td>No</td>\n",
       "      <td>Month-to-Month</td>\n",
       "      <td>Yes</td>\n",
       "      <td>Bank Withdrawal</td>\n",
       "      <td>90.50</td>\n",
       "      <td>1201.15</td>\n",
       "      <td>29.84</td>\n",
       "      <td>140</td>\n",
       "      <td>339.43</td>\n",
       "      <td>1650.74</td>\n",
       "      <td>1</td>\n",
       "      <td>Churned</td>\n",
       "      <td>Yes</td>\n",
       "      <td>76</td>\n",
       "      <td>5394</td>\n",
       "      <td>Competitor</td>\n",
       "      <td>Competitor had better devices</td>\n",
       "    </tr>\n",
       "    <tr>\n",
       "      <th>...</th>\n",
       "      <td>...</td>\n",
       "      <td>...</td>\n",
       "      <td>...</td>\n",
       "      <td>...</td>\n",
       "      <td>...</td>\n",
       "      <td>...</td>\n",
       "      <td>...</td>\n",
       "      <td>...</td>\n",
       "      <td>...</td>\n",
       "      <td>...</td>\n",
       "      <td>...</td>\n",
       "      <td>...</td>\n",
       "      <td>...</td>\n",
       "      <td>...</td>\n",
       "      <td>...</td>\n",
       "      <td>...</td>\n",
       "      <td>...</td>\n",
       "      <td>...</td>\n",
       "      <td>...</td>\n",
       "      <td>...</td>\n",
       "      <td>...</td>\n",
       "      <td>...</td>\n",
       "      <td>...</td>\n",
       "      <td>...</td>\n",
       "      <td>...</td>\n",
       "      <td>...</td>\n",
       "      <td>...</td>\n",
       "      <td>...</td>\n",
       "      <td>...</td>\n",
       "      <td>...</td>\n",
       "      <td>...</td>\n",
       "      <td>...</td>\n",
       "      <td>...</td>\n",
       "      <td>...</td>\n",
       "      <td>...</td>\n",
       "      <td>...</td>\n",
       "      <td>...</td>\n",
       "      <td>...</td>\n",
       "      <td>...</td>\n",
       "      <td>...</td>\n",
       "      <td>...</td>\n",
       "      <td>...</td>\n",
       "      <td>...</td>\n",
       "      <td>...</td>\n",
       "      <td>...</td>\n",
       "      <td>...</td>\n",
       "      <td>...</td>\n",
       "      <td>...</td>\n",
       "      <td>...</td>\n",
       "      <td>...</td>\n",
       "    </tr>\n",
       "    <tr>\n",
       "      <th>2394</th>\n",
       "      <td>2869-ADAWR</td>\n",
       "      <td>Female</td>\n",
       "      <td>41</td>\n",
       "      <td>No</td>\n",
       "      <td>No</td>\n",
       "      <td>No</td>\n",
       "      <td>No</td>\n",
       "      <td>0</td>\n",
       "      <td>United States</td>\n",
       "      <td>California</td>\n",
       "      <td>Sutter Creek</td>\n",
       "      <td>95685</td>\n",
       "      <td>38.432145</td>\n",
       "      <td>-120.770690</td>\n",
       "      <td>4610</td>\n",
       "      <td>Q3</td>\n",
       "      <td>No</td>\n",
       "      <td>0</td>\n",
       "      <td>45</td>\n",
       "      <td>Offer B</td>\n",
       "      <td>Yes</td>\n",
       "      <td>14.12</td>\n",
       "      <td>Yes</td>\n",
       "      <td>Yes</td>\n",
       "      <td>Fiber Optic</td>\n",
       "      <td>24</td>\n",
       "      <td>No</td>\n",
       "      <td>Yes</td>\n",
       "      <td>No</td>\n",
       "      <td>No</td>\n",
       "      <td>Yes</td>\n",
       "      <td>No</td>\n",
       "      <td>No</td>\n",
       "      <td>Yes</td>\n",
       "      <td>Month-to-Month</td>\n",
       "      <td>Yes</td>\n",
       "      <td>Credit Card</td>\n",
       "      <td>89.30</td>\n",
       "      <td>4016.85</td>\n",
       "      <td>44.63</td>\n",
       "      <td>0</td>\n",
       "      <td>635.40</td>\n",
       "      <td>4607.62</td>\n",
       "      <td>2</td>\n",
       "      <td>Churned</td>\n",
       "      <td>Yes</td>\n",
       "      <td>90</td>\n",
       "      <td>4880</td>\n",
       "      <td>Dissatisfaction</td>\n",
       "      <td>Poor expertise of online support</td>\n",
       "    </tr>\n",
       "    <tr>\n",
       "      <th>2397</th>\n",
       "      <td>0637-UBJRP</td>\n",
       "      <td>Male</td>\n",
       "      <td>40</td>\n",
       "      <td>No</td>\n",
       "      <td>No</td>\n",
       "      <td>Yes</td>\n",
       "      <td>No</td>\n",
       "      <td>0</td>\n",
       "      <td>United States</td>\n",
       "      <td>California</td>\n",
       "      <td>Wilton</td>\n",
       "      <td>95693</td>\n",
       "      <td>38.392559</td>\n",
       "      <td>-121.225093</td>\n",
       "      <td>5889</td>\n",
       "      <td>Q3</td>\n",
       "      <td>Yes</td>\n",
       "      <td>5</td>\n",
       "      <td>13</td>\n",
       "      <td>Offer D</td>\n",
       "      <td>Yes</td>\n",
       "      <td>29.92</td>\n",
       "      <td>No</td>\n",
       "      <td>Yes</td>\n",
       "      <td>Fiber Optic</td>\n",
       "      <td>21</td>\n",
       "      <td>Yes</td>\n",
       "      <td>No</td>\n",
       "      <td>No</td>\n",
       "      <td>No</td>\n",
       "      <td>No</td>\n",
       "      <td>Yes</td>\n",
       "      <td>Yes</td>\n",
       "      <td>Yes</td>\n",
       "      <td>Month-to-Month</td>\n",
       "      <td>No</td>\n",
       "      <td>Bank Withdrawal</td>\n",
       "      <td>84.05</td>\n",
       "      <td>1095.30</td>\n",
       "      <td>23.97</td>\n",
       "      <td>0</td>\n",
       "      <td>388.96</td>\n",
       "      <td>1460.29</td>\n",
       "      <td>1</td>\n",
       "      <td>Churned</td>\n",
       "      <td>Yes</td>\n",
       "      <td>77</td>\n",
       "      <td>4745</td>\n",
       "      <td>Competitor</td>\n",
       "      <td>Competitor offered higher download speeds</td>\n",
       "    </tr>\n",
       "    <tr>\n",
       "      <th>2398</th>\n",
       "      <td>0940-OUQEC</td>\n",
       "      <td>Male</td>\n",
       "      <td>54</td>\n",
       "      <td>No</td>\n",
       "      <td>No</td>\n",
       "      <td>No</td>\n",
       "      <td>No</td>\n",
       "      <td>0</td>\n",
       "      <td>United States</td>\n",
       "      <td>California</td>\n",
       "      <td>Winters</td>\n",
       "      <td>95694</td>\n",
       "      <td>38.578604</td>\n",
       "      <td>-122.024579</td>\n",
       "      <td>8406</td>\n",
       "      <td>Q3</td>\n",
       "      <td>No</td>\n",
       "      <td>0</td>\n",
       "      <td>10</td>\n",
       "      <td>Offer D</td>\n",
       "      <td>Yes</td>\n",
       "      <td>17.07</td>\n",
       "      <td>Yes</td>\n",
       "      <td>Yes</td>\n",
       "      <td>Fiber Optic</td>\n",
       "      <td>3</td>\n",
       "      <td>No</td>\n",
       "      <td>Yes</td>\n",
       "      <td>No</td>\n",
       "      <td>No</td>\n",
       "      <td>No</td>\n",
       "      <td>No</td>\n",
       "      <td>No</td>\n",
       "      <td>No</td>\n",
       "      <td>Month-to-Month</td>\n",
       "      <td>Yes</td>\n",
       "      <td>Bank Withdrawal</td>\n",
       "      <td>80.70</td>\n",
       "      <td>788.80</td>\n",
       "      <td>38.42</td>\n",
       "      <td>50</td>\n",
       "      <td>170.70</td>\n",
       "      <td>971.08</td>\n",
       "      <td>1</td>\n",
       "      <td>Churned</td>\n",
       "      <td>Yes</td>\n",
       "      <td>77</td>\n",
       "      <td>3492</td>\n",
       "      <td>Competitor</td>\n",
       "      <td>Competitor offered more data</td>\n",
       "    </tr>\n",
       "    <tr>\n",
       "      <th>2399</th>\n",
       "      <td>0702-PGIBZ</td>\n",
       "      <td>Male</td>\n",
       "      <td>28</td>\n",
       "      <td>Yes</td>\n",
       "      <td>No</td>\n",
       "      <td>No</td>\n",
       "      <td>No</td>\n",
       "      <td>0</td>\n",
       "      <td>United States</td>\n",
       "      <td>California</td>\n",
       "      <td>Dutch Flat</td>\n",
       "      <td>95714</td>\n",
       "      <td>39.197215</td>\n",
       "      <td>-120.836790</td>\n",
       "      <td>350</td>\n",
       "      <td>Q3</td>\n",
       "      <td>No</td>\n",
       "      <td>0</td>\n",
       "      <td>4</td>\n",
       "      <td>Offer E</td>\n",
       "      <td>Yes</td>\n",
       "      <td>26.16</td>\n",
       "      <td>Yes</td>\n",
       "      <td>Yes</td>\n",
       "      <td>Fiber Optic</td>\n",
       "      <td>85</td>\n",
       "      <td>No</td>\n",
       "      <td>Yes</td>\n",
       "      <td>No</td>\n",
       "      <td>No</td>\n",
       "      <td>Yes</td>\n",
       "      <td>Yes</td>\n",
       "      <td>Yes</td>\n",
       "      <td>Yes</td>\n",
       "      <td>Month-to-Month</td>\n",
       "      <td>Yes</td>\n",
       "      <td>Bank Withdrawal</td>\n",
       "      <td>101.70</td>\n",
       "      <td>364.55</td>\n",
       "      <td>1.48</td>\n",
       "      <td>0</td>\n",
       "      <td>104.64</td>\n",
       "      <td>467.71</td>\n",
       "      <td>2</td>\n",
       "      <td>Churned</td>\n",
       "      <td>Yes</td>\n",
       "      <td>91</td>\n",
       "      <td>2777</td>\n",
       "      <td>Competitor</td>\n",
       "      <td>Competitor made better offer</td>\n",
       "    </tr>\n",
       "    <tr>\n",
       "      <th>2401</th>\n",
       "      <td>3058-HJCUY</td>\n",
       "      <td>Male</td>\n",
       "      <td>36</td>\n",
       "      <td>No</td>\n",
       "      <td>No</td>\n",
       "      <td>Yes</td>\n",
       "      <td>No</td>\n",
       "      <td>0</td>\n",
       "      <td>United States</td>\n",
       "      <td>California</td>\n",
       "      <td>Rancho Cordova</td>\n",
       "      <td>95742</td>\n",
       "      <td>38.591134</td>\n",
       "      <td>-121.161585</td>\n",
       "      <td>299</td>\n",
       "      <td>Q3</td>\n",
       "      <td>Yes</td>\n",
       "      <td>1</td>\n",
       "      <td>41</td>\n",
       "      <td>Offer B</td>\n",
       "      <td>Yes</td>\n",
       "      <td>45.03</td>\n",
       "      <td>Yes</td>\n",
       "      <td>Yes</td>\n",
       "      <td>Fiber Optic</td>\n",
       "      <td>10</td>\n",
       "      <td>No</td>\n",
       "      <td>No</td>\n",
       "      <td>Yes</td>\n",
       "      <td>Yes</td>\n",
       "      <td>Yes</td>\n",
       "      <td>Yes</td>\n",
       "      <td>Yes</td>\n",
       "      <td>Yes</td>\n",
       "      <td>One Year</td>\n",
       "      <td>Yes</td>\n",
       "      <td>Bank Withdrawal</td>\n",
       "      <td>102.60</td>\n",
       "      <td>4213.35</td>\n",
       "      <td>2.93</td>\n",
       "      <td>0</td>\n",
       "      <td>1846.23</td>\n",
       "      <td>6056.65</td>\n",
       "      <td>1</td>\n",
       "      <td>Churned</td>\n",
       "      <td>Yes</td>\n",
       "      <td>84</td>\n",
       "      <td>2098</td>\n",
       "      <td>Competitor</td>\n",
       "      <td>Competitor had better devices</td>\n",
       "    </tr>\n",
       "  </tbody>\n",
       "</table>\n",
       "<p>107 rows × 50 columns</p>\n",
       "</div>"
      ],
      "text/plain": [
       "     Customer ID  Gender  Age Under 30 Senior Citizen Married Dependents  \\\n",
       "2     1658-BYGOY    Male   71       No            Yes      No        Yes   \n",
       "3     4598-XLKNJ  Female   78       No            Yes     Yes        Yes   \n",
       "7     3445-HXXGF    Male   66       No            Yes     Yes         No   \n",
       "9     2070-FNEXE  Female   77       No            Yes      No        Yes   \n",
       "111   7156-MHUGY    Male   68       No            Yes      No         No   \n",
       "...          ...     ...  ...      ...            ...     ...        ...   \n",
       "2394  2869-ADAWR  Female   41       No             No      No         No   \n",
       "2397  0637-UBJRP    Male   40       No             No     Yes         No   \n",
       "2398  0940-OUQEC    Male   54       No             No      No         No   \n",
       "2399  0702-PGIBZ    Male   28      Yes             No      No         No   \n",
       "2401  3058-HJCUY    Male   36       No             No     Yes         No   \n",
       "\n",
       "      Number of Dependents        Country       State            City  \\\n",
       "2                        3  United States  California     Los Angeles   \n",
       "3                        1  United States  California       Inglewood   \n",
       "7                        0  United States  California    Sierra Madre   \n",
       "9                        2  United States  California        Pasadena   \n",
       "111                      0  United States  California      Buena Park   \n",
       "...                    ...            ...         ...             ...   \n",
       "2394                     0  United States  California    Sutter Creek   \n",
       "2397                     0  United States  California          Wilton   \n",
       "2398                     0  United States  California         Winters   \n",
       "2399                     0  United States  California      Dutch Flat   \n",
       "2401                     0  United States  California  Rancho Cordova   \n",
       "\n",
       "      Zip Code   Latitude   Longitude  Population Quarter Referred a Friend  \\\n",
       "2        90065  34.108833 -118.229715       47534      Q3                No   \n",
       "3        90303  33.936291 -118.332639       27778      Q3               Yes   \n",
       "7        91024  34.168686 -118.057505       10558      Q3               Yes   \n",
       "9        91107  34.159007 -118.087353       32369      Q3                No   \n",
       "111      90621  33.874224 -117.993368       33528      Q3                No   \n",
       "...        ...        ...         ...         ...     ...               ...   \n",
       "2394     95685  38.432145 -120.770690        4610      Q3                No   \n",
       "2397     95693  38.392559 -121.225093        5889      Q3               Yes   \n",
       "2398     95694  38.578604 -122.024579        8406      Q3                No   \n",
       "2399     95714  39.197215 -120.836790         350      Q3                No   \n",
       "2401     95742  38.591134 -121.161585         299      Q3               Yes   \n",
       "\n",
       "      Number of Referrals  Tenure in Months    Offer Phone Service  \\\n",
       "2                       0                18  Offer D           Yes   \n",
       "3                       1                25  Offer C           Yes   \n",
       "7                       6                58  Offer B            No   \n",
       "9                       0                 7  Offer E           Yes   \n",
       "111                     0                13     None           Yes   \n",
       "...                   ...               ...      ...           ...   \n",
       "2394                    0                45  Offer B           Yes   \n",
       "2397                    5                13  Offer D           Yes   \n",
       "2398                    0                10  Offer D           Yes   \n",
       "2399                    0                 4  Offer E           Yes   \n",
       "2401                    1                41  Offer B           Yes   \n",
       "\n",
       "      Avg Monthly Long Distance Charges Multiple Lines Internet Service  \\\n",
       "2                                 11.33            Yes              Yes   \n",
       "3                                 19.76             No              Yes   \n",
       "7                                  0.00             No              Yes   \n",
       "9                                 26.95             No              Yes   \n",
       "111                               26.11             No              Yes   \n",
       "...                                 ...            ...              ...   \n",
       "2394                              14.12            Yes              Yes   \n",
       "2397                              29.92             No              Yes   \n",
       "2398                              17.07            Yes              Yes   \n",
       "2399                              26.16            Yes              Yes   \n",
       "2401                              45.03            Yes              Yes   \n",
       "\n",
       "     Internet Type  Avg Monthly GB Download Online Security Online Backup  \\\n",
       "2      Fiber Optic                       52              No            No   \n",
       "3      Fiber Optic                       12              No           Yes   \n",
       "7              DSL                       24              No           Yes   \n",
       "9      Fiber Optic                       18             Yes            No   \n",
       "111    Fiber Optic                        4              No            No   \n",
       "...            ...                      ...             ...           ...   \n",
       "2394   Fiber Optic                       24              No           Yes   \n",
       "2397   Fiber Optic                       21             Yes            No   \n",
       "2398   Fiber Optic                        3              No           Yes   \n",
       "2399   Fiber Optic                       85              No           Yes   \n",
       "2401   Fiber Optic                       10              No            No   \n",
       "\n",
       "     Device Protection Plan Premium Tech Support Streaming TV  \\\n",
       "2                        No                   No          Yes   \n",
       "3                       Yes                   No          Yes   \n",
       "7                       Yes                   No           No   \n",
       "9                        No                   No           No   \n",
       "111                      No                   No          Yes   \n",
       "...                     ...                  ...          ...   \n",
       "2394                     No                   No          Yes   \n",
       "2397                     No                   No           No   \n",
       "2398                     No                   No           No   \n",
       "2399                     No                   No          Yes   \n",
       "2401                    Yes                  Yes          Yes   \n",
       "\n",
       "     Streaming Movies Streaming Music Unlimited Data        Contract  \\\n",
       "2                 Yes             Yes            Yes  Month-to-Month   \n",
       "3                 Yes              No            Yes  Month-to-Month   \n",
       "7                 Yes              No            Yes  Month-to-Month   \n",
       "9                  No              No             No  Month-to-Month   \n",
       "111               Yes             Yes             No  Month-to-Month   \n",
       "...               ...             ...            ...             ...   \n",
       "2394               No              No            Yes  Month-to-Month   \n",
       "2397              Yes             Yes            Yes  Month-to-Month   \n",
       "2398               No              No             No  Month-to-Month   \n",
       "2399              Yes             Yes            Yes  Month-to-Month   \n",
       "2401              Yes             Yes            Yes        One Year   \n",
       "\n",
       "     Paperless Billing   Payment Method  Monthly Charge  Total Charges  \\\n",
       "2                  Yes  Bank Withdrawal           95.45        1752.55   \n",
       "3                  Yes  Bank Withdrawal           98.50        2514.50   \n",
       "7                  Yes  Bank Withdrawal           45.30        2651.20   \n",
       "9                   No  Bank Withdrawal           76.45         503.60   \n",
       "111                Yes  Bank Withdrawal           90.50        1201.15   \n",
       "...                ...              ...             ...            ...   \n",
       "2394               Yes      Credit Card           89.30        4016.85   \n",
       "2397                No  Bank Withdrawal           84.05        1095.30   \n",
       "2398               Yes  Bank Withdrawal           80.70         788.80   \n",
       "2399               Yes  Bank Withdrawal          101.70         364.55   \n",
       "2401               Yes  Bank Withdrawal          102.60        4213.35   \n",
       "\n",
       "      Total Refunds  Total Extra Data Charges  Total Long Distance Charges  \\\n",
       "2             45.61                         0                       203.94   \n",
       "3             13.43                         0                       494.00   \n",
       "7             40.95                         0                         0.00   \n",
       "9             11.05                         0                       188.65   \n",
       "111           29.84                       140                       339.43   \n",
       "...             ...                       ...                          ...   \n",
       "2394          44.63                         0                       635.40   \n",
       "2397          23.97                         0                       388.96   \n",
       "2398          38.42                        50                       170.70   \n",
       "2399           1.48                         0                       104.64   \n",
       "2401           2.93                         0                      1846.23   \n",
       "\n",
       "      Total Revenue  Satisfaction Score Customer Status Churn Label  \\\n",
       "2           1910.88                   2         Churned         Yes   \n",
       "3           2995.07                   2         Churned         Yes   \n",
       "7           2610.25                   1         Churned         Yes   \n",
       "9            681.20                   2         Churned         Yes   \n",
       "111         1650.74                   1         Churned         Yes   \n",
       "...             ...                 ...             ...         ...   \n",
       "2394        4607.62                   2         Churned         Yes   \n",
       "2397        1460.29                   1         Churned         Yes   \n",
       "2398         971.08                   1         Churned         Yes   \n",
       "2399         467.71                   2         Churned         Yes   \n",
       "2401        6056.65                   1         Churned         Yes   \n",
       "\n",
       "      Churn Score  CLTV   Churn Category  \\\n",
       "2              81  3179       Competitor   \n",
       "3              88  5337  Dissatisfaction   \n",
       "7              91  5444  Dissatisfaction   \n",
       "9              81  4419            Price   \n",
       "111            76  5394       Competitor   \n",
       "...           ...   ...              ...   \n",
       "2394           90  4880  Dissatisfaction   \n",
       "2397           77  4745       Competitor   \n",
       "2398           77  3492       Competitor   \n",
       "2399           91  2777       Competitor   \n",
       "2401           84  2098       Competitor   \n",
       "\n",
       "                                   Churn Reason  \n",
       "2                  Competitor made better offer  \n",
       "3                     Limited range of services  \n",
       "7                       Service dissatisfaction  \n",
       "9      Lack of affordable download/upload speed  \n",
       "111               Competitor had better devices  \n",
       "...                                         ...  \n",
       "2394           Poor expertise of online support  \n",
       "2397  Competitor offered higher download speeds  \n",
       "2398               Competitor offered more data  \n",
       "2399               Competitor made better offer  \n",
       "2401              Competitor had better devices  \n",
       "\n",
       "[107 rows x 50 columns]"
      ]
     },
     "execution_count": 35,
     "metadata": {},
     "output_type": "execute_result"
    }
   ],
   "source": [
    "data[(data[\"Total Refunds\"]!=0) & (data[\"Churn Label\"]==\"Yes\")] ## Ver cuan relacionado esta que haya reembolsos con el churn"
   ]
  },
  {
   "cell_type": "code",
   "execution_count": 36,
   "id": "eb30d303",
   "metadata": {},
   "outputs": [
    {
     "data": {
      "text/html": [
       "<div>\n",
       "<style scoped>\n",
       "    .dataframe tbody tr th:only-of-type {\n",
       "        vertical-align: middle;\n",
       "    }\n",
       "\n",
       "    .dataframe tbody tr th {\n",
       "        vertical-align: top;\n",
       "    }\n",
       "\n",
       "    .dataframe thead th {\n",
       "        text-align: right;\n",
       "    }\n",
       "</style>\n",
       "<table border=\"1\" class=\"dataframe\">\n",
       "  <thead>\n",
       "    <tr style=\"text-align: right;\">\n",
       "      <th></th>\n",
       "      <th>Total Extra Data Charges</th>\n",
       "      <th>Count</th>\n",
       "    </tr>\n",
       "  </thead>\n",
       "  <tbody>\n",
       "    <tr>\n",
       "      <th>0</th>\n",
       "      <td>0</td>\n",
       "      <td>4413</td>\n",
       "    </tr>\n",
       "    <tr>\n",
       "      <th>1</th>\n",
       "      <td>10</td>\n",
       "      <td>101</td>\n",
       "    </tr>\n",
       "    <tr>\n",
       "      <th>2</th>\n",
       "      <td>40</td>\n",
       "      <td>42</td>\n",
       "    </tr>\n",
       "    <tr>\n",
       "      <th>3</th>\n",
       "      <td>30</td>\n",
       "      <td>42</td>\n",
       "    </tr>\n",
       "    <tr>\n",
       "      <th>4</th>\n",
       "      <td>20</td>\n",
       "      <td>38</td>\n",
       "    </tr>\n",
       "    <tr>\n",
       "      <th>5</th>\n",
       "      <td>150</td>\n",
       "      <td>32</td>\n",
       "    </tr>\n",
       "    <tr>\n",
       "      <th>6</th>\n",
       "      <td>100</td>\n",
       "      <td>32</td>\n",
       "    </tr>\n",
       "    <tr>\n",
       "      <th>7</th>\n",
       "      <td>80</td>\n",
       "      <td>31</td>\n",
       "    </tr>\n",
       "    <tr>\n",
       "      <th>8</th>\n",
       "      <td>140</td>\n",
       "      <td>29</td>\n",
       "    </tr>\n",
       "    <tr>\n",
       "      <th>9</th>\n",
       "      <td>50</td>\n",
       "      <td>29</td>\n",
       "    </tr>\n",
       "    <tr>\n",
       "      <th>10</th>\n",
       "      <td>90</td>\n",
       "      <td>29</td>\n",
       "    </tr>\n",
       "    <tr>\n",
       "      <th>11</th>\n",
       "      <td>130</td>\n",
       "      <td>28</td>\n",
       "    </tr>\n",
       "    <tr>\n",
       "      <th>12</th>\n",
       "      <td>60</td>\n",
       "      <td>24</td>\n",
       "    </tr>\n",
       "    <tr>\n",
       "      <th>13</th>\n",
       "      <td>110</td>\n",
       "      <td>21</td>\n",
       "    </tr>\n",
       "    <tr>\n",
       "      <th>14</th>\n",
       "      <td>120</td>\n",
       "      <td>20</td>\n",
       "    </tr>\n",
       "    <tr>\n",
       "      <th>15</th>\n",
       "      <td>70</td>\n",
       "      <td>19</td>\n",
       "    </tr>\n",
       "  </tbody>\n",
       "</table>\n",
       "</div>"
      ],
      "text/plain": [
       "    Total Extra Data Charges  Count\n",
       "0                          0   4413\n",
       "1                         10    101\n",
       "2                         40     42\n",
       "3                         30     42\n",
       "4                         20     38\n",
       "5                        150     32\n",
       "6                        100     32\n",
       "7                         80     31\n",
       "8                        140     29\n",
       "9                         50     29\n",
       "10                        90     29\n",
       "11                       130     28\n",
       "12                        60     24\n",
       "13                       110     21\n",
       "14                       120     20\n",
       "15                        70     19"
      ]
     },
     "execution_count": 36,
     "metadata": {},
     "output_type": "execute_result"
    }
   ],
   "source": [
    "value_counts = train_data[\"Total Extra Data Charges\"].value_counts()\n",
    "\n",
    "# Convierte el resultado de value_counts a un DataFrame para facilitar la visualización\n",
    "df = value_counts.reset_index()\n",
    "df.columns = ['Total Extra Data Charges', 'Count']\n",
    "df"
   ]
  },
  {
   "cell_type": "code",
   "execution_count": 37,
   "id": "8467d4e4",
   "metadata": {},
   "outputs": [
    {
     "data": {
      "image/png": "[encoded data removed]",
      "text/plain": [
       "<Figure size 1500x600 with 1 Axes>"
      ]
     },
     "metadata": {},
     "output_type": "display_data"
    }
   ],
   "source": [
    "plt.figure(figsize=(15, 6))  # Ajusta el valor 15 para hacerla aún más ancha si lo necesitas\n",
    "plt.bar(df['Total Extra Data Charges'], df['Count'], color='skyblue')\n",
    "plt.xlabel('Total Extra Data Charges')\n",
    "plt.ylabel('Count')\n",
    "plt.title('Distribution of Total Extra Data Charges')\n",
    "plt.xticks(rotation=45)\n",
    "plt.grid(axis='y', linestyle='--', alpha=0.7)\n",
    "plt.show()\n"
   ]
  },
  {
   "cell_type": "code",
   "execution_count": 38,
   "id": "ea5c697f-2fa8-4be6-9bc6-0c4813f03f8d",
   "metadata": {},
   "outputs": [
    {
     "data": {
      "image/png": "[encoded data removed]",
      "text/plain": [
       "<Figure size 640x480 with 1 Axes>"
      ]
     },
     "metadata": {},
     "output_type": "display_data"
    }
   ],
   "source": [
    "sns.histplot(train_data[\"Total Extra Data Charges\"], bins=140)\n",
    "plt.show()"
   ]
  },
  {
   "cell_type": "code",
   "execution_count": 39,
   "id": "fe01c459-9cb6-42a0-a79a-8303180a97d0",
   "metadata": {},
   "outputs": [
    {
     "data": {
      "image/png": "[encoded data removed]",
      "text/plain": [
       "<Figure size 640x480 with 1 Axes>"
      ]
     },
     "metadata": {},
     "output_type": "display_data"
    }
   ],
   "source": [
    "sns.histplot(train_data['Total Charges'])\n",
    "plt.show()"
   ]
  },
  {
   "cell_type": "code",
   "execution_count": 40,
   "id": "df06ab30-a8ed-426a-b899-1ab84068a8aa",
   "metadata": {},
   "outputs": [
    {
     "data": {
      "image/png": "[encoded data removed]",
      "text/plain": [
       "<Figure size 640x480 with 1 Axes>"
      ]
     },
     "metadata": {},
     "output_type": "display_data"
    }
   ],
   "source": [
    "sns.histplot(train_data['Total Revenue'])\n",
    "plt.show()"
   ]
  },
  {
   "cell_type": "code",
   "execution_count": 41,
   "id": "7f8d50cb",
   "metadata": {},
   "outputs": [
    {
     "data": {
      "text/plain": [
       "No     2661\n",
       "Yes    2269\n",
       "Name: Referred a Friend, dtype: int64"
      ]
     },
     "execution_count": 41,
     "metadata": {},
     "output_type": "execute_result"
    }
   ],
   "source": [
    "train_data[\"Referred a Friend\"].value_counts()"
   ]
  },
  {
   "cell_type": "code",
   "execution_count": 42,
   "id": "6a1dd86a-7435-4e6a-9c77-cfcb3f6bd03e",
   "metadata": {},
   "outputs": [
    {
     "data": {
      "image/png": "[encoded data removed]",
      "text/plain": [
       "<Figure size 640x480 with 1 Axes>"
      ]
     },
     "metadata": {},
     "output_type": "display_data"
    }
   ],
   "source": [
    "sns.histplot(train_data['Satisfaction Score'],bins = 5) ## por lo general es una satisfaccion alta\n",
    "plt.show()"
   ]
  },
  {
   "cell_type": "code",
   "execution_count": 43,
   "id": "549d5efd",
   "metadata": {},
   "outputs": [
    {
     "data": {
      "text/plain": [
       "No     3526\n",
       "Yes    1404\n",
       "Name: Premium Tech Support, dtype: int64"
      ]
     },
     "execution_count": 43,
     "metadata": {},
     "output_type": "execute_result"
    }
   ],
   "source": [
    "train_data[\"Premium Tech Support\"].value_counts()"
   ]
  },
  {
   "cell_type": "code",
   "execution_count": 44,
   "id": "b4d6d1b2",
   "metadata": {},
   "outputs": [
    {
     "name": "stdout",
     "output_type": "stream",
     "text": [
      "Churn Label             No   Yes\n",
      "Premium Tech Support            \n",
      "No                    2425  1101\n",
      "Yes                   1196   208\n"
     ]
    }
   ],
   "source": [
    "contingency_table = pd.crosstab(train_data['Premium Tech Support'], data['Churn Label'])\n",
    "print(contingency_table)"
   ]
  },
  {
   "cell_type": "code",
   "execution_count": 45,
   "id": "3ce2ab2b",
   "metadata": {},
   "outputs": [
    {
     "data": {
      "text/plain": [
       "United States    4930\n",
       "Name: Country, dtype: int64"
      ]
     },
     "execution_count": 45,
     "metadata": {},
     "output_type": "execute_result"
    }
   ],
   "source": [
    "train_data['Country'].value_counts()"
   ]
  },
  {
   "cell_type": "code",
   "execution_count": 46,
   "id": "82fa6156",
   "metadata": {},
   "outputs": [],
   "source": [
    "columns_to_analyze = [\n",
    "    'Offer', \n",
    "    'Phone Service', \n",
    "    'Avg Monthly Long Distance Charges', \n",
    "    'Multiple Lines', \n",
    "    'Internet Service', \n",
    "    'Avg Monthly GB Download', \n",
    "    'Online Security'\n",
    "]"
   ]
  },
  {
   "cell_type": "code",
   "execution_count": 47,
   "id": "0fc345f4",
   "metadata": {},
   "outputs": [],
   "source": [
    "filtered_data = train_data[columns_to_analyze]"
   ]
  },
  {
   "cell_type": "code",
   "execution_count": 48,
   "id": "dbf4b0f3",
   "metadata": {},
   "outputs": [
    {
     "data": {
      "text/html": [
       "<div>\n",
       "<style scoped>\n",
       "    .dataframe tbody tr th:only-of-type {\n",
       "        vertical-align: middle;\n",
       "    }\n",
       "\n",
       "    .dataframe tbody tr th {\n",
       "        vertical-align: top;\n",
       "    }\n",
       "\n",
       "    .dataframe thead th {\n",
       "        text-align: right;\n",
       "    }\n",
       "</style>\n",
       "<table border=\"1\" class=\"dataframe\">\n",
       "  <thead>\n",
       "    <tr style=\"text-align: right;\">\n",
       "      <th></th>\n",
       "      <th>Offer</th>\n",
       "      <th>Phone Service</th>\n",
       "      <th>Avg Monthly Long Distance Charges</th>\n",
       "      <th>Multiple Lines</th>\n",
       "      <th>Internet Service</th>\n",
       "      <th>Avg Monthly GB Download</th>\n",
       "      <th>Online Security</th>\n",
       "    </tr>\n",
       "  </thead>\n",
       "  <tbody>\n",
       "    <tr>\n",
       "      <th>count</th>\n",
       "      <td>4930</td>\n",
       "      <td>4930</td>\n",
       "      <td>4930.000000</td>\n",
       "      <td>4930</td>\n",
       "      <td>4930</td>\n",
       "      <td>4930.000000</td>\n",
       "      <td>4930</td>\n",
       "    </tr>\n",
       "    <tr>\n",
       "      <th>unique</th>\n",
       "      <td>6</td>\n",
       "      <td>2</td>\n",
       "      <td>NaN</td>\n",
       "      <td>2</td>\n",
       "      <td>2</td>\n",
       "      <td>NaN</td>\n",
       "      <td>2</td>\n",
       "    </tr>\n",
       "    <tr>\n",
       "      <th>top</th>\n",
       "      <td>None</td>\n",
       "      <td>Yes</td>\n",
       "      <td>NaN</td>\n",
       "      <td>No</td>\n",
       "      <td>Yes</td>\n",
       "      <td>NaN</td>\n",
       "      <td>No</td>\n",
       "    </tr>\n",
       "    <tr>\n",
       "      <th>freq</th>\n",
       "      <td>2714</td>\n",
       "      <td>4452</td>\n",
       "      <td>NaN</td>\n",
       "      <td>2876</td>\n",
       "      <td>3850</td>\n",
       "      <td>NaN</td>\n",
       "      <td>3541</td>\n",
       "    </tr>\n",
       "    <tr>\n",
       "      <th>mean</th>\n",
       "      <td>NaN</td>\n",
       "      <td>NaN</td>\n",
       "      <td>22.936864</td>\n",
       "      <td>NaN</td>\n",
       "      <td>NaN</td>\n",
       "      <td>20.348479</td>\n",
       "      <td>NaN</td>\n",
       "    </tr>\n",
       "    <tr>\n",
       "      <th>std</th>\n",
       "      <td>NaN</td>\n",
       "      <td>NaN</td>\n",
       "      <td>15.424497</td>\n",
       "      <td>NaN</td>\n",
       "      <td>NaN</td>\n",
       "      <td>20.348392</td>\n",
       "      <td>NaN</td>\n",
       "    </tr>\n",
       "    <tr>\n",
       "      <th>min</th>\n",
       "      <td>NaN</td>\n",
       "      <td>NaN</td>\n",
       "      <td>0.000000</td>\n",
       "      <td>NaN</td>\n",
       "      <td>NaN</td>\n",
       "      <td>0.000000</td>\n",
       "      <td>NaN</td>\n",
       "    </tr>\n",
       "    <tr>\n",
       "      <th>25%</th>\n",
       "      <td>NaN</td>\n",
       "      <td>NaN</td>\n",
       "      <td>9.230000</td>\n",
       "      <td>NaN</td>\n",
       "      <td>NaN</td>\n",
       "      <td>3.000000</td>\n",
       "      <td>NaN</td>\n",
       "    </tr>\n",
       "    <tr>\n",
       "      <th>50%</th>\n",
       "      <td>NaN</td>\n",
       "      <td>NaN</td>\n",
       "      <td>22.830000</td>\n",
       "      <td>NaN</td>\n",
       "      <td>NaN</td>\n",
       "      <td>16.500000</td>\n",
       "      <td>NaN</td>\n",
       "    </tr>\n",
       "    <tr>\n",
       "      <th>75%</th>\n",
       "      <td>NaN</td>\n",
       "      <td>NaN</td>\n",
       "      <td>36.360000</td>\n",
       "      <td>NaN</td>\n",
       "      <td>NaN</td>\n",
       "      <td>27.000000</td>\n",
       "      <td>NaN</td>\n",
       "    </tr>\n",
       "    <tr>\n",
       "      <th>max</th>\n",
       "      <td>NaN</td>\n",
       "      <td>NaN</td>\n",
       "      <td>49.990000</td>\n",
       "      <td>NaN</td>\n",
       "      <td>NaN</td>\n",
       "      <td>85.000000</td>\n",
       "      <td>NaN</td>\n",
       "    </tr>\n",
       "  </tbody>\n",
       "</table>\n",
       "</div>"
      ],
      "text/plain": [
       "       Offer Phone Service  Avg Monthly Long Distance Charges Multiple Lines  \\\n",
       "count   4930          4930                        4930.000000           4930   \n",
       "unique     6             2                                NaN              2   \n",
       "top     None           Yes                                NaN             No   \n",
       "freq    2714          4452                                NaN           2876   \n",
       "mean     NaN           NaN                          22.936864            NaN   \n",
       "std      NaN           NaN                          15.424497            NaN   \n",
       "min      NaN           NaN                           0.000000            NaN   \n",
       "25%      NaN           NaN                           9.230000            NaN   \n",
       "50%      NaN           NaN                          22.830000            NaN   \n",
       "75%      NaN           NaN                          36.360000            NaN   \n",
       "max      NaN           NaN                          49.990000            NaN   \n",
       "\n",
       "       Internet Service  Avg Monthly GB Download Online Security  \n",
       "count              4930              4930.000000            4930  \n",
       "unique                2                      NaN               2  \n",
       "top                 Yes                      NaN              No  \n",
       "freq               3850                      NaN            3541  \n",
       "mean                NaN                20.348479             NaN  \n",
       "std                 NaN                20.348392             NaN  \n",
       "min                 NaN                 0.000000             NaN  \n",
       "25%                 NaN                 3.000000             NaN  \n",
       "50%                 NaN                16.500000             NaN  \n",
       "75%                 NaN                27.000000             NaN  \n",
       "max                 NaN                85.000000             NaN  "
      ]
     },
     "execution_count": 48,
     "metadata": {},
     "output_type": "execute_result"
    }
   ],
   "source": [
    "filtered_data_summary = filtered_data.describe(include='all')\n",
    "\n",
    "filtered_data_summary"
   ]
  },
  {
   "cell_type": "code",
   "execution_count": 49,
   "id": "928ee918",
   "metadata": {},
   "outputs": [
    {
     "data": {
      "image/png": "[encoded data removed]",
      "text/plain": [
       "<Figure size 1400x1200 with 4 Axes>"
      ]
     },
     "metadata": {},
     "output_type": "display_data"
    }
   ],
   "source": [
    "sns.set(style=\"whitegrid\")\n",
    "fig, axes = plt.subplots(2, 2, figsize=(14, 12))\n",
    "# 1. Gráfico de barras para Offer y Phone Service\n",
    "sns.countplot(ax=axes[0, 0], data=filtered_data, x='Offer', hue='Phone Service')\n",
    "axes[0, 0].set_title('Distribución de Ofertas según el Servicio de Teléfono')\n",
    "axes[0, 0].set_ylabel('Cantidad de clientes')\n",
    "axes[0, 0].set_xlabel('Oferta')\n",
    "\n",
    "# 2. Gráfico de violín para Internet Service y Avg Monthly GB Download\n",
    "sns.violinplot(ax=axes[0, 1], data=filtered_data, x='Internet Service', y='Avg Monthly GB Download')\n",
    "axes[0, 1].set_title('Relación entre Servicio de Internet y GB Descargados')\n",
    "axes[0, 1].set_ylabel('Promedio de GB descargados mensualmente')\n",
    "axes[0, 1].set_xlabel('Servicio de internet')\n",
    "\n",
    "# 3. Gráfico de dispersión para Avg Monthly Long Distance Charges y Multiple Lines\n",
    "sns.boxplot(ax=axes[1, 0], data=filtered_data, x='Multiple Lines', y='Avg Monthly Long Distance Charges')\n",
    "axes[1, 0].set_title('Distribución de cargos larga distancia por múltiples líneas')\n",
    "axes[1, 0].set_ylabel('Cargos mensuales por larga distancia')\n",
    "axes[1, 0].set_xlabel('Múltiples líneas')\n",
    "\n",
    "# 4. Gráfico de caja para Online Security y Avg Monthly GB Download\n",
    "sns.boxplot(ax=axes[1, 1], data=filtered_data, x='Online Security', y='Avg Monthly GB Download')\n",
    "axes[1, 1].set_title('Relación entre Seguridad en Línea y GB Descargados')\n",
    "axes[1, 1].set_ylabel('Promedio de GB descargados mensualmente')\n",
    "axes[1, 1].set_xlabel('Seguridad en línea')\n",
    "\n",
    "plt.tight_layout()\n",
    "plt.show()"
   ]
  },
  {
   "cell_type": "code",
   "execution_count": 50,
   "id": "9b3d8725",
   "metadata": {},
   "outputs": [],
   "source": [
    "# 1\n",
    "# Distribución de Ofertas según el Servicio de Teléfono: \n",
    "# La mayoría de los clientes no tienen ninguna oferta activa (\"None\")\n",
    "# para quienes tienen servicio de teléfono como para los que no lo tienen\n",
    "# los clientes con servicio de teléfono son más en todas las categorías de oferta\n",
    "# 2\n",
    "# Relación entre el Servicio de Internet y los GB Descargados: \n",
    "# Los clientes con servicio de internet muestran una amplia distribución en la cantidad de GB descargados por mes\n",
    "# la mediana está en 17 GB\n",
    "# los que no tienen servicio de internet muestran valores cercanos a 0 GB\n",
    "# 3\n",
    "# Distribución de Cargos de Larga Distancia por Múltiples Líneas: \n",
    "# Los clientes con múltiples líneas suelen tener cargos de larga distancia un poco más altos \n",
    "# comparando con los que no tienen múltiples líneas\n",
    "# los cargos están bien distribuidos en las categorías\n",
    "# 4\n",
    "# Relación entre Seguridad en Línea y GB Descargados: \n",
    "# Los clientes que no tienen seguridad en línea tienden a descargar más GB mensualmente en comparación con los que sí \n",
    "# los clientes que buscan mayor seguridad en línea no utilizan tanto la capacidad de internet"
   ]
  },
  {
   "cell_type": "code",
   "execution_count": null,
   "id": "86b32e84",
   "metadata": {},
   "outputs": [],
   "source": []
  },
  {
   "cell_type": "code",
   "execution_count": null,
   "id": "8a213880",
   "metadata": {},
   "outputs": [],
   "source": []
  },
  {
   "cell_type": "markdown",
   "id": "772ee59c",
   "metadata": {},
   "source": [
    "# 5. Data Processing"
   ]
  },
  {
   "cell_type": "markdown",
   "id": "afbb6053-b9cc-4d26-b9b5-63890979c145",
   "metadata": {},
   "source": [
    "## Data Cleaning"
   ]
  },
  {
   "cell_type": "code",
   "execution_count": null,
   "id": "0e74ff5d-7d62-4c2a-ab8c-70eaa58b435a",
   "metadata": {},
   "outputs": [],
   "source": [
    "# Your code here\n",
    "data.info()\n",
    "ColumnsDrop=[\"Customer ID\",\"Under 30\",\"Senior Citizen\",\"Country\",\"State\",\"City\",\"Latitude\",\"Longitude\",\"Quarter\",\"Churn Category\",\"Churn Score\",\"CLTV\",\"Churn Reason\",\"Customer Status\"]"
   ]
  },
  {
   "cell_type": "code",
   "execution_count": null,
   "id": "b1aa8b1a",
   "metadata": {},
   "outputs": [],
   "source": [
    "data = data.drop(ColumnsDrop,axis=1)"
   ]
  },
  {
   "cell_type": "code",
   "execution_count": null,
   "id": "7c61babb-db9b-4115-bc6a-ff6f690c10ac",
   "metadata": {},
   "outputs": [],
   "source": [
    "data.info()"
   ]
  },
  {
   "cell_type": "code",
   "execution_count": null,
   "id": "0c444413-fce5-40d8-924f-4c2dcdd1acba",
   "metadata": {},
   "outputs": [],
   "source": [
    "data[\"Contract\"].value_counts()"
   ]
  },
  {
   "cell_type": "code",
   "execution_count": null,
   "id": "2dbb7995-8222-43bc-ba20-8f79090205a8",
   "metadata": {},
   "outputs": [],
   "source": [
    " ## Limpiar los datos Internet Type, offer\n",
    "data[\"Internet Type\"].value_counts()"
   ]
  },
  {
   "cell_type": "code",
   "execution_count": null,
   "id": "6f45469b-330f-4955-a371-a809c1a40403",
   "metadata": {},
   "outputs": [],
   "source": [
    "data[\"Internet Type\"].isnull().sum()"
   ]
  },
  {
   "cell_type": "code",
   "execution_count": null,
   "id": "482292c6-d4e8-4ae8-adb9-eef722ff959a",
   "metadata": {},
   "outputs": [],
   "source": [
    "data[(data[\"Internet Type\"].isnull())&((data[\"Internet Service\"]==0))]"
   ]
  },
  {
   "cell_type": "code",
   "execution_count": null,
   "id": "f352a6d6-13d7-4a38-b82c-661bea5b74a2",
   "metadata": {},
   "outputs": [],
   "source": [
    "data['Internet Type'] = data['Internet Type'].fillna(\"No Internet\")\n",
    "data[\"Internet Type\"].isnull().sum()"
   ]
  },
  {
   "cell_type": "code",
   "execution_count": null,
   "id": "8038a0e1",
   "metadata": {},
   "outputs": [],
   "source": [
    "data[\"Offer\"].value_counts()"
   ]
  },
  {
   "cell_type": "code",
   "execution_count": null,
   "id": "19ea6a97-a48d-4831-908c-ca16ba20b8b4",
   "metadata": {},
   "outputs": [],
   "source": [
    "data[\"Offer\"].isnull().sum()"
   ]
  },
  {
   "cell_type": "code",
   "execution_count": null,
   "id": "466f13d6",
   "metadata": {},
   "outputs": [],
   "source": [
    "data['Offer'] = data['Offer'].fillna(\"No Offer\")"
   ]
  },
  {
   "cell_type": "code",
   "execution_count": null,
   "id": "4740ac2f-c922-4c2d-a7f6-1f134aba2a91",
   "metadata": {},
   "outputs": [],
   "source": [
    "data[\"Offer\"].isnull().sum()"
   ]
  },
  {
   "cell_type": "markdown",
   "id": "f1e2f2df-30e8-484a-aac9-0c757fefae85",
   "metadata": {},
   "source": [
    "## Re-sampling (if needed)"
   ]
  },
  {
   "cell_type": "code",
   "execution_count": null,
   "id": "b51b578f-d2fd-4bdc-a519-974ef0695b11",
   "metadata": {},
   "outputs": [],
   "source": [
    "\n",
    "data[\"Churn Label\"].value_counts(normalize=True)\n",
    "##No necesario el re-sampling\n",
    "## Hay suficientos datos para que el programa aprenda\n"
   ]
  },
  {
   "cell_type": "markdown",
   "id": "c81ccf11-b51b-4f6e-8080-d56caa674840",
   "metadata": {},
   "source": [
    "## Feature Engineering"
   ]
  },
  {
   "cell_type": "code",
   "execution_count": null,
   "id": "1bfc1c00-b497-4bbe-b63d-d32db25552be",
   "metadata": {},
   "outputs": [],
   "source": [
    "# Your code here\n"
   ]
  },
  {
   "cell_type": "code",
   "execution_count": null,
   "id": "486c9d96-0d23-41cc-b74c-2faec4107cb1",
   "metadata": {},
   "outputs": [],
   "source": [
    "data[\"Payment Method\"].value_counts()"
   ]
  },
  {
   "cell_type": "markdown",
   "id": "e840096d-4a2a-4545-bf4c-5a744316a3ee",
   "metadata": {},
   "source": [
    "## Encoding"
   ]
  },
  {
   "cell_type": "code",
   "execution_count": null,
   "id": "628aa2ce-89e7-4587-bc29-9aee07931da7",
   "metadata": {},
   "outputs": [],
   "source": [
    "labelEncoderColumns = [\"Paperless Billing\",\"Churn Label\",\"Gender\",\"Married\",\"Dependents\",\"Referred a Friend\",\"Phone Service\",\"Multiple Lines\",\"Internet Service\",\"Online Security\",\"Online Backup\",\"Device Protection Plan\",\"Premium Tech Support\",\"Streaming TV\",\"Streaming Movies\",\"Streaming Music\",\"Unlimited Data\"]\n",
    "OneHotEncoderColumns = [\"Offer\",\"Internet Type\",\"Contract\",\"Payment Method\"]\n",
    "\n",
    "#Offer,Internet Type,Contract,Payment Method\n"
   ]
  },
  {
   "cell_type": "code",
   "execution_count": null,
   "id": "68613e91-dfd7-4750-a6eb-e9a59013d8ee",
   "metadata": {},
   "outputs": [],
   "source": [
    "label_encoder = LabelEncoder()"
   ]
  },
  {
   "cell_type": "code",
   "execution_count": null,
   "id": "09392870-9362-4ac5-b5dd-4aff7ad74ee7",
   "metadata": {},
   "outputs": [],
   "source": [
    "for col in labelEncoderColumns:\n",
    "    data[col] = label_encoder.fit_transform(data[col])\n"
   ]
  },
  {
   "cell_type": "code",
   "execution_count": null,
   "id": "d48f0c6d-b2ea-4399-956c-62d4d308b0f6",
   "metadata": {},
   "outputs": [],
   "source": [
    "print(label_encoder.classes_)"
   ]
  },
  {
   "cell_type": "code",
   "execution_count": null,
   "id": "34fb5bb3-b99e-4202-8df5-85170b69515f",
   "metadata": {},
   "outputs": [],
   "source": [
    "data.info()"
   ]
  },
  {
   "cell_type": "code",
   "execution_count": null,
   "id": "f297b681-1ebd-4fa3-bbfc-73a1413bb6bf",
   "metadata": {},
   "outputs": [],
   "source": [
    "oh_encoder = OneHotEncoder(cols = OneHotEncoderColumns, use_cat_names=True)"
   ]
  },
  {
   "cell_type": "code",
   "execution_count": null,
   "id": "3ae53d51-5b82-4ea1-b7ec-012b5d11211e",
   "metadata": {},
   "outputs": [],
   "source": [
    "oh_encoder.fit(data)"
   ]
  },
  {
   "cell_type": "code",
   "execution_count": null,
   "id": "51ff243f",
   "metadata": {},
   "outputs": [],
   "source": [
    "data = oh_encoder.transform(data)"
   ]
  },
  {
   "cell_type": "code",
   "execution_count": null,
   "id": "90f1aeb4-aa95-4817-8535-aa52ef9427a8",
   "metadata": {},
   "outputs": [],
   "source": [
    "data.columns"
   ]
  },
  {
   "cell_type": "code",
   "execution_count": null,
   "id": "58158ba5-8821-44da-a5f0-f8b4bcaa6c03",
   "metadata": {},
   "outputs": [],
   "source": [
    "data.info()\n",
    "\n",
    "columnas = [\"Gender\",\"Age\",\"Married\",\"Number of Dependents\",\"Referred a Friend\",\"Tenure in Months\"]\n",
    "\n",
    "columnasModelo = ['Gender', 'Age', 'Married', 'Number of Dependents',\n",
    "        'Referred a Friend',\n",
    "       'Tenure in Months', 'Offer_No Offer', 'Offer_Offer E', 'Offer_Offer D',\n",
    "       'Offer_Offer C', 'Offer_Offer B', 'Offer_Offer A', 'Phone Service',\n",
    "       'Avg Monthly Long Distance Charges', 'Multiple Lines',\n",
    "       'Internet Service', 'Internet Type_DSL', 'Internet Type_Fiber Optic',\n",
    "       'Internet Type_Cable', 'Internet Type_No Internet',\n",
    "       'Avg Monthly GB Download', 'Online Security', 'Online Backup',\n",
    "       'Device Protection Plan', 'Premium Tech Support', 'Streaming TV',\n",
    "       'Streaming Movies', 'Streaming Music', 'Unlimited Data',\n",
    "       'Contract_Month-to-Month', 'Contract_One Year', 'Contract_Two Year',\n",
    "       'Paperless Billing', 'Payment Method_Bank Withdrawal',\n",
    "       'Payment Method_Credit Card', 'Payment Method_Mailed Check',\n",
    "       'Monthly Charge', 'Total Charges', 'Total Refunds',\n",
    "       'Total Extra Data Charges', 'Total Long Distance Charges',\n",
    "       'Total Revenue', 'Satisfaction Score', 'Churn Label']"
   ]
  },
  {
   "cell_type": "code",
   "execution_count": null,
   "id": "5de4953c-91d6-43c4-80f7-0d0b879531ba",
   "metadata": {},
   "outputs": [],
   "source": [
    "data[\"Churn Label\"].info()"
   ]
  },
  {
   "cell_type": "code",
   "execution_count": null,
   "id": "fbd22bfa-c5b8-4994-8256-222ecbc563e2",
   "metadata": {},
   "outputs": [],
   "source": []
  },
  {
   "cell_type": "markdown",
   "id": "6d00000b-072c-44d8-93f0-a3f039376de7",
   "metadata": {},
   "source": [
    "## Scaling (if needed)"
   ]
  },
  {
   "cell_type": "code",
   "execution_count": null,
   "id": "5bc0c303-919b-4226-9f2d-92ef6f42cd9e",
   "metadata": {},
   "outputs": [],
   "source": [
    "scaler = RobustScaler()"
   ]
  },
  {
   "cell_type": "code",
   "execution_count": null,
   "id": "484976d7-8e02-440a-971a-d73141830db4",
   "metadata": {},
   "outputs": [],
   "source": [
    "#scaler.fit(X)"
   ]
  },
  {
   "cell_type": "markdown",
   "id": "3c70b83b-a594-4ed9-a1be-c17ef8deb532",
   "metadata": {},
   "source": [
    "### DATA splitting\n"
   ]
  },
  {
   "cell_type": "code",
   "execution_count": null,
   "id": "4944462e-32b0-46f6-9f99-8e7315cc2de0",
   "metadata": {},
   "outputs": [],
   "source": [
    "columnasModelo = ['Gender', 'Age', 'Married', 'Number of Dependents',\n",
    "        'Referred a Friend', 'Tenure in Months', 'Offer_None', 'Offer_Offer E', 'Offer_Offer D',\n",
    "       'Offer_Offer C', 'Offer_Offer B', 'Offer_Offer A', 'Phone Service',\n",
    "       'Avg Monthly Long Distance Charges', 'Multiple Lines',\n",
    "       'Internet Service', 'Internet Type_DSL', 'Internet Type_Fiber Optic',\n",
    "       'Internet Type_Cable', 'Internet Type_None',\n",
    "       'Avg Monthly GB Download', 'Online Security', 'Online Backup',\n",
    "       'Device Protection Plan', 'Premium Tech Support', 'Streaming TV',\n",
    "       'Streaming Movies', 'Streaming Music', 'Unlimited Data',\n",
    "       'Contract_Month-to-Month', 'Contract_One Year', 'Contract_Two Year',\n",
    "       'Paperless Billing', 'Payment Method_Bank Withdrawal',\n",
    "       'Payment Method_Credit Card', 'Payment Method_Mailed Check',\n",
    "       'Monthly Charge', 'Total Charges', 'Total Refunds',\n",
    "       'Total Extra Data Charges', 'Total Long Distance Charges',\n",
    "        'Satisfaction Score', 'Churn Label']"
   ]
  },
  {
   "cell_type": "markdown",
   "id": "fff35d25",
   "metadata": {},
   "source": [
    "# 5. Train model/Tune hyperparameters"
   ]
  },
  {
   "cell_type": "code",
   "execution_count": null,
   "id": "87854f02-6380-45a7-9050-60b866b52735",
   "metadata": {},
   "outputs": [],
   "source": [
    "print(data.columns)"
   ]
  },
  {
   "cell_type": "code",
   "execution_count": null,
   "id": "72eb709b-f2f3-4d15-b847-1b1a03a88660",
   "metadata": {},
   "outputs": [],
   "source": [
    "columnasModelo = [col for col in columnasModelo if col in data.columns]"
   ]
  },
  {
   "cell_type": "code",
   "execution_count": null,
   "id": "0d667627-12a0-4259-8e8f-af44d590ab16",
   "metadata": {},
   "outputs": [],
   "source": [
    "X = data[columnasModelo]\n",
    "y = data[\"Churn Label\"]"
   ]
  },
  {
   "cell_type": "code",
   "execution_count": null,
   "id": "233a828c",
   "metadata": {},
   "outputs": [],
   "source": [
    "X_train, X_test, y_train, y_test = train_test_split(X, y, test_size=0.3, random_state=42)"
   ]
  },
  {
   "cell_type": "markdown",
   "id": "023c098a",
   "metadata": {},
   "source": [
    "## Decision Tree Classifier"
   ]
  },
  {
   "cell_type": "code",
   "execution_count": null,
   "id": "d36eb395",
   "metadata": {},
   "outputs": [],
   "source": [
    "model = DecisionTreeClassifier()"
   ]
  },
  {
   "cell_type": "code",
   "execution_count": null,
   "id": "05540ded",
   "metadata": {},
   "outputs": [],
   "source": [
    "model.fit(X=X,y=data[\"Churn Label\"])"
   ]
  },
  {
   "cell_type": "code",
   "execution_count": null,
   "id": "37d36562",
   "metadata": {},
   "outputs": [],
   "source": [
    "plt.figure(figsize=(7, 7))\n",
    "plot_tree(model, feature_names=X.columns, class_names=[\"no churn\", \"churn\"])"
   ]
  },
  {
   "cell_type": "code",
   "execution_count": null,
   "id": "4c6fe797-9658-4f4b-be62-972a76ea99cb",
   "metadata": {},
   "outputs": [],
   "source": [
    "#alta pureza en nuestro arbol de decision. Cada hoja alcanza a tener cero."
   ]
  },
  {
   "cell_type": "code",
   "execution_count": null,
   "id": "627b5119",
   "metadata": {},
   "outputs": [],
   "source": [
    "predicted_prob = model.predict_proba(X)"
   ]
  },
  {
   "cell_type": "code",
   "execution_count": null,
   "id": "debf3d1e",
   "metadata": {},
   "outputs": [],
   "source": [
    "predicted_prob"
   ]
  },
  {
   "cell_type": "code",
   "execution_count": null,
   "id": "3c159794",
   "metadata": {},
   "outputs": [],
   "source": [
    "predicted_class = model.predict(X)"
   ]
  },
  {
   "cell_type": "code",
   "execution_count": null,
   "id": "27f39e94",
   "metadata": {},
   "outputs": [],
   "source": [
    "predicted_class"
   ]
  },
  {
   "cell_type": "code",
   "execution_count": null,
   "id": "f8f80d8f",
   "metadata": {},
   "outputs": [],
   "source": [
    "data_and_predictions = data.copy()\n",
    "data_and_predictions"
   ]
  },
  {
   "cell_type": "code",
   "execution_count": null,
   "id": "36796af7",
   "metadata": {},
   "outputs": [],
   "source": [
    "data_and_predictions[\"predicted_class\"] = predicted_class\n",
    "data_and_predictions[\"predicted_prob(no churn)\"] = predicted_prob[:,0]\n",
    "data_and_predictions[\"predicted_prob(churn)\"] = predicted_prob[:,1]"
   ]
  },
  {
   "cell_type": "code",
   "execution_count": null,
   "id": "a8c66652",
   "metadata": {},
   "outputs": [],
   "source": [
    "def calculate_accuracy(predictions):\n",
    "    number_of_hits = (predictions[\"Churn Label\"] == predictions[\"predicted_class\"]).sum()\n",
    "    number_of_predictions = len(predictions)\n",
    "\n",
    "    accuracy = round(number_of_hits/number_of_predictions*100, 2)\n",
    "    accuracy = float(accuracy)\n",
    "\n",
    "    return accuracy"
   ]
  },
  {
   "cell_type": "code",
   "execution_count": null,
   "id": "b2c82c09",
   "metadata": {
    "scrolled": true
   },
   "outputs": [],
   "source": [
    "calculate_accuracy(data_and_predictions)"
   ]
  },
  {
   "cell_type": "code",
   "execution_count": null,
   "id": "f0ea6687-ee22-49e5-bd53-6fb6599d2f32",
   "metadata": {},
   "outputs": [],
   "source": [
    "data"
   ]
  },
  {
   "cell_type": "markdown",
   "id": "9ddc5197-0d12-4cc2-a1dd-ece1e1d14cac",
   "metadata": {},
   "source": [
    "## KNN "
   ]
  },
  {
   "cell_type": "markdown",
   "id": "b94942e2-20ec-4a7e-b1d7-467d6fa9c427",
   "metadata": {},
   "source": [
    "##### SIN GRID Y COLUMNAS FILTRADAS\n"
   ]
  },
  {
   "cell_type": "code",
   "execution_count": null,
   "id": "b54aa78f-e54e-4249-bf2c-6d79b97b88de",
   "metadata": {},
   "outputs": [],
   "source": [
    "X_train, X_test, y_train, y_test = train_test_split(X, y, test_size=0.2, random_state=42)"
   ]
  },
  {
   "cell_type": "code",
   "execution_count": null,
   "id": "bdb89d9b",
   "metadata": {},
   "outputs": [],
   "source": [
    "KNclassifier = KNeighborsClassifier(n_neighbors=20)"
   ]
  },
  {
   "cell_type": "code",
   "execution_count": null,
   "id": "76d58b2c",
   "metadata": {},
   "outputs": [],
   "source": [
    "KNclassifier.fit(X_train, y_train)"
   ]
  },
  {
   "cell_type": "code",
   "execution_count": null,
   "id": "4d8d4660-005e-4398-8c6a-aa5e5da13c79",
   "metadata": {},
   "outputs": [],
   "source": [
    "y_pred = KNclassifier.predict(X_test)"
   ]
  },
  {
   "cell_type": "code",
   "execution_count": null,
   "id": "6ff20bfc-120b-4cbc-8615-c9ae1e70a46c",
   "metadata": {},
   "outputs": [],
   "source": [
    "print(classification_report(y_test, y_pred))\n",
    "print(confusion_matrix(y_test, y_pred))"
   ]
  },
  {
   "cell_type": "code",
   "execution_count": null,
   "id": "81704840-a2a2-4d3d-980b-307b1aaedc11",
   "metadata": {},
   "outputs": [],
   "source": [
    "from sklearn.metrics import accuracy_score,precision_score,recall_score\n",
    "KNAcc = accuracy_score(y_pred,y_test)\n",
    "KNrecall = recall_score(y_test, y_pred)\n",
    "KNprecision = precision_score(y_test, y_pred)\n",
    "print('K Neighbours accuracy is: {:.2f}%'.format(KNAcc*100))\n",
    "print(\"Recall: {:.2f}%\".format(KNrecall*100))\n",
    "print(\"Precision: {:.2f}%\".format(KNprecision*100))"
   ]
  },
  {
   "cell_type": "markdown",
   "id": "c194bafe-bba0-4913-a8a8-55ddc409c1be",
   "metadata": {},
   "source": [
    "##### SIN GRID Y TODAS COLUMNAS"
   ]
  },
  {
   "cell_type": "code",
   "execution_count": null,
   "id": "db42cfaf-3446-4690-8918-6b3d359e58c2",
   "metadata": {},
   "outputs": [],
   "source": [
    "## TODAS LAS COLUMNAS SELECCIONADAS\n",
    "X = data.drop(\"Churn Label\", axis=1) \n",
    "y = data[\"Churn Label\"]"
   ]
  },
  {
   "cell_type": "code",
   "execution_count": null,
   "id": "bb720106-8254-4ce7-bdd1-6aecc9c862c1",
   "metadata": {},
   "outputs": [],
   "source": [
    "X_train, X_test, y_train, y_test = train_test_split(X, y, test_size=0.2, random_state=42)"
   ]
  },
  {
   "cell_type": "code",
   "execution_count": null,
   "id": "9102b949-7266-4e61-b4eb-b80902eaff8c",
   "metadata": {},
   "outputs": [],
   "source": [
    "KNclassifier = KNeighborsClassifier(n_neighbors=20)"
   ]
  },
  {
   "cell_type": "code",
   "execution_count": null,
   "id": "33f4b2db-1e47-41c8-b37f-e212dbee55bb",
   "metadata": {},
   "outputs": [],
   "source": [
    "KNclassifier.fit(X_train, y_train)"
   ]
  },
  {
   "cell_type": "code",
   "execution_count": null,
   "id": "06bf1189-a88a-427d-a19b-fd67b335ec0c",
   "metadata": {},
   "outputs": [],
   "source": [
    "y_pred = KNclassifier.predict(X_test)"
   ]
  },
  {
   "cell_type": "code",
   "execution_count": null,
   "id": "c5376608-04a2-4b01-b1ed-4031bd5309c6",
   "metadata": {},
   "outputs": [],
   "source": [
    "print(classification_report(y_test, y_pred))\n",
    "print(confusion_matrix(y_test, y_pred))"
   ]
  },
  {
   "cell_type": "code",
   "execution_count": null,
   "id": "8e738adf-6848-4546-8f84-88bb5e5f4520",
   "metadata": {},
   "outputs": [],
   "source": [
    "from sklearn.metrics import accuracy_score,precision_score,recall_score\n",
    "KNAcc = accuracy_score(y_pred,y_test)\n",
    "KNrecall = recall_score(y_test, y_pred)\n",
    "KNprecision = precision_score(y_test, y_pred)\n",
    "print('K Neighbours accuracy is: {:.2f}%'.format(KNAcc*100))\n",
    "print(\"Recall: {:.2f}%\".format(KNrecall*100))\n",
    "print(\"Precision: {:.2f}%\".format(KNprecision*100))"
   ]
  },
  {
   "cell_type": "markdown",
   "id": "7f3d79cb-8e9e-4702-83f1-150f3bdea998",
   "metadata": {},
   "source": [
    "##### CON GRID Y COLUMNAS FILTRADAS\n"
   ]
  },
  {
   "cell_type": "code",
   "execution_count": null,
   "id": "952fda54-81c2-4aac-aa30-414be5c1fc4b",
   "metadata": {},
   "outputs": [],
   "source": [
    "X = data[columnasModelo]\n",
    "y = data[\"Churn Label\"]\n",
    "X_train, X_test, y_train, y_test = train_test_split(X, y, test_size=0.2, random_state=42)"
   ]
  },
  {
   "cell_type": "code",
   "execution_count": null,
   "id": "445d4bc6-8bd0-4c38-aad3-25166d946f19",
   "metadata": {},
   "outputs": [],
   "source": [
    "KNclassifierGrid = KNeighborsClassifier()"
   ]
  },
  {
   "cell_type": "code",
   "execution_count": null,
   "id": "10491126-ee43-4068-a188-b58818d16658",
   "metadata": {},
   "outputs": [],
   "source": [
    "param_grid = {\n",
    "    'n_neighbors': [5, 10, 15, 20],  # Puedes ajustar este rango según sea necesario\n",
    "    'weights': ['uniform', 'distance'],  # Probar pesos uniformes y basados en la distancia\n",
    "    'metric': ['euclidean', 'manhattan']  # Probar diferentes métricas de distancia\n",
    "}"
   ]
  },
  {
   "cell_type": "code",
   "execution_count": null,
   "id": "f0f1b1ae-4b90-4d80-b909-790ee1a1f644",
   "metadata": {},
   "outputs": [],
   "source": [
    "grid_search = GridSearchCV(estimator=KNclassifierGrid, param_grid=param_grid, cv=5, scoring='accuracy')\n"
   ]
  },
  {
   "cell_type": "code",
   "execution_count": null,
   "id": "e592b682-fe5b-4865-b7ba-6f98fad27cb9",
   "metadata": {},
   "outputs": [],
   "source": [
    "grid_search.fit(X_train, y_train)"
   ]
  },
  {
   "cell_type": "code",
   "execution_count": null,
   "id": "d5219cc7-fa1e-46cd-8cc1-0cd4a848ef8a",
   "metadata": {},
   "outputs": [],
   "source": [
    "bestKnnGrid = grid_search.best_estimator_"
   ]
  },
  {
   "cell_type": "code",
   "execution_count": null,
   "id": "267d8711-6bc9-41c4-b9bc-8ee28a45909b",
   "metadata": {},
   "outputs": [],
   "source": [
    "print(\"Mejores parámetros encontrados:\", grid_search.best_params_)"
   ]
  },
  {
   "cell_type": "code",
   "execution_count": null,
   "id": "494ca79c-bac0-4000-abc9-c10e2082072f",
   "metadata": {},
   "outputs": [],
   "source": [
    "y_pred = bestKnnGrid.predict(X_test)"
   ]
  },
  {
   "cell_type": "code",
   "execution_count": null,
   "id": "24fa5c47-83fe-40a8-bc03-77232be95a33",
   "metadata": {},
   "outputs": [],
   "source": [
    "print(classification_report(y_test, y_pred))\n",
    "print(confusion_matrix(y_test, y_pred))\n",
    "\n",
    "\n",
    "from sklearn.metrics import accuracy_score,precision_score,recall_score\n",
    "KNAcc = accuracy_score(y_pred,y_test)\n",
    "KNrecall = recall_score(y_test, y_pred)\n",
    "KNprecision = precision_score(y_test, y_pred)\n",
    "print('K Neighbours accuracy is: {:.2f}%'.format(KNAcc*100))\n",
    "print(\"Recall: {:.2f}%\".format(KNrecall*100))\n",
    "print(\"Precision: {:.2f}%\".format(KNprecision*100))"
   ]
  },
  {
   "cell_type": "code",
   "execution_count": null,
   "id": "6f556c7d-bc6f-457a-bbb3-dc4392f90d12",
   "metadata": {},
   "outputs": [],
   "source": [
    "columnasRelevantes = [\n",
    "    'Gender',  # El género podría estar relacionado con patrones de comportamiento de uso.\n",
    "    'Age',  # La edad puede influir en el tipo de servicios contratados y la retención.\n",
    "    'Married',  # Estado civil, tal vez relacionado con la estabilidad del cliente.\n",
    "    'Tenure in Months',  # Antigüedad con la empresa, un factor clave para el churn.\n",
    "    'Phone Service',  # Tener o no servicio telefónico puede ser un indicador de compromiso.\n",
    "    'Avg Monthly Long Distance Charges',  # Cargos mensuales de larga distancia, podrían mostrar la dependencia del servicio.\n",
    "    'Multiple Lines',  # Líneas múltiples pueden indicar mayor compromiso con los servicios.\n",
    "    'Internet Service',  # Servicio de Internet como factor principal de retención.\n",
    "    'Avg Monthly GB Download',  # Uso de datos, relacionado con la intensidad del uso de los servicios.\n",
    "    'Online Security',  # Servicios adicionales que pueden influir en la lealtad del cliente.\n",
    "    'Streaming TV',  # Servicios de entretenimiento también pueden afectar la retención.\n",
    "    'Unlimited Data',  # Servicios de datos ilimitados pueden ser una ventaja competitiva.\n",
    "    'Contract_Month-to-Month',  # Clientes con contratos mensuales suelen tener mayor probabilidad de irse.\n",
    "    'Paperless Billing',  # Preferencia por facturación sin papel puede indicar un cliente más comprometido digitalmente.\n",
    "    'Payment Method_Bank Withdrawal',  # Método de pago, algunos métodos pueden asociarse a mayor estabilidad.\n",
    "    'Monthly Charge',  # El monto mensual podría ser un indicador de carga financiera.\n",
    "    'Satisfaction Score',  # La satisfacción es un predictor directo de churn.\n",
    "    'Churn Label'  # La variable objetivo.\n",
    "]"
   ]
  },
  {
   "cell_type": "code",
   "execution_count": null,
   "id": "3d26c41b-d6b5-4e42-9763-0a297c072e1c",
   "metadata": {},
   "outputs": [],
   "source": [
    "X = data[columnasRelevantes]\n",
    "y = data[\"Churn Label\"]\n",
    "X_train, X_test, y_train, y_test = train_test_split(X, y, test_size=0.2, random_state=42)"
   ]
  },
  {
   "cell_type": "code",
   "execution_count": null,
   "id": "a445cb08-e86d-4299-b21e-a1731584e262",
   "metadata": {},
   "outputs": [],
   "source": [
    "KNclassifierGrid2 = KNeighborsClassifier()"
   ]
  },
  {
   "cell_type": "code",
   "execution_count": null,
   "id": "20623eaa-7c41-4525-98c2-c2e1bd8f5d99",
   "metadata": {},
   "outputs": [],
   "source": [
    "grid_search = GridSearchCV(estimator=KNclassifierGrid2, param_grid=param_grid, cv=5, scoring='accuracy')\n"
   ]
  },
  {
   "cell_type": "code",
   "execution_count": null,
   "id": "c60e8ee4-4153-49d6-b88a-5b4682ed4ff5",
   "metadata": {},
   "outputs": [],
   "source": [
    "grid_search.fit(X_train, y_train)"
   ]
  },
  {
   "cell_type": "code",
   "execution_count": null,
   "id": "16986a32-73af-4363-9ddf-221ebb43f05e",
   "metadata": {},
   "outputs": [],
   "source": [
    "bestKnnGrid = grid_search.best_estimator_"
   ]
  },
  {
   "cell_type": "code",
   "execution_count": null,
   "id": "b6fa5d43-e40b-478e-855f-6f24a648c5ce",
   "metadata": {},
   "outputs": [],
   "source": [
    "y_pred = bestKnnGrid.predict(X_test)"
   ]
  },
  {
   "cell_type": "code",
   "execution_count": null,
   "id": "8d81d3ac-9dad-4d4f-9e7b-5cd7225324af",
   "metadata": {},
   "outputs": [],
   "source": [
    "print(classification_report(y_test, y_pred))\n",
    "print(confusion_matrix(y_test, y_pred))\n",
    "\n",
    "\n",
    "from sklearn.metrics import accuracy_score,precision_score,recall_score\n",
    "KNAcc = accuracy_score(y_pred,y_test)\n",
    "KNrecall = recall_score(y_test, y_pred)\n",
    "KNprecision = precision_score(y_test, y_pred)\n",
    "print('K Neighbours accuracy is: {:.2f}%'.format(KNAcc*100))\n",
    "print(\"Recall: {:.2f}%\".format(KNrecall*100))\n",
    "print(\"Precision: {:.2f}%\".format(KNprecision*100))"
   ]
  },
  {
   "cell_type": "code",
   "execution_count": null,
   "id": "0b5bd653-8f9f-4d00-b219-d1ae1ca0de6c",
   "metadata": {},
   "outputs": [],
   "source": [
    "##Mejoro bastante con las columnas filtradas y con el grid"
   ]
  },
  {
   "cell_type": "code",
   "execution_count": null,
   "id": "b3472f94-b6c2-49d2-8729-6f4e8d802276",
   "metadata": {},
   "outputs": [],
   "source": []
  },
  {
   "cell_type": "code",
   "execution_count": null,
   "id": "e7e9057f-cfec-4960-a28a-fcd884740c54",
   "metadata": {},
   "outputs": [],
   "source": []
  },
  {
   "cell_type": "code",
   "execution_count": null,
   "id": "9720e74e-149f-4cbd-bff7-3655ceb73b3d",
   "metadata": {},
   "outputs": [],
   "source": []
  },
  {
   "cell_type": "code",
   "execution_count": null,
   "id": "03355951-1ba1-4f95-9cff-a8ef4382fc44",
   "metadata": {},
   "outputs": [],
   "source": []
  },
  {
   "cell_type": "code",
   "execution_count": null,
   "id": "732aeddf-b061-4a2a-9375-7b2d7d89596f",
   "metadata": {},
   "outputs": [],
   "source": []
  },
  {
   "cell_type": "code",
   "execution_count": null,
   "id": "5ae723e5-1d01-4b14-8b64-87fcb00116b6",
   "metadata": {},
   "outputs": [],
   "source": [
    "search.fit(X=train_data.drop(columns=[\"Target\"]), y=train_data[\"Target\"])"
   ]
  },
  {
   "cell_type": "code",
   "execution_count": null,
   "id": "dbd5e0af-6550-4cf4-aea0-d0560fe9f74b",
   "metadata": {},
   "outputs": [],
   "source": [
    "best_model = search.best_estimator_"
   ]
  },
  {
   "cell_type": "code",
   "execution_count": null,
   "id": "7f5ede62-fcac-4cfe-a25c-1c5540238a13",
   "metadata": {},
   "outputs": [],
   "source": [
    "best_model"
   ]
  },
  {
   "cell_type": "code",
   "execution_count": null,
   "id": "b5a1f080-e174-4049-ab5e-54f00798715e",
   "metadata": {},
   "outputs": [],
   "source": [
    "search.best_params_"
   ]
  },
  {
   "cell_type": "code",
   "execution_count": null,
   "id": "37affd8e-9178-4929-83ed-6324798b4889",
   "metadata": {},
   "outputs": [],
   "source": [
    "search_results = pd.DataFrame(search.cv_results_)"
   ]
  },
  {
   "cell_type": "code",
   "execution_count": null,
   "id": "25645b14-0d61-4d2a-ab23-0e4c5ef05ed1",
   "metadata": {},
   "outputs": [],
   "source": [
    "search_results"
   ]
  },
  {
   "cell_type": "markdown",
   "id": "46020ba9",
   "metadata": {},
   "source": [
    "# 6. Model performance evaluation"
   ]
  },
  {
   "cell_type": "code",
   "execution_count": null,
   "id": "ca2e36d7",
   "metadata": {},
   "outputs": [],
   "source": [
    "y_pred = best_model.predict(val_data.drop(columns=[\"Target\"]))\n",
    "y_pred_prob = best_model.predict_proba(val_data.drop(columns=[\"Target\"]))[:, 1]"
   ]
  },
  {
   "cell_type": "code",
   "execution_count": null,
   "id": "5f94a3e4",
   "metadata": {},
   "outputs": [],
   "source": [
    "ConfusionMatrixDisplay.from_predictions(y_true=val_data[\"Target\"], y_pred=y_pred)"
   ]
  },
  {
   "cell_type": "code",
   "execution_count": null,
   "id": "4d1aee6d",
   "metadata": {},
   "outputs": [],
   "source": [
    "print(classification_report(y_true=val_data[\"Target\"], y_pred=y_pred))"
   ]
  },
  {
   "cell_type": "markdown",
   "id": "ee3ed252-a196-4f49-9caf-554efb0eb1d5",
   "metadata": {},
   "source": [
    "# 7. Explainability"
   ]
  },
  {
   "cell_type": "code",
   "execution_count": null,
   "id": "d3dacde4-0784-4bd3-8201-1fef98651048",
   "metadata": {},
   "outputs": [],
   "source": [
    "explainer = shap.TreeExplainer(best_model)"
   ]
  },
  {
   "cell_type": "code",
   "execution_count": null,
   "id": "3a9eb2d6-4ce4-4490-9c40-eab2231631da",
   "metadata": {},
   "outputs": [],
   "source": [
    "explanation = explainer(train_data.drop(columns=[\"Target\"]))"
   ]
  },
  {
   "cell_type": "code",
   "execution_count": null,
   "id": "41c539a9-45de-4269-a6b0-256a8d460bc5",
   "metadata": {},
   "outputs": [],
   "source": [
    "plt.figure(figsize=(20,8))\n",
    "shap.summary_plot(explanation.values[:,:,1], features=train_data.drop(columns=[\"Target\"]), plot_type=\"bar\")"
   ]
  },
  {
   "cell_type": "code",
   "execution_count": null,
   "id": "50f3b0f4-4556-4119-ae9d-2a72007c48e9",
   "metadata": {},
   "outputs": [],
   "source": [
    "plt.figure(figsize=(20,8))\n",
    "shap.summary_plot(explanation.values[:,:,1], features=train_data.drop(columns=[\"Target\"]))"
   ]
  },
  {
   "cell_type": "code",
   "execution_count": null,
   "id": "5488dc04-21ea-4b10-8068-09dff9f2abb0",
   "metadata": {},
   "outputs": [],
   "source": [
    "shap.plots.waterfall(explanation[6,:,1], max_display=20)"
   ]
  },
  {
   "cell_type": "code",
   "execution_count": null,
   "id": "19003a35-7da8-4321-bb61-3ebd4fce66d3",
   "metadata": {},
   "outputs": [],
   "source": []
  },
  {
   "cell_type": "code",
   "execution_count": null,
   "id": "5b9395bc-b4cd-473e-9ae4-cc0d580b1131",
   "metadata": {},
   "outputs": [],
   "source": []
  },
  {
   "cell_type": "code",
   "execution_count": null,
   "id": "55afe48e-4e51-45ab-94ba-1bd0f90909e8",
   "metadata": {},
   "outputs": [],
   "source": []
  },
  {
   "cell_type": "code",
   "execution_count": null,
   "id": "022a0e57-ef75-4594-901a-13635e8daefd",
   "metadata": {},
   "outputs": [],
   "source": []
  },
  {
   "cell_type": "code",
   "execution_count": null,
   "id": "63fa7586-8c40-420b-bcf8-da4773038750",
   "metadata": {},
   "outputs": [],
   "source": []
  },
  {
   "cell_type": "code",
   "execution_count": null,
   "id": "bc8f5c8d-f642-41e9-a27a-99285460ac5b",
   "metadata": {},
   "outputs": [],
   "source": []
  },
  {
   "cell_type": "code",
   "execution_count": null,
   "id": "cf585f4b-5f81-4cf1-aaf0-4faaadbd48c4",
   "metadata": {},
   "outputs": [],
   "source": []
  },
  {
   "cell_type": "code",
   "execution_count": null,
   "id": "13a79935-69bf-42f0-9c6e-a7a02efbaee1",
   "metadata": {},
   "outputs": [],
   "source": []
  },
  {
   "cell_type": "code",
   "execution_count": null,
   "id": "9f8290ba-64bc-4175-bc1d-f489f5674c27",
   "metadata": {},
   "outputs": [],
   "source": []
  },
  {
   "cell_type": "code",
   "execution_count": null,
   "id": "d56811b4-8ae7-4926-8297-4dee01b99638",
   "metadata": {},
   "outputs": [],
   "source": []
  },
  {
   "cell_type": "code",
   "execution_count": null,
   "id": "bd598c32-ebfb-474c-aaf2-208a5e362c96",
   "metadata": {},
   "outputs": [],
   "source": []
  },
  {
   "cell_type": "code",
   "execution_count": null,
   "id": "7666ae33-c641-4a85-bec9-10f133eb5319",
   "metadata": {},
   "outputs": [],
   "source": []
  },
  {
   "cell_type": "code",
   "execution_count": null,
   "id": "3d619233-079b-49fe-8efc-250795f28328",
   "metadata": {},
   "outputs": [],
   "source": []
  }
 ],
 "metadata": {
  "kernelspec": {
   "display_name": "Python 3 (ipykernel)",
   "language": "python",
   "name": "python3"
  },
  "language_info": {
   "codemirror_mode": {
    "name": "ipython",
    "version": 3
   },
   "file_extension": ".py",
   "mimetype": "text/x-python",
   "name": "python",
   "nbconvert_exporter": "python",
   "pygments_lexer": "ipython3",
   "version": "3.9.13"
  }
 },
 "nbformat": 4,
 "nbformat_minor": 5
}
