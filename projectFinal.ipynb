{
 "cells": [
  {
   "cell_type": "markdown",
   "id": "9b3c00db",
   "metadata": {},
   "source": [
    "# 1. Import libraries"
   ]
  },
  {
   "cell_type": "code",
   "execution_count": null,
   "id": "d421e9ec",
   "metadata": {},
   "outputs": [],
   "source": [
    "# data manipulation and plotting tools\n",
    "import matplotlib.pyplot as plt\n",
    "import numpy as np\n",
    "import pandas as pd\n",
    "\n",
    "# data processing\n",
    "from category_encoders.one_hot import OneHotEncoder\n",
    "from category_encoders.ordinal import OrdinalEncoder\n",
    "from category_encoders.target_encoder import TargetEncoder\n",
    "from sklearn.preprocessing import MinMaxScaler, RobustScaler,LabelEncoder\n",
    "\n",
    "# algorithms\n",
    "from sklearn.tree import DecisionTreeClassifier, plot_tree\n",
    "from sklearn.neighbors import KNeighborsClassifier\n",
    "from sklearn.linear_model import LogisticRegression\n",
    "\n",
    "# model selection tools\n",
    "from sklearn.model_selection import train_test_split, GridSearchCV, RandomizedSearchCV\n",
    "\n",
    "# metrics\n",
    "from sklearn.metrics import classification_report, ConfusionMatrixDisplay, confusion_matrix\n",
    "\n",
    "# explainability\n",
    "import shap\n",
    "\n",
    "#visual\n",
    "import seaborn as sns\n",
    "\n",
    "from scipy.stats import chi2_contingency\n",
    "\n",
    "#MostrarMas\n",
    "pd.set_option('display.max_columns', None)"
   ]
  },
  {
   "cell_type": "markdown",
   "id": "5b651b7c",
   "metadata": {},
   "source": [
    "# 2. Load the dataset"
   ]
  },
  {
   "cell_type": "code",
   "execution_count": null,
   "id": "3147389c-5ebe-4fbe-85c1-5f42976ef414",
   "metadata": {},
   "outputs": [],
   "source": [
    "data = pd.read_csv('churn.csv')"
   ]
  },
  {
   "cell_type": "code",
   "execution_count": null,
   "id": "a68fae19-1285-4301-8f9a-133c6e5147ff",
   "metadata": {},
   "outputs": [],
   "source": [
    "data.head()\n"
   ]
  },
  {
   "cell_type": "code",
   "execution_count": null,
   "id": "5786331a-5d32-4545-99d1-6203e0a17e86",
   "metadata": {},
   "outputs": [],
   "source": [
    "data.info()"
   ]
  },
  {
   "cell_type": "markdown",
   "id": "94162f42",
   "metadata": {},
   "source": [
    "# 3. Data Splitting"
   ]
  },
  {
   "cell_type": "code",
   "execution_count": null,
   "id": "d4393443",
   "metadata": {},
   "outputs": [],
   "source": [
    "#X_trainin, X_test, y_train, y_test = train_test_split(X, y, test_size=0.2, random_state=42)"
   ]
  },
  {
   "cell_type": "markdown",
   "id": "9184a719",
   "metadata": {},
   "source": [
    "# 4. Exploratory Data Analysis"
   ]
  },
  {
   "cell_type": "code",
   "execution_count": null,
   "id": "8cb1c9ea-8988-4673-9604-4cb7cf5e5532",
   "metadata": {},
   "outputs": [],
   "source": [
    "# Your code here. Exploratory data analysis can be done before splitting, but do not transform the dataset before splitting.\n",
    "data.info() #No valores nulos \n"
   ]
  },
  {
   "cell_type": "code",
   "execution_count": null,
   "id": "0fdf26b2-c42e-4e39-bfef-97a6fee31442",
   "metadata": {},
   "outputs": [],
   "source": [
    "missing_percentage_Offer = (data['Offer'].isnull().sum() / len(data)) * 100\n",
    "print(f\"Porcentaje de valores faltantes en la columna 'Offer': {missing_percentage_Offer:.2f}%\")"
   ]
  },
  {
   "cell_type": "code",
   "execution_count": null,
   "id": "8f2a6c4f-d8ff-4b34-80da-9520916b9930",
   "metadata": {},
   "outputs": [],
   "source": [
    "missing_percentage_Internet_Type = (data['Internet Type'].isnull().sum() / len(data)) * 100\n",
    "print(f\"Porcentaje de valores faltantes en la columna 'Internet Type': {missing_percentage_Internet_Type:.2f}%\")"
   ]
  },
  {
   "cell_type": "code",
   "execution_count": null,
   "id": "f0abd519-4d49-4d54-9c0c-6eaf4740f524",
   "metadata": {},
   "outputs": [],
   "source": [
    "#Estructura de los datos y resumen:  El dataset original tiene 50 columnas,\n",
    "#con variables de datos demográficos, geográficas, con información sobre los servicios,\n",
    "#datos financieros, y satisfacción y comportamiento del cliente.\n",
    "#Análisis de datos faltantes: Las siguientes columnas tienen valores faltantes:  Offer (55,05%)  e Internet Type (21,67%) \n",
    "#Esta información está relacionada con los clientes que se han dado de baja, y se van a ir evaluando a medida que \n",
    "#se realice el estudio del dataset"
   ]
  },
  {
   "cell_type": "markdown",
   "id": "d9a41642-a097-4d87-9e1f-8b0cee46b8c9",
   "metadata": {},
   "source": [
    "#### Estudio edades"
   ]
  },
  {
   "cell_type": "code",
   "execution_count": null,
   "id": "e6fc4413-7bc7-42df-8f7a-5c32e42de996",
   "metadata": {},
   "outputs": [],
   "source": [
    "mean_age = data['Age'].mean()\n",
    "print(f\"La media de la edad es: {mean_age}\")"
   ]
  },
  {
   "cell_type": "code",
   "execution_count": null,
   "id": "2491f775-6a53-441d-93a3-91c3cd01b1a1",
   "metadata": {},
   "outputs": [],
   "source": [
    "plt.figure(figsize=(10, 6))\n",
    "sns.histplot(data['Age'], bins=20, kde=True, color='skyblue')\n",
    "plt.title('Distribución de la Edad de los Clientes')\n",
    "plt.xlabel('Edad')\n",
    "plt.ylabel('Frecuencia')\n",
    "plt.show()"
   ]
  },
  {
   "cell_type": "code",
   "execution_count": null,
   "id": "cd7357c1-ca46-491b-a139-76b42b002329",
   "metadata": {},
   "outputs": [],
   "source": [
    "mean_age = data['Age'].mean()\n",
    "print(f\"La media de la edad es: {mean_age}\")"
   ]
  },
  {
   "cell_type": "code",
   "execution_count": null,
   "id": "b6465877-d0e4-4d03-a722-3af6bd362e22",
   "metadata": {},
   "outputs": [],
   "source": [
    "#Los rangos de edad están desde los 19 a 80 años, siendo la media alrededor de los 46.50 años"
   ]
  },
  {
   "cell_type": "code",
   "execution_count": null,
   "id": "6fdef23e-cc7a-4551-bffc-75986e99016f",
   "metadata": {},
   "outputs": [],
   "source": [
    "sns.histplot(data['Tenure in Months'])\n",
    "plt.show()"
   ]
  },
  {
   "cell_type": "code",
   "execution_count": null,
   "id": "ff36f8a2-c6e9-4e4d-b82e-ed61a1826af3",
   "metadata": {},
   "outputs": [],
   "source": [
    "data['Tenure in Months'].describe()"
   ]
  },
  {
   "cell_type": "code",
   "execution_count": null,
   "id": "258b5f52-cb47-4e6e-878b-52956c00b833",
   "metadata": {},
   "outputs": [],
   "source": [
    "sns.histplot(data[\"Number of Dependents\"])\n",
    "plt.show()\n"
   ]
  },
  {
   "cell_type": "code",
   "execution_count": null,
   "id": "3b282705",
   "metadata": {},
   "outputs": [],
   "source": [
    "data[\"Multiple Lines\"].value_counts(normalize=True)"
   ]
  },
  {
   "cell_type": "code",
   "execution_count": null,
   "id": "552ba4c6-0fea-4fb3-badf-b562ff435c40",
   "metadata": {},
   "outputs": [],
   "source": [
    "# Crear tabla de contingencia\n",
    "tabla_contingencia_multiple_lines = pd.crosstab(data['Multiple Lines'], data['Churn Label'])\n",
    "\n",
    "# Aplicar la prueba Chi-cuadrado\n",
    "chi2_multiple_lines, p_multiple_lines, dof_multiple_lines, expected_multiple_lines = chi2_contingency(tabla_contingencia_multiple_lines)\n",
    "\n",
    "# Calcular el índice de Cramér\n",
    "n_multiple_lines = data.shape[0]  # número de observaciones\n",
    "cramer_v_multiple_lines = np.sqrt(chi2_multiple_lines / (n_multiple_lines * (min(tabla_contingencia_multiple_lines.shape) - 1)))\n",
    "\n",
    "# Mostrar resultados\n",
    "print(f\"Chi-cuadrado: {chi2_multiple_lines}\")\n",
    "print(f\"Valor p: {p_multiple_lines}\")\n",
    "print(f\"Índice de Cramér: {cramer_v_multiple_lines}\")\n"
   ]
  },
  {
   "cell_type": "code",
   "execution_count": null,
   "id": "2d2f40d3",
   "metadata": {},
   "outputs": [],
   "source": [
    "data[\"Satisfaction Score\"].value_counts()"
   ]
  },
  {
   "cell_type": "code",
   "execution_count": null,
   "id": "9330bf22-bae5-4a5c-9285-8518c54fbf5b",
   "metadata": {},
   "outputs": [],
   "source": [
    "data.groupby(\"Satisfaction Score\")[\"Churn Label\"].value_counts(normalize=True)\n",
    "\n",
    "##Relevante, vale la pena hacer feature Engineering"
   ]
  },
  {
   "cell_type": "code",
   "execution_count": null,
   "id": "1eeea49f",
   "metadata": {},
   "outputs": [],
   "source": [
    "data[\"Customer Status\"].value_counts"
   ]
  },
  {
   "cell_type": "code",
   "execution_count": null,
   "id": "3ec8ab44",
   "metadata": {},
   "outputs": [],
   "source": [
    "data[\"Customer Status\"].value_counts(normalize=\"True\")"
   ]
  },
  {
   "cell_type": "code",
   "execution_count": null,
   "id": "4d4fdd72",
   "metadata": {},
   "outputs": [],
   "source": [
    "data[\"Churn Label\"].value_counts(normalize=\"True\")"
   ]
  },
  {
   "cell_type": "code",
   "execution_count": null,
   "id": "c95fed18",
   "metadata": {},
   "outputs": [],
   "source": [
    "data[\"Payment Method\"].value_counts(normalize=True) ##Mas de la mitad son por Bank"
   ]
  },
  {
   "cell_type": "code",
   "execution_count": null,
   "id": "d823a9d4-dfbd-4b10-b9b3-50b9c54a6316",
   "metadata": {},
   "outputs": [],
   "source": [
    "# Crear el DataFrame a partir de tus datos\n",
    "data_frame = {'Payment Method': ['Bank Withdrawal', 'Bank Withdrawal', 'Credit Card', 'Credit Card', 'Mailed Check', 'Mailed Check'],\n",
    "        'Churn Label': ['No', 'Yes', 'No', 'Yes', 'No', 'Yes'],\n",
    "        'Proportion': [0.660015, 0.339985, 0.855220, 0.144780, 0.631169, 0.368831]}\n",
    "\n",
    "df = pd.DataFrame(data_frame)\n",
    "\n",
    "# Pivotar la tabla para que Churn Label sea la columna\n",
    "pivot_df = df.pivot(index='Payment Method', columns='Churn Label', values='Proportion')\n",
    "\n",
    "# Graficar barras apiladas\n",
    "pivot_df.plot(kind='bar', stacked=True)\n",
    "\n",
    "plt.title('Proporción de Churn por Método de Pago')\n",
    "plt.ylabel('Proporción')\n",
    "plt.xticks(rotation=45)\n",
    "plt.show()"
   ]
  },
  {
   "cell_type": "code",
   "execution_count": null,
   "id": "96c35d25",
   "metadata": {},
   "outputs": [],
   "source": [
    "data[(data[\"Total Refunds\"]!=0) & (data[\"Churn Label\"]==\"Yes\")] ## Ver cuan relacionado esta que haya reembolsos con el churn"
   ]
  },
  {
   "cell_type": "code",
   "execution_count": null,
   "id": "eb30d303",
   "metadata": {},
   "outputs": [],
   "source": [
    "value_counts = data[\"Total Extra Data Charges\"].value_counts()\n",
    "\n",
    "# Convierte el resultado de value_counts a un DataFrame para facilitar la visualización\n",
    "df = value_counts.reset_index()\n",
    "df.columns = ['Total Extra Data Charges', 'Count']\n",
    "df"
   ]
  },
  {
   "cell_type": "markdown",
   "id": "bcd79cb8-0e60-497a-aa69-8dae12e5f553",
   "metadata": {},
   "source": [
    "#### Estudio breve "
   ]
  },
  {
   "cell_type": "code",
   "execution_count": null,
   "id": "8467d4e4",
   "metadata": {},
   "outputs": [],
   "source": [
    "plt.figure(figsize=(15, 6))  # Ajusta el valor 15 para hacerla aún más ancha si lo necesitas\n",
    "plt.bar(df['Total Extra Data Charges'], df['Count'], color='skyblue')\n",
    "plt.xlabel('Total Extra Data Charges')\n",
    "plt.ylabel('Count')\n",
    "plt.title('Distribution of Total Extra Data Charges')\n",
    "plt.xticks(rotation=45)\n",
    "plt.grid(axis='y', linestyle='--', alpha=0.7)\n",
    "plt.show()\n"
   ]
  },
  {
   "cell_type": "code",
   "execution_count": null,
   "id": "ea5c697f-2fa8-4be6-9bc6-0c4813f03f8d",
   "metadata": {},
   "outputs": [],
   "source": [
    "sns.histplot(data[\"Total Extra Data Charges\"], bins=140)\n",
    "plt.show()"
   ]
  },
  {
   "cell_type": "code",
   "execution_count": null,
   "id": "fe01c459-9cb6-42a0-a79a-8303180a97d0",
   "metadata": {},
   "outputs": [],
   "source": [
    "sns.histplot(data['Total Charges'])\n",
    "plt.show()"
   ]
  },
  {
   "cell_type": "code",
   "execution_count": null,
   "id": "df06ab30-a8ed-426a-b899-1ab84068a8aa",
   "metadata": {},
   "outputs": [],
   "source": [
    "sns.histplot(data['Total Revenue'])\n",
    "plt.show()"
   ]
  },
  {
   "cell_type": "code",
   "execution_count": null,
   "id": "7f8d50cb",
   "metadata": {},
   "outputs": [],
   "source": [
    "data[\"Referred a Friend\"].value_counts()"
   ]
  },
  {
   "cell_type": "code",
   "execution_count": null,
   "id": "6a1dd86a-7435-4e6a-9c77-cfcb3f6bd03e",
   "metadata": {},
   "outputs": [],
   "source": [
    "sns.histplot(data['Satisfaction Score'],bins = 5) ## por lo general es una satisfaccion alta\n",
    "plt.show()"
   ]
  },
  {
   "cell_type": "code",
   "execution_count": null,
   "id": "549d5efd",
   "metadata": {},
   "outputs": [],
   "source": [
    "data[\"Premium Tech Support\"].value_counts()"
   ]
  },
  {
   "cell_type": "code",
   "execution_count": null,
   "id": "b4d6d1b2",
   "metadata": {},
   "outputs": [],
   "source": [
    "contingency_table = pd.crosstab(data['Premium Tech Support'], data['Churn Label'])\n",
    "print(contingency_table)"
   ]
  },
  {
   "cell_type": "code",
   "execution_count": null,
   "id": "3ce2ab2b",
   "metadata": {},
   "outputs": [],
   "source": [
    "data['Country'].value_counts()"
   ]
  },
  {
   "cell_type": "code",
   "execution_count": null,
   "id": "82fa6156",
   "metadata": {},
   "outputs": [],
   "source": [
    "columns_to_analyze = [\n",
    "    'Offer', \n",
    "    'Phone Service', \n",
    "    'Avg Monthly Long Distance Charges', \n",
    "    'Multiple Lines', \n",
    "    'Internet Service', \n",
    "    'Avg Monthly GB Download', \n",
    "    'Online Security'\n",
    "]"
   ]
  },
  {
   "cell_type": "code",
   "execution_count": null,
   "id": "0fc345f4",
   "metadata": {},
   "outputs": [],
   "source": [
    "filtered_data = data[columns_to_analyze]"
   ]
  },
  {
   "cell_type": "code",
   "execution_count": null,
   "id": "dbf4b0f3",
   "metadata": {},
   "outputs": [],
   "source": [
    "filtered_data_summary = filtered_data.describe(include='all')\n",
    "\n",
    "filtered_data_summary"
   ]
  },
  {
   "cell_type": "code",
   "execution_count": null,
   "id": "928ee918",
   "metadata": {},
   "outputs": [],
   "source": [
    "sns.set(style=\"whitegrid\")\n",
    "fig, axes = plt.subplots(2, 2, figsize=(14, 12))\n",
    "# 1. Gráfico de barras para Offer y Phone Service\n",
    "sns.countplot(ax=axes[0, 0], data=filtered_data, x='Offer', hue='Phone Service')\n",
    "axes[0, 0].set_title('Distribución de Ofertas según el Servicio de Teléfono')\n",
    "axes[0, 0].set_ylabel('Cantidad de clientes')\n",
    "axes[0, 0].set_xlabel('Oferta')\n",
    "\n",
    "# 2. Gráfico de violín para Internet Service y Avg Monthly GB Download\n",
    "sns.violinplot(ax=axes[0, 1], data=filtered_data, x='Internet Service', y='Avg Monthly GB Download')\n",
    "axes[0, 1].set_title('Relación entre Servicio de Internet y GB Descargados')\n",
    "axes[0, 1].set_ylabel('Promedio de GB descargados mensualmente')\n",
    "axes[0, 1].set_xlabel('Servicio de internet')\n",
    "\n",
    "# 3. Gráfico de dispersión para Avg Monthly Long Distance Charges y Multiple Lines\n",
    "sns.boxplot(ax=axes[1, 0], data=filtered_data, x='Multiple Lines', y='Avg Monthly Long Distance Charges')\n",
    "axes[1, 0].set_title('Distribución de cargos larga distancia por múltiples líneas')\n",
    "axes[1, 0].set_ylabel('Cargos mensuales por larga distancia')\n",
    "axes[1, 0].set_xlabel('Múltiples líneas')\n",
    "\n",
    "# 4. Gráfico de caja para Online Security y Avg Monthly GB Download\n",
    "sns.boxplot(ax=axes[1, 1], data=filtered_data, x='Online Security', y='Avg Monthly GB Download')\n",
    "axes[1, 1].set_title('Relación entre Seguridad en Línea y GB Descargados')\n",
    "axes[1, 1].set_ylabel('Promedio de GB descargados mensualmente')\n",
    "axes[1, 1].set_xlabel('Seguridad en línea')\n",
    "\n",
    "plt.tight_layout()\n",
    "plt.show()"
   ]
  },
  {
   "cell_type": "code",
   "execution_count": null,
   "id": "9b3d8725",
   "metadata": {},
   "outputs": [],
   "source": [
    "# 1\n",
    "# Distribución de Ofertas según el Servicio de Teléfono: \n",
    "# La mayoría de los clientes no tienen ninguna oferta activa (\"None\")\n",
    "# para quienes tienen servicio de teléfono como para los que no lo tienen\n",
    "# los clientes con servicio de teléfono son más en todas las categorías de oferta\n",
    "# 2\n",
    "# Relación entre el Servicio de Internet y los GB Descargados: \n",
    "# Los clientes con servicio de internet muestran una amplia distribución en la cantidad de GB descargados por mes\n",
    "# la mediana está en 17 GB\n",
    "# los que no tienen servicio de internet muestran valores cercanos a 0 GB\n",
    "# 3\n",
    "# Distribución de Cargos de Larga Distancia por Múltiples Líneas: \n",
    "# Los clientes con múltiples líneas suelen tener cargos de larga distancia un poco más altos \n",
    "# comparando con los que no tienen múltiples líneas\n",
    "# los cargos están bien distribuidos en las categorías\n",
    "# 4\n",
    "# Relación entre Seguridad en Línea y GB Descargados: \n",
    "# Los clientes que no tienen seguridad en línea tienden a descargar más GB mensualmente en comparación con los que sí \n",
    "# los clientes que buscan mayor seguridad en línea no utilizan tanto la capacidad de internet"
   ]
  },
  {
   "cell_type": "markdown",
   "id": "bb01e7cc-d307-40a5-8b8d-1b45ff82b50f",
   "metadata": {},
   "source": [
    "#### Estudio de correlacion"
   ]
  },
  {
   "cell_type": "code",
   "execution_count": null,
   "id": "50965aec-f091-477b-81f4-1b48cd2c4517",
   "metadata": {},
   "outputs": [],
   "source": [
    "numerical_columns = ['Age', 'Number of Dependents',\n",
    "       'Population', 'Number of Referrals', 'Tenure in Months',\n",
    "       'Avg Monthly Long Distance Charges', 'Avg Monthly GB Download',\n",
    "       'Monthly Charge', 'Total Charges', 'Total Refunds',\n",
    "       'Total Extra Data Charges', 'Total Long Distance Charges',\n",
    "       'Total Revenue', 'Satisfaction Score',\n",
    "       ]"
   ]
  },
  {
   "cell_type": "code",
   "execution_count": null,
   "id": "b035ceb3-382d-4828-a5d1-84d02bdbbc03",
   "metadata": {
    "scrolled": true
   },
   "outputs": [],
   "source": [
    "#corr calcula coeficiente de correlacion de pearson, y solo toma las numericas\n",
    "sns.heatmap(data[numerical_columns].corr(), annot=True, fmt=\".2f\")"
   ]
  },
  {
   "cell_type": "markdown",
   "id": "772ee59c",
   "metadata": {},
   "source": [
    "# 5. Data Processing"
   ]
  },
  {
   "cell_type": "markdown",
   "id": "afbb6053-b9cc-4d26-b9b5-63890979c145",
   "metadata": {},
   "source": [
    "## Data Cleaning"
   ]
  },
  {
   "cell_type": "code",
   "execution_count": null,
   "id": "0e74ff5d-7d62-4c2a-ab8c-70eaa58b435a",
   "metadata": {},
   "outputs": [],
   "source": [
    "# Your code here\n",
    "data.info()\n",
    "ColumnsDrop=[\"Customer ID\",\"Under 30\",\"Senior Citizen\",\"Country\",\"State\",\"City\",\"Latitude\",\"Longitude\",\"Quarter\",\"Churn Category\",\"Churn Score\",\"CLTV\",\"Churn Reason\",\"Customer Status\"]"
   ]
  },
  {
   "cell_type": "code",
   "execution_count": null,
   "id": "b1aa8b1a",
   "metadata": {},
   "outputs": [],
   "source": [
    "data = data.drop(ColumnsDrop,axis=1)"
   ]
  },
  {
   "cell_type": "code",
   "execution_count": null,
   "id": "7c61babb-db9b-4115-bc6a-ff6f690c10ac",
   "metadata": {},
   "outputs": [],
   "source": [
    "data.info()"
   ]
  },
  {
   "cell_type": "code",
   "execution_count": null,
   "id": "0c444413-fce5-40d8-924f-4c2dcdd1acba",
   "metadata": {},
   "outputs": [],
   "source": [
    "data[\"Contract\"].value_counts()"
   ]
  },
  {
   "cell_type": "code",
   "execution_count": null,
   "id": "2dbb7995-8222-43bc-ba20-8f79090205a8",
   "metadata": {},
   "outputs": [],
   "source": [
    " ## Limpiar los datos Internet Type, offer\n",
    "data[\"Internet Type\"].value_counts()"
   ]
  },
  {
   "cell_type": "code",
   "execution_count": null,
   "id": "6f45469b-330f-4955-a371-a809c1a40403",
   "metadata": {},
   "outputs": [],
   "source": [
    "data[\"Internet Type\"].isnull().sum()"
   ]
  },
  {
   "cell_type": "code",
   "execution_count": null,
   "id": "482292c6-d4e8-4ae8-adb9-eef722ff959a",
   "metadata": {},
   "outputs": [],
   "source": [
    "data[(data[\"Internet Type\"].isnull())&((data[\"Internet Service\"]==0))]"
   ]
  },
  {
   "cell_type": "code",
   "execution_count": null,
   "id": "f352a6d6-13d7-4a38-b82c-661bea5b74a2",
   "metadata": {},
   "outputs": [],
   "source": [
    "data['Internet Type'] = data['Internet Type'].fillna(\"No Internet\")\n",
    "data[\"Internet Type\"].isnull().sum()"
   ]
  },
  {
   "cell_type": "code",
   "execution_count": null,
   "id": "8038a0e1",
   "metadata": {},
   "outputs": [],
   "source": [
    "data[\"Offer\"].value_counts()"
   ]
  },
  {
   "cell_type": "code",
   "execution_count": null,
   "id": "19ea6a97-a48d-4831-908c-ca16ba20b8b4",
   "metadata": {},
   "outputs": [],
   "source": [
    "data[\"Offer\"].isnull().sum()"
   ]
  },
  {
   "cell_type": "code",
   "execution_count": null,
   "id": "466f13d6",
   "metadata": {},
   "outputs": [],
   "source": [
    "data['Offer'] = data['Offer'].fillna(\"No Offer\")"
   ]
  },
  {
   "cell_type": "code",
   "execution_count": null,
   "id": "4740ac2f-c922-4c2d-a7f6-1f134aba2a91",
   "metadata": {},
   "outputs": [],
   "source": [
    "data[\"Offer\"].isnull().sum()"
   ]
  },
  {
   "cell_type": "code",
   "execution_count": null,
   "id": "fd703a27-6365-47d7-9efd-29d4abd8c755",
   "metadata": {},
   "outputs": [],
   "source": [
    "data.info()## No nulos"
   ]
  },
  {
   "cell_type": "markdown",
   "id": "f1e2f2df-30e8-484a-aac9-0c757fefae85",
   "metadata": {},
   "source": [
    "## Re-sampling (if needed)"
   ]
  },
  {
   "cell_type": "code",
   "execution_count": null,
   "id": "b51b578f-d2fd-4bdc-a519-974ef0695b11",
   "metadata": {},
   "outputs": [],
   "source": [
    "\n",
    "data[\"Churn Label\"].value_counts(normalize=True)\n",
    "##No necesario el re-sampling\n",
    "## Hay suficientos datos para que el programa aprenda\n"
   ]
  },
  {
   "cell_type": "markdown",
   "id": "c81ccf11-b51b-4f6e-8080-d56caa674840",
   "metadata": {},
   "source": [
    "## Feature Engineering"
   ]
  },
  {
   "cell_type": "code",
   "execution_count": null,
   "id": "1bfc1c00-b497-4bbe-b63d-d32db25552be",
   "metadata": {},
   "outputs": [],
   "source": [
    "# Your code here\n",
    "data[\"Age_cuartiles\"] = pd.qcut(data['Age'], q=4)\n",
    "data[\"Age_cuartiles\"].value_counts()"
   ]
  },
  {
   "cell_type": "code",
   "execution_count": null,
   "id": "3935f25a-eed4-4bc8-814a-20be0ec8f357",
   "metadata": {},
   "outputs": [],
   "source": [
    "# Agrupar por los cuartiles de edad y contar los valores normalizados (proporciones) de \"Churn Label\"\n",
    "proporciones = data.groupby(\"Age_cuartiles\")[\"Churn Label\"].value_counts(normalize=True)\n",
    "\n",
    "# Mostrar el resultado\n",
    "print(proporciones)\n",
    "\n",
    "## Los grupos mayores son mas propensos a caer en churn"
   ]
  },
  {
   "cell_type": "code",
   "execution_count": null,
   "id": "af41fe99-17bd-4636-b5e4-f48b0c34570b",
   "metadata": {},
   "outputs": [],
   "source": [
    "# Crear una nueva columna categórica para los niveles de satisfacción\n",
    "data['Satisfaction_Level'] = pd.cut(data['Satisfaction Score'], \n",
    "                                    bins=[0, 2, 3, 5],  # Límites de los grupos\n",
    "                                    labels=['Baja', 'Media', 'Alta'])  # Nombres de los grupos\n",
    "\n",
    "# Ver el resultado agrupado\n",
    "print(data.groupby('Satisfaction_Level')[\"Churn Label\"].value_counts(normalize=True))"
   ]
  },
  {
   "cell_type": "code",
   "execution_count": null,
   "id": "8e39b0fb-4e4f-4104-b5b0-a27130308003",
   "metadata": {},
   "outputs": [],
   "source": [
    "# Crear una tabla de contingencia entre los niveles de satisfacción y el churn\n",
    "tabla_contingencia_satisfaction = pd.crosstab(data['Satisfaction_Level'], data['Churn Label'])\n",
    "\n",
    "# Aplicar la prueba Chi-cuadrado\n",
    "chi2_satisfaction, p_satisfaction, dof_satisfaction, expected_satisfaction = chi2_contingency(tabla_contingencia_satisfaction)\n",
    "\n",
    "# Calcular el índice de Cramér\n",
    "n_satisfaction = data.shape[0]  # número de observaciones\n",
    "cramer_v_satisfaction = np.sqrt(chi2_satisfaction / (n_satisfaction * (min(tabla_contingencia_satisfaction.shape) - 1)))\n",
    "\n",
    "# Mostrar resultados\n",
    "print(f\"Chi-cuadrado: {chi2_satisfaction}\")\n",
    "print(f\"Valor p: {p_satisfaction}\")\n",
    "print(f\"Índice de Cramér: {cramer_v_satisfaction}\")\n"
   ]
  },
  {
   "cell_type": "code",
   "execution_count": null,
   "id": "486c9d96-0d23-41cc-b74c-2faec4107cb1",
   "metadata": {},
   "outputs": [],
   "source": [
    "##ANALISIS DE CORRELACION ENTRE SATISFACTION LEVEL Y CHURN LABEL"
   ]
  },
  {
   "cell_type": "markdown",
   "id": "e840096d-4a2a-4545-bf4c-5a744316a3ee",
   "metadata": {},
   "source": [
    "## Encoding"
   ]
  },
  {
   "cell_type": "code",
   "execution_count": null,
   "id": "628aa2ce-89e7-4587-bc29-9aee07931da7",
   "metadata": {},
   "outputs": [],
   "source": [
    "labelEncoderColumns = [\"Paperless Billing\",\"Churn Label\",\"Gender\",\"Married\",\"Dependents\",\"Referred a Friend\",\"Phone Service\",\"Multiple Lines\",\"Internet Service\",\"Online Security\",\"Online Backup\",\"Device Protection Plan\",\"Premium Tech Support\",\"Streaming TV\",\"Streaming Movies\",\"Streaming Music\",\"Unlimited Data\"]\n",
    "OneHotEncoderColumns = [\"Offer\",\"Internet Type\",\"Contract\",\"Payment Method\"]\n",
    "OrdinalEncoderColumns = [\"Age_cuartiles\",\"Satisfaction_Level\"]\n",
    "#Offer,Internet Type,Contract,Payment Method\n"
   ]
  },
  {
   "cell_type": "code",
   "execution_count": null,
   "id": "68613e91-dfd7-4750-a6eb-e9a59013d8ee",
   "metadata": {},
   "outputs": [],
   "source": [
    "label_encoder = LabelEncoder()"
   ]
  },
  {
   "cell_type": "code",
   "execution_count": null,
   "id": "09392870-9362-4ac5-b5dd-4aff7ad74ee7",
   "metadata": {},
   "outputs": [],
   "source": [
    "for col in labelEncoderColumns:\n",
    "    data[col] = label_encoder.fit_transform(data[col])\n"
   ]
  },
  {
   "cell_type": "code",
   "execution_count": null,
   "id": "d48f0c6d-b2ea-4399-956c-62d4d308b0f6",
   "metadata": {},
   "outputs": [],
   "source": [
    "print(label_encoder.classes_)"
   ]
  },
  {
   "cell_type": "code",
   "execution_count": null,
   "id": "34fb5bb3-b99e-4202-8df5-85170b69515f",
   "metadata": {},
   "outputs": [],
   "source": [
    "data.info()"
   ]
  },
  {
   "cell_type": "code",
   "execution_count": null,
   "id": "f297b681-1ebd-4fa3-bbfc-73a1413bb6bf",
   "metadata": {},
   "outputs": [],
   "source": [
    "oh_encoder = OneHotEncoder(cols = OneHotEncoderColumns, use_cat_names=True)"
   ]
  },
  {
   "cell_type": "code",
   "execution_count": null,
   "id": "3ae53d51-5b82-4ea1-b7ec-012b5d11211e",
   "metadata": {},
   "outputs": [],
   "source": [
    "oh_encoder.fit(data)"
   ]
  },
  {
   "cell_type": "code",
   "execution_count": null,
   "id": "51ff243f",
   "metadata": {},
   "outputs": [],
   "source": [
    "data = oh_encoder.transform(data)"
   ]
  },
  {
   "cell_type": "code",
   "execution_count": null,
   "id": "90f1aeb4-aa95-4817-8535-aa52ef9427a8",
   "metadata": {},
   "outputs": [],
   "source": [
    "data.columns"
   ]
  },
  {
   "cell_type": "code",
   "execution_count": null,
   "id": "58158ba5-8821-44da-a5f0-f8b4bcaa6c03",
   "metadata": {},
   "outputs": [],
   "source": [
    "data.info()\n",
    "\n",
    "columnas = [\"Gender\",\"Age\",\"Married\",\"Number of Dependents\",\"Referred a Friend\",\"Tenure in Months\"]\n",
    "\n",
    "columnasModelo = ['Gender', 'Age', 'Married', 'Number of Dependents',\n",
    "        'Referred a Friend',\n",
    "       'Tenure in Months', 'Offer_No Offer', 'Offer_Offer E', 'Offer_Offer D',\n",
    "       'Offer_Offer C', 'Offer_Offer B', 'Offer_Offer A', 'Phone Service',\n",
    "       'Avg Monthly Long Distance Charges', 'Multiple Lines',\n",
    "       'Internet Service', 'Internet Type_DSL', 'Internet Type_Fiber Optic',\n",
    "       'Internet Type_Cable', 'Internet Type_No Internet',\n",
    "       'Avg Monthly GB Download', 'Online Security', 'Online Backup',\n",
    "       'Device Protection Plan', 'Premium Tech Support', 'Streaming TV',\n",
    "       'Streaming Movies', 'Streaming Music', 'Unlimited Data',\n",
    "       'Contract_Month-to-Month', 'Contract_One Year', 'Contract_Two Year',\n",
    "       'Paperless Billing', 'Payment Method_Bank Withdrawal',\n",
    "       'Payment Method_Credit Card', 'Payment Method_Mailed Check',\n",
    "       'Monthly Charge', 'Total Charges', 'Total Refunds',\n",
    "       'Total Extra Data Charges', 'Total Long Distance Charges',\n",
    "       'Total Revenue', 'Satisfaction Score', 'Churn Label']"
   ]
  },
  {
   "cell_type": "code",
   "execution_count": null,
   "id": "64f9ca8d-aca8-4330-b77a-c2404b40e699",
   "metadata": {},
   "outputs": [],
   "source": [
    "data[\"Satisfaction_Level\"].value_counts()"
   ]
  },
  {
   "cell_type": "code",
   "execution_count": null,
   "id": "5420c508-db78-467f-b30c-1428dc56dd86",
   "metadata": {},
   "outputs": [],
   "source": [
    "ordinal_encoder = OrdinalEncoder(\n",
    "    cols=OrdinalEncoderColumns,\n",
    "    mapping=[\n",
    "        {\n",
    "            \"col\": \"Age_cuartiles\",\n",
    "            \"mapping\": {\"(18.999, 32.0]\": 0, \"(32.0, 46.0]\": 1, \"(46.0, 60.0]\": 2, \"(60.0, 80.0]\": 3}\n",
    "        },\n",
    "        {\n",
    "            \"col\": \"Satisfaction_Level\",\n",
    "            \"mapping\": {\"Baja\": 0, \"Media\": 1, \"Alta\": 2}\n",
    "        }\n",
    "    ]\n",
    ")"
   ]
  },
  {
   "cell_type": "code",
   "execution_count": null,
   "id": "5999da30-74d4-4f47-9413-2c64ed8f6f84",
   "metadata": {},
   "outputs": [],
   "source": [
    "ordinal_encoder = ordinal_encoder.fit(X=data)\n",
    "data= ordinal_encoder.transform(X=data)"
   ]
  },
  {
   "cell_type": "code",
   "execution_count": null,
   "id": "5de4953c-91d6-43c4-80f7-0d0b879531ba",
   "metadata": {},
   "outputs": [],
   "source": [
    "data.info()"
   ]
  },
  {
   "cell_type": "code",
   "execution_count": null,
   "id": "fbd22bfa-c5b8-4994-8256-222ecbc563e2",
   "metadata": {},
   "outputs": [],
   "source": []
  },
  {
   "cell_type": "markdown",
   "id": "6d00000b-072c-44d8-93f0-a3f039376de7",
   "metadata": {},
   "source": [
    "## Scaling (if needed)"
   ]
  },
  {
   "cell_type": "code",
   "execution_count": null,
   "id": "5bc0c303-919b-4226-9f2d-92ef6f42cd9e",
   "metadata": {},
   "outputs": [],
   "source": [
    "scaler = RobustScaler()"
   ]
  },
  {
   "cell_type": "code",
   "execution_count": null,
   "id": "484976d7-8e02-440a-971a-d73141830db4",
   "metadata": {},
   "outputs": [],
   "source": [
    "data_escalada = data.copy()\n",
    "data_escalada"
   ]
  },
  {
   "cell_type": "code",
   "execution_count": null,
   "id": "5e41880d-e13d-4fea-91bc-e62fc24c8be5",
   "metadata": {},
   "outputs": [],
   "source": [
    "data_escalada = scaler.fit_transform(data_escalada)"
   ]
  },
  {
   "cell_type": "code",
   "execution_count": null,
   "id": "df96a4fa-e732-4553-8c45-a552d806e1cd",
   "metadata": {},
   "outputs": [],
   "source": [
    "data_escalada = pd.DataFrame(data_escalada, columns=data.columns)"
   ]
  },
  {
   "cell_type": "code",
   "execution_count": null,
   "id": "f1f3e54e-71da-4f7b-8fea-ed319a195c91",
   "metadata": {},
   "outputs": [],
   "source": [
    "data_escalada"
   ]
  },
  {
   "cell_type": "markdown",
   "id": "3c70b83b-a594-4ed9-a1be-c17ef8deb532",
   "metadata": {},
   "source": [
    "### DATA SPLITING\n"
   ]
  },
  {
   "cell_type": "code",
   "execution_count": null,
   "id": "4944462e-32b0-46f6-9f99-8e7315cc2de0",
   "metadata": {},
   "outputs": [],
   "source": [
    "columnasModelo = ['Gender', 'Age_cuartiles', 'Married', 'Number of Dependents',\n",
    "        'Referred a Friend', 'Tenure in Months', 'Offer_No Offer', 'Offer_Offer E', 'Offer_Offer D',\n",
    "       'Offer_Offer C', 'Offer_Offer B', 'Offer_Offer A', 'Phone Service',\n",
    "       'Avg Monthly Long Distance Charges', 'Multiple Lines',\n",
    "       'Internet Service', 'Internet Type_DSL', 'Internet Type_Fiber Optic',\n",
    "       'Internet Type_Cable', 'Internet Type_No Internet',\n",
    "       'Avg Monthly GB Download', 'Online Security', 'Online Backup',\n",
    "       'Device Protection Plan', 'Premium Tech Support', 'Streaming TV',\n",
    "       'Streaming Movies', 'Streaming Music', 'Unlimited Data',\n",
    "       'Contract_Month-to-Month', 'Contract_One Year', 'Contract_Two Year',\n",
    "       'Paperless Billing', 'Payment Method_Bank Withdrawal',\n",
    "       'Payment Method_Credit Card', 'Payment Method_Mailed Check',\n",
    "       'Monthly Charge', 'Total Charges', 'Total Refunds',\n",
    "       'Total Extra Data Charges', 'Total Long Distance Charges',\n",
    "        'Satisfaction_Level']"
   ]
  },
  {
   "cell_type": "code",
   "execution_count": null,
   "id": "eaef1a25-259d-44ad-a2b4-86cdafe0c816",
   "metadata": {},
   "outputs": [],
   "source": [
    "train_data, tmp_data = train_test_split(data_escalada, test_size = 0.30,stratify = data_escalada[\"Churn Label\"],random_state = 1)\n",
    "val_data, test_data = train_test_split(tmp_data, test_size = 0.50,stratify = tmp_data[\"Churn Label\"],random_state = 1)\n"
   ]
  },
  {
   "cell_type": "code",
   "execution_count": null,
   "id": "567943dc-99a0-483a-a084-2a7fdd3735c5",
   "metadata": {},
   "outputs": [],
   "source": [
    "len(data_escalada),len(train_data),len(val_data),len(test_data)"
   ]
  },
  {
   "cell_type": "code",
   "execution_count": null,
   "id": "87854f02-6380-45a7-9050-60b866b52735",
   "metadata": {},
   "outputs": [],
   "source": [
    "print(train_data.columns)"
   ]
  },
  {
   "cell_type": "code",
   "execution_count": null,
   "id": "b7a0befa-8514-413c-b33e-83e40207af3e",
   "metadata": {},
   "outputs": [],
   "source": []
  },
  {
   "cell_type": "code",
   "execution_count": null,
   "id": "72eb709b-f2f3-4d15-b847-1b1a03a88660",
   "metadata": {},
   "outputs": [],
   "source": [
    "#columnasModelo = [col for col in columnasModelo if col in train_data.columns]\n"
   ]
  },
  {
   "cell_type": "markdown",
   "id": "023c098a",
   "metadata": {},
   "source": [
    "## Decision Tree Classifier"
   ]
  },
  {
   "cell_type": "code",
   "execution_count": null,
   "id": "af06ba8e-af75-469a-9ae2-0a236f4af914",
   "metadata": {},
   "outputs": [],
   "source": [
    "#TO DO SORAYA"
   ]
  },
  {
   "cell_type": "code",
   "execution_count": null,
   "id": "d36eb395",
   "metadata": {},
   "outputs": [],
   "source": [
    "#model = DecisionTreeClassifier()"
   ]
  },
  {
   "cell_type": "code",
   "execution_count": null,
   "id": "05540ded",
   "metadata": {},
   "outputs": [],
   "source": [
    "#model.fit(X=X,y=data[\"Churn Label\"])"
   ]
  },
  {
   "cell_type": "code",
   "execution_count": null,
   "id": "37d36562",
   "metadata": {},
   "outputs": [],
   "source": [
    "#plt.figure(figsize=(7, 7))\n",
    "#plot_tree(model, feature_names=X.columns, class_names=[\"no churn\", \"churn\"])"
   ]
  },
  {
   "cell_type": "code",
   "execution_count": null,
   "id": "4c6fe797-9658-4f4b-be62-972a76ea99cb",
   "metadata": {},
   "outputs": [],
   "source": [
    "#alta pureza en nuestro arbol de decision. Cada hoja alcanza a tener cero."
   ]
  },
  {
   "cell_type": "code",
   "execution_count": null,
   "id": "627b5119",
   "metadata": {},
   "outputs": [],
   "source": [
    "#predicted_prob = model.predict_proba(X)"
   ]
  },
  {
   "cell_type": "code",
   "execution_count": null,
   "id": "debf3d1e",
   "metadata": {},
   "outputs": [],
   "source": [
    "#predicted_prob"
   ]
  },
  {
   "cell_type": "code",
   "execution_count": null,
   "id": "3c159794",
   "metadata": {},
   "outputs": [],
   "source": [
    "#predicted_class = model.predict(X)"
   ]
  },
  {
   "cell_type": "code",
   "execution_count": null,
   "id": "27f39e94",
   "metadata": {},
   "outputs": [],
   "source": [
    "#predicted_class"
   ]
  },
  {
   "cell_type": "code",
   "execution_count": null,
   "id": "f8f80d8f",
   "metadata": {},
   "outputs": [],
   "source": [
    "#data_and_predictions = data.copy()\n",
    "#data_and_predictions"
   ]
  },
  {
   "cell_type": "code",
   "execution_count": null,
   "id": "36796af7",
   "metadata": {},
   "outputs": [],
   "source": [
    "#data_and_predictions[\"predicted_class\"] = predicted_class\n",
    "#data_and_predictions[\"predicted_prob(no churn)\"] = predicted_prob[:,0]\n",
    "#data_and_predictions[\"predicted_prob(churn)\"] = predicted_prob[:,1]"
   ]
  },
  {
   "cell_type": "code",
   "execution_count": null,
   "id": "a8c66652",
   "metadata": {},
   "outputs": [],
   "source": [
    "#def calculate_accuracy(predictions):\n",
    "#    number_of_hits = (predictions[\"Churn Label\"] == predictions[\"predicted_class\"]).sum()\n",
    "#    number_of_predictions = len(predictions)\n",
    "\n",
    "#    accuracy = round(number_of_hits/number_of_predictions*100, 2)\n",
    "#    accuracy = float(accuracy)\n",
    "\n",
    " #   return accuracy"
   ]
  },
  {
   "cell_type": "code",
   "execution_count": null,
   "id": "b2c82c09",
   "metadata": {
    "scrolled": true
   },
   "outputs": [],
   "source": [
    "#calculate_accuracy(data_and_predictions)"
   ]
  },
  {
   "cell_type": "code",
   "execution_count": null,
   "id": "f0ea6687-ee22-49e5-bd53-6fb6599d2f32",
   "metadata": {},
   "outputs": [],
   "source": [
    "#data"
   ]
  },
  {
   "cell_type": "code",
   "execution_count": null,
   "id": "8c4e4c28-55f6-473c-a5ab-4adef60de87e",
   "metadata": {},
   "outputs": [],
   "source": [
    "#X_train.info()"
   ]
  },
  {
   "cell_type": "markdown",
   "id": "9ddc5197-0d12-4cc2-a1dd-ece1e1d14cac",
   "metadata": {},
   "source": [
    "## KNN "
   ]
  },
  {
   "cell_type": "markdown",
   "id": "b94942e2-20ec-4a7e-b1d7-467d6fa9c427",
   "metadata": {},
   "source": [
    "#### SIN GRID Y COLUMNAS FILTRADAS\n"
   ]
  },
  {
   "cell_type": "code",
   "execution_count": null,
   "id": "b54aa78f-e54e-4249-bf2c-6d79b97b88de",
   "metadata": {},
   "outputs": [],
   "source": [
    "X_train = train_data.drop(columns=[\"Churn Label\"])\n",
    "y_train = train_data[\"Churn Label\"]\n",
    "\n",
    "X_val = val_data.drop(columns=[\"Churn Label\"])\n",
    "y_val = val_data[\"Churn Label\"]\n",
    "\n",
    "X_test = test_data.drop(columns=[\"Churn Label\"])\n",
    "y_test = test_data[\"Churn Label\"]"
   ]
  },
  {
   "cell_type": "code",
   "execution_count": null,
   "id": "bdb89d9b",
   "metadata": {},
   "outputs": [],
   "source": [
    "KNclassifier1 = KNeighborsClassifier(n_neighbors=20)"
   ]
  },
  {
   "cell_type": "code",
   "execution_count": null,
   "id": "76d58b2c",
   "metadata": {},
   "outputs": [],
   "source": [
    "KNclassifier1.fit(X_train[columnasModelo], y_train)"
   ]
  },
  {
   "cell_type": "code",
   "execution_count": null,
   "id": "4d8d4660-005e-4398-8c6a-aa5e5da13c79",
   "metadata": {},
   "outputs": [],
   "source": [
    "train_metrics_kn = train_data.copy()\n",
    "train_metrics_kn[\"Preciction_knn1\"] = KNclassifier1.predict(train_data[columnasModelo]) \n",
    "\n",
    "val_metrics_kn = val_data.copy()\n",
    "val_metrics_kn[\"Preciction_knn1\"] = KNclassifier1.predict(val_data[columnasModelo])\n",
    "\n"
   ]
  },
  {
   "cell_type": "code",
   "execution_count": null,
   "id": "602f61f6-d8aa-48f9-9592-dc36c95b785e",
   "metadata": {},
   "outputs": [],
   "source": [
    "print(\"Training Metrics:\")\n",
    "print(classification_report(y_true=train_metrics_kn[\"Churn Label\"], y_pred=train_metrics_kn[\"Preciction_knn1\"]))"
   ]
  },
  {
   "cell_type": "code",
   "execution_count": null,
   "id": "d8366483-f458-43c3-9b53-aa5e05da1adc",
   "metadata": {},
   "outputs": [],
   "source": [
    "print(\"Training Metrics:\")\n",
    "print(classification_report(y_true=val_metrics_kn[\"Churn Label\"], y_pred=val_metrics_kn[\"Preciction_knn1\"]))"
   ]
  },
  {
   "cell_type": "code",
   "execution_count": null,
   "id": "6ff20bfc-120b-4cbc-8615-c9ae1e70a46c",
   "metadata": {},
   "outputs": [],
   "source": [
    "cm = confusion_matrix(val_metrics_kn[\"Churn Label\"], val_metrics_kn[\"Preciction_knn1\"])\n",
    "print(cm)\n",
    "# Graficar la matriz de confusión usando seaborn\n",
    "plt.figure(figsize=(8, 6))\n",
    "sns.heatmap(cm, annot=True, fmt=\"d\", cmap=\"Blues\", xticklabels=[\"No Churn\", \"Churn\"], yticklabels=[\"No Churn\", \"Churn\"])\n",
    "plt.title('Confusion Matrix')\n",
    "plt.ylabel('Actual')\n",
    "plt.xlabel('Predicted')\n",
    "plt.show()"
   ]
  },
  {
   "cell_type": "markdown",
   "id": "c194bafe-bba0-4913-a8a8-55ddc409c1be",
   "metadata": {},
   "source": [
    "#### SIN GRID Y TODAS COLUMNAS"
   ]
  },
  {
   "cell_type": "code",
   "execution_count": null,
   "id": "9102b949-7266-4e61-b4eb-b80902eaff8c",
   "metadata": {},
   "outputs": [],
   "source": [
    "KNclassifier2 = KNeighborsClassifier(n_neighbors=20)"
   ]
  },
  {
   "cell_type": "code",
   "execution_count": null,
   "id": "4a0b5170-68e5-41e3-8aec-0601aa05eeca",
   "metadata": {},
   "outputs": [],
   "source": [
    "columnasSinChurn = ['Gender', 'Age', 'Married', 'Dependents', 'Number of Dependents',\n",
    "       'Zip Code', 'Population', 'Referred a Friend', 'Number of Referrals',\n",
    "       'Tenure in Months', 'Offer_No Offer', 'Offer_Offer E', 'Offer_Offer D',\n",
    "       'Offer_Offer C', 'Offer_Offer B', 'Offer_Offer A', 'Phone Service',\n",
    "       'Avg Monthly Long Distance Charges', 'Multiple Lines',\n",
    "       'Internet Service', 'Internet Type_DSL', 'Internet Type_Fiber Optic',\n",
    "       'Internet Type_Cable', 'Internet Type_No Internet',\n",
    "       'Avg Monthly GB Download', 'Online Security', 'Online Backup',\n",
    "       'Device Protection Plan', 'Premium Tech Support', 'Streaming TV',\n",
    "       'Streaming Movies', 'Streaming Music', 'Unlimited Data',\n",
    "       'Contract_Month-to-Month', 'Contract_One Year', 'Contract_Two Year',\n",
    "       'Paperless Billing', 'Payment Method_Bank Withdrawal',\n",
    "       'Payment Method_Credit Card', 'Payment Method_Mailed Check',\n",
    "       'Monthly Charge', 'Total Charges', 'Total Refunds',\n",
    "       'Total Extra Data Charges', 'Total Long Distance Charges',\n",
    "       'Total Revenue', 'Satisfaction Score', 'Age_cuartiles',\n",
    "       'Satisfaction_Level']"
   ]
  },
  {
   "cell_type": "code",
   "execution_count": null,
   "id": "33f4b2db-1e47-41c8-b37f-e212dbee55bb",
   "metadata": {},
   "outputs": [],
   "source": [
    "KNclassifier2.fit(X = train_data[columnasSinChurn], y = train_data[\"Churn Label\"])"
   ]
  },
  {
   "cell_type": "code",
   "execution_count": null,
   "id": "06bf1189-a88a-427d-a19b-fd67b335ec0c",
   "metadata": {},
   "outputs": [],
   "source": [
    "train_metrics_kn[\"Preciction_knn2\"] = KNclassifier2.predict(train_data[columnasSinChurn]) \n",
    "\n",
    "val_metrics_kn[\"Preciction_knn2\"] = KNclassifier2.predict(val_data[columnasSinChurn])\n",
    "\n"
   ]
  },
  {
   "cell_type": "code",
   "execution_count": null,
   "id": "7b7c11ac-20fa-43e7-b529-42eb71c4ec0b",
   "metadata": {},
   "outputs": [],
   "source": [
    "print(\"Training Metrics:\")\n",
    "print(classification_report(y_true=train_metrics_kn[\"Churn Label\"], y_pred=train_metrics_kn[\"Preciction_knn2\"]))"
   ]
  },
  {
   "cell_type": "code",
   "execution_count": null,
   "id": "dd58f97f-0625-4ae5-9531-f1efae390818",
   "metadata": {},
   "outputs": [],
   "source": [
    "print(\"Training Metrics:\")\n",
    "print(classification_report(y_true=val_metrics_kn[\"Churn Label\"], y_pred=val_metrics_kn[\"Preciction_knn2\"]))"
   ]
  },
  {
   "cell_type": "code",
   "execution_count": null,
   "id": "b63bf72b-c18f-40b3-a02c-b2e0f13d93a4",
   "metadata": {},
   "outputs": [],
   "source": [
    "cm = confusion_matrix(val_metrics_kn[\"Churn Label\"], val_metrics_kn[\"Preciction_knn2\"])\n",
    "print(cm)\n",
    "# Graficar la matriz de confusión usando seaborn\n",
    "plt.figure(figsize=(8, 6))\n",
    "sns.heatmap(cm, annot=True, fmt=\"d\", cmap=\"Blues\", xticklabels=[\"No Churn\", \"Churn\"], yticklabels=[\"No Churn\", \"Churn\"])\n",
    "plt.title('Confusion Matrix')\n",
    "plt.ylabel('Actual')\n",
    "plt.xlabel('Predicted')\n",
    "plt.show()"
   ]
  },
  {
   "cell_type": "markdown",
   "id": "7f3d79cb-8e9e-4702-83f1-150f3bdea998",
   "metadata": {},
   "source": [
    "#### CON GRID Y COLUMNAS FILTRADAS\n"
   ]
  },
  {
   "cell_type": "code",
   "execution_count": null,
   "id": "445d4bc6-8bd0-4c38-aad3-25166d946f19",
   "metadata": {},
   "outputs": [],
   "source": [
    "KNclassifierGrid = KNeighborsClassifier()"
   ]
  },
  {
   "cell_type": "code",
   "execution_count": null,
   "id": "10491126-ee43-4068-a188-b58818d16658",
   "metadata": {},
   "outputs": [],
   "source": [
    "param_grid = {\n",
    "    'n_neighbors': [5, 10, 15, 20],  # Puedes ajustar este rango según sea necesario\n",
    "    'weights': ['uniform', 'distance'],  # Probar pesos uniformes y basados en la distancia\n",
    "    'metric': ['euclidean', 'manhattan']  # Probar diferentes métricas de distancia\n",
    "}"
   ]
  },
  {
   "cell_type": "code",
   "execution_count": null,
   "id": "f0f1b1ae-4b90-4d80-b909-790ee1a1f644",
   "metadata": {},
   "outputs": [],
   "source": [
    "grid_search = GridSearchCV(\n",
    "    estimator=KNclassifierGrid,\n",
    "    param_grid=param_grid,\n",
    "    cv=5, \n",
    "    scoring='accuracy')\n"
   ]
  },
  {
   "cell_type": "code",
   "execution_count": null,
   "id": "e592b682-fe5b-4865-b7ba-6f98fad27cb9",
   "metadata": {},
   "outputs": [],
   "source": [
    "grid_search.fit(X = train_data[columnasModelo], y = train_data[\"Churn Label\"])"
   ]
  },
  {
   "cell_type": "code",
   "execution_count": null,
   "id": "d5219cc7-fa1e-46cd-8cc1-0cd4a848ef8a",
   "metadata": {},
   "outputs": [],
   "source": [
    "bestKnnGrid = grid_search.best_estimator_"
   ]
  },
  {
   "cell_type": "code",
   "execution_count": null,
   "id": "267d8711-6bc9-41c4-b9bc-8ee28a45909b",
   "metadata": {},
   "outputs": [],
   "source": [
    "print(\"Mejores parámetros encontrados:\", grid_search.best_params_)"
   ]
  },
  {
   "cell_type": "code",
   "execution_count": null,
   "id": "494ca79c-bac0-4000-abc9-c10e2082072f",
   "metadata": {},
   "outputs": [],
   "source": [
    "train_metrics_kn[\"Preciction_knn3\"] = bestKnnGrid.predict(train_data[columnasModelo]) \n",
    "\n",
    "val_metrics_kn[\"Preciction_knn3\"] = bestKnnGrid.predict(val_data[columnasModelo])"
   ]
  },
  {
   "cell_type": "code",
   "execution_count": null,
   "id": "1b32f874-03a6-4d53-bd74-2753237a830e",
   "metadata": {},
   "outputs": [],
   "source": [
    "print(\"Training Metrics:\")\n",
    "print(classification_report(y_true=train_metrics_kn[\"Churn Label\"], y_pred=train_metrics_kn[\"Preciction_knn3\"]))"
   ]
  },
  {
   "cell_type": "code",
   "execution_count": null,
   "id": "1a380a28-9dc9-47af-9882-31363192c570",
   "metadata": {},
   "outputs": [],
   "source": [
    "print(\"Training Metrics:\")\n",
    "print(classification_report(y_true=val_metrics_kn[\"Churn Label\"], y_pred=val_metrics_kn[\"Preciction_knn3\"]))"
   ]
  },
  {
   "cell_type": "code",
   "execution_count": null,
   "id": "24fa5c47-83fe-40a8-bc03-77232be95a33",
   "metadata": {},
   "outputs": [],
   "source": [
    "cm = confusion_matrix(val_metrics_kn[\"Churn Label\"], val_metrics_kn[\"Preciction_knn3\"])\n",
    "print(cm)\n",
    "# Graficar la matriz de confusión usando seaborn\n",
    "plt.figure(figsize=(8, 6))\n",
    "sns.heatmap(cm, annot=True, fmt=\"d\", cmap=\"Blues\", xticklabels=[\"No Churn\", \"Churn\"], yticklabels=[\"No Churn\", \"Churn\"])\n",
    "plt.title('Confusion Matrix')\n",
    "plt.ylabel('Actual')\n",
    "plt.xlabel('Predicted')\n",
    "plt.show()"
   ]
  },
  {
   "cell_type": "markdown",
   "id": "9e8fcdac-e683-4ff5-bf8c-8ef81d5a94e9",
   "metadata": {},
   "source": [
    "#### CON GRID Y COLUMNAS MÁS RELEVANTES"
   ]
  },
  {
   "cell_type": "code",
   "execution_count": null,
   "id": "6f556c7d-bc6f-457a-bbb3-dc4392f90d12",
   "metadata": {},
   "outputs": [],
   "source": [
    "columnasRelevantes = [\n",
    "    'Gender',  # El género podría estar relacionado con patrones de comportamiento de uso.\n",
    "    'Age',  # La edad puede influir en el tipo de servicios contratados y la retención.\n",
    "    'Married',  # Estado civil, tal vez relacionado con la estabilidad del cliente.\n",
    "    'Tenure in Months',  # Antigüedad con la empresa, un factor clave para el churn.\n",
    "    'Phone Service',  # Tener o no servicio telefónico puede ser un indicador de compromiso.\n",
    "    'Avg Monthly Long Distance Charges',  # Cargos mensuales de larga distancia, podrían mostrar la dependencia del servicio.\n",
    "    'Multiple Lines',  # Líneas múltiples pueden indicar mayor compromiso con los servicios.\n",
    "    'Internet Service',  # Servicio de Internet como factor principal de retención.\n",
    "    'Avg Monthly GB Download',  # Uso de datos, relacionado con la intensidad del uso de los servicios.\n",
    "    'Online Security',  # Servicios adicionales que pueden influir en la lealtad del cliente.\n",
    "    'Streaming TV',  # Servicios de entretenimiento también pueden afectar la retención.\n",
    "    'Unlimited Data',  # Servicios de datos ilimitados pueden ser una ventaja competitiva.\n",
    "    'Contract_Month-to-Month',  # Clientes con contratos mensuales suelen tener mayor probabilidad de irse.\n",
    "    'Paperless Billing',  # Preferencia por facturación sin papel puede indicar un cliente más comprometido digitalmente.\n",
    "    'Payment Method_Bank Withdrawal',  # Método de pago, algunos métodos pueden asociarse a mayor estabilidad.\n",
    "    'Monthly Charge',  # El monto mensual podría ser un indicador de carga financiera.\n",
    "    'Satisfaction Score',  # La satisfacción es un predictor directo de churn.\n",
    "    'Churn Label'  # La variable objetivo.\n",
    "]"
   ]
  },
  {
   "cell_type": "code",
   "execution_count": null,
   "id": "a445cb08-e86d-4299-b21e-a1731584e262",
   "metadata": {},
   "outputs": [],
   "source": [
    "KNclassifierGrid2 = KNeighborsClassifier()"
   ]
  },
  {
   "cell_type": "code",
   "execution_count": null,
   "id": "20623eaa-7c41-4525-98c2-c2e1bd8f5d99",
   "metadata": {},
   "outputs": [],
   "source": [
    "grid_search = GridSearchCV(estimator=KNclassifierGrid2, param_grid=param_grid, cv=5, scoring='accuracy')\n"
   ]
  },
  {
   "cell_type": "code",
   "execution_count": null,
   "id": "c60e8ee4-4153-49d6-b88a-5b4682ed4ff5",
   "metadata": {},
   "outputs": [],
   "source": [
    "grid_search.fit(X = train_data[columnasRelevantes], y = train_data[\"Churn Label\"])"
   ]
  },
  {
   "cell_type": "code",
   "execution_count": null,
   "id": "16986a32-73af-4363-9ddf-221ebb43f05e",
   "metadata": {},
   "outputs": [],
   "source": [
    "bestKnnGrid = grid_search.best_estimator_"
   ]
  },
  {
   "cell_type": "code",
   "execution_count": null,
   "id": "0461e396-8fc5-4b45-91c5-c4823ede63c6",
   "metadata": {},
   "outputs": [],
   "source": [
    "print(\"Mejores parámetros encontrados:\", grid_search.best_params_)"
   ]
  },
  {
   "cell_type": "code",
   "execution_count": null,
   "id": "b6fa5d43-e40b-478e-855f-6f24a648c5ce",
   "metadata": {},
   "outputs": [],
   "source": [
    "train_metrics_kn[\"Preciction_knn4\"] = bestKnnGrid.predict(train_data[columnasRelevantes]) \n",
    "\n",
    "val_metrics_kn[\"Preciction_knn4\"] = bestKnnGrid.predict(val_data[columnasRelevantes])"
   ]
  },
  {
   "cell_type": "code",
   "execution_count": null,
   "id": "781a2d0d-af79-4fc1-923b-10d0f41b75d5",
   "metadata": {},
   "outputs": [],
   "source": [
    "print(\"Training Metrics:\")\n",
    "print(classification_report(y_true=train_metrics_kn[\"Churn Label\"], y_pred=train_metrics_kn[\"Preciction_knn4\"]))"
   ]
  },
  {
   "cell_type": "code",
   "execution_count": null,
   "id": "347318a1-b864-4fb0-89b7-3135bfd8250d",
   "metadata": {},
   "outputs": [],
   "source": [
    "print(\"Training Metrics:\")\n",
    "print(classification_report(y_true=val_metrics_kn[\"Churn Label\"], y_pred=val_metrics_kn[\"Preciction_knn4\"]))"
   ]
  },
  {
   "cell_type": "code",
   "execution_count": null,
   "id": "8d81d3ac-9dad-4d4f-9e7b-5cd7225324af",
   "metadata": {},
   "outputs": [],
   "source": [
    "cm = confusion_matrix(val_metrics_kn[\"Churn Label\"], val_metrics_kn[\"Preciction_knn4\"])\n",
    "print(cm)\n",
    "# Graficar la matriz de confusión usando seaborn\n",
    "plt.figure(figsize=(8, 6))\n",
    "sns.heatmap(cm, annot=True, fmt=\"d\", cmap=\"Blues\", xticklabels=[\"No Churn\", \"Churn\"], yticklabels=[\"No Churn\", \"Churn\"])\n",
    "plt.title('Confusion Matrix')\n",
    "plt.ylabel('Actual')\n",
    "plt.xlabel('Predicted')\n",
    "plt.show()"
   ]
  },
  {
   "cell_type": "markdown",
   "id": "79b8fb40-27b6-4703-b4a7-489bb2b21a5d",
   "metadata": {},
   "source": [
    "#### Verificar con el test"
   ]
  },
  {
   "cell_type": "code",
   "execution_count": null,
   "id": "b3472f94-b6c2-49d2-8729-6f4e8d802276",
   "metadata": {},
   "outputs": [],
   "source": [
    "y_pred_test = bestKnnGrid.predict(test_data[columnasRelevantes])"
   ]
  },
  {
   "cell_type": "code",
   "execution_count": null,
   "id": "bceafab8-a0b2-4b40-9328-055ce3e646c5",
   "metadata": {},
   "outputs": [],
   "source": [
    "print(\"Test Metrics:\")\n",
    "print(classification_report(test_data[\"Churn Label\"], y_pred_test))\n",
    "\n",
    "# Imprimir la matriz de confusión para el conjunto de test\n",
    "print(\"Confusion Matrix - Test:\")\n",
    "print(confusion_matrix(test_data[\"Churn Label\"], y_pred_test))"
   ]
  },
  {
   "cell_type": "code",
   "execution_count": null,
   "id": "139fffbf-24e5-4529-bf51-15c48de3eb1a",
   "metadata": {},
   "outputs": [],
   "source": [
    "### En todas las preccion es muy alta"
   ]
  },
  {
   "cell_type": "code",
   "execution_count": null,
   "id": "9781d65d-00bf-42b5-b933-3293bff2e2e4",
   "metadata": {},
   "outputs": [],
   "source": []
  },
  {
   "cell_type": "markdown",
   "id": "2710d793-de17-4abf-9fe6-e1ac7d38d7fd",
   "metadata": {},
   "source": [
    "## Regresion Logistica"
   ]
  },
  {
   "cell_type": "code",
   "execution_count": null,
   "id": "fca1df2a-e8a5-4ff7-af05-c0a8745787e0",
   "metadata": {},
   "outputs": [],
   "source": [
    "## SHARON"
   ]
  },
  {
   "cell_type": "code",
   "execution_count": null,
   "id": "9720e74e-149f-4cbd-bff7-3655ceb73b3d",
   "metadata": {},
   "outputs": [],
   "source": [
    "from sklearn.linear_model import LogisticRegression\n",
    "from sklearn.metrics import accuracy_score, classification_report, confusion_matrix\n",
    "\n",
    "\n",
    "# Crear y entrenar el modelo\n",
    "regresion_logistica = LogisticRegression(penalty='l2', C=50, solver='lbfgs', max_iter=250, class_weight='balanced', multi_class='ovr')\n",
    "regresion_logistica.fit(X_train, y_train)\n"
   ]
  },
  {
   "cell_type": "code",
   "execution_count": null,
   "id": "03355951-1ba1-4f95-9cff-a8ef4382fc44",
   "metadata": {},
   "outputs": [],
   "source": [
    "# Realizar predicciones en el conjunto de entrenamiento\n",
    "y_train_pred = regresion_logistica.predict(X_train)\n",
    "\n",
    "# Evaluar el modelo en el conjunto de entrenamiento\n",
    "print(\"Accuracy en el conjunto de entrenamiento:\", accuracy_score(y_train, y_train_pred))\n",
    "print(\"Classification Report:\\n\", classification_report(y_train, y_train_pred))"
   ]
  },
  {
   "cell_type": "code",
   "execution_count": null,
   "id": "25fb43d3-e603-4ad3-9c5f-a514f738b5ca",
   "metadata": {},
   "outputs": [],
   "source": [
    "# Matriz de confusión\n",
    "cm_train_log = confusion_matrix(y_train, y_train_pred)\n",
    "print(\"Matriz de confusión en el conjunto de entrenamiento:\\n\", cm_train_log)"
   ]
  },
  {
   "cell_type": "code",
   "execution_count": null,
   "id": "dc26b95f-a2a0-43a6-a247-1c5f7cc64716",
   "metadata": {},
   "outputs": [],
   "source": [
    "# Realizar predicciones en el conjunto de validación\n",
    "y_val_pred = regresion_logistica.predict(X_val)\n",
    "\n",
    "# Evaluar el modelo\n",
    "print(\"Accuracy en el conjunto de validación:\", accuracy_score(y_val, y_val_pred))\n",
    "print(\"Classification Report:\\n\", classification_report(y_val, y_val_pred))"
   ]
  },
  {
   "cell_type": "code",
   "execution_count": null,
   "id": "98c41283-2423-4906-820b-115291e174f6",
   "metadata": {},
   "outputs": [],
   "source": [
    "# Matriz de confusión\n",
    "cm_log = confusion_matrix(y_val, y_val_pred)\n",
    "print(\"Matriz de confusión validación:\\n\", cm_log)"
   ]
  },
  {
   "cell_type": "code",
   "execution_count": null,
   "id": "031b3c3b-727f-4451-ae86-db2c9bb3248c",
   "metadata": {},
   "outputs": [],
   "source": [
    "# Graficar la matriz de confusión\n",
    "plt.figure(figsize=(8, 6))\n",
    "sns.heatmap(cm_log, annot=True, fmt='d', cmap='Blues', xticklabels=['No Churn', 'Churn'], yticklabels=['No Churn', 'Churn'])\n",
    "plt.xlabel('Predicción')\n",
    "plt.ylabel('Real')\n",
    "plt.title('Matriz de Confusión - Conjunto de Entrenamiento')\n",
    "plt.show()"
   ]
  },
  {
   "cell_type": "markdown",
   "id": "57e4ef77-4c16-4e1c-9b75-16f82880e24f",
   "metadata": {},
   "source": [
    "## SVC"
   ]
  },
  {
   "cell_type": "code",
   "execution_count": null,
   "id": "fbb11eec-e5ad-4fba-a4cc-884d729dcb6f",
   "metadata": {},
   "outputs": [],
   "source": [
    "from sklearn.pipeline import make_pipeline\n",
    "from sklearn.preprocessing import StandardScaler\n",
    "from sklearn.svm import SVC\n",
    "from sklearn import metrics"
   ]
  },
  {
   "cell_type": "code",
   "execution_count": null,
   "id": "90e89174",
   "metadata": {},
   "outputs": [],
   "source": [
    "#Excluir a Churn Label\n",
    "x_train = train_data.drop(columns=['Churn Label'])"
   ]
  },
  {
   "cell_type": "code",
   "execution_count": null,
   "id": "f68c6145",
   "metadata": {},
   "outputs": [],
   "source": [
    "# Verificar características en X_train\n",
    "print(f\"Número de características en x_train: {x_train.shape[1]}\")"
   ]
  },
  {
   "cell_type": "code",
   "execution_count": null,
   "id": "b4f8e7b1",
   "metadata": {},
   "outputs": [],
   "source": [
    "x_test = test_data.drop(columns=['Churn Label'])"
   ]
  },
  {
   "cell_type": "code",
   "execution_count": null,
   "id": "cb5caec9",
   "metadata": {},
   "outputs": [],
   "source": [
    "y_test = test_data[\"Churn Label\"]"
   ]
  },
  {
   "cell_type": "code",
   "execution_count": null,
   "id": "08c46778",
   "metadata": {},
   "outputs": [],
   "source": [
    "x_val = val_data.drop(columns=['Churn Label'])"
   ]
  },
  {
   "cell_type": "code",
   "execution_count": null,
   "id": "53df3b9e",
   "metadata": {},
   "outputs": [],
   "source": [
    "y_val = val_data[\"Churn Label\"]"
   ]
  },
  {
   "cell_type": "markdown",
   "id": "265f70e2",
   "metadata": {},
   "source": [
    "##### AJUSTES SENCILLOS"
   ]
  },
  {
   "cell_type": "code",
   "execution_count": null,
   "id": "7f00e0d7",
   "metadata": {},
   "outputs": [],
   "source": [
    "Modelo3SVC = SVC()"
   ]
  },
  {
   "cell_type": "code",
   "execution_count": null,
   "id": "a427980e",
   "metadata": {},
   "outputs": [],
   "source": [
    "#Entrenando\n",
    "Modelo3SVC.fit(x_train, train_data[\"Churn Label\"])"
   ]
  },
  {
   "cell_type": "code",
   "execution_count": null,
   "id": "6b38805a",
   "metadata": {},
   "outputs": [],
   "source": [
    "y_pred_no_balance_train = Modelo3SVC.predict(x_train)"
   ]
  },
  {
   "cell_type": "code",
   "execution_count": null,
   "id": "a3bbf253",
   "metadata": {},
   "outputs": [],
   "source": [
    "print(classification_report(y_train, y_pred_no_balance_train))"
   ]
  },
  {
   "cell_type": "code",
   "execution_count": null,
   "id": "7b6bc389",
   "metadata": {},
   "outputs": [],
   "source": [
    "#Predicción\n",
    "y_pred_no_balance = Modelo3SVC.predict(x_val)"
   ]
  },
  {
   "cell_type": "code",
   "execution_count": null,
   "id": "afa3f8b5",
   "metadata": {},
   "outputs": [],
   "source": [
    "print(classification_report(y_val, y_pred_no_balance))"
   ]
  },
  {
   "cell_type": "code",
   "execution_count": null,
   "id": "2c69a0a8",
   "metadata": {},
   "outputs": [],
   "source": [
    "# Al tener un accuracy alto veamos si está prediciendo sobre la clase mayoritaria\n",
    "class_data = train_data['Churn Label'].value_counts()\n",
    "class_majority = class_data.idxmax()\n",
    "print(f'La clase mayoritaria es: {class_majority}')"
   ]
  },
  {
   "cell_type": "code",
   "execution_count": null,
   "id": "5def604b",
   "metadata": {},
   "outputs": [],
   "source": [
    "# Calcular el porcentaje de clase\n",
    "class_percentage = train_data['Churn Label'].value_counts(normalize=True) * 100\n",
    "print(class_percentage)"
   ]
  },
  {
   "cell_type": "code",
   "execution_count": null,
   "id": "2e20847b",
   "metadata": {},
   "outputs": [],
   "source": [
    "#Está prediciendo sobre la clase 0 que es que el cliente no abandona el servicio con un 73.46 %, mientras que la clase \n",
    "#minoritaria es 26.53%\n",
    "# Con 100% de predicción, se muestra como un modelo perfecto; que no hay falsos positivos. Pero tiende a la confusión si \n",
    "# las predicciones positivas son bajas.\n",
    "# Con un 24.91% el modelo no dectecto los falsos negativos porque tien un recall de 75% aprox."
   ]
  },
  {
   "cell_type": "markdown",
   "id": "500d7127",
   "metadata": {},
   "source": [
    "##### RESCALAR LAS CLASES"
   ]
  },
  {
   "cell_type": "code",
   "execution_count": null,
   "id": "0e8724c0-930e-48aa-a40f-0770c5343ab4",
   "metadata": {},
   "outputs": [],
   "source": [
    "#Creando pipeline\n",
    "Modelo3SVC_ = make_pipeline(StandardScaler(), SVC(class_weight=\"balanced\", gamma='auto'))"
   ]
  },
  {
   "cell_type": "code",
   "execution_count": null,
   "id": "eeef2e76",
   "metadata": {},
   "outputs": [],
   "source": [
    "#Para el problema de desequilibrio se está usando \"balanced\" que calcula los pesos inversamente proporcionales a la frecuencia\n",
    "#de la clase, de está forma no cambiamos el conjunto de datos lo que ajusta el balance de errores\n",
    "#a diferencia del submuestreo\n",
    "#de está forma debería mejorar su recall"
   ]
  },
  {
   "cell_type": "code",
   "execution_count": null,
   "id": "5ad3930a-8a79-42b3-ad50-0717907088d5",
   "metadata": {},
   "outputs": [],
   "source": [
    "#Ajustar el modelo al entrenamiento\n",
    "Modelo3SVC_.fit(x_train, train_data[\"Churn Label\"])"
   ]
  },
  {
   "cell_type": "code",
   "execution_count": null,
   "id": "bd1c5bcc",
   "metadata": {},
   "outputs": [],
   "source": [
    "y_pred = Modelo3SVC_.predict(x_train)"
   ]
  },
  {
   "cell_type": "code",
   "execution_count": null,
   "id": "e1fcc64d",
   "metadata": {},
   "outputs": [],
   "source": [
    "print(classification_report(y_train, y_pred))"
   ]
  },
  {
   "cell_type": "code",
   "execution_count": null,
   "id": "eafa54c0",
   "metadata": {},
   "outputs": [],
   "source": [
    "#Predicción\n",
    "y_pred_balance = Modelo3SVC_.predict(x_val)"
   ]
  },
  {
   "cell_type": "code",
   "execution_count": null,
   "id": "83633173",
   "metadata": {},
   "outputs": [],
   "source": [
    "print(classification_report(y_val, y_pred_balance))"
   ]
  },
  {
   "cell_type": "code",
   "execution_count": null,
   "id": "873a8bf0",
   "metadata": {},
   "outputs": [],
   "source": [
    "# 95.13% son las veces que el modelo indicará que el cliente abandonará el servicio, para los falsos positivos\n",
    "# el modelo comete pocos errores\n",
    "\n",
    "# 90.39% es capaz de identificar la mayoría de los clientes que abandonará el servicio.\n",
    "\n",
    "# Lo que indica que no hay muchos errores en la clasificación, al tener una alta precisión se puede ofrecer a los clientes\n",
    "# algún beneficio para que no abandonen\n",
    "# Y un buen recall se tendrán resultados significativos que que clientes están en riesgo de abandonar el servicio lo que si\n",
    "# me permite focalizar los esfuerzos que se tienen que hacer en la retención."
   ]
  },
  {
   "cell_type": "markdown",
   "id": "2e2ed028-9ed9-4dd1-ad66-53890626af78",
   "metadata": {},
   "source": [
    "## Random Forest"
   ]
  },
  {
   "cell_type": "code",
   "execution_count": null,
   "id": "d4ab43ca-fad4-4e62-bd9e-6deabf36ef02",
   "metadata": {},
   "outputs": [],
   "source": [
    "## Michael Poveda"
   ]
  },
  {
   "cell_type": "markdown",
   "id": "3aa8fa28-3b0e-4d3b-8c89-979ea6c84aad",
   "metadata": {},
   "source": [
    "#### Without grid and all columns"
   ]
  },
  {
   "cell_type": "code",
   "execution_count": null,
   "id": "dfdd14bf-28f0-4fef-9ab3-03cf560002ad",
   "metadata": {},
   "outputs": [],
   "source": []
  },
  {
   "cell_type": "code",
   "execution_count": null,
   "id": "5bf07e87-5888-4bee-a575-2e0757c5a8fe",
   "metadata": {},
   "outputs": [],
   "source": [
    "X_train = train_data.drop(columns=[\"Churn Label\"])\n",
    "y_train = train_data[\"Churn Label\"]\n",
    "\n",
    "X_val = val_data.drop(columns=[\"Churn Label\"])\n",
    "y_val = val_data[\"Churn Label\"]\n",
    "\n",
    "X_test = test_data.drop(columns=[\"Churn Label\"])\n",
    "y_test = test_data[\"Churn Label\"]"
   ]
  },
  {
   "cell_type": "code",
   "execution_count": null,
   "id": "770d43dd-e972-4247-92d6-88bc70f90719",
   "metadata": {},
   "outputs": [],
   "source": [
    "KNclassifier1 = KNeighborsClassifier(n_neighbors=20)"
   ]
  },
  {
   "cell_type": "code",
   "execution_count": null,
   "id": "b0b80889-68e7-46d8-9d4d-48a057f34183",
   "metadata": {},
   "outputs": [],
   "source": [
    "KNclassifier1.fit(X_train[columnasModelo], y_train)"
   ]
  },
  {
   "cell_type": "code",
   "execution_count": null,
   "id": "23705a1e-47e5-4f10-81ca-63dfe86d74cf",
   "metadata": {},
   "outputs": [],
   "source": [
    "train_metrics_kn = train_data.copy()\n",
    "train_metrics_kn[\"Preciction_knn1\"] = KNclassifier1.predict(train_data[columnasModelo]) \n",
    "\n",
    "val_metrics_kn = val_data.copy()\n",
    "val_metrics_kn[\"Preciction_knn1\"] = KNclassifier1.predict(val_data[columnasModelo])\n",
    "\n"
   ]
  },
  {
   "cell_type": "code",
   "execution_count": null,
   "id": "68a0125a-7f6e-4546-81d6-54ca6eedc2be",
   "metadata": {},
   "outputs": [],
   "source": [
    "print(\"Training Metrics:\")\n",
    "print(classification_report(y_true=train_metrics_kn[\"Churn Label\"], y_pred=train_metrics_kn[\"Preciction_knn1\"]))"
   ]
  },
  {
   "cell_type": "code",
   "execution_count": null,
   "id": "10432cc4-63a4-4d23-bc64-ef406fe707fd",
   "metadata": {},
   "outputs": [],
   "source": [
    "print(\"Training Metrics:\")\n",
    "print(classification_report(y_true=val_metrics_kn[\"Churn Label\"], y_pred=val_metrics_kn[\"Preciction_knn1\"]))"
   ]
  },
  {
   "cell_type": "code",
   "execution_count": null,
   "id": "b3cd06fb-3b02-4062-8777-db213eb4cea3",
   "metadata": {},
   "outputs": [],
   "source": [
    "cm = confusion_matrix(val_metrics_kn[\"Churn Label\"], val_metrics_kn[\"Preciction_knn1\"])\n",
    "print(cm)\n",
    "# Graficar la matriz de confusión usando seaborn\n",
    "plt.figure(figsize=(8, 6))\n",
    "sns.heatmap(cm, annot=True, fmt=\"d\", cmap=\"Blues\", xticklabels=[\"No Churn\", \"Churn\"], yticklabels=[\"No Churn\", \"Churn\"])\n",
    "plt.title('Confusion Matrix')\n",
    "plt.ylabel('Actual')\n",
    "plt.xlabel('Predicted')\n",
    "plt.show()"
   ]
  },
  {
   "cell_type": "code",
   "execution_count": null,
   "id": "5a5f5dbd-dfd7-4e07-9bbd-8ad1c7018891",
   "metadata": {},
   "outputs": [],
   "source": []
  },
  {
   "cell_type": "code",
   "execution_count": null,
   "id": "f2ad4959-0c9a-4c59-9b35-a36550fcd18e",
   "metadata": {},
   "outputs": [],
   "source": []
  },
  {
   "cell_type": "code",
   "execution_count": null,
   "id": "54a0531e-2649-49d1-a36b-3ea7c01f8b48",
   "metadata": {},
   "outputs": [],
   "source": []
  },
  {
   "cell_type": "code",
   "execution_count": null,
   "id": "4444aa53-001c-444a-b472-ac342537d606",
   "metadata": {},
   "outputs": [],
   "source": []
  },
  {
   "cell_type": "code",
   "execution_count": null,
   "id": "27ba3e8a-e525-42df-ae7c-82bff9906e5b",
   "metadata": {},
   "outputs": [],
   "source": []
  },
  {
   "cell_type": "code",
   "execution_count": null,
   "id": "4d70d13d-28ca-49dc-8614-d77715fb53b3",
   "metadata": {},
   "outputs": [],
   "source": []
  },
  {
   "cell_type": "code",
   "execution_count": null,
   "id": "5b799d50-9a79-4ac4-9250-25dc6e2405f0",
   "metadata": {},
   "outputs": [],
   "source": []
  },
  {
   "cell_type": "code",
   "execution_count": null,
   "id": "604efcd4-271e-4e33-9949-8a1be5b77062",
   "metadata": {},
   "outputs": [],
   "source": []
  },
  {
   "cell_type": "code",
   "execution_count": null,
   "id": "2d75a23c-ec63-4de2-a5f9-f2662f127e42",
   "metadata": {},
   "outputs": [],
   "source": []
  },
  {
   "cell_type": "code",
   "execution_count": null,
   "id": "692e90b7-1adf-48e3-b02f-8f5f8309131e",
   "metadata": {},
   "outputs": [],
   "source": []
  },
  {
   "cell_type": "code",
   "execution_count": null,
   "id": "94d29838-0fb7-4536-90a3-c143219c4b77",
   "metadata": {},
   "outputs": [],
   "source": []
  },
  {
   "cell_type": "code",
   "execution_count": null,
   "id": "c8ced5b4-ad52-441f-b3a3-fc76e86fd87e",
   "metadata": {},
   "outputs": [],
   "source": []
  },
  {
   "cell_type": "code",
   "execution_count": null,
   "id": "b1c99099-e4b5-4067-9092-5524742e0023",
   "metadata": {},
   "outputs": [],
   "source": [
    "#### no completo aun"
   ]
  },
  {
   "cell_type": "code",
   "execution_count": null,
   "id": "5ae723e5-1d01-4b14-8b64-87fcb00116b6",
   "metadata": {},
   "outputs": [],
   "source": [
    "search.fit(X=train_data.drop(columns=[\"Target\"]), y=train_data[\"Target\"])"
   ]
  },
  {
   "cell_type": "code",
   "execution_count": null,
   "id": "dbd5e0af-6550-4cf4-aea0-d0560fe9f74b",
   "metadata": {},
   "outputs": [],
   "source": [
    "best_model = search.best_estimator_"
   ]
  },
  {
   "cell_type": "code",
   "execution_count": null,
   "id": "7f5ede62-fcac-4cfe-a25c-1c5540238a13",
   "metadata": {},
   "outputs": [],
   "source": [
    "best_model"
   ]
  },
  {
   "cell_type": "code",
   "execution_count": null,
   "id": "b5a1f080-e174-4049-ab5e-54f00798715e",
   "metadata": {},
   "outputs": [],
   "source": [
    "search.best_params_"
   ]
  },
  {
   "cell_type": "code",
   "execution_count": null,
   "id": "37affd8e-9178-4929-83ed-6324798b4889",
   "metadata": {},
   "outputs": [],
   "source": [
    "search_results = pd.DataFrame(search.cv_results_)"
   ]
  },
  {
   "cell_type": "code",
   "execution_count": null,
   "id": "25645b14-0d61-4d2a-ab23-0e4c5ef05ed1",
   "metadata": {},
   "outputs": [],
   "source": [
    "search_results"
   ]
  },
  {
   "cell_type": "markdown",
   "id": "46020ba9",
   "metadata": {},
   "source": [
    "# 6. Model performance evaluation"
   ]
  },
  {
   "cell_type": "code",
   "execution_count": null,
   "id": "ca2e36d7",
   "metadata": {},
   "outputs": [],
   "source": [
    "y_pred = best_model.predict(val_data.drop(columns=[\"Target\"]))\n",
    "y_pred_prob = best_model.predict_proba(val_data.drop(columns=[\"Target\"]))[:, 1]"
   ]
  },
  {
   "cell_type": "code",
   "execution_count": null,
   "id": "5f94a3e4",
   "metadata": {},
   "outputs": [],
   "source": [
    "ConfusionMatrixDisplay.from_predictions(y_true=val_data[\"Target\"], y_pred=y_pred)"
   ]
  },
  {
   "cell_type": "code",
   "execution_count": null,
   "id": "4d1aee6d",
   "metadata": {},
   "outputs": [],
   "source": [
    "print(classification_report(y_true=val_data[\"Target\"], y_pred=y_pred))"
   ]
  },
  {
   "cell_type": "markdown",
   "id": "ee3ed252-a196-4f49-9caf-554efb0eb1d5",
   "metadata": {},
   "source": [
    "# 7. Explainability"
   ]
  },
  {
   "cell_type": "code",
   "execution_count": null,
   "id": "d3dacde4-0784-4bd3-8201-1fef98651048",
   "metadata": {},
   "outputs": [],
   "source": [
    "explainer = shap.KernelExplainer(bestKnnGrid.predict, train_data[columnasRelevantes].sample(n=100, random_state=1))"
   ]
  },
  {
   "cell_type": "code",
   "execution_count": null,
   "id": "3a9eb2d6-4ce4-4490-9c40-eab2231631da",
   "metadata": {},
   "outputs": [],
   "source": [
    "explanation = explainer.shap_values(val_data[columnasRelevantes])"
   ]
  },
  {
   "cell_type": "code",
   "execution_count": null,
   "id": "41c539a9-45de-4269-a6b0-256a8d460bc5",
   "metadata": {},
   "outputs": [],
   "source": [
    "plt.figure(figsize=(20,8))\n",
    "shap.summary_plot(explanation.values[:,:,1], features=train_data.drop(columns=[\"Target\"]), plot_type=\"bar\")"
   ]
  },
  {
   "cell_type": "code",
   "execution_count": null,
   "id": "50f3b0f4-4556-4119-ae9d-2a72007c48e9",
   "metadata": {},
   "outputs": [],
   "source": [
    "plt.figure(figsize=(20,8))\n",
    "shap.summary_plot(explanation.values[:,:,1], features=train_data.drop(columns=[\"Target\"]))"
   ]
  },
  {
   "cell_type": "code",
   "execution_count": null,
   "id": "5488dc04-21ea-4b10-8068-09dff9f2abb0",
   "metadata": {},
   "outputs": [],
   "source": [
    "shap.plots.waterfall(explanation[6,:,1], max_display=20)"
   ]
  },
  {
   "cell_type": "code",
   "execution_count": null,
   "id": "19003a35-7da8-4321-bb61-3ebd4fce66d3",
   "metadata": {},
   "outputs": [],
   "source": []
  },
  {
   "cell_type": "code",
   "execution_count": null,
   "id": "5b9395bc-b4cd-473e-9ae4-cc0d580b1131",
   "metadata": {},
   "outputs": [],
   "source": []
  },
  {
   "cell_type": "code",
   "execution_count": null,
   "id": "55afe48e-4e51-45ab-94ba-1bd0f90909e8",
   "metadata": {},
   "outputs": [],
   "source": []
  },
  {
   "cell_type": "code",
   "execution_count": null,
   "id": "022a0e57-ef75-4594-901a-13635e8daefd",
   "metadata": {},
   "outputs": [],
   "source": []
  },
  {
   "cell_type": "code",
   "execution_count": null,
   "id": "63fa7586-8c40-420b-bcf8-da4773038750",
   "metadata": {},
   "outputs": [],
   "source": []
  },
  {
   "cell_type": "code",
   "execution_count": null,
   "id": "bc8f5c8d-f642-41e9-a27a-99285460ac5b",
   "metadata": {},
   "outputs": [],
   "source": []
  },
  {
   "cell_type": "code",
   "execution_count": null,
   "id": "cf585f4b-5f81-4cf1-aaf0-4faaadbd48c4",
   "metadata": {},
   "outputs": [],
   "source": []
  },
  {
   "cell_type": "code",
   "execution_count": null,
   "id": "13a79935-69bf-42f0-9c6e-a7a02efbaee1",
   "metadata": {},
   "outputs": [],
   "source": []
  },
  {
   "cell_type": "code",
   "execution_count": null,
   "id": "9f8290ba-64bc-4175-bc1d-f489f5674c27",
   "metadata": {},
   "outputs": [],
   "source": []
  },
  {
   "cell_type": "code",
   "execution_count": null,
   "id": "d56811b4-8ae7-4926-8297-4dee01b99638",
   "metadata": {},
   "outputs": [],
   "source": []
  },
  {
   "cell_type": "code",
   "execution_count": null,
   "id": "bd598c32-ebfb-474c-aaf2-208a5e362c96",
   "metadata": {},
   "outputs": [],
   "source": []
  },
  {
   "cell_type": "code",
   "execution_count": null,
   "id": "7666ae33-c641-4a85-bec9-10f133eb5319",
   "metadata": {},
   "outputs": [],
   "source": []
  },
  {
   "cell_type": "code",
   "execution_count": null,
   "id": "3d619233-079b-49fe-8efc-250795f28328",
   "metadata": {},
   "outputs": [],
   "source": []
  }
 ],
 "metadata": {
  "kernelspec": {
   "display_name": "Python 3 (ipykernel)",
   "language": "python",
   "name": "python3"
  },
  "language_info": {
   "codemirror_mode": {
    "name": "ipython",
    "version": 3
   },
   "file_extension": ".py",
   "mimetype": "text/x-python",
   "name": "python",
   "nbconvert_exporter": "python",
   "pygments_lexer": "ipython3",
   "version": "3.12.3"
  }
 },
 "nbformat": 4,
 "nbformat_minor": 5
}
