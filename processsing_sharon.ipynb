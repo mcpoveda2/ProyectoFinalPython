{
 "cells": [
  {
   "cell_type": "markdown",
   "id": "9b3c00db",
   "metadata": {},
   "source": [
    "# 1. import libraries"
   ]
  },
  {
   "cell_type": "code",
   "execution_count": 1,
   "id": "d421e9ec",
   "metadata": {},
   "outputs": [],
   "source": [
    "# data manipulation and plotting tools\n",
    "import matplotlib.pyplot as plt\n",
    "import numpy as np\n",
    "import pandas as pd\n",
    "\n",
    "# data processing\n",
    "from category_encoders.one_hot import OneHotEncoder\n",
    "from category_encoders.ordinal import OrdinalEncoder\n",
    "from category_encoders.target_encoder import TargetEncoder\n",
    "from sklearn.preprocessing import MinMaxScaler, RobustScaler,LabelEncoder\n",
    "\n",
    "# algorithms\n",
    "from sklearn.tree import DecisionTreeClassifier, plot_tree\n",
    "from sklearn.neighbors import KNeighborsClassifier\n",
    "from sklearn.linear_model import LogisticRegression\n",
    "\n",
    "# model selection tools\n",
    "from sklearn.model_selection import train_test_split, GridSearchCV, RandomizedSearchCV\n",
    "\n",
    "# metrics\n",
    "from sklearn.metrics import classification_report, ConfusionMatrixDisplay, confusion_matrix\n",
    "\n",
    "# explainability\n",
    "import shap\n",
    "\n",
    "#visual\n",
    "import seaborn as sns\n",
    "\n",
    "#MostrarMas\n",
    "pd.set_option('display.max_columns', None)"
   ]
  },
  {
   "cell_type": "code",
   "execution_count": 2,
   "id": "c1030593",
   "metadata": {},
   "outputs": [],
   "source": [
    "#pip install --upgrade category_encoders"
   ]
  },
  {
   "cell_type": "code",
   "execution_count": 3,
   "id": "ffd4d16e-232f-4c71-aee3-0ab415bc066e",
   "metadata": {},
   "outputs": [
    {
     "name": "stdout",
     "output_type": "stream",
     "text": [
      "Requirement already satisfied: category_encoders in c:\\users\\micha\\anaconda3\\lib\\site-packages (2.6.3)Note: you may need to restart the kernel to use updated packages.\n",
      "\n",
      "Requirement already satisfied: numpy>=1.14.0 in c:\\users\\micha\\anaconda3\\lib\\site-packages (from category_encoders) (1.26.4)\n",
      "Requirement already satisfied: scikit-learn>=0.20.0 in c:\\users\\micha\\anaconda3\\lib\\site-packages (from category_encoders) (1.2.2)\n",
      "Requirement already satisfied: scipy>=1.0.0 in c:\\users\\micha\\anaconda3\\lib\\site-packages (from category_encoders) (1.11.4)\n",
      "Requirement already satisfied: statsmodels>=0.9.0 in c:\\users\\micha\\anaconda3\\lib\\site-packages (from category_encoders) (0.14.0)\n",
      "Requirement already satisfied: pandas>=1.0.5 in c:\\users\\micha\\anaconda3\\lib\\site-packages (from category_encoders) (2.1.4)\n",
      "Requirement already satisfied: patsy>=0.5.1 in c:\\users\\micha\\anaconda3\\lib\\site-packages (from category_encoders) (0.5.3)\n",
      "Requirement already satisfied: python-dateutil>=2.8.2 in c:\\users\\micha\\anaconda3\\lib\\site-packages (from pandas>=1.0.5->category_encoders) (2.8.2)\n",
      "Requirement already satisfied: pytz>=2020.1 in c:\\users\\micha\\anaconda3\\lib\\site-packages (from pandas>=1.0.5->category_encoders) (2023.3.post1)\n",
      "Requirement already satisfied: tzdata>=2022.1 in c:\\users\\micha\\anaconda3\\lib\\site-packages (from pandas>=1.0.5->category_encoders) (2023.3)\n",
      "Requirement already satisfied: six in c:\\users\\micha\\anaconda3\\lib\\site-packages (from patsy>=0.5.1->category_encoders) (1.16.0)\n",
      "Requirement already satisfied: joblib>=1.1.1 in c:\\users\\micha\\anaconda3\\lib\\site-packages (from scikit-learn>=0.20.0->category_encoders) (1.2.0)\n",
      "Requirement already satisfied: threadpoolctl>=2.0.0 in c:\\users\\micha\\anaconda3\\lib\\site-packages (from scikit-learn>=0.20.0->category_encoders) (2.2.0)\n",
      "Requirement already satisfied: packaging>=21.3 in c:\\users\\micha\\anaconda3\\lib\\site-packages (from statsmodels>=0.9.0->category_encoders) (23.1)\n"
     ]
    }
   ],
   "source": [
    "pip install --upgrade category_encoders"
   ]
  },
  {
   "cell_type": "markdown",
   "id": "5b651b7c",
   "metadata": {},
   "source": [
    "# 2. Load the dataset"
   ]
  },
  {
   "cell_type": "code",
   "execution_count": 4,
   "id": "3147389c-5ebe-4fbe-85c1-5f42976ef414",
   "metadata": {},
   "outputs": [],
   "source": [
    "data = pd.read_csv('churn.csv')"
   ]
  },
  {
   "cell_type": "code",
   "execution_count": 5,
   "id": "a68fae19-1285-4301-8f9a-133c6e5147ff",
   "metadata": {},
   "outputs": [
    {
     "data": {
      "text/html": [
       "<div>\n",
       "<style scoped>\n",
       "    .dataframe tbody tr th:only-of-type {\n",
       "        vertical-align: middle;\n",
       "    }\n",
       "\n",
       "    .dataframe tbody tr th {\n",
       "        vertical-align: top;\n",
       "    }\n",
       "\n",
       "    .dataframe thead th {\n",
       "        text-align: right;\n",
       "    }\n",
       "</style>\n",
       "<table border=\"1\" class=\"dataframe\">\n",
       "  <thead>\n",
       "    <tr style=\"text-align: right;\">\n",
       "      <th></th>\n",
       "      <th>Customer ID</th>\n",
       "      <th>Gender</th>\n",
       "      <th>Age</th>\n",
       "      <th>Under 30</th>\n",
       "      <th>Senior Citizen</th>\n",
       "      <th>Married</th>\n",
       "      <th>Dependents</th>\n",
       "      <th>Number of Dependents</th>\n",
       "      <th>Country</th>\n",
       "      <th>State</th>\n",
       "      <th>City</th>\n",
       "      <th>Zip Code</th>\n",
       "      <th>Latitude</th>\n",
       "      <th>Longitude</th>\n",
       "      <th>Population</th>\n",
       "      <th>Quarter</th>\n",
       "      <th>Referred a Friend</th>\n",
       "      <th>Number of Referrals</th>\n",
       "      <th>Tenure in Months</th>\n",
       "      <th>Offer</th>\n",
       "      <th>Phone Service</th>\n",
       "      <th>Avg Monthly Long Distance Charges</th>\n",
       "      <th>Multiple Lines</th>\n",
       "      <th>Internet Service</th>\n",
       "      <th>Internet Type</th>\n",
       "      <th>Avg Monthly GB Download</th>\n",
       "      <th>Online Security</th>\n",
       "      <th>Online Backup</th>\n",
       "      <th>Device Protection Plan</th>\n",
       "      <th>Premium Tech Support</th>\n",
       "      <th>Streaming TV</th>\n",
       "      <th>Streaming Movies</th>\n",
       "      <th>Streaming Music</th>\n",
       "      <th>Unlimited Data</th>\n",
       "      <th>Contract</th>\n",
       "      <th>Paperless Billing</th>\n",
       "      <th>Payment Method</th>\n",
       "      <th>Monthly Charge</th>\n",
       "      <th>Total Charges</th>\n",
       "      <th>Total Refunds</th>\n",
       "      <th>Total Extra Data Charges</th>\n",
       "      <th>Total Long Distance Charges</th>\n",
       "      <th>Total Revenue</th>\n",
       "      <th>Satisfaction Score</th>\n",
       "      <th>Customer Status</th>\n",
       "      <th>Churn Label</th>\n",
       "      <th>Churn Score</th>\n",
       "      <th>CLTV</th>\n",
       "      <th>Churn Category</th>\n",
       "      <th>Churn Reason</th>\n",
       "    </tr>\n",
       "  </thead>\n",
       "  <tbody>\n",
       "    <tr>\n",
       "      <th>0</th>\n",
       "      <td>8779-QRDMV</td>\n",
       "      <td>Male</td>\n",
       "      <td>78</td>\n",
       "      <td>No</td>\n",
       "      <td>Yes</td>\n",
       "      <td>No</td>\n",
       "      <td>No</td>\n",
       "      <td>0</td>\n",
       "      <td>United States</td>\n",
       "      <td>California</td>\n",
       "      <td>Los Angeles</td>\n",
       "      <td>90022</td>\n",
       "      <td>34.023810</td>\n",
       "      <td>-118.156582</td>\n",
       "      <td>68701</td>\n",
       "      <td>Q3</td>\n",
       "      <td>No</td>\n",
       "      <td>0</td>\n",
       "      <td>1</td>\n",
       "      <td>NaN</td>\n",
       "      <td>No</td>\n",
       "      <td>0.00</td>\n",
       "      <td>No</td>\n",
       "      <td>Yes</td>\n",
       "      <td>DSL</td>\n",
       "      <td>8</td>\n",
       "      <td>No</td>\n",
       "      <td>No</td>\n",
       "      <td>Yes</td>\n",
       "      <td>No</td>\n",
       "      <td>No</td>\n",
       "      <td>Yes</td>\n",
       "      <td>No</td>\n",
       "      <td>No</td>\n",
       "      <td>Month-to-Month</td>\n",
       "      <td>Yes</td>\n",
       "      <td>Bank Withdrawal</td>\n",
       "      <td>39.65</td>\n",
       "      <td>39.65</td>\n",
       "      <td>0.00</td>\n",
       "      <td>20</td>\n",
       "      <td>0.00</td>\n",
       "      <td>59.65</td>\n",
       "      <td>3</td>\n",
       "      <td>Churned</td>\n",
       "      <td>Yes</td>\n",
       "      <td>91</td>\n",
       "      <td>5433</td>\n",
       "      <td>Competitor</td>\n",
       "      <td>Competitor offered more data</td>\n",
       "    </tr>\n",
       "    <tr>\n",
       "      <th>1</th>\n",
       "      <td>7495-OOKFY</td>\n",
       "      <td>Female</td>\n",
       "      <td>74</td>\n",
       "      <td>No</td>\n",
       "      <td>Yes</td>\n",
       "      <td>Yes</td>\n",
       "      <td>Yes</td>\n",
       "      <td>1</td>\n",
       "      <td>United States</td>\n",
       "      <td>California</td>\n",
       "      <td>Los Angeles</td>\n",
       "      <td>90063</td>\n",
       "      <td>34.044271</td>\n",
       "      <td>-118.185237</td>\n",
       "      <td>55668</td>\n",
       "      <td>Q3</td>\n",
       "      <td>Yes</td>\n",
       "      <td>1</td>\n",
       "      <td>8</td>\n",
       "      <td>Offer E</td>\n",
       "      <td>Yes</td>\n",
       "      <td>48.85</td>\n",
       "      <td>Yes</td>\n",
       "      <td>Yes</td>\n",
       "      <td>Fiber Optic</td>\n",
       "      <td>17</td>\n",
       "      <td>No</td>\n",
       "      <td>Yes</td>\n",
       "      <td>No</td>\n",
       "      <td>No</td>\n",
       "      <td>No</td>\n",
       "      <td>No</td>\n",
       "      <td>No</td>\n",
       "      <td>Yes</td>\n",
       "      <td>Month-to-Month</td>\n",
       "      <td>Yes</td>\n",
       "      <td>Credit Card</td>\n",
       "      <td>80.65</td>\n",
       "      <td>633.30</td>\n",
       "      <td>0.00</td>\n",
       "      <td>0</td>\n",
       "      <td>390.80</td>\n",
       "      <td>1024.10</td>\n",
       "      <td>3</td>\n",
       "      <td>Churned</td>\n",
       "      <td>Yes</td>\n",
       "      <td>69</td>\n",
       "      <td>5302</td>\n",
       "      <td>Competitor</td>\n",
       "      <td>Competitor made better offer</td>\n",
       "    </tr>\n",
       "    <tr>\n",
       "      <th>2</th>\n",
       "      <td>1658-BYGOY</td>\n",
       "      <td>Male</td>\n",
       "      <td>71</td>\n",
       "      <td>No</td>\n",
       "      <td>Yes</td>\n",
       "      <td>No</td>\n",
       "      <td>Yes</td>\n",
       "      <td>3</td>\n",
       "      <td>United States</td>\n",
       "      <td>California</td>\n",
       "      <td>Los Angeles</td>\n",
       "      <td>90065</td>\n",
       "      <td>34.108833</td>\n",
       "      <td>-118.229715</td>\n",
       "      <td>47534</td>\n",
       "      <td>Q3</td>\n",
       "      <td>No</td>\n",
       "      <td>0</td>\n",
       "      <td>18</td>\n",
       "      <td>Offer D</td>\n",
       "      <td>Yes</td>\n",
       "      <td>11.33</td>\n",
       "      <td>Yes</td>\n",
       "      <td>Yes</td>\n",
       "      <td>Fiber Optic</td>\n",
       "      <td>52</td>\n",
       "      <td>No</td>\n",
       "      <td>No</td>\n",
       "      <td>No</td>\n",
       "      <td>No</td>\n",
       "      <td>Yes</td>\n",
       "      <td>Yes</td>\n",
       "      <td>Yes</td>\n",
       "      <td>Yes</td>\n",
       "      <td>Month-to-Month</td>\n",
       "      <td>Yes</td>\n",
       "      <td>Bank Withdrawal</td>\n",
       "      <td>95.45</td>\n",
       "      <td>1752.55</td>\n",
       "      <td>45.61</td>\n",
       "      <td>0</td>\n",
       "      <td>203.94</td>\n",
       "      <td>1910.88</td>\n",
       "      <td>2</td>\n",
       "      <td>Churned</td>\n",
       "      <td>Yes</td>\n",
       "      <td>81</td>\n",
       "      <td>3179</td>\n",
       "      <td>Competitor</td>\n",
       "      <td>Competitor made better offer</td>\n",
       "    </tr>\n",
       "    <tr>\n",
       "      <th>3</th>\n",
       "      <td>4598-XLKNJ</td>\n",
       "      <td>Female</td>\n",
       "      <td>78</td>\n",
       "      <td>No</td>\n",
       "      <td>Yes</td>\n",
       "      <td>Yes</td>\n",
       "      <td>Yes</td>\n",
       "      <td>1</td>\n",
       "      <td>United States</td>\n",
       "      <td>California</td>\n",
       "      <td>Inglewood</td>\n",
       "      <td>90303</td>\n",
       "      <td>33.936291</td>\n",
       "      <td>-118.332639</td>\n",
       "      <td>27778</td>\n",
       "      <td>Q3</td>\n",
       "      <td>Yes</td>\n",
       "      <td>1</td>\n",
       "      <td>25</td>\n",
       "      <td>Offer C</td>\n",
       "      <td>Yes</td>\n",
       "      <td>19.76</td>\n",
       "      <td>No</td>\n",
       "      <td>Yes</td>\n",
       "      <td>Fiber Optic</td>\n",
       "      <td>12</td>\n",
       "      <td>No</td>\n",
       "      <td>Yes</td>\n",
       "      <td>Yes</td>\n",
       "      <td>No</td>\n",
       "      <td>Yes</td>\n",
       "      <td>Yes</td>\n",
       "      <td>No</td>\n",
       "      <td>Yes</td>\n",
       "      <td>Month-to-Month</td>\n",
       "      <td>Yes</td>\n",
       "      <td>Bank Withdrawal</td>\n",
       "      <td>98.50</td>\n",
       "      <td>2514.50</td>\n",
       "      <td>13.43</td>\n",
       "      <td>0</td>\n",
       "      <td>494.00</td>\n",
       "      <td>2995.07</td>\n",
       "      <td>2</td>\n",
       "      <td>Churned</td>\n",
       "      <td>Yes</td>\n",
       "      <td>88</td>\n",
       "      <td>5337</td>\n",
       "      <td>Dissatisfaction</td>\n",
       "      <td>Limited range of services</td>\n",
       "    </tr>\n",
       "    <tr>\n",
       "      <th>4</th>\n",
       "      <td>4846-WHAFZ</td>\n",
       "      <td>Female</td>\n",
       "      <td>80</td>\n",
       "      <td>No</td>\n",
       "      <td>Yes</td>\n",
       "      <td>Yes</td>\n",
       "      <td>Yes</td>\n",
       "      <td>1</td>\n",
       "      <td>United States</td>\n",
       "      <td>California</td>\n",
       "      <td>Whittier</td>\n",
       "      <td>90602</td>\n",
       "      <td>33.972119</td>\n",
       "      <td>-118.020188</td>\n",
       "      <td>26265</td>\n",
       "      <td>Q3</td>\n",
       "      <td>Yes</td>\n",
       "      <td>1</td>\n",
       "      <td>37</td>\n",
       "      <td>Offer C</td>\n",
       "      <td>Yes</td>\n",
       "      <td>6.33</td>\n",
       "      <td>Yes</td>\n",
       "      <td>Yes</td>\n",
       "      <td>Fiber Optic</td>\n",
       "      <td>14</td>\n",
       "      <td>No</td>\n",
       "      <td>No</td>\n",
       "      <td>No</td>\n",
       "      <td>No</td>\n",
       "      <td>No</td>\n",
       "      <td>No</td>\n",
       "      <td>No</td>\n",
       "      <td>Yes</td>\n",
       "      <td>Month-to-Month</td>\n",
       "      <td>Yes</td>\n",
       "      <td>Bank Withdrawal</td>\n",
       "      <td>76.50</td>\n",
       "      <td>2868.15</td>\n",
       "      <td>0.00</td>\n",
       "      <td>0</td>\n",
       "      <td>234.21</td>\n",
       "      <td>3102.36</td>\n",
       "      <td>2</td>\n",
       "      <td>Churned</td>\n",
       "      <td>Yes</td>\n",
       "      <td>67</td>\n",
       "      <td>2793</td>\n",
       "      <td>Price</td>\n",
       "      <td>Extra data charges</td>\n",
       "    </tr>\n",
       "  </tbody>\n",
       "</table>\n",
       "</div>"
      ],
      "text/plain": [
       "  Customer ID  Gender  Age Under 30 Senior Citizen Married Dependents  \\\n",
       "0  8779-QRDMV    Male   78       No            Yes      No         No   \n",
       "1  7495-OOKFY  Female   74       No            Yes     Yes        Yes   \n",
       "2  1658-BYGOY    Male   71       No            Yes      No        Yes   \n",
       "3  4598-XLKNJ  Female   78       No            Yes     Yes        Yes   \n",
       "4  4846-WHAFZ  Female   80       No            Yes     Yes        Yes   \n",
       "\n",
       "   Number of Dependents        Country       State         City  Zip Code  \\\n",
       "0                     0  United States  California  Los Angeles     90022   \n",
       "1                     1  United States  California  Los Angeles     90063   \n",
       "2                     3  United States  California  Los Angeles     90065   \n",
       "3                     1  United States  California    Inglewood     90303   \n",
       "4                     1  United States  California     Whittier     90602   \n",
       "\n",
       "    Latitude   Longitude  Population Quarter Referred a Friend  \\\n",
       "0  34.023810 -118.156582       68701      Q3                No   \n",
       "1  34.044271 -118.185237       55668      Q3               Yes   \n",
       "2  34.108833 -118.229715       47534      Q3                No   \n",
       "3  33.936291 -118.332639       27778      Q3               Yes   \n",
       "4  33.972119 -118.020188       26265      Q3               Yes   \n",
       "\n",
       "   Number of Referrals  Tenure in Months    Offer Phone Service  \\\n",
       "0                    0                 1      NaN            No   \n",
       "1                    1                 8  Offer E           Yes   \n",
       "2                    0                18  Offer D           Yes   \n",
       "3                    1                25  Offer C           Yes   \n",
       "4                    1                37  Offer C           Yes   \n",
       "\n",
       "   Avg Monthly Long Distance Charges Multiple Lines Internet Service  \\\n",
       "0                               0.00             No              Yes   \n",
       "1                              48.85            Yes              Yes   \n",
       "2                              11.33            Yes              Yes   \n",
       "3                              19.76             No              Yes   \n",
       "4                               6.33            Yes              Yes   \n",
       "\n",
       "  Internet Type  Avg Monthly GB Download Online Security Online Backup  \\\n",
       "0           DSL                        8              No            No   \n",
       "1   Fiber Optic                       17              No           Yes   \n",
       "2   Fiber Optic                       52              No            No   \n",
       "3   Fiber Optic                       12              No           Yes   \n",
       "4   Fiber Optic                       14              No            No   \n",
       "\n",
       "  Device Protection Plan Premium Tech Support Streaming TV Streaming Movies  \\\n",
       "0                    Yes                   No           No              Yes   \n",
       "1                     No                   No           No               No   \n",
       "2                     No                   No          Yes              Yes   \n",
       "3                    Yes                   No          Yes              Yes   \n",
       "4                     No                   No           No               No   \n",
       "\n",
       "  Streaming Music Unlimited Data        Contract Paperless Billing  \\\n",
       "0              No             No  Month-to-Month               Yes   \n",
       "1              No            Yes  Month-to-Month               Yes   \n",
       "2             Yes            Yes  Month-to-Month               Yes   \n",
       "3              No            Yes  Month-to-Month               Yes   \n",
       "4              No            Yes  Month-to-Month               Yes   \n",
       "\n",
       "    Payment Method  Monthly Charge  Total Charges  Total Refunds  \\\n",
       "0  Bank Withdrawal           39.65          39.65           0.00   \n",
       "1      Credit Card           80.65         633.30           0.00   \n",
       "2  Bank Withdrawal           95.45        1752.55          45.61   \n",
       "3  Bank Withdrawal           98.50        2514.50          13.43   \n",
       "4  Bank Withdrawal           76.50        2868.15           0.00   \n",
       "\n",
       "   Total Extra Data Charges  Total Long Distance Charges  Total Revenue  \\\n",
       "0                        20                         0.00          59.65   \n",
       "1                         0                       390.80        1024.10   \n",
       "2                         0                       203.94        1910.88   \n",
       "3                         0                       494.00        2995.07   \n",
       "4                         0                       234.21        3102.36   \n",
       "\n",
       "   Satisfaction Score Customer Status Churn Label  Churn Score  CLTV  \\\n",
       "0                   3         Churned         Yes           91  5433   \n",
       "1                   3         Churned         Yes           69  5302   \n",
       "2                   2         Churned         Yes           81  3179   \n",
       "3                   2         Churned         Yes           88  5337   \n",
       "4                   2         Churned         Yes           67  2793   \n",
       "\n",
       "    Churn Category                  Churn Reason  \n",
       "0       Competitor  Competitor offered more data  \n",
       "1       Competitor  Competitor made better offer  \n",
       "2       Competitor  Competitor made better offer  \n",
       "3  Dissatisfaction     Limited range of services  \n",
       "4            Price            Extra data charges  "
      ]
     },
     "execution_count": 5,
     "metadata": {},
     "output_type": "execute_result"
    }
   ],
   "source": [
    "data.head()"
   ]
  },
  {
   "cell_type": "code",
   "execution_count": 6,
   "id": "5786331a-5d32-4545-99d1-6203e0a17e86",
   "metadata": {},
   "outputs": [
    {
     "name": "stdout",
     "output_type": "stream",
     "text": [
      "<class 'pandas.core.frame.DataFrame'>\n",
      "RangeIndex: 7043 entries, 0 to 7042\n",
      "Data columns (total 50 columns):\n",
      " #   Column                             Non-Null Count  Dtype  \n",
      "---  ------                             --------------  -----  \n",
      " 0   Customer ID                        7043 non-null   object \n",
      " 1   Gender                             7043 non-null   object \n",
      " 2   Age                                7043 non-null   int64  \n",
      " 3   Under 30                           7043 non-null   object \n",
      " 4   Senior Citizen                     7043 non-null   object \n",
      " 5   Married                            7043 non-null   object \n",
      " 6   Dependents                         7043 non-null   object \n",
      " 7   Number of Dependents               7043 non-null   int64  \n",
      " 8   Country                            7043 non-null   object \n",
      " 9   State                              7043 non-null   object \n",
      " 10  City                               7043 non-null   object \n",
      " 11  Zip Code                           7043 non-null   int64  \n",
      " 12  Latitude                           7043 non-null   float64\n",
      " 13  Longitude                          7043 non-null   float64\n",
      " 14  Population                         7043 non-null   int64  \n",
      " 15  Quarter                            7043 non-null   object \n",
      " 16  Referred a Friend                  7043 non-null   object \n",
      " 17  Number of Referrals                7043 non-null   int64  \n",
      " 18  Tenure in Months                   7043 non-null   int64  \n",
      " 19  Offer                              3166 non-null   object \n",
      " 20  Phone Service                      7043 non-null   object \n",
      " 21  Avg Monthly Long Distance Charges  7043 non-null   float64\n",
      " 22  Multiple Lines                     7043 non-null   object \n",
      " 23  Internet Service                   7043 non-null   object \n",
      " 24  Internet Type                      5517 non-null   object \n",
      " 25  Avg Monthly GB Download            7043 non-null   int64  \n",
      " 26  Online Security                    7043 non-null   object \n",
      " 27  Online Backup                      7043 non-null   object \n",
      " 28  Device Protection Plan             7043 non-null   object \n",
      " 29  Premium Tech Support               7043 non-null   object \n",
      " 30  Streaming TV                       7043 non-null   object \n",
      " 31  Streaming Movies                   7043 non-null   object \n",
      " 32  Streaming Music                    7043 non-null   object \n",
      " 33  Unlimited Data                     7043 non-null   object \n",
      " 34  Contract                           7043 non-null   object \n",
      " 35  Paperless Billing                  7043 non-null   object \n",
      " 36  Payment Method                     7043 non-null   object \n",
      " 37  Monthly Charge                     7043 non-null   float64\n",
      " 38  Total Charges                      7043 non-null   float64\n",
      " 39  Total Refunds                      7043 non-null   float64\n",
      " 40  Total Extra Data Charges           7043 non-null   int64  \n",
      " 41  Total Long Distance Charges        7043 non-null   float64\n",
      " 42  Total Revenue                      7043 non-null   float64\n",
      " 43  Satisfaction Score                 7043 non-null   int64  \n",
      " 44  Customer Status                    7043 non-null   object \n",
      " 45  Churn Label                        7043 non-null   object \n",
      " 46  Churn Score                        7043 non-null   int64  \n",
      " 47  CLTV                               7043 non-null   int64  \n",
      " 48  Churn Category                     1869 non-null   object \n",
      " 49  Churn Reason                       1869 non-null   object \n",
      "dtypes: float64(8), int64(11), object(31)\n",
      "memory usage: 2.7+ MB\n"
     ]
    }
   ],
   "source": [
    "data.info()"
   ]
  },
  {
   "cell_type": "markdown",
   "id": "94162f42",
   "metadata": {},
   "source": [
    "# 3. Data Splitting"
   ]
  },
  {
   "cell_type": "code",
   "execution_count": 7,
   "id": "359f42e1",
   "metadata": {},
   "outputs": [],
   "source": [
    "#X = data.drop(\"Churn Label\", axis=1) \n",
    "#y = data[\"Churn Label\"]\n",
    "\n",
    "##Decidimos que es mejor despues"
   ]
  },
  {
   "cell_type": "code",
   "execution_count": 8,
   "id": "d4393443",
   "metadata": {},
   "outputs": [],
   "source": [
    "#X_trainin, X_test, y_train, y_test = train_test_split(X, y, test_size=0.2, random_state=42)"
   ]
  },
  {
   "cell_type": "markdown",
   "id": "9184a719",
   "metadata": {},
   "source": [
    "# 4. Exploratory Data Analysis"
   ]
  },
  {
   "cell_type": "code",
   "execution_count": 9,
   "id": "8cb1c9ea-8988-4673-9604-4cb7cf5e5532",
   "metadata": {},
   "outputs": [
    {
     "name": "stdout",
     "output_type": "stream",
     "text": [
      "<class 'pandas.core.frame.DataFrame'>\n",
      "RangeIndex: 7043 entries, 0 to 7042\n",
      "Data columns (total 50 columns):\n",
      " #   Column                             Non-Null Count  Dtype  \n",
      "---  ------                             --------------  -----  \n",
      " 0   Customer ID                        7043 non-null   object \n",
      " 1   Gender                             7043 non-null   object \n",
      " 2   Age                                7043 non-null   int64  \n",
      " 3   Under 30                           7043 non-null   object \n",
      " 4   Senior Citizen                     7043 non-null   object \n",
      " 5   Married                            7043 non-null   object \n",
      " 6   Dependents                         7043 non-null   object \n",
      " 7   Number of Dependents               7043 non-null   int64  \n",
      " 8   Country                            7043 non-null   object \n",
      " 9   State                              7043 non-null   object \n",
      " 10  City                               7043 non-null   object \n",
      " 11  Zip Code                           7043 non-null   int64  \n",
      " 12  Latitude                           7043 non-null   float64\n",
      " 13  Longitude                          7043 non-null   float64\n",
      " 14  Population                         7043 non-null   int64  \n",
      " 15  Quarter                            7043 non-null   object \n",
      " 16  Referred a Friend                  7043 non-null   object \n",
      " 17  Number of Referrals                7043 non-null   int64  \n",
      " 18  Tenure in Months                   7043 non-null   int64  \n",
      " 19  Offer                              3166 non-null   object \n",
      " 20  Phone Service                      7043 non-null   object \n",
      " 21  Avg Monthly Long Distance Charges  7043 non-null   float64\n",
      " 22  Multiple Lines                     7043 non-null   object \n",
      " 23  Internet Service                   7043 non-null   object \n",
      " 24  Internet Type                      5517 non-null   object \n",
      " 25  Avg Monthly GB Download            7043 non-null   int64  \n",
      " 26  Online Security                    7043 non-null   object \n",
      " 27  Online Backup                      7043 non-null   object \n",
      " 28  Device Protection Plan             7043 non-null   object \n",
      " 29  Premium Tech Support               7043 non-null   object \n",
      " 30  Streaming TV                       7043 non-null   object \n",
      " 31  Streaming Movies                   7043 non-null   object \n",
      " 32  Streaming Music                    7043 non-null   object \n",
      " 33  Unlimited Data                     7043 non-null   object \n",
      " 34  Contract                           7043 non-null   object \n",
      " 35  Paperless Billing                  7043 non-null   object \n",
      " 36  Payment Method                     7043 non-null   object \n",
      " 37  Monthly Charge                     7043 non-null   float64\n",
      " 38  Total Charges                      7043 non-null   float64\n",
      " 39  Total Refunds                      7043 non-null   float64\n",
      " 40  Total Extra Data Charges           7043 non-null   int64  \n",
      " 41  Total Long Distance Charges        7043 non-null   float64\n",
      " 42  Total Revenue                      7043 non-null   float64\n",
      " 43  Satisfaction Score                 7043 non-null   int64  \n",
      " 44  Customer Status                    7043 non-null   object \n",
      " 45  Churn Label                        7043 non-null   object \n",
      " 46  Churn Score                        7043 non-null   int64  \n",
      " 47  CLTV                               7043 non-null   int64  \n",
      " 48  Churn Category                     1869 non-null   object \n",
      " 49  Churn Reason                       1869 non-null   object \n",
      "dtypes: float64(8), int64(11), object(31)\n",
      "memory usage: 2.7+ MB\n"
     ]
    }
   ],
   "source": [
    "# Your code here. Exploratory data analysis can be done before splitting, but do not transform the dataset before splitting.\n",
    "data.info() #No valores nulos "
   ]
  },
  {
   "cell_type": "code",
   "execution_count": 10,
   "id": "0fdf26b2-c42e-4e39-bfef-97a6fee31442",
   "metadata": {},
   "outputs": [
    {
     "name": "stdout",
     "output_type": "stream",
     "text": [
      "Porcentaje de valores faltantes en la columna 'Offer': 55.05%\n"
     ]
    }
   ],
   "source": [
    "missing_percentage_Offer = (data['Offer'].isnull().sum() / len(data)) * 100\n",
    "print(f\"Porcentaje de valores faltantes en la columna 'Offer': {missing_percentage_Offer:.2f}%\")"
   ]
  },
  {
   "cell_type": "code",
   "execution_count": 11,
   "id": "8f2a6c4f-d8ff-4b34-80da-9520916b9930",
   "metadata": {},
   "outputs": [
    {
     "name": "stdout",
     "output_type": "stream",
     "text": [
      "Porcentaje de valores faltantes en la columna 'Internet Type': 21.67%\n"
     ]
    }
   ],
   "source": [
    "missing_percentage_Internet_Type = (data['Internet Type'].isnull().sum() / len(data)) * 100\n",
    "print(f\"Porcentaje de valores faltantes en la columna 'Internet Type': {missing_percentage_Internet_Type:.2f}%\")"
   ]
  },
  {
   "cell_type": "code",
   "execution_count": 12,
   "id": "f0abd519-4d49-4d54-9c0c-6eaf4740f524",
   "metadata": {},
   "outputs": [],
   "source": [
    "#Estructura de los datos y resumen:  El dataset original tiene 50 columnas,\n",
    "#con variables de datos demográficos, geográficas, con información sobre los servicios,\n",
    "#datos financieros, y satisfacción y comportamiento del cliente.\n",
    "#Análisis de datos faltantes: Las siguientes columnas tienen valores faltantes:  Offer (55,05%)  e Internet Type (21,67%) \n",
    "#Esta información está relacionada con los clientes que se han dado de baja, y se van a ir evaluando a medida que \n",
    "#se realice el estudio del dataset"
   ]
  },
  {
   "cell_type": "code",
   "execution_count": 13,
   "id": "2491f775-6a53-441d-93a3-91c3cd01b1a1",
   "metadata": {},
   "outputs": [
    {
     "name": "stderr",
     "output_type": "stream",
     "text": [
      "C:\\Users\\micha\\anaconda3\\Lib\\site-packages\\seaborn\\_oldcore.py:1119: FutureWarning: use_inf_as_na option is deprecated and will be removed in a future version. Convert inf values to NaN before operating instead.\n",
      "  with pd.option_context('mode.use_inf_as_na', True):\n"
     ]
    },
    {
     "data": {
      "image/png": "[encoded data removed]",
      "text/plain": [
       "<Figure size 1000x600 with 1 Axes>"
      ]
     },
     "metadata": {},
     "output_type": "display_data"
    }
   ],
   "source": [
    "plt.figure(figsize=(10, 6))\n",
    "sns.histplot(data['Age'], bins=20, kde=True, color='skyblue')\n",
    "plt.title('Distribución de la Edad de los Clientes')\n",
    "plt.xlabel('Edad')\n",
    "plt.ylabel('Frecuencia')\n",
    "plt.show()"
   ]
  },
  {
   "cell_type": "code",
   "execution_count": 14,
   "id": "cd7357c1-ca46-491b-a139-76b42b002329",
   "metadata": {},
   "outputs": [
    {
     "name": "stdout",
     "output_type": "stream",
     "text": [
      "La media de la edad es: 46.50972596904728\n"
     ]
    }
   ],
   "source": [
    "mean_age = data['Age'].mean()\n",
    "print(f\"La media de la edad es: {mean_age}\")"
   ]
  },
  {
   "cell_type": "code",
   "execution_count": 15,
   "id": "39fa3baa-5c6a-4621-83db-7c4f9ebbc396",
   "metadata": {},
   "outputs": [
    {
     "data": {
      "text/plain": [
       "count    7043.000000\n",
       "mean       46.509726\n",
       "std        16.750352\n",
       "min        19.000000\n",
       "25%        32.000000\n",
       "50%        46.000000\n",
       "75%        60.000000\n",
       "max        80.000000\n",
       "Name: Age, dtype: float64"
      ]
     },
     "execution_count": 15,
     "metadata": {},
     "output_type": "execute_result"
    }
   ],
   "source": [
    "data['Age'].describe()"
   ]
  },
  {
   "cell_type": "code",
   "execution_count": 16,
   "id": "416fb34e-8165-4e19-872a-8f750b86d3b5",
   "metadata": {},
   "outputs": [
    {
     "ename": "NameError",
     "evalue": "name 'Age_cuartiles' is not defined",
     "output_type": "error",
     "traceback": [
      "\u001b[1;31m---------------------------------------------------------------------------\u001b[0m",
      "\u001b[1;31mNameError\u001b[0m                                 Traceback (most recent call last)",
      "Cell \u001b[1;32mIn[16], line 2\u001b[0m\n\u001b[0;32m      1\u001b[0m data[\u001b[38;5;124m\"\u001b[39m\u001b[38;5;124mAge_cuartiles\u001b[39m\u001b[38;5;124m\"\u001b[39m] \u001b[38;5;241m=\u001b[39m pd\u001b[38;5;241m.\u001b[39mqcut(data[\u001b[38;5;124m'\u001b[39m\u001b[38;5;124mAge\u001b[39m\u001b[38;5;124m'\u001b[39m], q\u001b[38;5;241m=\u001b[39m\u001b[38;5;241m4\u001b[39m)\n\u001b[1;32m----> 2\u001b[0m \u001b[38;5;28mprint\u001b[39m(Age_cuartiles)\n",
      "\u001b[1;31mNameError\u001b[0m: name 'Age_cuartiles' is not defined"
     ]
    }
   ],
   "source": [
    "data[\"Age_cuartiles\"] = pd.qcut(data['Age'], q=4)\n",
    "print(Age_cuartiles)"
   ]
  },
  {
   "cell_type": "code",
   "execution_count": null,
   "id": "45c9a15c-f90f-41f9-a51a-2aa7ed79cddf",
   "metadata": {},
   "outputs": [],
   "source": [
    "# Agrupar por los cuartiles de edad y contar los valores normalizados (proporciones) de \"Churn Label\"\n",
    "proporciones = data.groupby(\"Age_cuartiles\")[\"Churn Label\"].value_counts(normalize=True)\n",
    "\n",
    "# Mostrar el resultado\n",
    "print(proporciones)"
   ]
  },
  {
   "cell_type": "code",
   "execution_count": null,
   "id": "f8d1474d-3baa-4ebd-a126-8e262c9567ae",
   "metadata": {},
   "outputs": [],
   "source": [
    "#Si agrupamos en cuartiles por edad, los que más hacen churn son los de 60 a 80 años."
   ]
  },
  {
   "cell_type": "code",
   "execution_count": null,
   "id": "b6465877-d0e4-4d03-a722-3af6bd362e22",
   "metadata": {},
   "outputs": [],
   "source": [
    "#Los rangos de edad están desde los 19 a 80 años, siendo la media alrededor de los 46.50 años"
   ]
  },
  {
   "cell_type": "code",
   "execution_count": null,
   "id": "ff36f8a2-c6e9-4e4d-b82e-ed61a1826af3",
   "metadata": {},
   "outputs": [],
   "source": [
    "data['Tenure in Months'].describe()"
   ]
  },
  {
   "cell_type": "code",
   "execution_count": null,
   "id": "3b282705",
   "metadata": {},
   "outputs": [],
   "source": [
    "data[\"Multiple Lines\"].value_counts(normalize=True)"
   ]
  },
  {
   "cell_type": "code",
   "execution_count": null,
   "id": "24629029-d6cf-48bf-812a-e350e89499f5",
   "metadata": {},
   "outputs": [],
   "source": [
    "#con select dtypes, excluyendo los números, escojo solo las categóricas\n",
    "categorical_columns = data.select_dtypes(exclude=[\"number\"]).columns"
   ]
  },
  {
   "cell_type": "code",
   "execution_count": null,
   "id": "c1131c67-55bc-4bd7-bcee-7b4d6db9c121",
   "metadata": {},
   "outputs": [],
   "source": [
    "categorical_columns"
   ]
  },
  {
   "cell_type": "code",
   "execution_count": null,
   "id": "fa0f2c3f-6cf2-4521-9620-f13db9f8b95e",
   "metadata": {},
   "outputs": [],
   "source": [
    "data.groupby(\"Internet Service\")[\"Churn Label\"].value_counts()"
   ]
  },
  {
   "cell_type": "code",
   "execution_count": null,
   "id": "30999007-48c9-47f2-bd89-34bdeb5cc8dd",
   "metadata": {},
   "outputs": [],
   "source": [
    "data.groupby(\"Internet Service\")[\"Churn Label\"].value_counts(normalize=True)"
   ]
  },
  {
   "cell_type": "code",
   "execution_count": null,
   "id": "8cb90c3f-dfe6-4be2-a7e3-740bf964389b",
   "metadata": {},
   "outputs": [],
   "source": [
    "#De los que NO tienen internet, hay una mayor proporción de NO hacer churn.  "
   ]
  },
  {
   "cell_type": "code",
   "execution_count": null,
   "id": "9190be98-5e3d-4787-aa0c-eadaf2bbad2d",
   "metadata": {},
   "outputs": [],
   "source": [
    "from scipy.stats import chi2_contingency\n",
    "\n",
    "# Crear tabla de contingencia entre 'Internet Service' y 'Churn Label'\n",
    "tabla_contingencia = pd.crosstab(data['Internet Service'], data['Churn Label'])\n",
    "\n",
    "# Aplicar la prueba Chi-cuadrado\n",
    "chi2, p, dof, expected = chi2_contingency(tabla_contingencia)\n",
    "\n",
    "print(f\"Chi-cuadrado: {chi2}\")\n",
    "print(f\"Valor p: {p}\")"
   ]
  },
  {
   "cell_type": "code",
   "execution_count": null,
   "id": "7a26a872-623b-4b54-8d61-f85b79b9b8cd",
   "metadata": {},
   "outputs": [],
   "source": [
    "import numpy as np\n",
    "\n",
    "# Calcular el índice de Cramér\n",
    "n = data.shape[0]  # número de observaciones\n",
    "cramer_v = np.sqrt(chi2 / (n * (min(tabla_contingencia.shape) - 1)))\n",
    "\n",
    "print(f\"Índice de Cramér: {cramer_v}\")\n"
   ]
  },
  {
   "cell_type": "code",
   "execution_count": null,
   "id": "e2ef7ad3-0af6-4dbb-86da-eb91f65705c9",
   "metadata": {},
   "outputs": [],
   "source": [
    "#Hay una correlación débil entre tener servicio de internet y hacer churn"
   ]
  },
  {
   "cell_type": "code",
   "execution_count": null,
   "id": "208dd325-9bee-4d5a-86f7-50c1d062dd2a",
   "metadata": {},
   "outputs": [],
   "source": [
    "data.groupby(\"Multiple Lines\")[\"Churn Label\"].value_counts()"
   ]
  },
  {
   "cell_type": "code",
   "execution_count": null,
   "id": "10229782-1051-459b-8d42-3902a9dce606",
   "metadata": {},
   "outputs": [],
   "source": [
    "data.groupby(\"Multiple Lines\")[\"Churn Label\"].value_counts(normalize=True)"
   ]
  },
  {
   "cell_type": "code",
   "execution_count": null,
   "id": "574aa620-e2d1-4553-96a0-9e22c1ce5728",
   "metadata": {},
   "outputs": [],
   "source": [
    "#hay más clientes que hacen churn cuando tienen múltiples líneas, sin embargo la diferencia no es muy drástica"
   ]
  },
  {
   "cell_type": "code",
   "execution_count": null,
   "id": "45212fc1-c568-40db-ab43-0e472be11447",
   "metadata": {},
   "outputs": [],
   "source": [
    "# Crear tabla de contingencia\n",
    "tabla_contingencia_multiple_lines = pd.crosstab(data['Multiple Lines'], data['Churn Label'])\n",
    "\n",
    "# Aplicar la prueba Chi-cuadrado\n",
    "chi2_multiple_lines, p_multiple_lines, dof_multiple_lines, expected_multiple_lines = chi2_contingency(tabla_contingencia_multiple_lines)\n",
    "\n",
    "# Calcular el índice de Cramér\n",
    "n_multiple_lines = data.shape[0]  # número de observaciones\n",
    "cramer_v_multiple_lines = np.sqrt(chi2_multiple_lines / (n_multiple_lines * (min(tabla_contingencia_multiple_lines.shape) - 1)))\n",
    "\n",
    "# Mostrar resultados\n",
    "print(f\"Chi-cuadrado: {chi2_multiple_lines}\")\n",
    "print(f\"Valor p: {p_multiple_lines}\")\n",
    "print(f\"Índice de Cramér: {cramer_v_multiple_lines}\")\n"
   ]
  },
  {
   "cell_type": "code",
   "execution_count": null,
   "id": "2d2f40d3",
   "metadata": {},
   "outputs": [],
   "source": [
    "data[\"Satisfaction Score\"].value_counts()"
   ]
  },
  {
   "cell_type": "code",
   "execution_count": null,
   "id": "64eb1098-2461-4739-ba74-68afff3c9134",
   "metadata": {},
   "outputs": [],
   "source": [
    "data.groupby(\"Satisfaction Score\")[\"Churn Label\"].value_counts()"
   ]
  },
  {
   "cell_type": "code",
   "execution_count": null,
   "id": "2a6ee29a-8eee-4042-b568-7bf99c51da64",
   "metadata": {},
   "outputs": [],
   "source": [
    "data.groupby(\"Satisfaction Score\")[\"Churn Label\"].value_counts(normalize=True)"
   ]
  },
  {
   "cell_type": "code",
   "execution_count": null,
   "id": "49d83640-182e-46b2-b79d-8d9f36bc6ce7",
   "metadata": {},
   "outputs": [],
   "source": [
    "#Clientes que tienen menos de 3 en score, van a hacer churn. Los que tienen más de 3 no harán churn. \n",
    "#Si tienen = 3, hay menor probabilidad de que hagan churn."
   ]
  },
  {
   "cell_type": "markdown",
   "id": "97f4f7d3-cf80-46df-9b28-63cb061ee3b4",
   "metadata": {},
   "source": [
    "## FEATURE ENGINEERING"
   ]
  },
  {
   "cell_type": "code",
   "execution_count": null,
   "id": "1fb23763-68e3-4b21-a2af-025166f717ee",
   "metadata": {},
   "outputs": [],
   "source": [
    "# Crear una nueva columna categórica para los niveles de satisfacción\n",
    "data['Satisfaction_Level'] = pd.cut(data['Satisfaction Score'], \n",
    "                                    bins=[0, 2, 3, 5],  # Límites de los grupos\n",
    "                                    labels=['Baja', 'Media', 'Alta'])  # Nombres de los grupos\n",
    "\n",
    "# Ver el resultado agrupado\n",
    "print(data.groupby('Satisfaction_Level')[\"Churn Label\"].value_counts(normalize=True))"
   ]
  },
  {
   "cell_type": "code",
   "execution_count": null,
   "id": "323ffd9e-f83c-4a5a-863f-8c16dfbc2604",
   "metadata": {},
   "outputs": [],
   "source": [
    "#Los valores del 1 al 2 serán categorizados como \"Bajo\", el 3 como \"Medio\" y del 4 al 5 como \"Alto\"."
   ]
  },
  {
   "cell_type": "code",
   "execution_count": null,
   "id": "bed844c3-3aac-4736-942f-7478cfcde73c",
   "metadata": {},
   "outputs": [],
   "source": [
    "# Crear una tabla de contingencia entre los niveles de satisfacción y el churn\n",
    "tabla_contingencia_satisfaction = pd.crosstab(data['Satisfaction_Level'], data['Churn Label'])\n",
    "\n",
    "# Aplicar la prueba Chi-cuadrado\n",
    "chi2_satisfaction, p_satisfaction, dof_satisfaction, expected_satisfaction = chi2_contingency(tabla_contingencia_satisfaction)\n",
    "\n",
    "# Calcular el índice de Cramér\n",
    "n_satisfaction = data.shape[0]  # número de observaciones\n",
    "cramer_v_satisfaction = np.sqrt(chi2_satisfaction / (n_satisfaction * (min(tabla_contingencia_satisfaction.shape) - 1)))\n",
    "\n",
    "# Mostrar resultados\n",
    "print(f\"Chi-cuadrado: {chi2_satisfaction}\")\n",
    "print(f\"Valor p: {p_satisfaction}\")\n",
    "print(f\"Índice de Cramér: {cramer_v_satisfaction}\")\n"
   ]
  },
  {
   "cell_type": "code",
   "execution_count": null,
   "id": "00be0772-a762-4a2a-b6f6-ac3beef257c2",
   "metadata": {},
   "outputs": [],
   "source": [
    "data.groupby(\"Referred a Friend\")[\"Churn Label\"].value_counts(normalize=True)"
   ]
  },
  {
   "cell_type": "code",
   "execution_count": null,
   "id": "ba724684-e072-46f6-aa6d-e562ba3833f9",
   "metadata": {},
   "outputs": [],
   "source": [
    "data.groupby([\"Satisfaction_Level\",\"Referred a Friend\"])[\"Churn Label\"].value_counts(normalize=True)"
   ]
  },
  {
   "cell_type": "code",
   "execution_count": null,
   "id": "b72993a3-3d43-4a37-adf8-0a7607856588",
   "metadata": {},
   "outputs": [],
   "source": [
    "#Bajo nivel de satisfacción, siempre habrá churn sin importar referencias.\n",
    "#Medio nivel de satisfacción, hay mayor proporción de churn si no ha hecho referencias.\n",
    "#Alto nivel nunca tiene churn"
   ]
  },
  {
   "cell_type": "code",
   "execution_count": null,
   "id": "6c3b36d6-0c9d-4fd8-a2e2-dd5b52f559bf",
   "metadata": {},
   "outputs": [],
   "source": [
    "# Crear una tabla de contingencia entre \"Referred a Friend\" y \"Churn Label\"\n",
    "tabla_contingencia_referred = pd.crosstab(data['Referred a Friend'], data['Churn Label'])\n",
    "\n",
    "# Aplicar la prueba Chi-cuadrado\n",
    "chi2_referred, p_referred, dof_referred, expected_referred = chi2_contingency(tabla_contingencia_referred)\n",
    "\n",
    "# Calcular el índice de Cramér\n",
    "n_referred = data.shape[0]  # número de observaciones\n",
    "cramer_v_referred = np.sqrt(chi2_referred / (n_referred * (min(tabla_contingencia_referred.shape) - 1)))\n",
    "\n",
    "# Mostrar resultados\n",
    "print(f\"Chi-cuadrado: {chi2_referred}\")\n",
    "print(f\"Valor p: {p_referred}\")\n",
    "print(f\"Índice de Cramér: {cramer_v_referred}\")\n"
   ]
  },
  {
   "cell_type": "code",
   "execution_count": null,
   "id": "4d4fdd72",
   "metadata": {},
   "outputs": [],
   "source": [
    "data[\"Churn Label\"].value_counts(normalize=\"True\")"
   ]
  },
  {
   "cell_type": "code",
   "execution_count": null,
   "id": "c95fed18",
   "metadata": {},
   "outputs": [],
   "source": [
    "data[\"Payment Method\"].value_counts(normalize=True) ##Mas de la mitad son por Bank"
   ]
  },
  {
   "cell_type": "code",
   "execution_count": null,
   "id": "3b6dd79c-aad3-43e3-b081-ff28ed576af8",
   "metadata": {},
   "outputs": [],
   "source": [
    "data.groupby(\"Payment Method\")[\"Churn Label\"].value_counts(normalize=True)"
   ]
  },
  {
   "cell_type": "code",
   "execution_count": null,
   "id": "52223573-b773-44c2-8401-bbcef2fbca05",
   "metadata": {},
   "outputs": [],
   "source": [
    "# Crear el DataFrame a partir de tus datos\n",
    "data_frame = {'Payment Method': ['Bank Withdrawal', 'Bank Withdrawal', 'Credit Card', 'Credit Card', 'Mailed Check', 'Mailed Check'],\n",
    "        'Churn Label': ['No', 'Yes', 'No', 'Yes', 'No', 'Yes'],\n",
    "        'Proportion': [0.660015, 0.339985, 0.855220, 0.144780, 0.631169, 0.368831]}\n",
    "\n",
    "df = pd.DataFrame(data_frame)\n",
    "\n",
    "# Pivotar la tabla para que Churn Label sea la columna\n",
    "pivot_df = df.pivot(index='Payment Method', columns='Churn Label', values='Proportion')\n",
    "\n",
    "# Graficar barras apiladas\n",
    "pivot_df.plot(kind='bar', stacked=True)\n",
    "\n",
    "plt.title('Proporción de Churn por Método de Pago')\n",
    "plt.ylabel('Proporción')\n",
    "plt.xticks(rotation=45)\n",
    "plt.show()"
   ]
  },
  {
   "cell_type": "code",
   "execution_count": null,
   "id": "a6264293-6de9-47dc-8e24-1417e5cc6d54",
   "metadata": {},
   "outputs": [],
   "source": [
    "#Los que menos hacen churn son los que pagan con tarjeta de crédito. "
   ]
  },
  {
   "cell_type": "code",
   "execution_count": null,
   "id": "b69be91a-7e83-4454-8181-b69ce9651c22",
   "metadata": {},
   "outputs": [],
   "source": [
    "data[\"City\"].value_counts()"
   ]
  },
  {
   "cell_type": "code",
   "execution_count": null,
   "id": "30ce5b87-3199-4520-8cff-f7be5ba9fb93",
   "metadata": {},
   "outputs": [],
   "source": [
    "data[\"City\"].describe()"
   ]
  },
  {
   "cell_type": "code",
   "execution_count": null,
   "id": "9007e405-7ecc-40dd-8ee2-9337ba0f0470",
   "metadata": {},
   "outputs": [],
   "source": [
    "data.groupby(\"Age\")[\"Churn Label\"].value_counts()"
   ]
  },
  {
   "cell_type": "code",
   "execution_count": null,
   "id": "b4175772-83f5-45d1-af62-54d1b057d03e",
   "metadata": {},
   "outputs": [],
   "source": [
    "data.groupby(\"City\")[\"Churn Label\"].value_counts(normalize=True)"
   ]
  },
  {
   "cell_type": "code",
   "execution_count": null,
   "id": "d400e890-553c-40e1-833c-d37043cd0784",
   "metadata": {},
   "outputs": [],
   "source": [
    "data.groupby(\"City\")[\"Churn Label\"].value_counts()"
   ]
  },
  {
   "cell_type": "code",
   "execution_count": null,
   "id": "f4d78ac4-9e62-4feb-818e-64bbcb4c01a9",
   "metadata": {},
   "outputs": [],
   "source": [
    "data[\"City\"].value_counts()"
   ]
  },
  {
   "cell_type": "code",
   "execution_count": null,
   "id": "6fec6517-f2c3-4adf-8ff5-8e43631b51e6",
   "metadata": {},
   "outputs": [],
   "source": [
    "data[\"City\"].describe()"
   ]
  },
  {
   "cell_type": "code",
   "execution_count": null,
   "id": "e8685854-dad9-46a5-bac8-c85fc3bdefc6",
   "metadata": {},
   "outputs": [],
   "source": [
    "#corr calcula coeficiente de correlacion de pearson, y solo toma las numericas\n",
    "sns.heatmap(data.corr(numeric_only=True), annot=True, fmt=\".2f\")"
   ]
  },
  {
   "cell_type": "code",
   "execution_count": null,
   "id": "96c35d25",
   "metadata": {},
   "outputs": [],
   "source": [
    "data[(data[\"Total Refunds\"]!=0) & (data[\"Churn Label\"]==\"Yes\")] ## Ver cuan relacionado esta que haya reembolsos con el churn"
   ]
  },
  {
   "cell_type": "code",
   "execution_count": null,
   "id": "eb30d303",
   "metadata": {},
   "outputs": [],
   "source": [
    "value_counts = data[\"Total Extra Data Charges\"].value_counts()\n",
    "\n",
    "# Convierte el resultado de value_counts a un DataFrame para facilitar la visualización\n",
    "df = value_counts.reset_index()\n",
    "df.columns = ['Total Extra Data Charges', 'Count']\n",
    "df"
   ]
  },
  {
   "cell_type": "code",
   "execution_count": null,
   "id": "8467d4e4",
   "metadata": {},
   "outputs": [],
   "source": [
    "plt.figure(figsize=(15, 6))  # Ajusta el valor 15 para hacerla aún más ancha si lo necesitas\n",
    "plt.bar(df['Total Extra Data Charges'], df['Count'], color='skyblue')\n",
    "plt.xlabel('Total Extra Data Charges')\n",
    "plt.ylabel('Count')\n",
    "plt.title('Distribution of Total Extra Data Charges')\n",
    "plt.xticks(rotation=45)\n",
    "plt.grid(axis='y', linestyle='--', alpha=0.7)\n",
    "plt.show()\n"
   ]
  },
  {
   "cell_type": "code",
   "execution_count": null,
   "id": "ea5c697f-2fa8-4be6-9bc6-0c4813f03f8d",
   "metadata": {},
   "outputs": [],
   "source": [
    "sns.histplot(data[\"Total Extra Data Charges\"], bins=140)\n",
    "plt.show()"
   ]
  },
  {
   "cell_type": "code",
   "execution_count": null,
   "id": "fe01c459-9cb6-42a0-a79a-8303180a97d0",
   "metadata": {},
   "outputs": [],
   "source": [
    "sns.histplot(data['Total Charges'])\n",
    "plt.show()"
   ]
  },
  {
   "cell_type": "code",
   "execution_count": null,
   "id": "df06ab30-a8ed-426a-b899-1ab84068a8aa",
   "metadata": {},
   "outputs": [],
   "source": [
    "sns.histplot(data['Total Revenue'])\n",
    "plt.show()"
   ]
  },
  {
   "cell_type": "code",
   "execution_count": null,
   "id": "7f8d50cb",
   "metadata": {},
   "outputs": [],
   "source": [
    "data[\"Referred a Friend\"].value_counts()"
   ]
  },
  {
   "cell_type": "code",
   "execution_count": null,
   "id": "6a1dd86a-7435-4e6a-9c77-cfcb3f6bd03e",
   "metadata": {},
   "outputs": [],
   "source": [
    "sns.histplot(data['Satisfaction Score'],bins = 5) ## por lo general es una satisfaccion alta\n",
    "plt.show()"
   ]
  },
  {
   "cell_type": "code",
   "execution_count": null,
   "id": "549d5efd",
   "metadata": {},
   "outputs": [],
   "source": [
    "data[\"Premium Tech Support\"].value_counts()"
   ]
  },
  {
   "cell_type": "code",
   "execution_count": null,
   "id": "8a4b8d33-a0b8-443a-9c48-e3d000a45218",
   "metadata": {},
   "outputs": [],
   "source": [
    "data.groupby(\"Premium Tech Support\")[\"Churn Label\"].value_counts(normalize=True)"
   ]
  },
  {
   "cell_type": "code",
   "execution_count": null,
   "id": "b42e57f8-aa4a-4fed-93a4-1ad4fc806a56",
   "metadata": {},
   "outputs": [],
   "source": [
    "#Los clientes que tienen Premium Tech Support muestran una menor tasa de churn (15.17%) en comparación con aquellos que no lo tienen (31.19%).\n",
    "#Premium Tech Support tiene mucho que ver con la retención de los clientes. "
   ]
  },
  {
   "cell_type": "code",
   "execution_count": null,
   "id": "b4d6d1b2",
   "metadata": {},
   "outputs": [],
   "source": [
    "contingency_table = pd.crosstab(data['Premium Tech Support'], data['Churn Label'])\n",
    "print(contingency_table)"
   ]
  },
  {
   "cell_type": "code",
   "execution_count": null,
   "id": "b1dc3981-1ff0-43b2-b268-250e599daaa9",
   "metadata": {},
   "outputs": [],
   "source": [
    "data.groupby(\"Gender\")[\"Churn Label\"].value_counts(normalize=True)"
   ]
  },
  {
   "cell_type": "code",
   "execution_count": null,
   "id": "e2b3d9fa-5d7f-4597-ba78-193298e42d05",
   "metadata": {},
   "outputs": [],
   "source": [
    "data.groupby(\"Contract\")[\"Churn Label\"].value_counts(normalize=True)"
   ]
  },
  {
   "cell_type": "code",
   "execution_count": null,
   "id": "5e00c300-e27e-42c0-86ed-ab92850fd63e",
   "metadata": {},
   "outputs": [],
   "source": [
    "#Los clientes con contratos fijos de uno a 2 años tienen una menor proporción en hacer churn"
   ]
  },
  {
   "cell_type": "code",
   "execution_count": null,
   "id": "e6bea471-10d8-4f7e-aaa1-ec4a640e637d",
   "metadata": {},
   "outputs": [],
   "source": [
    "data.groupby(\"Internet Type\")[\"Churn Label\"].value_counts(normalize=True)"
   ]
  },
  {
   "cell_type": "code",
   "execution_count": null,
   "id": "edac00ff-854a-4dce-9934-92a81cd5929d",
   "metadata": {},
   "outputs": [],
   "source": [
    "#Los clientes con mayor churn son los que tienen fibra óptica, mientras que los de menor proporción son los que tienen DSL."
   ]
  },
  {
   "cell_type": "code",
   "execution_count": null,
   "id": "34e4a27c-0bbc-41b7-9ead-2a067071d741",
   "metadata": {},
   "outputs": [],
   "source": [
    "data.groupby([\"Internet Type\"])[\"Satisfaction_Level\"].value_counts(normalize=True)"
   ]
  },
  {
   "cell_type": "code",
   "execution_count": null,
   "id": "fe4f68a5-019a-45c8-ae60-afb12205c2f6",
   "metadata": {},
   "outputs": [],
   "source": [
    "#Podemos ver que la fibra óptica es la que más proporción de baja satisfacción tiene. DSL tiene una mayor proporción de alta satisfacción."
   ]
  },
  {
   "cell_type": "code",
   "execution_count": null,
   "id": "ed9db032-c60a-40e2-a5cf-013d56e68cbe",
   "metadata": {},
   "outputs": [],
   "source": [
    "data.groupby([\"Internet Type\",\"Satisfaction_Level\"])[\"Churn Label\"].value_counts(normalize=True)"
   ]
  },
  {
   "cell_type": "code",
   "execution_count": null,
   "id": "0069b5df-d6a8-41e5-b8f1-932fd49c0425",
   "metadata": {},
   "outputs": [],
   "source": [
    "categorical_columns = data.select_dtypes(exclude=[\"number\"]).columns\n",
    "categorical_columns"
   ]
  },
  {
   "cell_type": "code",
   "execution_count": null,
   "id": "352988bb-ea0a-4719-817b-bbfab39dc952",
   "metadata": {},
   "outputs": [],
   "source": []
  },
  {
   "cell_type": "code",
   "execution_count": null,
   "id": "82fa6156",
   "metadata": {},
   "outputs": [],
   "source": [
    "columns_to_analyze = [\n",
    "    'Married',\n",
    "       'Dependents', 'Referred a Friend', 'Offer', 'Phone Service', 'Multiple Lines',\n",
    "       'Internet Service', 'Internet Type', 'Online Security', 'Online Backup',\n",
    "       'Device Protection Plan', 'Premium Tech Support', 'Streaming TV',\n",
    "       'Streaming Movies', 'Streaming Music', 'Unlimited Data', 'Contract',\n",
    "       , 'Payment Method', 'Churn Label', 'Age_cuartiles',\n",
    "       'Satisfaction_Level'\n",
    "]"
   ]
  },
  {
   "cell_type": "code",
   "execution_count": null,
   "id": "0fc345f4",
   "metadata": {},
   "outputs": [],
   "source": [
    "filtered_data = data[columns_to_analyze]"
   ]
  },
  {
   "cell_type": "code",
   "execution_count": null,
   "id": "dbf4b0f3",
   "metadata": {},
   "outputs": [],
   "source": [
    "filtered_data_summary = filtered_data.describe(include='all')\n",
    "\n",
    "filtered_data_summary"
   ]
  },
  {
   "cell_type": "code",
   "execution_count": null,
   "id": "9b3d8725",
   "metadata": {},
   "outputs": [],
   "source": [
    "# 1\n",
    "# Distribución de Ofertas según el Servicio de Teléfono: \n",
    "# La mayoría de los clientes no tienen ninguna oferta activa (\"None\")\n",
    "# para quienes tienen servicio de teléfono como para los que no lo tienen\n",
    "# los clientes con servicio de teléfono son más en todas las categorías de oferta\n",
    "# 2\n",
    "# Relación entre el Servicio de Internet y los GB Descargados: \n",
    "# Los clientes con servicio de internet muestran una amplia distribución en la cantidad de GB descargados por mes\n",
    "# la mediana está en 17 GB\n",
    "# los que no tienen servicio de internet muestran valores cercanos a 0 GB\n",
    "# 3\n",
    "# Distribución de Cargos de Larga Distancia por Múltiples Líneas: \n",
    "# Los clientes con múltiples líneas suelen tener cargos de larga distancia un poco más altos \n",
    "# comparando con los que no tienen múltiples líneas\n",
    "# los cargos están bien distribuidos en las categorías\n",
    "# 4\n",
    "# Relación entre Seguridad en Línea y GB Descargados: \n",
    "# Los clientes que no tienen seguridad en línea tienden a descargar más GB mensualmente en comparación con los que sí \n",
    "# los clientes que buscan mayor seguridad en línea no utilizan tanto la capacidad de internet"
   ]
  },
  {
   "cell_type": "code",
   "execution_count": null,
   "id": "86b32e84",
   "metadata": {},
   "outputs": [],
   "source": []
  },
  {
   "cell_type": "markdown",
   "id": "772ee59c",
   "metadata": {},
   "source": [
    "# 5. Data Processing"
   ]
  },
  {
   "cell_type": "markdown",
   "id": "afbb6053-b9cc-4d26-b9b5-63890979c145",
   "metadata": {},
   "source": [
    "## Data Cleaning"
   ]
  },
  {
   "cell_type": "code",
   "execution_count": null,
   "id": "0e74ff5d-7d62-4c2a-ab8c-70eaa58b435a",
   "metadata": {},
   "outputs": [],
   "source": [
    "# Your code here\n",
    "data.info()\n",
    "ColumnsDrop=[\"Customer ID\",\"Under 30\",\"Senior Citizen\",\"Country\",\"State\",\"City\",\"Latitude\",\"Longitude\",\"Quarter\",\"Churn Category\",\"Churn Score\",\"CLTV\",\"Churn Reason\",\"Customer Status\"]"
   ]
  },
  {
   "cell_type": "code",
   "execution_count": null,
   "id": "b1aa8b1a",
   "metadata": {},
   "outputs": [],
   "source": [
    "data = data.drop(ColumnsDrop,axis=1)"
   ]
  },
  {
   "cell_type": "code",
   "execution_count": null,
   "id": "7c61babb-db9b-4115-bc6a-ff6f690c10ac",
   "metadata": {},
   "outputs": [],
   "source": [
    "data.info()"
   ]
  },
  {
   "cell_type": "code",
   "execution_count": null,
   "id": "0c444413-fce5-40d8-924f-4c2dcdd1acba",
   "metadata": {},
   "outputs": [],
   "source": [
    "data[\"Contract\"].value_counts()"
   ]
  },
  {
   "cell_type": "code",
   "execution_count": null,
   "id": "2dbb7995-8222-43bc-ba20-8f79090205a8",
   "metadata": {},
   "outputs": [],
   "source": [
    " ## Limpiar los datos Internet Type, offer\n",
    "data[\"Internet Type\"].value_counts()"
   ]
  },
  {
   "cell_type": "code",
   "execution_count": null,
   "id": "6f45469b-330f-4955-a371-a809c1a40403",
   "metadata": {},
   "outputs": [],
   "source": [
    "data[\"Internet Type\"].isnull().sum()"
   ]
  },
  {
   "cell_type": "code",
   "execution_count": null,
   "id": "482292c6-d4e8-4ae8-adb9-eef722ff959a",
   "metadata": {},
   "outputs": [],
   "source": [
    "data[(data[\"Internet Type\"].isnull())&((data[\"Internet Service\"]==0))]"
   ]
  },
  {
   "cell_type": "code",
   "execution_count": null,
   "id": "f352a6d6-13d7-4a38-b82c-661bea5b74a2",
   "metadata": {},
   "outputs": [],
   "source": [
    "data['Internet Type'] = data['Internet Type'].fillna(\"No Internet\")\n",
    "data[\"Internet Type\"].isnull().sum()"
   ]
  },
  {
   "cell_type": "code",
   "execution_count": null,
   "id": "8038a0e1",
   "metadata": {},
   "outputs": [],
   "source": [
    "data[\"Offer\"].value_counts()"
   ]
  },
  {
   "cell_type": "code",
   "execution_count": null,
   "id": "19ea6a97-a48d-4831-908c-ca16ba20b8b4",
   "metadata": {},
   "outputs": [],
   "source": [
    "data[\"Offer\"].isnull().sum()"
   ]
  },
  {
   "cell_type": "code",
   "execution_count": null,
   "id": "466f13d6",
   "metadata": {},
   "outputs": [],
   "source": [
    "data['Offer'] = data['Offer'].fillna(\"No Offer\")"
   ]
  },
  {
   "cell_type": "code",
   "execution_count": null,
   "id": "4740ac2f-c922-4c2d-a7f6-1f134aba2a91",
   "metadata": {},
   "outputs": [],
   "source": [
    "data[\"Offer\"].isnull().sum()"
   ]
  },
  {
   "cell_type": "markdown",
   "id": "f1e2f2df-30e8-484a-aac9-0c757fefae85",
   "metadata": {},
   "source": [
    "## Re-sampling (if needed)"
   ]
  },
  {
   "cell_type": "code",
   "execution_count": null,
   "id": "b51b578f-d2fd-4bdc-a519-974ef0695b11",
   "metadata": {},
   "outputs": [],
   "source": [
    "\n",
    "data[\"Churn Label\"].value_counts(normalize=True)\n",
    "##No necesario el re-sampling\n",
    "## Hay suficientos datos para que el programa aprenda\n"
   ]
  },
  {
   "cell_type": "markdown",
   "id": "c81ccf11-b51b-4f6e-8080-d56caa674840",
   "metadata": {},
   "source": [
    "## Feature Engineering"
   ]
  },
  {
   "cell_type": "code",
   "execution_count": null,
   "id": "1bfc1c00-b497-4bbe-b63d-d32db25552be",
   "metadata": {},
   "outputs": [],
   "source": [
    "# Your code here\n"
   ]
  },
  {
   "cell_type": "code",
   "execution_count": null,
   "id": "486c9d96-0d23-41cc-b74c-2faec4107cb1",
   "metadata": {},
   "outputs": [],
   "source": [
    "data[\"Payment Method\"].value_counts()"
   ]
  },
  {
   "cell_type": "markdown",
   "id": "e840096d-4a2a-4545-bf4c-5a744316a3ee",
   "metadata": {},
   "source": [
    "## Encoding"
   ]
  },
  {
   "cell_type": "code",
   "execution_count": null,
   "id": "628aa2ce-89e7-4587-bc29-9aee07931da7",
   "metadata": {},
   "outputs": [],
   "source": [
    "labelEncoderColumns = [\"Paperless Billing\",\"Churn Label\",\"Gender\",\"Married\",\"Dependents\",\"Referred a Friend\",\"Phone Service\",\"Multiple Lines\",\"Internet Service\",\"Online Security\",\"Online Backup\",\"Device Protection Plan\",\"Premium Tech Support\",\"Streaming TV\",\"Streaming Movies\",\"Streaming Music\",\"Unlimited Data\"]\n",
    "OneHotEncoderColumns = [\"Offer\",\"Internet Type\",\"Contract\",\"Payment Method\"]\n",
    "\n",
    "#Offer,Internet Type,Contract,Payment Method\n"
   ]
  },
  {
   "cell_type": "code",
   "execution_count": null,
   "id": "68613e91-dfd7-4750-a6eb-e9a59013d8ee",
   "metadata": {},
   "outputs": [],
   "source": [
    "label_encoder = LabelEncoder()"
   ]
  },
  {
   "cell_type": "code",
   "execution_count": null,
   "id": "09392870-9362-4ac5-b5dd-4aff7ad74ee7",
   "metadata": {},
   "outputs": [],
   "source": [
    "for col in labelEncoderColumns:\n",
    "    data[col] = label_encoder.fit_transform(data[col])\n"
   ]
  },
  {
   "cell_type": "code",
   "execution_count": null,
   "id": "d48f0c6d-b2ea-4399-956c-62d4d308b0f6",
   "metadata": {},
   "outputs": [],
   "source": [
    "print(label_encoder.classes_)"
   ]
  },
  {
   "cell_type": "code",
   "execution_count": null,
   "id": "34fb5bb3-b99e-4202-8df5-85170b69515f",
   "metadata": {},
   "outputs": [],
   "source": [
    "data.info()"
   ]
  },
  {
   "cell_type": "code",
   "execution_count": null,
   "id": "f297b681-1ebd-4fa3-bbfc-73a1413bb6bf",
   "metadata": {},
   "outputs": [],
   "source": [
    "oh_encoder = OneHotEncoder(cols = OneHotEncoderColumns, use_cat_names=True)"
   ]
  },
  {
   "cell_type": "code",
   "execution_count": null,
   "id": "3ae53d51-5b82-4ea1-b7ec-012b5d11211e",
   "metadata": {},
   "outputs": [],
   "source": [
    "oh_encoder.fit(data)"
   ]
  },
  {
   "cell_type": "code",
   "execution_count": null,
   "id": "51ff243f",
   "metadata": {},
   "outputs": [],
   "source": [
    "data = oh_encoder.transform(data)"
   ]
  },
  {
   "cell_type": "code",
   "execution_count": null,
   "id": "90f1aeb4-aa95-4817-8535-aa52ef9427a8",
   "metadata": {},
   "outputs": [],
   "source": [
    "data.columns"
   ]
  },
  {
   "cell_type": "code",
   "execution_count": null,
   "id": "58158ba5-8821-44da-a5f0-f8b4bcaa6c03",
   "metadata": {},
   "outputs": [],
   "source": [
    "data.info()\n",
    "\n",
    "columnas = [\"Gender\",\"Age\",\"Married\",\"Number of Dependents\",\"Referred a Friend\",\"Tenure in Months\"]\n",
    "\n",
    "columnasModelo = ['Gender', 'Age', 'Married', 'Number of Dependents',\n",
    "        'Referred a Friend',\n",
    "       'Tenure in Months', 'Offer_No Offer', 'Offer_Offer E', 'Offer_Offer D',\n",
    "       'Offer_Offer C', 'Offer_Offer B', 'Offer_Offer A', 'Phone Service',\n",
    "       'Avg Monthly Long Distance Charges', 'Multiple Lines',\n",
    "       'Internet Service', 'Internet Type_DSL', 'Internet Type_Fiber Optic',\n",
    "       'Internet Type_Cable', 'Internet Type_No Internet',\n",
    "       'Avg Monthly GB Download', 'Online Security', 'Online Backup',\n",
    "       'Device Protection Plan', 'Premium Tech Support', 'Streaming TV',\n",
    "       'Streaming Movies', 'Streaming Music', 'Unlimited Data',\n",
    "       'Contract_Month-to-Month', 'Contract_One Year', 'Contract_Two Year',\n",
    "       'Paperless Billing', 'Payment Method_Bank Withdrawal',\n",
    "       'Payment Method_Credit Card', 'Payment Method_Mailed Check',\n",
    "       'Monthly Charge', 'Total Charges', 'Total Refunds',\n",
    "       'Total Extra Data Charges', 'Total Long Distance Charges',\n",
    "       'Total Revenue', 'Satisfaction Score', 'Churn Label']"
   ]
  },
  {
   "cell_type": "code",
   "execution_count": null,
   "id": "5de4953c-91d6-43c4-80f7-0d0b879531ba",
   "metadata": {},
   "outputs": [],
   "source": [
    "data[\"Churn Label\"].info()"
   ]
  },
  {
   "cell_type": "code",
   "execution_count": null,
   "id": "fbd22bfa-c5b8-4994-8256-222ecbc563e2",
   "metadata": {},
   "outputs": [],
   "source": []
  },
  {
   "cell_type": "markdown",
   "id": "6d00000b-072c-44d8-93f0-a3f039376de7",
   "metadata": {},
   "source": [
    "## Scaling (if needed)"
   ]
  },
  {
   "cell_type": "code",
   "execution_count": null,
   "id": "5bc0c303-919b-4226-9f2d-92ef6f42cd9e",
   "metadata": {},
   "outputs": [],
   "source": [
    "scaler = RobustScaler()"
   ]
  },
  {
   "cell_type": "code",
   "execution_count": null,
   "id": "484976d7-8e02-440a-971a-d73141830db4",
   "metadata": {},
   "outputs": [],
   "source": [
    "#scaler.fit(X)"
   ]
  },
  {
   "cell_type": "markdown",
   "id": "3c70b83b-a594-4ed9-a1be-c17ef8deb532",
   "metadata": {},
   "source": [
    "### DATA splitting\n"
   ]
  },
  {
   "cell_type": "code",
   "execution_count": null,
   "id": "4944462e-32b0-46f6-9f99-8e7315cc2de0",
   "metadata": {},
   "outputs": [],
   "source": [
    "columnasModelo = ['Gender', 'Age', 'Married', 'Number of Dependents',\n",
    "        'Referred a Friend', 'Tenure in Months', 'Offer_None', 'Offer_Offer E', 'Offer_Offer D',\n",
    "       'Offer_Offer C', 'Offer_Offer B', 'Offer_Offer A', 'Phone Service',\n",
    "       'Avg Monthly Long Distance Charges', 'Multiple Lines',\n",
    "       'Internet Service', 'Internet Type_DSL', 'Internet Type_Fiber Optic',\n",
    "       'Internet Type_Cable', 'Internet Type_None',\n",
    "       'Avg Monthly GB Download', 'Online Security', 'Online Backup',\n",
    "       'Device Protection Plan', 'Premium Tech Support', 'Streaming TV',\n",
    "       'Streaming Movies', 'Streaming Music', 'Unlimited Data',\n",
    "       'Contract_Month-to-Month', 'Contract_One Year', 'Contract_Two Year',\n",
    "       'Paperless Billing', 'Payment Method_Bank Withdrawal',\n",
    "       'Payment Method_Credit Card', 'Payment Method_Mailed Check',\n",
    "       'Monthly Charge', 'Total Charges', 'Total Refunds',\n",
    "       'Total Extra Data Charges', 'Total Long Distance Charges',\n",
    "        'Satisfaction Score', 'Churn Label']"
   ]
  },
  {
   "cell_type": "markdown",
   "id": "fff35d25",
   "metadata": {},
   "source": [
    "# 5. Train model/Tune hyperparameters"
   ]
  },
  {
   "cell_type": "code",
   "execution_count": null,
   "id": "87854f02-6380-45a7-9050-60b866b52735",
   "metadata": {},
   "outputs": [],
   "source": [
    "print(data.columns)"
   ]
  },
  {
   "cell_type": "code",
   "execution_count": null,
   "id": "72eb709b-f2f3-4d15-b847-1b1a03a88660",
   "metadata": {},
   "outputs": [],
   "source": [
    "columnasModelo = [col for col in columnasModelo if col in data.columns]"
   ]
  },
  {
   "cell_type": "code",
   "execution_count": null,
   "id": "0d667627-12a0-4259-8e8f-af44d590ab16",
   "metadata": {},
   "outputs": [],
   "source": [
    "X = data[columnasModelo]\n",
    "y = data[\"Churn Label\"]"
   ]
  },
  {
   "cell_type": "code",
   "execution_count": null,
   "id": "233a828c",
   "metadata": {},
   "outputs": [],
   "source": [
    "X_train, X_test, y_train, y_test = train_test_split(X, y, test_size=0.3, random_state=42)"
   ]
  },
  {
   "cell_type": "markdown",
   "id": "023c098a",
   "metadata": {},
   "source": [
    "## Decision Tree Classifier"
   ]
  },
  {
   "cell_type": "code",
   "execution_count": null,
   "id": "d36eb395",
   "metadata": {},
   "outputs": [],
   "source": [
    "model = DecisionTreeClassifier()"
   ]
  },
  {
   "cell_type": "code",
   "execution_count": null,
   "id": "05540ded",
   "metadata": {},
   "outputs": [],
   "source": [
    "model.fit(X=X,y=data[\"Churn Label\"])"
   ]
  },
  {
   "cell_type": "code",
   "execution_count": null,
   "id": "37d36562",
   "metadata": {},
   "outputs": [],
   "source": [
    "plt.figure(figsize=(7, 7))\n",
    "plot_tree(model, feature_names=X.columns, class_names=[\"no churn\", \"churn\"])"
   ]
  },
  {
   "cell_type": "code",
   "execution_count": null,
   "id": "4c6fe797-9658-4f4b-be62-972a76ea99cb",
   "metadata": {},
   "outputs": [],
   "source": [
    "#alta pureza en nuestro arbol de decision. Cada hoja alcanza a tener cero."
   ]
  },
  {
   "cell_type": "code",
   "execution_count": null,
   "id": "627b5119",
   "metadata": {},
   "outputs": [],
   "source": [
    "predicted_prob = model.predict_proba(X)"
   ]
  },
  {
   "cell_type": "code",
   "execution_count": null,
   "id": "debf3d1e",
   "metadata": {},
   "outputs": [],
   "source": [
    "predicted_prob"
   ]
  },
  {
   "cell_type": "code",
   "execution_count": null,
   "id": "3c159794",
   "metadata": {},
   "outputs": [],
   "source": [
    "predicted_class = model.predict(X)"
   ]
  },
  {
   "cell_type": "code",
   "execution_count": null,
   "id": "27f39e94",
   "metadata": {},
   "outputs": [],
   "source": [
    "predicted_class"
   ]
  },
  {
   "cell_type": "code",
   "execution_count": null,
   "id": "f8f80d8f",
   "metadata": {},
   "outputs": [],
   "source": [
    "data_and_predictions = data.copy()\n",
    "data_and_predictions"
   ]
  },
  {
   "cell_type": "code",
   "execution_count": null,
   "id": "36796af7",
   "metadata": {},
   "outputs": [],
   "source": [
    "data_and_predictions[\"predicted_class\"] = predicted_class\n",
    "data_and_predictions[\"predicted_prob(no churn)\"] = predicted_prob[:,0]\n",
    "data_and_predictions[\"predicted_prob(churn)\"] = predicted_prob[:,1]"
   ]
  },
  {
   "cell_type": "code",
   "execution_count": null,
   "id": "a8c66652",
   "metadata": {},
   "outputs": [],
   "source": [
    "def calculate_accuracy(predictions):\n",
    "    number_of_hits = (predictions[\"Churn Label\"] == predictions[\"predicted_class\"]).sum()\n",
    "    number_of_predictions = len(predictions)\n",
    "\n",
    "    accuracy = round(number_of_hits/number_of_predictions*100, 2)\n",
    "    accuracy = float(accuracy)\n",
    "\n",
    "    return accuracy"
   ]
  },
  {
   "cell_type": "code",
   "execution_count": null,
   "id": "b2c82c09",
   "metadata": {
    "scrolled": true
   },
   "outputs": [],
   "source": [
    "calculate_accuracy(data_and_predictions)"
   ]
  },
  {
   "cell_type": "code",
   "execution_count": null,
   "id": "f0ea6687-ee22-49e5-bd53-6fb6599d2f32",
   "metadata": {},
   "outputs": [],
   "source": [
    "data"
   ]
  },
  {
   "cell_type": "markdown",
   "id": "9ddc5197-0d12-4cc2-a1dd-ece1e1d14cac",
   "metadata": {},
   "source": [
    "## KNN "
   ]
  },
  {
   "cell_type": "markdown",
   "id": "b94942e2-20ec-4a7e-b1d7-467d6fa9c427",
   "metadata": {},
   "source": [
    "##### SIN GRID Y COLUMNAS FILTRADAS\n"
   ]
  },
  {
   "cell_type": "code",
   "execution_count": null,
   "id": "b54aa78f-e54e-4249-bf2c-6d79b97b88de",
   "metadata": {},
   "outputs": [],
   "source": [
    "X_train, X_test, y_train, y_test = train_test_split(X, y, test_size=0.2, random_state=42)"
   ]
  },
  {
   "cell_type": "code",
   "execution_count": null,
   "id": "bdb89d9b",
   "metadata": {},
   "outputs": [],
   "source": [
    "KNclassifier = KNeighborsClassifier(n_neighbors=20)"
   ]
  },
  {
   "cell_type": "code",
   "execution_count": null,
   "id": "76d58b2c",
   "metadata": {},
   "outputs": [],
   "source": [
    "KNclassifier.fit(X_train, y_train)"
   ]
  },
  {
   "cell_type": "code",
   "execution_count": null,
   "id": "4d8d4660-005e-4398-8c6a-aa5e5da13c79",
   "metadata": {},
   "outputs": [],
   "source": [
    "y_pred = KNclassifier.predict(X_test)"
   ]
  },
  {
   "cell_type": "code",
   "execution_count": null,
   "id": "6ff20bfc-120b-4cbc-8615-c9ae1e70a46c",
   "metadata": {},
   "outputs": [],
   "source": [
    "print(classification_report(y_test, y_pred))\n",
    "print(confusion_matrix(y_test, y_pred))"
   ]
  },
  {
   "cell_type": "code",
   "execution_count": null,
   "id": "81704840-a2a2-4d3d-980b-307b1aaedc11",
   "metadata": {},
   "outputs": [],
   "source": [
    "from sklearn.metrics import accuracy_score,precision_score,recall_score\n",
    "KNAcc = accuracy_score(y_pred,y_test)\n",
    "KNrecall = recall_score(y_test, y_pred)\n",
    "KNprecision = precision_score(y_test, y_pred)\n",
    "print('K Neighbours accuracy is: {:.2f}%'.format(KNAcc*100))\n",
    "print(\"Recall: {:.2f}%\".format(KNrecall*100))\n",
    "print(\"Precision: {:.2f}%\".format(KNprecision*100))"
   ]
  },
  {
   "cell_type": "markdown",
   "id": "c194bafe-bba0-4913-a8a8-55ddc409c1be",
   "metadata": {},
   "source": [
    "##### SIN GRID Y TODAS COLUMNAS"
   ]
  },
  {
   "cell_type": "code",
   "execution_count": null,
   "id": "db42cfaf-3446-4690-8918-6b3d359e58c2",
   "metadata": {},
   "outputs": [],
   "source": [
    "## TODAS LAS COLUMNAS SELECCIONADAS\n",
    "X = data.drop(\"Churn Label\", axis=1) \n",
    "y = data[\"Churn Label\"]"
   ]
  },
  {
   "cell_type": "code",
   "execution_count": null,
   "id": "bb720106-8254-4ce7-bdd1-6aecc9c862c1",
   "metadata": {},
   "outputs": [],
   "source": [
    "X_train, X_test, y_train, y_test = train_test_split(X, y, test_size=0.2, random_state=42)"
   ]
  },
  {
   "cell_type": "code",
   "execution_count": null,
   "id": "9102b949-7266-4e61-b4eb-b80902eaff8c",
   "metadata": {},
   "outputs": [],
   "source": [
    "KNclassifier = KNeighborsClassifier(n_neighbors=20)"
   ]
  },
  {
   "cell_type": "code",
   "execution_count": null,
   "id": "33f4b2db-1e47-41c8-b37f-e212dbee55bb",
   "metadata": {},
   "outputs": [],
   "source": [
    "KNclassifier.fit(X_train, y_train)"
   ]
  },
  {
   "cell_type": "code",
   "execution_count": null,
   "id": "06bf1189-a88a-427d-a19b-fd67b335ec0c",
   "metadata": {},
   "outputs": [],
   "source": [
    "y_pred = KNclassifier.predict(X_test)"
   ]
  },
  {
   "cell_type": "code",
   "execution_count": null,
   "id": "c5376608-04a2-4b01-b1ed-4031bd5309c6",
   "metadata": {},
   "outputs": [],
   "source": [
    "print(classification_report(y_test, y_pred))\n",
    "print(confusion_matrix(y_test, y_pred))"
   ]
  },
  {
   "cell_type": "code",
   "execution_count": null,
   "id": "8e738adf-6848-4546-8f84-88bb5e5f4520",
   "metadata": {},
   "outputs": [],
   "source": [
    "from sklearn.metrics import accuracy_score,precision_score,recall_score\n",
    "KNAcc = accuracy_score(y_pred,y_test)\n",
    "KNrecall = recall_score(y_test, y_pred)\n",
    "KNprecision = precision_score(y_test, y_pred)\n",
    "print('K Neighbours accuracy is: {:.2f}%'.format(KNAcc*100))\n",
    "print(\"Recall: {:.2f}%\".format(KNrecall*100))\n",
    "print(\"Precision: {:.2f}%\".format(KNprecision*100))"
   ]
  },
  {
   "cell_type": "markdown",
   "id": "7f3d79cb-8e9e-4702-83f1-150f3bdea998",
   "metadata": {},
   "source": [
    "##### CON GRID Y COLUMNAS FILTRADAS\n"
   ]
  },
  {
   "cell_type": "code",
   "execution_count": null,
   "id": "952fda54-81c2-4aac-aa30-414be5c1fc4b",
   "metadata": {},
   "outputs": [],
   "source": [
    "X = data[columnasModelo]\n",
    "y = data[\"Churn Label\"]\n",
    "X_train, X_test, y_train, y_test = train_test_split(X, y, test_size=0.2, random_state=42)"
   ]
  },
  {
   "cell_type": "code",
   "execution_count": null,
   "id": "445d4bc6-8bd0-4c38-aad3-25166d946f19",
   "metadata": {},
   "outputs": [],
   "source": [
    "KNclassifierGrid = KNeighborsClassifier()"
   ]
  },
  {
   "cell_type": "code",
   "execution_count": null,
   "id": "10491126-ee43-4068-a188-b58818d16658",
   "metadata": {},
   "outputs": [],
   "source": [
    "param_grid = {\n",
    "    'n_neighbors': [5, 10, 15, 20],  # Puedes ajustar este rango según sea necesario\n",
    "    'weights': ['uniform', 'distance'],  # Probar pesos uniformes y basados en la distancia\n",
    "    'metric': ['euclidean', 'manhattan']  # Probar diferentes métricas de distancia\n",
    "}"
   ]
  },
  {
   "cell_type": "code",
   "execution_count": null,
   "id": "f0f1b1ae-4b90-4d80-b909-790ee1a1f644",
   "metadata": {},
   "outputs": [],
   "source": [
    "grid_search = GridSearchCV(estimator=KNclassifierGrid, param_grid=param_grid, cv=5, scoring='accuracy')\n"
   ]
  },
  {
   "cell_type": "code",
   "execution_count": null,
   "id": "e592b682-fe5b-4865-b7ba-6f98fad27cb9",
   "metadata": {},
   "outputs": [],
   "source": [
    "grid_search.fit(X_train, y_train)"
   ]
  },
  {
   "cell_type": "code",
   "execution_count": null,
   "id": "d5219cc7-fa1e-46cd-8cc1-0cd4a848ef8a",
   "metadata": {},
   "outputs": [],
   "source": [
    "bestKnnGrid = grid_search.best_estimator_"
   ]
  },
  {
   "cell_type": "code",
   "execution_count": null,
   "id": "267d8711-6bc9-41c4-b9bc-8ee28a45909b",
   "metadata": {},
   "outputs": [],
   "source": [
    "print(\"Mejores parámetros encontrados:\", grid_search.best_params_)"
   ]
  },
  {
   "cell_type": "code",
   "execution_count": null,
   "id": "494ca79c-bac0-4000-abc9-c10e2082072f",
   "metadata": {},
   "outputs": [],
   "source": [
    "y_pred = bestKnnGrid.predict(X_test)"
   ]
  },
  {
   "cell_type": "code",
   "execution_count": null,
   "id": "24fa5c47-83fe-40a8-bc03-77232be95a33",
   "metadata": {},
   "outputs": [],
   "source": [
    "print(classification_report(y_test, y_pred))\n",
    "print(confusion_matrix(y_test, y_pred))\n",
    "\n",
    "\n",
    "from sklearn.metrics import accuracy_score,precision_score,recall_score\n",
    "KNAcc = accuracy_score(y_pred,y_test)\n",
    "KNrecall = recall_score(y_test, y_pred)\n",
    "KNprecision = precision_score(y_test, y_pred)\n",
    "print('K Neighbours accuracy is: {:.2f}%'.format(KNAcc*100))\n",
    "print(\"Recall: {:.2f}%\".format(KNrecall*100))\n",
    "print(\"Precision: {:.2f}%\".format(KNprecision*100))"
   ]
  },
  {
   "cell_type": "code",
   "execution_count": null,
   "id": "6f556c7d-bc6f-457a-bbb3-dc4392f90d12",
   "metadata": {},
   "outputs": [],
   "source": [
    "columnasRelevantes = [\n",
    "    'Gender',  # El género podría estar relacionado con patrones de comportamiento de uso.\n",
    "    'Age',  # La edad puede influir en el tipo de servicios contratados y la retención.\n",
    "    'Married',  # Estado civil, tal vez relacionado con la estabilidad del cliente.\n",
    "    'Tenure in Months',  # Antigüedad con la empresa, un factor clave para el churn.\n",
    "    'Phone Service',  # Tener o no servicio telefónico puede ser un indicador de compromiso.\n",
    "    'Avg Monthly Long Distance Charges',  # Cargos mensuales de larga distancia, podrían mostrar la dependencia del servicio.\n",
    "    'Multiple Lines',  # Líneas múltiples pueden indicar mayor compromiso con los servicios.\n",
    "    'Internet Service',  # Servicio de Internet como factor principal de retención.\n",
    "    'Avg Monthly GB Download',  # Uso de datos, relacionado con la intensidad del uso de los servicios.\n",
    "    'Online Security',  # Servicios adicionales que pueden influir en la lealtad del cliente.\n",
    "    'Streaming TV',  # Servicios de entretenimiento también pueden afectar la retención.\n",
    "    'Unlimited Data',  # Servicios de datos ilimitados pueden ser una ventaja competitiva.\n",
    "    'Contract_Month-to-Month',  # Clientes con contratos mensuales suelen tener mayor probabilidad de irse.\n",
    "    'Paperless Billing',  # Preferencia por facturación sin papel puede indicar un cliente más comprometido digitalmente.\n",
    "    'Payment Method_Bank Withdrawal',  # Método de pago, algunos métodos pueden asociarse a mayor estabilidad.\n",
    "    'Monthly Charge',  # El monto mensual podría ser un indicador de carga financiera.\n",
    "    'Satisfaction Score',  # La satisfacción es un predictor directo de churn.\n",
    "    'Churn Label'  # La variable objetivo.\n",
    "]"
   ]
  },
  {
   "cell_type": "code",
   "execution_count": null,
   "id": "3d26c41b-d6b5-4e42-9763-0a297c072e1c",
   "metadata": {},
   "outputs": [],
   "source": [
    "X = data[columnasRelevantes]\n",
    "y = data[\"Churn Label\"]\n",
    "X_train, X_test, y_train, y_test = train_test_split(X, y, test_size=0.2, random_state=42)"
   ]
  },
  {
   "cell_type": "code",
   "execution_count": null,
   "id": "a445cb08-e86d-4299-b21e-a1731584e262",
   "metadata": {},
   "outputs": [],
   "source": [
    "KNclassifierGrid2 = KNeighborsClassifier()"
   ]
  },
  {
   "cell_type": "code",
   "execution_count": null,
   "id": "f9db83ef-8534-4966-91a9-89d5122cf5cd",
   "metadata": {},
   "outputs": [],
   "source": [
    "from sklearn.model_selection import GridSearchCV"
   ]
  },
  {
   "cell_type": "code",
   "execution_count": null,
   "id": "20623eaa-7c41-4525-98c2-c2e1bd8f5d99",
   "metadata": {},
   "outputs": [],
   "source": [
    "grid_search = GridSearchCV(estimator=KNclassifierGrid2, param_grid=param_grid, cv=5, scoring='accuracy')"
   ]
  },
  {
   "cell_type": "code",
   "execution_count": null,
   "id": "c60e8ee4-4153-49d6-b88a-5b4682ed4ff5",
   "metadata": {},
   "outputs": [],
   "source": [
    "grid_search.fit(X_train, y_train)"
   ]
  },
  {
   "cell_type": "code",
   "execution_count": null,
   "id": "16986a32-73af-4363-9ddf-221ebb43f05e",
   "metadata": {},
   "outputs": [],
   "source": [
    "bestKnnGrid = grid_search.best_estimator_"
   ]
  },
  {
   "cell_type": "code",
   "execution_count": null,
   "id": "b6fa5d43-e40b-478e-855f-6f24a648c5ce",
   "metadata": {},
   "outputs": [],
   "source": [
    "y_pred = bestKnnGrid.predict(X_test)"
   ]
  },
  {
   "cell_type": "code",
   "execution_count": null,
   "id": "8d81d3ac-9dad-4d4f-9e7b-5cd7225324af",
   "metadata": {},
   "outputs": [],
   "source": [
    "print(classification_report(y_test, y_pred))\n",
    "print(confusion_matrix(y_test, y_pred))\n",
    "\n",
    "\n",
    "from sklearn.metrics import accuracy_score,precision_score,recall_score\n",
    "KNAcc = accuracy_score(y_pred,y_test)\n",
    "KNrecall = recall_score(y_test, y_pred)\n",
    "KNprecision = precision_score(y_test, y_pred)\n",
    "print('K Neighbours accuracy is: {:.2f}%'.format(KNAcc*100))\n",
    "print(\"Recall: {:.2f}%\".format(KNrecall*100))\n",
    "print(\"Precision: {:.2f}%\".format(KNprecision*100))"
   ]
  },
  {
   "cell_type": "code",
   "execution_count": null,
   "id": "0b5bd653-8f9f-4d00-b219-d1ae1ca0de6c",
   "metadata": {},
   "outputs": [],
   "source": [
    "##Mejoro bastante con las columnas filtradas y con el grid"
   ]
  },
  {
   "cell_type": "code",
   "execution_count": null,
   "id": "b3472f94-b6c2-49d2-8729-6f4e8d802276",
   "metadata": {},
   "outputs": [],
   "source": []
  },
  {
   "cell_type": "code",
   "execution_count": null,
   "id": "e7e9057f-cfec-4960-a28a-fcd884740c54",
   "metadata": {},
   "outputs": [],
   "source": []
  },
  {
   "cell_type": "code",
   "execution_count": null,
   "id": "9720e74e-149f-4cbd-bff7-3655ceb73b3d",
   "metadata": {},
   "outputs": [],
   "source": []
  },
  {
   "cell_type": "code",
   "execution_count": null,
   "id": "03355951-1ba1-4f95-9cff-a8ef4382fc44",
   "metadata": {},
   "outputs": [],
   "source": []
  },
  {
   "cell_type": "code",
   "execution_count": null,
   "id": "732aeddf-b061-4a2a-9375-7b2d7d89596f",
   "metadata": {},
   "outputs": [],
   "source": []
  },
  {
   "cell_type": "code",
   "execution_count": null,
   "id": "7f5ede62-fcac-4cfe-a25c-1c5540238a13",
   "metadata": {},
   "outputs": [],
   "source": [
    "best_model"
   ]
  },
  {
   "cell_type": "code",
   "execution_count": null,
   "id": "b5a1f080-e174-4049-ab5e-54f00798715e",
   "metadata": {},
   "outputs": [],
   "source": [
    "search.best_params_"
   ]
  },
  {
   "cell_type": "code",
   "execution_count": null,
   "id": "37affd8e-9178-4929-83ed-6324798b4889",
   "metadata": {},
   "outputs": [],
   "source": [
    "search_results = pd.DataFrame(search.cv_results_)"
   ]
  },
  {
   "cell_type": "code",
   "execution_count": null,
   "id": "25645b14-0d61-4d2a-ab23-0e4c5ef05ed1",
   "metadata": {},
   "outputs": [],
   "source": [
    "search_results"
   ]
  },
  {
   "cell_type": "markdown",
   "id": "46020ba9",
   "metadata": {},
   "source": [
    "# 6. Model performance evaluation"
   ]
  },
  {
   "cell_type": "code",
   "execution_count": null,
   "id": "ca2e36d7",
   "metadata": {},
   "outputs": [],
   "source": [
    "y_pred = best_model.predict(val_data.drop(columns=[\"Target\"]))\n",
    "y_pred_prob = best_model.predict_proba(val_data.drop(columns=[\"Target\"]))[:, 1]"
   ]
  },
  {
   "cell_type": "code",
   "execution_count": null,
   "id": "5f94a3e4",
   "metadata": {},
   "outputs": [],
   "source": [
    "ConfusionMatrixDisplay.from_predictions(y_true=val_data[\"Target\"], y_pred=y_pred)"
   ]
  },
  {
   "cell_type": "code",
   "execution_count": null,
   "id": "4d1aee6d",
   "metadata": {},
   "outputs": [],
   "source": [
    "print(classification_report(y_true=val_data[\"Target\"], y_pred=y_pred))"
   ]
  },
  {
   "cell_type": "markdown",
   "id": "ee3ed252-a196-4f49-9caf-554efb0eb1d5",
   "metadata": {},
   "source": [
    "# 7. Explainability"
   ]
  },
  {
   "cell_type": "code",
   "execution_count": null,
   "id": "d3dacde4-0784-4bd3-8201-1fef98651048",
   "metadata": {},
   "outputs": [],
   "source": [
    "explainer = shap.TreeExplainer(best_model)"
   ]
  },
  {
   "cell_type": "code",
   "execution_count": null,
   "id": "3a9eb2d6-4ce4-4490-9c40-eab2231631da",
   "metadata": {},
   "outputs": [],
   "source": [
    "explanation = explainer(train_data.drop(columns=[\"Target\"]))"
   ]
  },
  {
   "cell_type": "code",
   "execution_count": null,
   "id": "41c539a9-45de-4269-a6b0-256a8d460bc5",
   "metadata": {},
   "outputs": [],
   "source": [
    "plt.figure(figsize=(20,8))\n",
    "shap.summary_plot(explanation.values[:,:,1], features=train_data.drop(columns=[\"Target\"]), plot_type=\"bar\")"
   ]
  },
  {
   "cell_type": "code",
   "execution_count": null,
   "id": "50f3b0f4-4556-4119-ae9d-2a72007c48e9",
   "metadata": {},
   "outputs": [],
   "source": [
    "plt.figure(figsize=(20,8))\n",
    "shap.summary_plot(explanation.values[:,:,1], features=train_data.drop(columns=[\"Target\"]))"
   ]
  },
  {
   "cell_type": "code",
   "execution_count": null,
   "id": "5488dc04-21ea-4b10-8068-09dff9f2abb0",
   "metadata": {},
   "outputs": [],
   "source": [
    "shap.plots.waterfall(explanation[6,:,1], max_display=20)"
   ]
  },
  {
   "cell_type": "code",
   "execution_count": null,
   "id": "19003a35-7da8-4321-bb61-3ebd4fce66d3",
   "metadata": {},
   "outputs": [],
   "source": []
  },
  {
   "cell_type": "code",
   "execution_count": null,
   "id": "5b9395bc-b4cd-473e-9ae4-cc0d580b1131",
   "metadata": {},
   "outputs": [],
   "source": []
  },
  {
   "cell_type": "code",
   "execution_count": null,
   "id": "55afe48e-4e51-45ab-94ba-1bd0f90909e8",
   "metadata": {},
   "outputs": [],
   "source": []
  },
  {
   "cell_type": "code",
   "execution_count": null,
   "id": "022a0e57-ef75-4594-901a-13635e8daefd",
   "metadata": {},
   "outputs": [],
   "source": []
  },
  {
   "cell_type": "code",
   "execution_count": null,
   "id": "63fa7586-8c40-420b-bcf8-da4773038750",
   "metadata": {},
   "outputs": [],
   "source": []
  },
  {
   "cell_type": "code",
   "execution_count": null,
   "id": "bc8f5c8d-f642-41e9-a27a-99285460ac5b",
   "metadata": {},
   "outputs": [],
   "source": []
  },
  {
   "cell_type": "code",
   "execution_count": null,
   "id": "cf585f4b-5f81-4cf1-aaf0-4faaadbd48c4",
   "metadata": {},
   "outputs": [],
   "source": []
  },
  {
   "cell_type": "code",
   "execution_count": null,
   "id": "13a79935-69bf-42f0-9c6e-a7a02efbaee1",
   "metadata": {},
   "outputs": [],
   "source": []
  },
  {
   "cell_type": "code",
   "execution_count": null,
   "id": "9f8290ba-64bc-4175-bc1d-f489f5674c27",
   "metadata": {},
   "outputs": [],
   "source": []
  },
  {
   "cell_type": "code",
   "execution_count": null,
   "id": "d56811b4-8ae7-4926-8297-4dee01b99638",
   "metadata": {},
   "outputs": [],
   "source": []
  },
  {
   "cell_type": "code",
   "execution_count": null,
   "id": "bd598c32-ebfb-474c-aaf2-208a5e362c96",
   "metadata": {},
   "outputs": [],
   "source": []
  },
  {
   "cell_type": "code",
   "execution_count": null,
   "id": "7666ae33-c641-4a85-bec9-10f133eb5319",
   "metadata": {},
   "outputs": [],
   "source": []
  },
  {
   "cell_type": "code",
   "execution_count": null,
   "id": "3d619233-079b-49fe-8efc-250795f28328",
   "metadata": {},
   "outputs": [],
   "source": []
  }
 ],
 "metadata": {
  "kernelspec": {
   "display_name": "Python 3 (ipykernel)",
   "language": "python",
   "name": "python3"
  },
  "language_info": {
   "codemirror_mode": {
    "name": "ipython",
    "version": 3
   },
   "file_extension": ".py",
   "mimetype": "text/x-python",
   "name": "python",
   "nbconvert_exporter": "python",
   "pygments_lexer": "ipython3",
   "version": "3.11.7"
  }
 },
 "nbformat": 4,
 "nbformat_minor": 5
}
